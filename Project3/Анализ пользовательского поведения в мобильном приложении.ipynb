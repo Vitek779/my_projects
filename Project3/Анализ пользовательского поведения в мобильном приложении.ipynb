{
 "cells": [
  {
   "cell_type": "markdown",
   "metadata": {},
   "source": [
    "# Изучение воронки продаж и исследование результатов\n",
    "# A/A/B-эксперимента"
   ]
  },
  {
   "cell_type": "markdown",
   "metadata": {},
   "source": [
    "# Описание проекта"
   ]
  },
  {
   "cell_type": "markdown",
   "metadata": {},
   "source": [
    "Я работаю в стартапе, который продаёт продукты питания. Нужно разобраться, как ведут себя пользователи моего мобильного приложения. \n",
    "\n",
    "\n",
    "Изучу воронку продаж. Узнаю, как пользователи доходят до покупки. Сколько пользователей доходит до покупки, а сколько — «застревает» на предыдущих шагах? На каких именно?\n",
    "\n",
    "\n",
    "После этого исследую результаты A/A/B-эксперимента. Дизайнеры захотели поменять шрифты во всём приложении, а менеджеры испугались, что пользователям будет непривычно. Договорились принять решение по результатам A/A/B-теста. Пользователей разбили на 3 группы: 2 контрольные со старыми шрифтами и одну экспериментальную — с новыми. Выясните, какой шрифт лучше.\n",
    "Создание двух групп A вместо одной имеет определённые преимущества. Если две контрольные группы окажутся равны, вы можете быть уверены в точности проведенного тестирования. Если же между значениями A и A будут существенные различия, это поможет обнаружить факторы, которые привели к искажению результатов. Сравнение контрольных групп также помогает понять, сколько времени и данных потребуется для дальнейших тестов.\n",
    "\n",
    "\n",
    "В случае общей аналитики и A/A/B-эксперимента работать с одними и теми же данными. В реальных проектах всегда идут эксперименты. Аналитики исследуют качество работы приложения по общим данным, не учитывая принадлежность пользователей к экспериментам."
   ]
  },
  {
   "cell_type": "markdown",
   "metadata": {},
   "source": [
    "# План работы"
   ]
  },
  {
   "cell_type": "markdown",
   "metadata": {},
   "source": [
    "1) Изучить общую иформацию из файла.\n",
    "\n",
    "2) Подготовить данные для анализа.\n",
    "\n",
    "3) Изучить и проверить данные.\n",
    "\n",
    "4) Построить и изучить воронку событий.\n",
    "\n",
    "5) Изучить результаты A/A/B-эксперимента.\n"
   ]
  },
  {
   "cell_type": "markdown",
   "metadata": {},
   "source": [
    "# Описание данных"
   ]
  },
  {
   "cell_type": "markdown",
   "metadata": {},
   "source": [
    "Каждая запись в логе — это действие пользователя, или событие. \n",
    "\n",
    "`EventName` — название события;\n",
    "\n",
    "`DeviceIDHash` — уникальный идентификатор пользователя;\n",
    "\n",
    "`EventTimestamp` — время события;\n",
    "\n",
    "`ExpId` — номер эксперимента: 246 и 247 — контрольные группы, а 248 — экспериментальная."
   ]
  },
  {
   "cell_type": "markdown",
   "metadata": {},
   "source": [
    "##  Откройте файл с данными и изучите общую информацию"
   ]
  },
  {
   "cell_type": "code",
   "execution_count": 1,
   "metadata": {},
   "outputs": [],
   "source": [
    "import pandas as pd\n",
    "import numpy as np\n",
    "from matplotlib import pyplot as plt\n",
    "from scipy import stats as st\n",
    "import math as mth\n",
    "from pandas.plotting import register_matplotlib_converters\n",
    "import datetime as dt\n",
    "from plotly import graph_objects as go\n",
    "import seaborn as sns\n"
   ]
  },
  {
   "cell_type": "code",
   "execution_count": 2,
   "metadata": {},
   "outputs": [
    {
     "data": {
      "text/html": [
       "<div>\n",
       "<style scoped>\n",
       "    .dataframe tbody tr th:only-of-type {\n",
       "        vertical-align: middle;\n",
       "    }\n",
       "\n",
       "    .dataframe tbody tr th {\n",
       "        vertical-align: top;\n",
       "    }\n",
       "\n",
       "    .dataframe thead th {\n",
       "        text-align: right;\n",
       "    }\n",
       "</style>\n",
       "<table border=\"1\" class=\"dataframe\">\n",
       "  <thead>\n",
       "    <tr style=\"text-align: right;\">\n",
       "      <th></th>\n",
       "      <th>EventName</th>\n",
       "      <th>DeviceIDHash</th>\n",
       "      <th>EventTimestamp</th>\n",
       "      <th>ExpId</th>\n",
       "    </tr>\n",
       "  </thead>\n",
       "  <tbody>\n",
       "    <tr>\n",
       "      <th>0</th>\n",
       "      <td>MainScreenAppear</td>\n",
       "      <td>4575588528974610257</td>\n",
       "      <td>1564029816</td>\n",
       "      <td>246</td>\n",
       "    </tr>\n",
       "    <tr>\n",
       "      <th>1</th>\n",
       "      <td>MainScreenAppear</td>\n",
       "      <td>7416695313311560658</td>\n",
       "      <td>1564053102</td>\n",
       "      <td>246</td>\n",
       "    </tr>\n",
       "    <tr>\n",
       "      <th>2</th>\n",
       "      <td>PaymentScreenSuccessful</td>\n",
       "      <td>3518123091307005509</td>\n",
       "      <td>1564054127</td>\n",
       "      <td>248</td>\n",
       "    </tr>\n",
       "    <tr>\n",
       "      <th>3</th>\n",
       "      <td>CartScreenAppear</td>\n",
       "      <td>3518123091307005509</td>\n",
       "      <td>1564054127</td>\n",
       "      <td>248</td>\n",
       "    </tr>\n",
       "    <tr>\n",
       "      <th>4</th>\n",
       "      <td>PaymentScreenSuccessful</td>\n",
       "      <td>6217807653094995999</td>\n",
       "      <td>1564055322</td>\n",
       "      <td>248</td>\n",
       "    </tr>\n",
       "    <tr>\n",
       "      <th>...</th>\n",
       "      <td>...</td>\n",
       "      <td>...</td>\n",
       "      <td>...</td>\n",
       "      <td>...</td>\n",
       "    </tr>\n",
       "    <tr>\n",
       "      <th>244121</th>\n",
       "      <td>MainScreenAppear</td>\n",
       "      <td>4599628364049201812</td>\n",
       "      <td>1565212345</td>\n",
       "      <td>247</td>\n",
       "    </tr>\n",
       "    <tr>\n",
       "      <th>244122</th>\n",
       "      <td>MainScreenAppear</td>\n",
       "      <td>5849806612437486590</td>\n",
       "      <td>1565212439</td>\n",
       "      <td>246</td>\n",
       "    </tr>\n",
       "    <tr>\n",
       "      <th>244123</th>\n",
       "      <td>MainScreenAppear</td>\n",
       "      <td>5746969938801999050</td>\n",
       "      <td>1565212483</td>\n",
       "      <td>246</td>\n",
       "    </tr>\n",
       "    <tr>\n",
       "      <th>244124</th>\n",
       "      <td>MainScreenAppear</td>\n",
       "      <td>5746969938801999050</td>\n",
       "      <td>1565212498</td>\n",
       "      <td>246</td>\n",
       "    </tr>\n",
       "    <tr>\n",
       "      <th>244125</th>\n",
       "      <td>OffersScreenAppear</td>\n",
       "      <td>5746969938801999050</td>\n",
       "      <td>1565212517</td>\n",
       "      <td>246</td>\n",
       "    </tr>\n",
       "  </tbody>\n",
       "</table>\n",
       "<p>244126 rows × 4 columns</p>\n",
       "</div>"
      ],
      "text/plain": [
       "                      EventName         DeviceIDHash  EventTimestamp  ExpId\n",
       "0              MainScreenAppear  4575588528974610257      1564029816    246\n",
       "1              MainScreenAppear  7416695313311560658      1564053102    246\n",
       "2       PaymentScreenSuccessful  3518123091307005509      1564054127    248\n",
       "3              CartScreenAppear  3518123091307005509      1564054127    248\n",
       "4       PaymentScreenSuccessful  6217807653094995999      1564055322    248\n",
       "...                         ...                  ...             ...    ...\n",
       "244121         MainScreenAppear  4599628364049201812      1565212345    247\n",
       "244122         MainScreenAppear  5849806612437486590      1565212439    246\n",
       "244123         MainScreenAppear  5746969938801999050      1565212483    246\n",
       "244124         MainScreenAppear  5746969938801999050      1565212498    246\n",
       "244125       OffersScreenAppear  5746969938801999050      1565212517    246\n",
       "\n",
       "[244126 rows x 4 columns]"
      ]
     },
     "execution_count": 2,
     "metadata": {},
     "output_type": "execute_result"
    }
   ],
   "source": [
    "data = pd.read_csv('/datasets/logs_exp.csv',sep='\\t')\n",
    "data"
   ]
  },
  {
   "cell_type": "code",
   "execution_count": 3,
   "metadata": {},
   "outputs": [
    {
     "name": "stdout",
     "output_type": "stream",
     "text": [
      "<class 'pandas.core.frame.DataFrame'>\n",
      "RangeIndex: 244126 entries, 0 to 244125\n",
      "Data columns (total 4 columns):\n",
      " #   Column          Non-Null Count   Dtype \n",
      "---  ------          --------------   ----- \n",
      " 0   EventName       244126 non-null  object\n",
      " 1   DeviceIDHash    244126 non-null  int64 \n",
      " 2   EventTimestamp  244126 non-null  int64 \n",
      " 3   ExpId           244126 non-null  int64 \n",
      "dtypes: int64(3), object(1)\n",
      "memory usage: 7.5+ MB\n"
     ]
    }
   ],
   "source": [
    "data.info()"
   ]
  },
  {
   "cell_type": "markdown",
   "metadata": {},
   "source": [
    "По исходному датафрейму можно сделать вывод, что в нем присутствуют ошибки."
   ]
  },
  {
   "cell_type": "markdown",
   "metadata": {},
   "source": [
    "##  Подготовьте данные"
   ]
  },
  {
   "cell_type": "code",
   "execution_count": 4,
   "metadata": {
    "scrolled": false
   },
   "outputs": [
    {
     "name": "stdout",
     "output_type": "stream",
     "text": [
      "<class 'pandas.core.frame.DataFrame'>\n",
      "RangeIndex: 244126 entries, 0 to 244125\n",
      "Data columns (total 4 columns):\n",
      " #   Column          Non-Null Count   Dtype \n",
      "---  ------          --------------   ----- \n",
      " 0   EventName       244126 non-null  object\n",
      " 1   DeviceIDHash    244126 non-null  int64 \n",
      " 2   EventTimestamp  244126 non-null  int64 \n",
      " 3   ExpId           244126 non-null  int64 \n",
      "dtypes: int64(3), object(1)\n",
      "memory usage: 7.5+ MB\n"
     ]
    }
   ],
   "source": [
    "data.info()"
   ]
  },
  {
   "cell_type": "code",
   "execution_count": 5,
   "metadata": {
    "scrolled": false
   },
   "outputs": [
    {
     "data": {
      "text/html": [
       "<div>\n",
       "<style scoped>\n",
       "    .dataframe tbody tr th:only-of-type {\n",
       "        vertical-align: middle;\n",
       "    }\n",
       "\n",
       "    .dataframe tbody tr th {\n",
       "        vertical-align: top;\n",
       "    }\n",
       "\n",
       "    .dataframe thead th {\n",
       "        text-align: right;\n",
       "    }\n",
       "</style>\n",
       "<table border=\"1\" class=\"dataframe\">\n",
       "  <thead>\n",
       "    <tr style=\"text-align: right;\">\n",
       "      <th></th>\n",
       "      <th>event_name</th>\n",
       "      <th>user_id</th>\n",
       "      <th>date_time</th>\n",
       "      <th>group</th>\n",
       "    </tr>\n",
       "  </thead>\n",
       "  <tbody>\n",
       "    <tr>\n",
       "      <th>0</th>\n",
       "      <td>MainScreenAppear</td>\n",
       "      <td>4575588528974610257</td>\n",
       "      <td>2019-07-25 04:43:36</td>\n",
       "      <td>246</td>\n",
       "    </tr>\n",
       "    <tr>\n",
       "      <th>1</th>\n",
       "      <td>MainScreenAppear</td>\n",
       "      <td>7416695313311560658</td>\n",
       "      <td>2019-07-25 11:11:42</td>\n",
       "      <td>246</td>\n",
       "    </tr>\n",
       "    <tr>\n",
       "      <th>2</th>\n",
       "      <td>PaymentScreenSuccessful</td>\n",
       "      <td>3518123091307005509</td>\n",
       "      <td>2019-07-25 11:28:47</td>\n",
       "      <td>248</td>\n",
       "    </tr>\n",
       "    <tr>\n",
       "      <th>3</th>\n",
       "      <td>CartScreenAppear</td>\n",
       "      <td>3518123091307005509</td>\n",
       "      <td>2019-07-25 11:28:47</td>\n",
       "      <td>248</td>\n",
       "    </tr>\n",
       "    <tr>\n",
       "      <th>4</th>\n",
       "      <td>PaymentScreenSuccessful</td>\n",
       "      <td>6217807653094995999</td>\n",
       "      <td>2019-07-25 11:48:42</td>\n",
       "      <td>248</td>\n",
       "    </tr>\n",
       "  </tbody>\n",
       "</table>\n",
       "</div>"
      ],
      "text/plain": [
       "                event_name              user_id           date_time  group\n",
       "0         MainScreenAppear  4575588528974610257 2019-07-25 04:43:36    246\n",
       "1         MainScreenAppear  7416695313311560658 2019-07-25 11:11:42    246\n",
       "2  PaymentScreenSuccessful  3518123091307005509 2019-07-25 11:28:47    248\n",
       "3         CartScreenAppear  3518123091307005509 2019-07-25 11:28:47    248\n",
       "4  PaymentScreenSuccessful  6217807653094995999 2019-07-25 11:48:42    248"
      ]
     },
     "metadata": {},
     "output_type": "display_data"
    },
    {
     "name": "stdout",
     "output_type": "stream",
     "text": [
      "\n",
      "<class 'pandas.core.frame.DataFrame'>\n",
      "RangeIndex: 244126 entries, 0 to 244125\n",
      "Data columns (total 4 columns):\n",
      " #   Column      Non-Null Count   Dtype         \n",
      "---  ------      --------------   -----         \n",
      " 0   event_name  244126 non-null  object        \n",
      " 1   user_id     244126 non-null  int64         \n",
      " 2   date_time   244126 non-null  datetime64[ns]\n",
      " 3   group       244126 non-null  int64         \n",
      "dtypes: datetime64[ns](1), int64(2), object(1)\n",
      "memory usage: 7.5+ MB\n"
     ]
    }
   ],
   "source": [
    "#data.columns = ['event_name', 'user_id', 'date_time', 'group']\n",
    "data = data.rename(columns={\"EventName\": \"event_name\", \"DeviceIDHash\": \"user_id\",\"EventTimestamp\": \"date_time\",\"ExpId\": \"group\",})\n",
    "data['date_time'] = pd.to_datetime(data['date_time'], unit='s')\n",
    "display(data.head())\n",
    "print()\n",
    "data.info()"
   ]
  },
  {
   "cell_type": "markdown",
   "metadata": {},
   "source": [
    "Здесь я привел дату к нужному типу данных и переименовал столбцы под удобные мне названия."
   ]
  },
  {
   "cell_type": "code",
   "execution_count": 6,
   "metadata": {},
   "outputs": [
    {
     "name": "stdout",
     "output_type": "stream",
     "text": [
      "event_name    0\n",
      "user_id       0\n",
      "date_time     0\n",
      "group         0\n",
      "dtype: int64\n",
      "\n",
      "413\n"
     ]
    },
    {
     "data": {
      "text/plain": [
       "0"
      ]
     },
     "execution_count": 6,
     "metadata": {},
     "output_type": "execute_result"
    }
   ],
   "source": [
    "print(data.isna().sum())\n",
    "print()\n",
    "print(data.duplicated().sum())\n",
    "data = data.drop_duplicates().reset_index(drop=True)\n",
    "data.duplicated().sum()"
   ]
  },
  {
   "cell_type": "markdown",
   "metadata": {},
   "source": [
    "Пропусков в датафрейме не было, но было 413 дубликатов, которые я отбросил."
   ]
  },
  {
   "cell_type": "code",
   "execution_count": 7,
   "metadata": {},
   "outputs": [
    {
     "data": {
      "text/html": [
       "<div>\n",
       "<style scoped>\n",
       "    .dataframe tbody tr th:only-of-type {\n",
       "        vertical-align: middle;\n",
       "    }\n",
       "\n",
       "    .dataframe tbody tr th {\n",
       "        vertical-align: top;\n",
       "    }\n",
       "\n",
       "    .dataframe thead th {\n",
       "        text-align: right;\n",
       "    }\n",
       "</style>\n",
       "<table border=\"1\" class=\"dataframe\">\n",
       "  <thead>\n",
       "    <tr style=\"text-align: right;\">\n",
       "      <th></th>\n",
       "      <th>event_name</th>\n",
       "      <th>user_id</th>\n",
       "      <th>date_time</th>\n",
       "      <th>group</th>\n",
       "      <th>date</th>\n",
       "    </tr>\n",
       "  </thead>\n",
       "  <tbody>\n",
       "    <tr>\n",
       "      <th>0</th>\n",
       "      <td>MainScreenAppear</td>\n",
       "      <td>4575588528974610257</td>\n",
       "      <td>2019-07-25 04:43:36</td>\n",
       "      <td>246</td>\n",
       "      <td>2019-07-25</td>\n",
       "    </tr>\n",
       "    <tr>\n",
       "      <th>1</th>\n",
       "      <td>MainScreenAppear</td>\n",
       "      <td>7416695313311560658</td>\n",
       "      <td>2019-07-25 11:11:42</td>\n",
       "      <td>246</td>\n",
       "      <td>2019-07-25</td>\n",
       "    </tr>\n",
       "    <tr>\n",
       "      <th>2</th>\n",
       "      <td>PaymentScreenSuccessful</td>\n",
       "      <td>3518123091307005509</td>\n",
       "      <td>2019-07-25 11:28:47</td>\n",
       "      <td>248</td>\n",
       "      <td>2019-07-25</td>\n",
       "    </tr>\n",
       "    <tr>\n",
       "      <th>3</th>\n",
       "      <td>CartScreenAppear</td>\n",
       "      <td>3518123091307005509</td>\n",
       "      <td>2019-07-25 11:28:47</td>\n",
       "      <td>248</td>\n",
       "      <td>2019-07-25</td>\n",
       "    </tr>\n",
       "    <tr>\n",
       "      <th>4</th>\n",
       "      <td>PaymentScreenSuccessful</td>\n",
       "      <td>6217807653094995999</td>\n",
       "      <td>2019-07-25 11:48:42</td>\n",
       "      <td>248</td>\n",
       "      <td>2019-07-25</td>\n",
       "    </tr>\n",
       "    <tr>\n",
       "      <th>...</th>\n",
       "      <td>...</td>\n",
       "      <td>...</td>\n",
       "      <td>...</td>\n",
       "      <td>...</td>\n",
       "      <td>...</td>\n",
       "    </tr>\n",
       "    <tr>\n",
       "      <th>243708</th>\n",
       "      <td>MainScreenAppear</td>\n",
       "      <td>4599628364049201812</td>\n",
       "      <td>2019-08-07 21:12:25</td>\n",
       "      <td>247</td>\n",
       "      <td>2019-08-07</td>\n",
       "    </tr>\n",
       "    <tr>\n",
       "      <th>243709</th>\n",
       "      <td>MainScreenAppear</td>\n",
       "      <td>5849806612437486590</td>\n",
       "      <td>2019-08-07 21:13:59</td>\n",
       "      <td>246</td>\n",
       "      <td>2019-08-07</td>\n",
       "    </tr>\n",
       "    <tr>\n",
       "      <th>243710</th>\n",
       "      <td>MainScreenAppear</td>\n",
       "      <td>5746969938801999050</td>\n",
       "      <td>2019-08-07 21:14:43</td>\n",
       "      <td>246</td>\n",
       "      <td>2019-08-07</td>\n",
       "    </tr>\n",
       "    <tr>\n",
       "      <th>243711</th>\n",
       "      <td>MainScreenAppear</td>\n",
       "      <td>5746969938801999050</td>\n",
       "      <td>2019-08-07 21:14:58</td>\n",
       "      <td>246</td>\n",
       "      <td>2019-08-07</td>\n",
       "    </tr>\n",
       "    <tr>\n",
       "      <th>243712</th>\n",
       "      <td>OffersScreenAppear</td>\n",
       "      <td>5746969938801999050</td>\n",
       "      <td>2019-08-07 21:15:17</td>\n",
       "      <td>246</td>\n",
       "      <td>2019-08-07</td>\n",
       "    </tr>\n",
       "  </tbody>\n",
       "</table>\n",
       "<p>243713 rows × 5 columns</p>\n",
       "</div>"
      ],
      "text/plain": [
       "                     event_name              user_id           date_time  \\\n",
       "0              MainScreenAppear  4575588528974610257 2019-07-25 04:43:36   \n",
       "1              MainScreenAppear  7416695313311560658 2019-07-25 11:11:42   \n",
       "2       PaymentScreenSuccessful  3518123091307005509 2019-07-25 11:28:47   \n",
       "3              CartScreenAppear  3518123091307005509 2019-07-25 11:28:47   \n",
       "4       PaymentScreenSuccessful  6217807653094995999 2019-07-25 11:48:42   \n",
       "...                         ...                  ...                 ...   \n",
       "243708         MainScreenAppear  4599628364049201812 2019-08-07 21:12:25   \n",
       "243709         MainScreenAppear  5849806612437486590 2019-08-07 21:13:59   \n",
       "243710         MainScreenAppear  5746969938801999050 2019-08-07 21:14:43   \n",
       "243711         MainScreenAppear  5746969938801999050 2019-08-07 21:14:58   \n",
       "243712       OffersScreenAppear  5746969938801999050 2019-08-07 21:15:17   \n",
       "\n",
       "        group       date  \n",
       "0         246 2019-07-25  \n",
       "1         246 2019-07-25  \n",
       "2         248 2019-07-25  \n",
       "3         248 2019-07-25  \n",
       "4         248 2019-07-25  \n",
       "...       ...        ...  \n",
       "243708    247 2019-08-07  \n",
       "243709    246 2019-08-07  \n",
       "243710    246 2019-08-07  \n",
       "243711    246 2019-08-07  \n",
       "243712    246 2019-08-07  \n",
       "\n",
       "[243713 rows x 5 columns]"
      ]
     },
     "metadata": {},
     "output_type": "display_data"
    },
    {
     "name": "stdout",
     "output_type": "stream",
     "text": [
      "<class 'pandas.core.frame.DataFrame'>\n",
      "RangeIndex: 243713 entries, 0 to 243712\n",
      "Data columns (total 5 columns):\n",
      " #   Column      Non-Null Count   Dtype         \n",
      "---  ------      --------------   -----         \n",
      " 0   event_name  243713 non-null  object        \n",
      " 1   user_id     243713 non-null  int64         \n",
      " 2   date_time   243713 non-null  datetime64[ns]\n",
      " 3   group       243713 non-null  int64         \n",
      " 4   date        243713 non-null  datetime64[ns]\n",
      "dtypes: datetime64[ns](2), int64(2), object(1)\n",
      "memory usage: 9.3+ MB\n"
     ]
    }
   ],
   "source": [
    "data['date'] = data['date_time'].dt.date\n",
    "data['date'] = pd.to_datetime(data['date'])\n",
    "display(data)\n",
    "data.info()"
   ]
  },
  {
   "cell_type": "markdown",
   "metadata": {},
   "source": [
    "Добавил отдельный столбец с датами и привел его к нужному типу."
   ]
  },
  {
   "cell_type": "code",
   "execution_count": 8,
   "metadata": {},
   "outputs": [
    {
     "data": {
      "text/plain": [
       "0"
      ]
     },
     "metadata": {},
     "output_type": "display_data"
    },
    {
     "data": {
      "text/plain": [
       "0"
      ]
     },
     "execution_count": 8,
     "metadata": {},
     "output_type": "execute_result"
    }
   ],
   "source": [
    "Aorders = data[data['group'] == '246']['user_id']\n",
    "A2orders = data[data['group'] == '247']['user_id']\n",
    "\n",
    "display(Aorders.isin(A2orders).sum())\n",
    "s1 = pd.merge(Aorders, A2orders, how='inner', on=['user_id'])\n",
    "s1['user_id'].nunique()"
   ]
  },
  {
   "cell_type": "code",
   "execution_count": 9,
   "metadata": {},
   "outputs": [
    {
     "data": {
      "text/plain": [
       "0"
      ]
     },
     "metadata": {},
     "output_type": "display_data"
    },
    {
     "data": {
      "text/plain": [
       "0"
      ]
     },
     "execution_count": 9,
     "metadata": {},
     "output_type": "execute_result"
    }
   ],
   "source": [
    "Aorders = data[data['group'] == '246']['user_id']\n",
    "Borders = data[data['group'] == '248']['user_id']\n",
    "\n",
    "display(Aorders.isin(Borders).sum())\n",
    "s1 = pd.merge(Aorders, Borders, how='inner', on=['user_id'])\n",
    "s1['user_id'].nunique()"
   ]
  },
  {
   "cell_type": "code",
   "execution_count": 10,
   "metadata": {},
   "outputs": [
    {
     "data": {
      "text/plain": [
       "0"
      ]
     },
     "metadata": {},
     "output_type": "display_data"
    },
    {
     "data": {
      "text/plain": [
       "0"
      ]
     },
     "execution_count": 10,
     "metadata": {},
     "output_type": "execute_result"
    }
   ],
   "source": [
    "A2orders = data[data['group'] == '247']['user_id']\n",
    "Borders = data[data['group'] == '248']['user_id']\n",
    "\n",
    "display(A2orders.isin(Borders).sum())\n",
    "s1 = pd.merge(A2orders, Borders, how='inner', on=['user_id'])\n",
    "s1['user_id'].nunique()"
   ]
  },
  {
   "cell_type": "markdown",
   "metadata": {},
   "source": [
    "При проверки попадания пользователей сразу в несколько групп, ошибок не найдено, и каждый пользователь находится только в своей группе."
   ]
  },
  {
   "cell_type": "markdown",
   "metadata": {},
   "source": [
    "<b>По итогам подготовки данных к анализу, ошибки в типах данных были устранены, пропусков в данных не было обнаружено, дубликаты убраны из датафрейма. Названия столбцов были заменены на удобные для меня и был добавлен отдельный столбец с датами. И каждой пользователь находится только в своей группе.</b>"
   ]
  },
  {
   "cell_type": "markdown",
   "metadata": {},
   "source": [
    "##  Изучите и проверьте данные"
   ]
  },
  {
   "cell_type": "code",
   "execution_count": 11,
   "metadata": {},
   "outputs": [
    {
     "name": "stdout",
     "output_type": "stream",
     "text": [
      "Всего событий в логе: 243713\n",
      "Всего пользователей в логе: 7551\n",
      "В среднем событий приходится на пользователя: 32.0\n"
     ]
    }
   ],
   "source": [
    "\n",
    "print('Всего событий в логе:', data['user_id'].count())\n",
    "\n",
    "print('Всего пользователей в логе:', data['user_id'].nunique())\n",
    "\n",
    "print('В среднем событий приходится на пользователя:',round(data.groupby('user_id')['event_name'].count().mean(),0))\n"
   ]
  },
  {
   "cell_type": "code",
   "execution_count": 12,
   "metadata": {},
   "outputs": [
    {
     "name": "stdout",
     "output_type": "stream",
     "text": [
      "Минимальная и максимальная дата:\n",
      "min   2019-07-25\n",
      "max   2019-08-07\n",
      "Name: date, dtype: datetime64[ns]\n"
     ]
    },
    {
     "data": {
      "image/png": "[encoded data removed]",
      "text/plain": [
       "<Figure size 1080x720 with 1 Axes>"
      ]
     },
     "metadata": {
      "needs_background": "light"
     },
     "output_type": "display_data"
    }
   ],
   "source": [
    "print('Минимальная и максимальная дата:')\n",
    "print(data['date'].agg(['min', 'max']))\n",
    "plt.figure(figsize=(15, 10))\n",
    "\n",
    "data['date_time'].hist()\n",
    "\n",
    "plt.xticks(rotation=90)\n",
    "plt.title('Гистограмма распределения количества событий за период с 2019-07-25 по 2019-08-07')\n",
    "plt.xlabel('Дата')\n",
    "plt.ylabel('Количество событий')\n",
    "plt.show()"
   ]
  },
  {
   "cell_type": "markdown",
   "metadata": {},
   "source": [
    "Посмотрев на гистограмму можно сказать, что на самом деле мы располагаем данными от '2019-07-31'. Я считаю что данные полные уже с '2019-08-01' и поэтому все остальные даты до этой, я отбросил."
   ]
  },
  {
   "cell_type": "code",
   "execution_count": 13,
   "metadata": {},
   "outputs": [
    {
     "name": "stdout",
     "output_type": "stream",
     "text": [
      "Всего событий в логе: 240887\n",
      "Всего пользователей в логе: 7534\n",
      "В среднем событий приходится на пользователя: 32.0\n"
     ]
    }
   ],
   "source": [
    "data_new = data[data['date_time'] >= '2019-08-01']\n",
    "\n",
    "print('Всего событий в логе:', data_new['user_id'].count())\n",
    "\n",
    "print('Всего пользователей в логе:', data_new['user_id'].nunique())\n",
    "\n",
    "print('В среднем событий приходится на пользователя:',round(data_new.groupby('user_id')['event_name'].count().mean(),0))"
   ]
  },
  {
   "cell_type": "code",
   "execution_count": 14,
   "metadata": {},
   "outputs": [
    {
     "name": "stdout",
     "output_type": "stream",
     "text": [
      "Потеря событий в логе: 2826\n",
      "Потеря событий в логе в процентах: 1.2 %\n",
      "Потеря пользователей в логе: 17\n",
      "Потеря пользователей в логе в процентах: 0.2 %\n",
      "Потеря в среднем событий приходихся на пользователя: 0.0\n"
     ]
    }
   ],
   "source": [
    "lost_event = data['user_id'].count() - data_new['user_id'].count()\n",
    "print('Потеря событий в логе:', lost_event)\n",
    "print('Потеря событий в логе в процентах:', round((lost_event/data['user_id'].count())*100,1),'%')\n",
    "\n",
    "lost_users = data['user_id'].nunique() - data_new['user_id'].nunique()\n",
    "print('Потеря пользователей в логе:', lost_users)\n",
    "print('Потеря пользователей в логе в процентах:', round((lost_users/data['user_id'].nunique())*100,1),'%')\n",
    "\n",
    "lost_mean = round(data.groupby('user_id')['event_name'].count().mean(),0) - round(data_new.groupby('user_id')\n",
    "                                                                                  ['event_name'].count().mean(),0)\n",
    "\n",
    "print('Потеря в среднем событий приходихся на пользователя:', lost_mean)\n",
    "\n"
   ]
  },
  {
   "cell_type": "markdown",
   "metadata": {},
   "source": [
    "Отбросив старые данные, я потерял 2826 событий и 17 пользователей. А в среднем событий приходится на пользователя 32 как и было. Отбросив старые данные я потерял  1,2% событий и 0,2% пользователей, что очень мало."
   ]
  },
  {
   "cell_type": "code",
   "execution_count": 15,
   "metadata": {},
   "outputs": [
    {
     "name": "stdout",
     "output_type": "stream",
     "text": [
      "Количество пользователей в каждой группе:\n"
     ]
    },
    {
     "data": {
      "text/html": [
       "<div>\n",
       "<style scoped>\n",
       "    .dataframe tbody tr th:only-of-type {\n",
       "        vertical-align: middle;\n",
       "    }\n",
       "\n",
       "    .dataframe tbody tr th {\n",
       "        vertical-align: top;\n",
       "    }\n",
       "\n",
       "    .dataframe thead th {\n",
       "        text-align: right;\n",
       "    }\n",
       "</style>\n",
       "<table border=\"1\" class=\"dataframe\">\n",
       "  <thead>\n",
       "    <tr style=\"text-align: right;\">\n",
       "      <th></th>\n",
       "      <th>nunique</th>\n",
       "    </tr>\n",
       "    <tr>\n",
       "      <th>group</th>\n",
       "      <th></th>\n",
       "    </tr>\n",
       "  </thead>\n",
       "  <tbody>\n",
       "    <tr>\n",
       "      <th>246</th>\n",
       "      <td>2484</td>\n",
       "    </tr>\n",
       "    <tr>\n",
       "      <th>247</th>\n",
       "      <td>2513</td>\n",
       "    </tr>\n",
       "    <tr>\n",
       "      <th>248</th>\n",
       "      <td>2537</td>\n",
       "    </tr>\n",
       "  </tbody>\n",
       "</table>\n",
       "</div>"
      ],
      "text/plain": [
       "       nunique\n",
       "group         \n",
       "246       2484\n",
       "247       2513\n",
       "248       2537"
      ]
     },
     "execution_count": 15,
     "metadata": {},
     "output_type": "execute_result"
    }
   ],
   "source": [
    "print('Количество пользователей в каждой группе:')\n",
    "data_new.groupby('group')['user_id'].agg({'nunique'})"
   ]
  },
  {
   "cell_type": "markdown",
   "metadata": {},
   "source": [
    "Пользователи остались из всех трех эксперимаентальных групп."
   ]
  },
  {
   "cell_type": "markdown",
   "metadata": {},
   "source": [
    "##  Изучите воронку событий "
   ]
  },
  {
   "cell_type": "code",
   "execution_count": 16,
   "metadata": {},
   "outputs": [
    {
     "name": "stdout",
     "output_type": "stream",
     "text": [
      "MainScreenAppear           117328\n",
      "OffersScreenAppear          46333\n",
      "CartScreenAppear            42303\n",
      "PaymentScreenSuccessful     33918\n",
      "Tutorial                     1005\n",
      "Name: event_name, dtype: int64\n"
     ]
    }
   ],
   "source": [
    "print(data_new['event_name'].value_counts())"
   ]
  },
  {
   "cell_type": "markdown",
   "metadata": {},
   "source": [
    "Самым частым событием является событие MainScreenAppear (117328). А событие Tutorial (1005) самое редкое."
   ]
  },
  {
   "cell_type": "raw",
   "metadata": {},
   "source": [
    "Посчитайте, сколько пользователей совершали КАЖДОЕ из этих событий.\n",
    "Я понял это, что сколько всего пользователей, совершили все 5 событий. Я считаю что здесь неправильная формулировка задания.\n",
    "И по началу я сделал задание так.\n",
    "data.groupby('user_id')['event_name'].nunique().apply(lambda x:(x==5)).sum() "
   ]
  },
  {
   "cell_type": "code",
   "execution_count": 17,
   "metadata": {
    "scrolled": false
   },
   "outputs": [
    {
     "data": {
      "text/html": [
       "<div>\n",
       "<style scoped>\n",
       "    .dataframe tbody tr th:only-of-type {\n",
       "        vertical-align: middle;\n",
       "    }\n",
       "\n",
       "    .dataframe tbody tr th {\n",
       "        vertical-align: top;\n",
       "    }\n",
       "\n",
       "    .dataframe thead th {\n",
       "        text-align: right;\n",
       "    }\n",
       "</style>\n",
       "<table border=\"1\" class=\"dataframe\">\n",
       "  <thead>\n",
       "    <tr style=\"text-align: right;\">\n",
       "      <th></th>\n",
       "      <th>user_cnt</th>\n",
       "      <th>user_share</th>\n",
       "    </tr>\n",
       "    <tr>\n",
       "      <th>event_name</th>\n",
       "      <th></th>\n",
       "      <th></th>\n",
       "    </tr>\n",
       "  </thead>\n",
       "  <tbody>\n",
       "    <tr>\n",
       "      <th>MainScreenAppear</th>\n",
       "      <td>7419</td>\n",
       "      <td>98.47</td>\n",
       "    </tr>\n",
       "    <tr>\n",
       "      <th>OffersScreenAppear</th>\n",
       "      <td>4593</td>\n",
       "      <td>60.96</td>\n",
       "    </tr>\n",
       "    <tr>\n",
       "      <th>CartScreenAppear</th>\n",
       "      <td>3734</td>\n",
       "      <td>49.56</td>\n",
       "    </tr>\n",
       "    <tr>\n",
       "      <th>PaymentScreenSuccessful</th>\n",
       "      <td>3539</td>\n",
       "      <td>46.97</td>\n",
       "    </tr>\n",
       "    <tr>\n",
       "      <th>Tutorial</th>\n",
       "      <td>840</td>\n",
       "      <td>11.15</td>\n",
       "    </tr>\n",
       "  </tbody>\n",
       "</table>\n",
       "</div>"
      ],
      "text/plain": [
       "                         user_cnt  user_share\n",
       "event_name                                   \n",
       "MainScreenAppear             7419       98.47\n",
       "OffersScreenAppear           4593       60.96\n",
       "CartScreenAppear             3734       49.56\n",
       "PaymentScreenSuccessful      3539       46.97\n",
       "Tutorial                      840       11.15"
      ]
     },
     "execution_count": 17,
     "metadata": {},
     "output_type": "execute_result"
    }
   ],
   "source": [
    "df = data_new.groupby('event_name')['user_id'].agg({'nunique'}).sort_values(by = 'nunique' ,ascending=False)\n",
    "\n",
    "df.columns = ['user_cnt']\n",
    "\n",
    "df['user_share'] = round(df['user_cnt']/data_new['user_id'].nunique() * 100,2) \n",
    "\n",
    "df"
   ]
  },
  {
   "cell_type": "markdown",
   "metadata": {},
   "source": [
    "Посчитал сколько пользователей совершали каждое из этих событий. Самое большое количество пользователей у события MainScreenAppear (7419) и самое маленькое количество пользователей у события Tutorial (840). Также посчитал  долю пользователей, которые хоть раз совершали событие. Событие MainScreenAppear совершали почти 100% пользователей (98,47%). Так же около 1.5 % миновало главный экран, возможно это связано с тем, что после обучения, им не захотелось дальше пользоваться приложением."
   ]
  },
  {
   "cell_type": "code",
   "execution_count": 18,
   "metadata": {
    "scrolled": false
   },
   "outputs": [],
   "source": [
    "data_new = data_new.query('event_name !=\"Tutorial\"')\n",
    "df = df.query('event_name !=\"Tutorial\"')"
   ]
  },
  {
   "cell_type": "markdown",
   "metadata": {},
   "source": [
    "Я предположил, что события происходят в таком порядке:\n",
    "\n",
    "1) MainScreenAppear\n",
    "    \n",
    "2) OffersScreenAppear\n",
    "    \n",
    "3) CartScreenAppear\n",
    "    \n",
    "4) PaymentScreenSuccessful\n",
    "    \n",
    "Так события выстраиваются в логичную цепочку. Что получается и логично для воронки, от большего числа пользователей к меньшему.\n",
    "\n",
    "Так же для расчета воронки, я отбросил данные события Tutorial (руководство/инструкция). Потому что это событие ,скорее всего, большинство людей пропускало.\n",
    "    "
   ]
  },
  {
   "cell_type": "code",
   "execution_count": 19,
   "metadata": {},
   "outputs": [
    {
     "data": {
      "text/plain": [
       "event_name\n",
       "MainScreenAppear            100\n",
       "OffersScreenAppear         61.9\n",
       "CartScreenAppear           81.3\n",
       "PaymentScreenSuccessful    94.8\n",
       "Name: user_cnt, dtype: object"
      ]
     },
     "execution_count": 19,
     "metadata": {},
     "output_type": "execute_result"
    }
   ],
   "source": [
    "share = round(df['user_cnt']/df['user_cnt'].shift(periods=1) * 100,1)\n",
    "share.fillna('100')"
   ]
  },
  {
   "cell_type": "markdown",
   "metadata": {},
   "source": [
    "Здесь у первого события пропуск, я заменил на значение 100%, так как это первое событие и до него ничего небыло."
   ]
  },
  {
   "cell_type": "markdown",
   "metadata": {},
   "source": [
    "Больше всего людей теряется с шага 'MainScreenAppear' на 'OffersScreenAppear'. Теряется 38.2%. Что и логично, люди после главного меню, просто выходят из приложения так как их ничего не заинтересовало."
   ]
  },
  {
   "cell_type": "code",
   "execution_count": 20,
   "metadata": {},
   "outputs": [
    {
     "name": "stdout",
     "output_type": "stream",
     "text": [
      "Доля пользователей которые доходят от первого события до оплаты: 47.7 % ,что составляет почти половину от всех пользователей.\n"
     ]
    }
   ],
   "source": [
    "print('Доля пользователей которые доходят от первого события до оплаты:',\n",
    "      round(df['user_cnt'].iloc[3]/df['user_cnt'].iloc[0] * 100,1),'% ,что составляет почти половину от всех пользователей.')"
   ]
  },
  {
   "cell_type": "markdown",
   "metadata": {},
   "source": [
    "По результатам анализа воронки, я откинул событие Tutoria потому что обычно его можно пройти по желанию и на любом этапе, так же выяснил, что самое большое количество пользователей у события MainScreenAppear. Еще больше всего людей теряется с шага 'MainScreenAppear' на 'OffersScreenAppear' (38.2% потери). Но из хороших новостей, почти половина пользователей (47.7%) доходят от первого события до оплаты."
   ]
  },
  {
   "cell_type": "markdown",
   "metadata": {},
   "source": [
    "## Изучите результаты эксперимента"
   ]
  },
  {
   "cell_type": "code",
   "execution_count": 21,
   "metadata": {},
   "outputs": [
    {
     "name": "stdout",
     "output_type": "stream",
     "text": [
      "Пользователей в каждой экспериментальной группе:\n"
     ]
    },
    {
     "data": {
      "text/html": [
       "<div>\n",
       "<style scoped>\n",
       "    .dataframe tbody tr th:only-of-type {\n",
       "        vertical-align: middle;\n",
       "    }\n",
       "\n",
       "    .dataframe tbody tr th {\n",
       "        vertical-align: top;\n",
       "    }\n",
       "\n",
       "    .dataframe thead th {\n",
       "        text-align: right;\n",
       "    }\n",
       "</style>\n",
       "<table border=\"1\" class=\"dataframe\">\n",
       "  <thead>\n",
       "    <tr style=\"text-align: right;\">\n",
       "      <th></th>\n",
       "      <th>nunique</th>\n",
       "    </tr>\n",
       "    <tr>\n",
       "      <th>group</th>\n",
       "      <th></th>\n",
       "    </tr>\n",
       "  </thead>\n",
       "  <tbody>\n",
       "    <tr>\n",
       "      <th>246</th>\n",
       "      <td>2483</td>\n",
       "    </tr>\n",
       "    <tr>\n",
       "      <th>247</th>\n",
       "      <td>2512</td>\n",
       "    </tr>\n",
       "    <tr>\n",
       "      <th>248</th>\n",
       "      <td>2535</td>\n",
       "    </tr>\n",
       "  </tbody>\n",
       "</table>\n",
       "</div>"
      ],
      "text/plain": [
       "       nunique\n",
       "group         \n",
       "246       2483\n",
       "247       2512\n",
       "248       2535"
      ]
     },
     "execution_count": 21,
     "metadata": {},
     "output_type": "execute_result"
    }
   ],
   "source": [
    "print('Пользователей в каждой экспериментальной группе:')\n",
    "user_group = data_new.groupby('group')['user_id'].agg({'nunique'})\n",
    "user_group"
   ]
  },
  {
   "cell_type": "markdown",
   "metadata": {},
   "source": [
    "Больше всего пользователей в группе 248 их число составляет 2535."
   ]
  },
  {
   "cell_type": "markdown",
   "metadata": {},
   "source": [
    "### Проверка разницы между выборками 246 и 247."
   ]
  },
  {
   "cell_type": "markdown",
   "metadata": {},
   "source": [
    "Сделал сводную таблицу с распределением пользователей по группам и событиям."
   ]
  },
  {
   "cell_type": "code",
   "execution_count": 22,
   "metadata": {},
   "outputs": [
    {
     "data": {
      "text/html": [
       "<div>\n",
       "<style scoped>\n",
       "    .dataframe tbody tr th:only-of-type {\n",
       "        vertical-align: middle;\n",
       "    }\n",
       "\n",
       "    .dataframe tbody tr th {\n",
       "        vertical-align: top;\n",
       "    }\n",
       "\n",
       "    .dataframe thead th {\n",
       "        text-align: right;\n",
       "    }\n",
       "</style>\n",
       "<table border=\"1\" class=\"dataframe\">\n",
       "  <thead>\n",
       "    <tr style=\"text-align: right;\">\n",
       "      <th>event_name</th>\n",
       "      <th>CartScreenAppear</th>\n",
       "      <th>MainScreenAppear</th>\n",
       "      <th>OffersScreenAppear</th>\n",
       "      <th>PaymentScreenSuccessful</th>\n",
       "    </tr>\n",
       "    <tr>\n",
       "      <th>group</th>\n",
       "      <th></th>\n",
       "      <th></th>\n",
       "      <th></th>\n",
       "      <th></th>\n",
       "    </tr>\n",
       "  </thead>\n",
       "  <tbody>\n",
       "    <tr>\n",
       "      <th>246</th>\n",
       "      <td>1266</td>\n",
       "      <td>2450</td>\n",
       "      <td>1542</td>\n",
       "      <td>1200</td>\n",
       "    </tr>\n",
       "    <tr>\n",
       "      <th>247</th>\n",
       "      <td>1238</td>\n",
       "      <td>2476</td>\n",
       "      <td>1520</td>\n",
       "      <td>1158</td>\n",
       "    </tr>\n",
       "    <tr>\n",
       "      <th>248</th>\n",
       "      <td>1230</td>\n",
       "      <td>2493</td>\n",
       "      <td>1531</td>\n",
       "      <td>1181</td>\n",
       "    </tr>\n",
       "  </tbody>\n",
       "</table>\n",
       "</div>"
      ],
      "text/plain": [
       "event_name  CartScreenAppear  MainScreenAppear  OffersScreenAppear  \\\n",
       "group                                                                \n",
       "246                     1266              2450                1542   \n",
       "247                     1238              2476                1520   \n",
       "248                     1230              2493                1531   \n",
       "\n",
       "event_name  PaymentScreenSuccessful  \n",
       "group                                \n",
       "246                            1200  \n",
       "247                            1158  \n",
       "248                            1181  "
      ]
     },
     "metadata": {},
     "output_type": "display_data"
    },
    {
     "data": {
      "text/html": [
       "<div>\n",
       "<style scoped>\n",
       "    .dataframe tbody tr th:only-of-type {\n",
       "        vertical-align: middle;\n",
       "    }\n",
       "\n",
       "    .dataframe tbody tr th {\n",
       "        vertical-align: top;\n",
       "    }\n",
       "\n",
       "    .dataframe thead th {\n",
       "        text-align: right;\n",
       "    }\n",
       "</style>\n",
       "<table border=\"1\" class=\"dataframe\">\n",
       "  <thead>\n",
       "    <tr style=\"text-align: right;\">\n",
       "      <th></th>\n",
       "      <th>CartScreenAppear</th>\n",
       "      <th>MainScreenAppear</th>\n",
       "      <th>OffersScreenAppear</th>\n",
       "      <th>PaymentScreenSuccessful</th>\n",
       "      <th>nunique</th>\n",
       "    </tr>\n",
       "    <tr>\n",
       "      <th>group</th>\n",
       "      <th></th>\n",
       "      <th></th>\n",
       "      <th></th>\n",
       "      <th></th>\n",
       "      <th></th>\n",
       "    </tr>\n",
       "  </thead>\n",
       "  <tbody>\n",
       "    <tr>\n",
       "      <th>246</th>\n",
       "      <td>1266</td>\n",
       "      <td>2450</td>\n",
       "      <td>1542</td>\n",
       "      <td>1200</td>\n",
       "      <td>2483</td>\n",
       "    </tr>\n",
       "    <tr>\n",
       "      <th>247</th>\n",
       "      <td>1238</td>\n",
       "      <td>2476</td>\n",
       "      <td>1520</td>\n",
       "      <td>1158</td>\n",
       "      <td>2512</td>\n",
       "    </tr>\n",
       "    <tr>\n",
       "      <th>248</th>\n",
       "      <td>1230</td>\n",
       "      <td>2493</td>\n",
       "      <td>1531</td>\n",
       "      <td>1181</td>\n",
       "      <td>2535</td>\n",
       "    </tr>\n",
       "  </tbody>\n",
       "</table>\n",
       "</div>"
      ],
      "text/plain": [
       "       CartScreenAppear  MainScreenAppear  OffersScreenAppear  \\\n",
       "group                                                           \n",
       "246                1266              2450                1542   \n",
       "247                1238              2476                1520   \n",
       "248                1230              2493                1531   \n",
       "\n",
       "       PaymentScreenSuccessful  nunique  \n",
       "group                                    \n",
       "246                       1200     2483  \n",
       "247                       1158     2512  \n",
       "248                       1181     2535  "
      ]
     },
     "execution_count": 22,
     "metadata": {},
     "output_type": "execute_result"
    }
   ],
   "source": [
    "users_event = pd.pivot_table(data_new, values='user_id', index='group', aggfunc='nunique',columns = 'event_name')\n",
    "display(users_event)\n",
    "multi_user = users_event.join(user_group,how = 'inner')\n",
    "multi_user"
   ]
  },
  {
   "cell_type": "markdown",
   "metadata": {},
   "source": [
    "<b>Функция для проверки гипотез о равенстве долей"
   ]
  },
  {
   "cell_type": "markdown",
   "metadata": {},
   "source": [
    "Нулевая гипотеза: Обе доли проверяемых событий  между сравниваемыми группами равны между собой.\n",
    "\n",
    "Альтернативная гипотеза: Обе доли проверяемых событий  между сравниваемыми группами не равны между собой.\n",
    "\n",
    "Значение alpha приму за 0,05.\n",
    "\n",
    "Буду пользоваться проверкой гипотез о равенстве долей. (z-тест)"
   ]
  },
  {
   "cell_type": "code",
   "execution_count": 23,
   "metadata": {},
   "outputs": [],
   "source": [
    "def group_stat(successes1,successes2,trials1,trials2,alpha):\n",
    "    alpha = alpha # критический уровень статистической значимости\n",
    "\n",
    "    successes = np.array([successes1, successes2])\n",
    "    trials = np.array([trials1, trials2])\n",
    "\n",
    "    # пропорция успехов в первой группе:\n",
    "    p1 = successes[0]/trials[0]\n",
    "\n",
    "    # пропорция успехов во второй группе:\n",
    "    p2 = successes[1]/trials[1]\n",
    "\n",
    "    # пропорция успехов в комбинированном датасете:\n",
    "    p_combined = (successes[0] + successes[1]) / (trials[0] + trials[1])\n",
    "\n",
    "    # разница пропорций в датасетах\n",
    "    difference = p1 - p2 \n",
    "    \n",
    "    # считаю статистику в ст.отклонениях стандартного нормального распределения\n",
    "    z_value = difference / mth.sqrt(p_combined * (1 - p_combined) * (1/trials[0] + 1/trials[1]))\n",
    "\n",
    "    # задаю стандартное нормальное распределение (среднее 0, ст.отклонение 1)\n",
    "    distr = st.norm(0, 1) \n",
    "    \n",
    "    p_value = (1 - distr.cdf(abs(z_value))) * 2\n",
    "\n",
    "    print('p-значение: ', p_value)\n",
    "\n",
    "    if p_value < alpha:\n",
    "        print('Отвергаем нулевую гипотезу: между долями есть значимая разница')\n",
    "    else:\n",
    "        print('Не получилось отвергнуть нулевую гипотезу, нет оснований считать доли разными') \n",
    "     "
   ]
  },
  {
   "cell_type": "code",
   "execution_count": 24,
   "metadata": {},
   "outputs": [
    {
     "name": "stdout",
     "output_type": "stream",
     "text": [
      "Подсчет долей события CartScreenAppear для групп 246,247,248:\n",
      "51.0\n",
      "49.3\n",
      "48.5\n",
      "\n",
      "Подсчет долей события MainScreenAppear для групп 246,247,248:\n",
      "98.7\n",
      "98.6\n",
      "98.3\n",
      "\n",
      "Подсчет долей события OffersScreenAppear для групп 246,247,248:\n",
      "62.1\n",
      "60.5\n",
      "60.4\n",
      "\n",
      "Подсчет долей события PaymentScreenSuccessful для групп 246,247,248:\n",
      "62.1\n",
      "60.5\n",
      "60.4\n"
     ]
    }
   ],
   "source": [
    "list = [0,1,2]\n",
    "print('Подсчет долей события CartScreenAppear для групп 246,247,248:')\n",
    "for b in list:\n",
    "    print(round(multi_user.iloc[b,0]/multi_user.iloc[b,4] * 100,1))\n",
    "\n",
    "print()\n",
    "print('Подсчет долей события MainScreenAppear для групп 246,247,248:')\n",
    "for b in list:\n",
    "    print(round(multi_user.iloc[b,1]/multi_user.iloc[b,4] * 100,1))\n",
    "    \n",
    "print()\n",
    "print('Подсчет долей события OffersScreenAppear для групп 246,247,248:')\n",
    "for b in list:\n",
    "    print(round(multi_user.iloc[b,2]/multi_user.iloc[b,4] * 100,1)) \n",
    "    \n",
    "print()\n",
    "print('Подсчет долей события PaymentScreenSuccessful для групп 246,247,248:')\n",
    "for b in list:\n",
    "    print(round(multi_user.iloc[b,2]/multi_user.iloc[b,4] * 100,1))  "
   ]
  },
  {
   "cell_type": "markdown",
   "metadata": {},
   "source": [
    "Отдельно посчитали долю пользователей, совершивших эти события для каждой группы. Вы итоге получилось, что самая большая доля пользователей для каждой группы у события MainScreenAppear, а самая маленькая доля пользователей для каждой группы у события CartScreenAppear."
   ]
  },
  {
   "cell_type": "markdown",
   "metadata": {},
   "source": [
    "Самое популрное событие это MainScreenAppear."
   ]
  },
  {
   "cell_type": "code",
   "execution_count": 25,
   "metadata": {},
   "outputs": [
    {
     "data": {
      "text/html": [
       "<div>\n",
       "<style scoped>\n",
       "    .dataframe tbody tr th:only-of-type {\n",
       "        vertical-align: middle;\n",
       "    }\n",
       "\n",
       "    .dataframe tbody tr th {\n",
       "        vertical-align: top;\n",
       "    }\n",
       "\n",
       "    .dataframe thead th {\n",
       "        text-align: right;\n",
       "    }\n",
       "</style>\n",
       "<table border=\"1\" class=\"dataframe\">\n",
       "  <thead>\n",
       "    <tr style=\"text-align: right;\">\n",
       "      <th></th>\n",
       "      <th>CartScreenAppear</th>\n",
       "      <th>MainScreenAppear</th>\n",
       "      <th>OffersScreenAppear</th>\n",
       "      <th>PaymentScreenSuccessful</th>\n",
       "      <th>nunique</th>\n",
       "    </tr>\n",
       "    <tr>\n",
       "      <th>group</th>\n",
       "      <th></th>\n",
       "      <th></th>\n",
       "      <th></th>\n",
       "      <th></th>\n",
       "      <th></th>\n",
       "    </tr>\n",
       "  </thead>\n",
       "  <tbody>\n",
       "    <tr>\n",
       "      <th>246</th>\n",
       "      <td>1266</td>\n",
       "      <td>2450</td>\n",
       "      <td>1542</td>\n",
       "      <td>1200</td>\n",
       "      <td>2483</td>\n",
       "    </tr>\n",
       "    <tr>\n",
       "      <th>247</th>\n",
       "      <td>1238</td>\n",
       "      <td>2476</td>\n",
       "      <td>1520</td>\n",
       "      <td>1158</td>\n",
       "      <td>2512</td>\n",
       "    </tr>\n",
       "    <tr>\n",
       "      <th>248</th>\n",
       "      <td>1230</td>\n",
       "      <td>2493</td>\n",
       "      <td>1531</td>\n",
       "      <td>1181</td>\n",
       "      <td>2535</td>\n",
       "    </tr>\n",
       "  </tbody>\n",
       "</table>\n",
       "</div>"
      ],
      "text/plain": [
       "       CartScreenAppear  MainScreenAppear  OffersScreenAppear  \\\n",
       "group                                                           \n",
       "246                1266              2450                1542   \n",
       "247                1238              2476                1520   \n",
       "248                1230              2493                1531   \n",
       "\n",
       "       PaymentScreenSuccessful  nunique  \n",
       "group                                    \n",
       "246                       1200     2483  \n",
       "247                       1158     2512  \n",
       "248                       1181     2535  "
      ]
     },
     "execution_count": 25,
     "metadata": {},
     "output_type": "execute_result"
    }
   ],
   "source": [
    "multi_user"
   ]
  },
  {
   "cell_type": "code",
   "execution_count": 26,
   "metadata": {},
   "outputs": [
    {
     "name": "stdout",
     "output_type": "stream",
     "text": [
      "Проверка гипотезы о равенстве долей для события MainScreenAppear между группами 246 и 247\n",
      "p-значение:  0.7526703436483038\n",
      "Не получилось отвергнуть нулевую гипотезу, нет оснований считать доли разными\n",
      "\n",
      "\n",
      "Проверка гипотезы о равенстве долей для события CartScreenAppear между группами 246 и 247\n",
      "p-значение:  0.22867643757335676\n",
      "Не получилось отвергнуть нулевую гипотезу, нет оснований считать доли разными\n",
      "\n",
      "\n",
      "Проверка гипотезы о равенстве долей для события OffersScreenAppear между группами 246 и 247\n",
      "p-значение:  0.24786096925282264\n",
      "Не получилось отвергнуть нулевую гипотезу, нет оснований считать доли разными\n",
      "\n",
      "\n",
      "Проверка гипотезы о равенстве долей для события PaymentScreenSuccessful между группами 246 и 247\n",
      "p-значение:  0.11446627829276612\n",
      "Не получилось отвергнуть нулевую гипотезу, нет оснований считать доли разными\n",
      "\n",
      "\n"
     ]
    }
   ],
   "source": [
    "event_list = [1,0,2,3]\n",
    "for i in event_list:\n",
    "    print('Проверка гипотезы о равенстве долей для события',users_event.columns[i],'между группами 246 и 247')\n",
    "    group_stat(multi_user.iloc[0,i],\n",
    "           multi_user.iloc[1,i],\n",
    "           multi_user.iloc[0,4],\n",
    "           multi_user.iloc[1,4],0.05)    \n",
    "    print()\n",
    "    print()"
   ]
  },
  {
   "cell_type": "markdown",
   "metadata": {},
   "source": [
    "<b>Ни в одной из проверок не удалось отвергнуть нулевую гипотезу и поэтому нет оснований считать доли разными. Поэтому можно сказать, что разбиение на группы работает корректно."
   ]
  },
  {
   "cell_type": "code",
   "execution_count": 27,
   "metadata": {},
   "outputs": [
    {
     "name": "stdout",
     "output_type": "stream",
     "text": [
      "Проверка гипотезы о равенстве долей для события MainScreenAppear между группами 246 и 248\n",
      "p-значение:  0.3387114076159288\n",
      "Не получилось отвергнуть нулевую гипотезу, нет оснований считать доли разными\n",
      "\n",
      "\n",
      "Проверка гипотезы о равенстве долей для события CartScreenAppear между группами 246 и 248\n",
      "p-значение:  0.08067367598823139\n",
      "Не получилось отвергнуть нулевую гипотезу, нет оснований считать доли разными\n",
      "\n",
      "\n",
      "Проверка гипотезы о равенстве долей для события OffersScreenAppear между группами 246 и 248\n",
      "p-значение:  0.21442476639710506\n",
      "Не получилось отвергнуть нулевую гипотезу, нет оснований считать доли разными\n",
      "\n",
      "\n",
      "Проверка гипотезы о равенстве долей для события PaymentScreenSuccessful между группами 246 и 248\n",
      "p-значение:  0.21693033984516674\n",
      "Не получилось отвергнуть нулевую гипотезу, нет оснований считать доли разными\n",
      "\n",
      "\n"
     ]
    }
   ],
   "source": [
    "for i in event_list:\n",
    "    print('Проверка гипотезы о равенстве долей для события',users_event.columns[i],'между группами 246 и 248')\n",
    "    group_stat(multi_user.iloc[0,i],\n",
    "           multi_user.iloc[2,i],\n",
    "           multi_user.iloc[0,4],\n",
    "           multi_user.iloc[2,4],0.05)    \n",
    "    print()\n",
    "    print()"
   ]
  },
  {
   "cell_type": "markdown",
   "metadata": {},
   "source": [
    "<b>При проверке разницы долей между контрольной группой 246 и экспериментальной группой 248 в отдельности по каждому событию, разницы между долями не были обнаружены."
   ]
  },
  {
   "cell_type": "code",
   "execution_count": 28,
   "metadata": {},
   "outputs": [
    {
     "name": "stdout",
     "output_type": "stream",
     "text": [
      "Проверка гипотезы о равенстве долей для события MainScreenAppear между группами 247 и 248\n",
      "p-значение:  0.5194964354051703\n",
      "Не получилось отвергнуть нулевую гипотезу, нет оснований считать доли разными\n",
      "\n",
      "\n",
      "Проверка гипотезы о равенстве долей для события CartScreenAppear между группами 247 и 248\n",
      "p-значение:  0.5878284605111943\n",
      "Не получилось отвергнуть нулевую гипотезу, нет оснований считать доли разными\n",
      "\n",
      "\n",
      "Проверка гипотезы о равенстве долей для события OffersScreenAppear между группами 247 и 248\n",
      "p-значение:  0.9333751305879443\n",
      "Не получилось отвергнуть нулевую гипотезу, нет оснований считать доли разными\n",
      "\n",
      "\n",
      "Проверка гипотезы о равенстве долей для события PaymentScreenSuccessful между группами 247 и 248\n",
      "p-значение:  0.7275718682261119\n",
      "Не получилось отвергнуть нулевую гипотезу, нет оснований считать доли разными\n",
      "\n",
      "\n"
     ]
    }
   ],
   "source": [
    "for i in event_list:\n",
    "    print('Проверка гипотезы о равенстве долей для события',users_event.columns[i],'между группами 247 и 248')\n",
    "    group_stat(multi_user.iloc[1,i],\n",
    "           multi_user.iloc[2,i],\n",
    "           multi_user.iloc[1,4],\n",
    "           multi_user.iloc[2,4],0.05)    \n",
    "    print()\n",
    "    print()"
   ]
  },
  {
   "cell_type": "markdown",
   "metadata": {},
   "source": [
    "<b>При проверке разницы долей между контрольной группой 247 и экспериментальной группой 248 в отдельности по каждому событию, разницы между долями не были обнаружены."
   ]
  },
  {
   "cell_type": "markdown",
   "metadata": {},
   "source": [
    "Суммируем группы 246 и 247."
   ]
  },
  {
   "cell_type": "code",
   "execution_count": 29,
   "metadata": {},
   "outputs": [
    {
     "data": {
      "text/html": [
       "<div>\n",
       "<style scoped>\n",
       "    .dataframe tbody tr th:only-of-type {\n",
       "        vertical-align: middle;\n",
       "    }\n",
       "\n",
       "    .dataframe tbody tr th {\n",
       "        vertical-align: top;\n",
       "    }\n",
       "\n",
       "    .dataframe thead th {\n",
       "        text-align: right;\n",
       "    }\n",
       "</style>\n",
       "<table border=\"1\" class=\"dataframe\">\n",
       "  <thead>\n",
       "    <tr style=\"text-align: right;\">\n",
       "      <th></th>\n",
       "      <th>CartScreenAppear</th>\n",
       "      <th>MainScreenAppear</th>\n",
       "      <th>OffersScreenAppear</th>\n",
       "      <th>PaymentScreenSuccessful</th>\n",
       "      <th>nunique</th>\n",
       "    </tr>\n",
       "    <tr>\n",
       "      <th>group</th>\n",
       "      <th></th>\n",
       "      <th></th>\n",
       "      <th></th>\n",
       "      <th></th>\n",
       "      <th></th>\n",
       "    </tr>\n",
       "  </thead>\n",
       "  <tbody>\n",
       "    <tr>\n",
       "      <th>246</th>\n",
       "      <td>1266</td>\n",
       "      <td>2450</td>\n",
       "      <td>1542</td>\n",
       "      <td>1200</td>\n",
       "      <td>2483</td>\n",
       "    </tr>\n",
       "    <tr>\n",
       "      <th>247</th>\n",
       "      <td>1238</td>\n",
       "      <td>2476</td>\n",
       "      <td>1520</td>\n",
       "      <td>1158</td>\n",
       "      <td>2512</td>\n",
       "    </tr>\n",
       "    <tr>\n",
       "      <th>248</th>\n",
       "      <td>1230</td>\n",
       "      <td>2493</td>\n",
       "      <td>1531</td>\n",
       "      <td>1181</td>\n",
       "      <td>2535</td>\n",
       "    </tr>\n",
       "    <tr>\n",
       "      <th>246&amp;247</th>\n",
       "      <td>2504</td>\n",
       "      <td>4926</td>\n",
       "      <td>3062</td>\n",
       "      <td>2358</td>\n",
       "      <td>4995</td>\n",
       "    </tr>\n",
       "  </tbody>\n",
       "</table>\n",
       "</div>"
      ],
      "text/plain": [
       "         CartScreenAppear  MainScreenAppear  OffersScreenAppear  \\\n",
       "group                                                             \n",
       "246                  1266              2450                1542   \n",
       "247                  1238              2476                1520   \n",
       "248                  1230              2493                1531   \n",
       "246&247              2504              4926                3062   \n",
       "\n",
       "         PaymentScreenSuccessful  nunique  \n",
       "group                                      \n",
       "246                         1200     2483  \n",
       "247                         1158     2512  \n",
       "248                         1181     2535  \n",
       "246&247                     2358     4995  "
      ]
     },
     "metadata": {},
     "output_type": "display_data"
    }
   ],
   "source": [
    "multi_user.loc['246&247'] = multi_user.iloc[:2].sum(axis=0)\n",
    "display(multi_user)"
   ]
  },
  {
   "cell_type": "code",
   "execution_count": 30,
   "metadata": {},
   "outputs": [
    {
     "name": "stdout",
     "output_type": "stream",
     "text": [
      "Проверка гипотезы о равенстве долей для события MainScreenAppear между группами 246&247 и 248\n",
      "p-значение:  0.3486684291093256\n",
      "Не получилось отвергнуть нулевую гипотезу, нет оснований считать доли разными\n",
      "\n",
      "\n",
      "Проверка гипотезы о равенстве долей для события CartScreenAppear между группами 246&247 и 248\n",
      "p-значение:  0.18683558686831558\n",
      "Не получилось отвергнуть нулевую гипотезу, нет оснований считать доли разными\n",
      "\n",
      "\n",
      "Проверка гипотезы о равенстве долей для события OffersScreenAppear между группами 246&247 и 248\n",
      "p-значение:  0.44582745409482394\n",
      "Не получилось отвергнуть нулевую гипотезу, нет оснований считать доли разными\n",
      "\n",
      "\n",
      "Проверка гипотезы о равенстве долей для события PaymentScreenSuccessful между группами 246&247 и 248\n",
      "p-значение:  0.6107918742187335\n",
      "Не получилось отвергнуть нулевую гипотезу, нет оснований считать доли разными\n",
      "\n",
      "\n"
     ]
    }
   ],
   "source": [
    "for i in event_list:\n",
    "    print('Проверка гипотезы о равенстве долей для события',users_event.columns[i],'между группами 246&247 и 248')\n",
    "    group_stat(multi_user.iloc[3,i],\n",
    "           multi_user.iloc[2,i],\n",
    "           multi_user.iloc[3,4],\n",
    "           multi_user.iloc[2,4],0.05)    \n",
    "    print()\n",
    "    print()"
   ]
  },
  {
   "cell_type": "markdown",
   "metadata": {},
   "source": [
    "<b>Так же при проверке разницы долей между суммой контрольных групп 246&247 и экспериментальной группой 248 в отдельности по каждому событию, разницы между долями не были обнаружены."
   ]
  },
  {
   "cell_type": "markdown",
   "metadata": {},
   "source": [
    "Вывод из экспиремента: После проведения A/A/B теста, значимой разницы между долями не было обнаружено. Поэтому тест можно признать успешным, так как оснвоной целью было узнать не отпугнет ли новый шрифт пользователей."
   ]
  },
  {
   "cell_type": "markdown",
   "metadata": {},
   "source": [
    "<b>При проверке статистических гипотез, я выбрал уровень знаимости равный 0.05 и при таком уровне значимости каждый двацатый раз можно получить ложный результат. А я сделал 16 проверок статистических гипотез. Поэтому предполагаю, что все ннормально, и ошибок быть не должно."
   ]
  },
  {
   "cell_type": "code",
   "execution_count": 31,
   "metadata": {},
   "outputs": [
    {
     "name": "stdout",
     "output_type": "stream",
     "text": [
      "Проверка гипотезы о равенстве долей для события MainScreenAppear между группами 247 и 248\n",
      "p-значение:  0.5194964354051703\n",
      "Не получилось отвергнуть нулевую гипотезу, нет оснований считать доли разными\n",
      "\n",
      "\n",
      "Проверка гипотезы о равенстве долей для события CartScreenAppear между группами 247 и 248\n",
      "p-значение:  0.5878284605111943\n",
      "Не получилось отвергнуть нулевую гипотезу, нет оснований считать доли разными\n",
      "\n",
      "\n",
      "Проверка гипотезы о равенстве долей для события OffersScreenAppear между группами 247 и 248\n",
      "p-значение:  0.9333751305879443\n",
      "Не получилось отвергнуть нулевую гипотезу, нет оснований считать доли разными\n",
      "\n",
      "\n",
      "Проверка гипотезы о равенстве долей для события PaymentScreenSuccessful между группами 247 и 248\n",
      "p-значение:  0.7275718682261119\n",
      "Не получилось отвергнуть нулевую гипотезу, нет оснований считать доли разными\n",
      "\n",
      "\n",
      "Проверка гипотезы о равенстве долей для события MainScreenAppear между группами 246&247 и 248\n",
      "p-значение:  0.3486684291093256\n",
      "Не получилось отвергнуть нулевую гипотезу, нет оснований считать доли разными\n",
      "\n",
      "\n",
      "Проверка гипотезы о равенстве долей для события CartScreenAppear между группами 246&247 и 248\n",
      "p-значение:  0.18683558686831558\n",
      "Не получилось отвергнуть нулевую гипотезу, нет оснований считать доли разными\n",
      "\n",
      "\n",
      "Проверка гипотезы о равенстве долей для события OffersScreenAppear между группами 246&247 и 248\n",
      "p-значение:  0.44582745409482394\n",
      "Не получилось отвергнуть нулевую гипотезу, нет оснований считать доли разными\n",
      "\n",
      "\n",
      "Проверка гипотезы о равенстве долей для события PaymentScreenSuccessful между группами 246&247 и 248\n",
      "p-значение:  0.6107918742187335\n",
      "Не получилось отвергнуть нулевую гипотезу, нет оснований считать доли разными\n",
      "\n",
      "\n"
     ]
    }
   ],
   "source": [
    "for i in event_list:\n",
    "    print('Проверка гипотезы о равенстве долей для события',users_event.columns[i],'между группами 247 и 248')\n",
    "    group_stat(multi_user.iloc[1,i],\n",
    "           multi_user.iloc[2,i],\n",
    "           multi_user.iloc[1,4],\n",
    "           multi_user.iloc[2,4],0.01)    \n",
    "    print()\n",
    "    print()\n",
    "\n",
    "\n",
    "\n",
    "for i in event_list:\n",
    "    print('Проверка гипотезы о равенстве долей для события',users_event.columns[i],'между группами 246&247 и 248')\n",
    "    group_stat(multi_user.iloc[3,i],\n",
    "           multi_user.iloc[2,i],\n",
    "           multi_user.iloc[3,4],\n",
    "           multi_user.iloc[2,4],0.01)    \n",
    "    print()\n",
    "    print()"
   ]
  },
  {
   "cell_type": "markdown",
   "metadata": {},
   "source": [
    "# Вывод"
   ]
  },
  {
   "cell_type": "markdown",
   "metadata": {},
   "source": [
    "В ходе проектной работы, сначала я подготовил данные для анализа. Поменял названия столбцов, избавился от дубликатов и изменил тип данных, где это было нужно. Других ошибок не было найдено.\n",
    "\n",
    "Затем я изучил и проверил данные. Окалось, что данные до 2019-08-01 не несут никакой информации, поэтому я отбросил их. Отброшенных данных по событиям в логе в было 1.2 %, а отброшенных данных по пользователям в логе было 0.2 %, что очень очень мало и не критично для дальнейшего анализа данных.\n",
    "\n",
    "Потом я сделал воронку событий, для начала я посчитал сколько пользователей совершали каждое из событий. Самое большое количество пользователей у события MainScreenAppear (7419) и самое маленькое количество пользователей у события Tutorial (840). Также посчитал долю пользователей, которые хоть раз совершали событие. Событие MainScreenAppear совершали почти 100% пользователей (98,47%). Так же около 1.5 % миновало главный экран, возможно это связано с тем, что после обучения, им не захотелось дальше пользоваться приложением. Так же для дальнейшего расчета воронки, я отбросил данные события Tutorial (руководство/инструкция). Потому что это событие ,скорее всего, большинство людей пропускало. Дальше при построении воронки обнаружил, что больше всего людей теряется с шага 'MainScreenAppear' на 'OffersScreenAppear'. Теряется 38.2%. А доля пользователей которые доходят от первого события до оплаты составляет 47.7 %.\n",
    "\n",
    "В конце я изучил результаты A/A/B теста. Значение alpha я принял за 0,05. И пользовался z-тестом (z-критерий Фишера). После проверки гипотез для всех 16 тестов, не было основанний считать доли разными. При проверке со статистической значимостью 0.01, так же все тесты показали, что нулевая гипотеза верна. Поэтому по итогу эксперимент можно считать успешным, так как основной целью было сохранить пользователей после изменения шрифта."
   ]
  }
 ],
 "metadata": {
  "ExecuteTimeLog": [
   {
    "duration": 1391,
    "start_time": "2023-07-11T15:30:38.110Z"
   },
   {
    "duration": 848,
    "start_time": "2023-07-11T15:31:31.619Z"
   },
   {
    "duration": 357,
    "start_time": "2023-07-11T15:31:35.491Z"
   },
   {
    "duration": 303,
    "start_time": "2023-07-11T15:31:48.430Z"
   },
   {
    "duration": 306,
    "start_time": "2023-07-11T15:31:59.062Z"
   },
   {
    "duration": 318,
    "start_time": "2023-07-11T15:32:03.351Z"
   },
   {
    "duration": 313,
    "start_time": "2023-07-11T15:32:09.758Z"
   },
   {
    "duration": 186,
    "start_time": "2023-07-11T15:34:07.319Z"
   },
   {
    "duration": 22,
    "start_time": "2023-07-11T15:39:12.570Z"
   },
   {
    "duration": 3,
    "start_time": "2023-07-11T15:43:44.704Z"
   },
   {
    "duration": 23,
    "start_time": "2023-07-11T15:45:29.201Z"
   },
   {
    "duration": 16,
    "start_time": "2023-07-11T15:47:32.970Z"
   },
   {
    "duration": 76,
    "start_time": "2023-07-11T15:47:45.127Z"
   },
   {
    "duration": 70,
    "start_time": "2023-07-11T15:47:50.868Z"
   },
   {
    "duration": 69,
    "start_time": "2023-07-11T15:49:24.515Z"
   },
   {
    "duration": 55,
    "start_time": "2023-07-11T15:52:40.911Z"
   },
   {
    "duration": 57,
    "start_time": "2023-07-11T15:52:49.512Z"
   },
   {
    "duration": 55,
    "start_time": "2023-07-11T15:53:10.750Z"
   },
   {
    "duration": 52,
    "start_time": "2023-07-11T15:53:42.739Z"
   },
   {
    "duration": 37,
    "start_time": "2023-07-11T15:54:21.753Z"
   },
   {
    "duration": 68,
    "start_time": "2023-07-11T15:54:28.226Z"
   },
   {
    "duration": 107,
    "start_time": "2023-07-11T15:55:39.752Z"
   },
   {
    "duration": 11,
    "start_time": "2023-07-11T15:56:05.644Z"
   },
   {
    "duration": 9,
    "start_time": "2023-07-11T15:56:28.723Z"
   },
   {
    "duration": 84,
    "start_time": "2023-07-11T15:56:40.026Z"
   },
   {
    "duration": 4,
    "start_time": "2023-07-11T15:58:52.637Z"
   },
   {
    "duration": 11,
    "start_time": "2023-07-11T15:58:59.316Z"
   },
   {
    "duration": 9,
    "start_time": "2023-07-11T15:59:08.910Z"
   },
   {
    "duration": 38,
    "start_time": "2023-07-11T16:00:38.923Z"
   },
   {
    "duration": 12,
    "start_time": "2023-07-11T16:01:17.220Z"
   },
   {
    "duration": 13,
    "start_time": "2023-07-11T16:01:23.666Z"
   },
   {
    "duration": 24,
    "start_time": "2023-07-11T16:01:46.592Z"
   },
   {
    "duration": 83,
    "start_time": "2023-07-11T16:01:52.638Z"
   },
   {
    "duration": 86,
    "start_time": "2023-07-11T16:02:02.104Z"
   },
   {
    "duration": 85,
    "start_time": "2023-07-11T16:02:09.294Z"
   },
   {
    "duration": 193,
    "start_time": "2023-07-11T16:04:03.684Z"
   },
   {
    "duration": 86,
    "start_time": "2023-07-11T16:04:28.157Z"
   },
   {
    "duration": 83,
    "start_time": "2023-07-11T16:04:32.112Z"
   },
   {
    "duration": 81,
    "start_time": "2023-07-11T16:06:42.541Z"
   },
   {
    "duration": 475,
    "start_time": "2023-07-11T16:08:57.797Z"
   },
   {
    "duration": 419,
    "start_time": "2023-07-11T16:09:12.755Z"
   },
   {
    "duration": 429,
    "start_time": "2023-07-11T16:09:42.374Z"
   },
   {
    "duration": 408,
    "start_time": "2023-07-11T16:10:08.744Z"
   },
   {
    "duration": 1214,
    "start_time": "2023-07-11T16:10:17.219Z"
   },
   {
    "duration": 182,
    "start_time": "2023-07-11T16:10:18.435Z"
   },
   {
    "duration": 25,
    "start_time": "2023-07-11T16:10:18.619Z"
   },
   {
    "duration": 69,
    "start_time": "2023-07-11T16:10:18.654Z"
   },
   {
    "duration": 107,
    "start_time": "2023-07-11T16:10:18.726Z"
   },
   {
    "duration": 200,
    "start_time": "2023-07-11T16:10:18.835Z"
   },
   {
    "duration": 666,
    "start_time": "2023-07-11T16:11:39.273Z"
   },
   {
    "duration": 1185,
    "start_time": "2023-07-11T16:11:48.346Z"
   },
   {
    "duration": 191,
    "start_time": "2023-07-11T16:11:49.534Z"
   },
   {
    "duration": 34,
    "start_time": "2023-07-11T16:11:49.727Z"
   },
   {
    "duration": 119,
    "start_time": "2023-07-11T16:11:49.763Z"
   },
   {
    "duration": 0,
    "start_time": "2023-07-11T16:11:49.883Z"
   },
   {
    "duration": 0,
    "start_time": "2023-07-11T16:11:49.884Z"
   },
   {
    "duration": 11,
    "start_time": "2023-07-11T16:12:04.973Z"
   },
   {
    "duration": 15,
    "start_time": "2023-07-11T16:12:14.054Z"
   },
   {
    "duration": 69,
    "start_time": "2023-07-11T16:12:42.503Z"
   },
   {
    "duration": 132,
    "start_time": "2023-07-11T16:13:49.902Z"
   },
   {
    "duration": 1190,
    "start_time": "2023-07-11T16:14:14.442Z"
   },
   {
    "duration": 4,
    "start_time": "2023-07-11T16:14:30.653Z"
   },
   {
    "duration": 1314,
    "start_time": "2023-07-11T16:14:32.774Z"
   },
   {
    "duration": 1118,
    "start_time": "2023-07-11T16:14:53.285Z"
   },
   {
    "duration": 1211,
    "start_time": "2023-07-11T16:15:00.741Z"
   },
   {
    "duration": 1155,
    "start_time": "2023-07-11T16:15:09.101Z"
   },
   {
    "duration": 187,
    "start_time": "2023-07-11T16:15:10.258Z"
   },
   {
    "duration": 27,
    "start_time": "2023-07-11T16:15:10.447Z"
   },
   {
    "duration": 544,
    "start_time": "2023-07-11T16:15:10.476Z"
   },
   {
    "duration": 0,
    "start_time": "2023-07-11T16:15:11.022Z"
   },
   {
    "duration": 0,
    "start_time": "2023-07-11T16:15:11.023Z"
   },
   {
    "duration": 510,
    "start_time": "2023-07-11T16:16:30.998Z"
   },
   {
    "duration": 504,
    "start_time": "2023-07-11T16:16:42.905Z"
   },
   {
    "duration": 564,
    "start_time": "2023-07-11T16:17:34.274Z"
   },
   {
    "duration": 1281,
    "start_time": "2023-07-11T16:18:06.310Z"
   },
   {
    "duration": 1263,
    "start_time": "2023-07-11T16:18:14.373Z"
   },
   {
    "duration": 195,
    "start_time": "2023-07-11T16:18:15.638Z"
   },
   {
    "duration": 45,
    "start_time": "2023-07-11T16:18:15.836Z"
   },
   {
    "duration": 90,
    "start_time": "2023-07-11T16:18:15.883Z"
   },
   {
    "duration": 94,
    "start_time": "2023-07-11T16:18:15.976Z"
   },
   {
    "duration": 204,
    "start_time": "2023-07-11T16:18:16.072Z"
   },
   {
    "duration": 398,
    "start_time": "2023-07-11T16:21:31.822Z"
   },
   {
    "duration": 395,
    "start_time": "2023-07-11T16:22:37.638Z"
   },
   {
    "duration": 1242,
    "start_time": "2023-07-11T16:22:54.738Z"
   },
   {
    "duration": 185,
    "start_time": "2023-07-11T16:22:55.982Z"
   },
   {
    "duration": 26,
    "start_time": "2023-07-11T16:22:56.170Z"
   },
   {
    "duration": 86,
    "start_time": "2023-07-11T16:22:56.198Z"
   },
   {
    "duration": 100,
    "start_time": "2023-07-11T16:22:56.286Z"
   },
   {
    "duration": 237,
    "start_time": "2023-07-11T16:22:56.388Z"
   },
   {
    "duration": 419,
    "start_time": "2023-07-11T16:25:12.185Z"
   },
   {
    "duration": 1255,
    "start_time": "2023-07-11T16:25:17.770Z"
   },
   {
    "duration": 195,
    "start_time": "2023-07-11T16:25:19.028Z"
   },
   {
    "duration": 42,
    "start_time": "2023-07-11T16:25:19.226Z"
   },
   {
    "duration": 82,
    "start_time": "2023-07-11T16:25:19.272Z"
   },
   {
    "duration": 109,
    "start_time": "2023-07-11T16:25:19.356Z"
   },
   {
    "duration": 193,
    "start_time": "2023-07-11T16:25:19.466Z"
   },
   {
    "duration": 568,
    "start_time": "2023-07-11T16:27:36.846Z"
   },
   {
    "duration": 1177,
    "start_time": "2023-07-11T16:27:45.418Z"
   },
   {
    "duration": 213,
    "start_time": "2023-07-11T16:27:46.598Z"
   },
   {
    "duration": 22,
    "start_time": "2023-07-11T16:27:46.813Z"
   },
   {
    "duration": 49,
    "start_time": "2023-07-11T16:27:46.836Z"
   },
   {
    "duration": 98,
    "start_time": "2023-07-11T16:27:46.887Z"
   },
   {
    "duration": 122,
    "start_time": "2023-07-11T16:27:46.987Z"
   },
   {
    "duration": 12,
    "start_time": "2023-07-11T16:28:12.235Z"
   },
   {
    "duration": 153,
    "start_time": "2023-07-11T16:28:34.615Z"
   },
   {
    "duration": 133,
    "start_time": "2023-07-11T16:29:10.299Z"
   },
   {
    "duration": 41,
    "start_time": "2023-07-11T16:31:31.519Z"
   },
   {
    "duration": 9,
    "start_time": "2023-07-11T16:31:41.287Z"
   },
   {
    "duration": 35,
    "start_time": "2023-07-11T16:32:48.276Z"
   },
   {
    "duration": 38,
    "start_time": "2023-07-11T16:32:56.788Z"
   },
   {
    "duration": 45,
    "start_time": "2023-07-11T16:33:50.169Z"
   },
   {
    "duration": 8,
    "start_time": "2023-07-11T16:37:08.511Z"
   },
   {
    "duration": 126,
    "start_time": "2023-07-11T16:38:01.195Z"
   },
   {
    "duration": 103,
    "start_time": "2023-07-11T16:38:05.102Z"
   },
   {
    "duration": 339,
    "start_time": "2023-07-11T16:39:21.999Z"
   },
   {
    "duration": 331,
    "start_time": "2023-07-11T16:39:35.270Z"
   },
   {
    "duration": 309,
    "start_time": "2023-07-11T16:39:41.931Z"
   },
   {
    "duration": 105,
    "start_time": "2023-07-11T16:39:44.097Z"
   },
   {
    "duration": 327,
    "start_time": "2023-07-11T16:40:30.950Z"
   },
   {
    "duration": 1123,
    "start_time": "2023-07-11T16:40:37.814Z"
   },
   {
    "duration": 188,
    "start_time": "2023-07-11T16:40:38.939Z"
   },
   {
    "duration": 33,
    "start_time": "2023-07-11T16:40:39.128Z"
   },
   {
    "duration": 34,
    "start_time": "2023-07-11T16:40:39.167Z"
   },
   {
    "duration": 268,
    "start_time": "2023-07-11T16:40:39.203Z"
   },
   {
    "duration": 93,
    "start_time": "2023-07-11T16:40:39.473Z"
   },
   {
    "duration": 7,
    "start_time": "2023-07-11T16:40:39.568Z"
   },
   {
    "duration": 603,
    "start_time": "2023-07-11T16:41:30.034Z"
   },
   {
    "duration": 1270,
    "start_time": "2023-07-11T16:41:34.999Z"
   },
   {
    "duration": 221,
    "start_time": "2023-07-11T16:41:36.279Z"
   },
   {
    "duration": 23,
    "start_time": "2023-07-11T16:41:36.501Z"
   },
   {
    "duration": 2095,
    "start_time": "2023-07-11T16:41:36.527Z"
   },
   {
    "duration": 0,
    "start_time": "2023-07-11T16:41:38.624Z"
   },
   {
    "duration": 0,
    "start_time": "2023-07-11T16:41:38.625Z"
   },
   {
    "duration": 0,
    "start_time": "2023-07-11T16:41:38.626Z"
   },
   {
    "duration": 51,
    "start_time": "2023-07-11T16:41:49.499Z"
   },
   {
    "duration": 1294,
    "start_time": "2023-07-11T16:42:00.103Z"
   },
   {
    "duration": 211,
    "start_time": "2023-07-11T16:42:01.400Z"
   },
   {
    "duration": 22,
    "start_time": "2023-07-11T16:42:01.613Z"
   },
   {
    "duration": 106,
    "start_time": "2023-07-11T16:42:01.637Z"
   },
   {
    "duration": 248,
    "start_time": "2023-07-11T16:42:01.745Z"
   },
   {
    "duration": 105,
    "start_time": "2023-07-11T16:42:01.995Z"
   },
   {
    "duration": 9,
    "start_time": "2023-07-11T16:42:02.102Z"
   },
   {
    "duration": 607,
    "start_time": "2023-07-11T16:42:22.316Z"
   },
   {
    "duration": 1266,
    "start_time": "2023-07-11T16:42:29.410Z"
   },
   {
    "duration": 218,
    "start_time": "2023-07-11T16:42:30.679Z"
   },
   {
    "duration": 24,
    "start_time": "2023-07-11T16:42:30.898Z"
   },
   {
    "duration": 80,
    "start_time": "2023-07-11T16:42:30.924Z"
   },
   {
    "duration": 241,
    "start_time": "2023-07-11T16:42:31.007Z"
   },
   {
    "duration": 105,
    "start_time": "2023-07-11T16:42:31.250Z"
   },
   {
    "duration": 23,
    "start_time": "2023-07-11T16:42:31.357Z"
   },
   {
    "duration": 33,
    "start_time": "2023-07-11T16:43:37.571Z"
   },
   {
    "duration": 28,
    "start_time": "2023-07-11T16:43:50.207Z"
   },
   {
    "duration": 31,
    "start_time": "2023-07-11T16:43:56.333Z"
   },
   {
    "duration": 27,
    "start_time": "2023-07-11T16:44:49.054Z"
   },
   {
    "duration": 111,
    "start_time": "2023-07-11T16:49:43.089Z"
   },
   {
    "duration": 34,
    "start_time": "2023-07-11T16:49:49.753Z"
   },
   {
    "duration": 32,
    "start_time": "2023-07-11T16:49:59.629Z"
   },
   {
    "duration": 34,
    "start_time": "2023-07-11T16:50:05.553Z"
   },
   {
    "duration": 49,
    "start_time": "2023-07-11T16:50:43.894Z"
   },
   {
    "duration": 349,
    "start_time": "2023-07-11T16:51:07.062Z"
   },
   {
    "duration": 235,
    "start_time": "2023-07-11T16:51:56.545Z"
   },
   {
    "duration": 242,
    "start_time": "2023-07-11T16:52:03.262Z"
   },
   {
    "duration": 215,
    "start_time": "2023-07-11T16:52:05.992Z"
   },
   {
    "duration": 222,
    "start_time": "2023-07-11T16:52:09.390Z"
   },
   {
    "duration": 250,
    "start_time": "2023-07-11T16:52:23.442Z"
   },
   {
    "duration": 392,
    "start_time": "2023-07-11T16:53:01.118Z"
   },
   {
    "duration": 1295,
    "start_time": "2023-07-11T16:53:07.129Z"
   },
   {
    "duration": 291,
    "start_time": "2023-07-11T16:53:21.944Z"
   },
   {
    "duration": 387,
    "start_time": "2023-07-11T16:53:31.399Z"
   },
   {
    "duration": 270,
    "start_time": "2023-07-11T16:53:36.037Z"
   },
   {
    "duration": 294,
    "start_time": "2023-07-11T16:53:41.763Z"
   },
   {
    "duration": 13,
    "start_time": "2023-07-11T16:55:20.989Z"
   },
   {
    "duration": 60,
    "start_time": "2023-07-11T16:55:30.275Z"
   },
   {
    "duration": 40,
    "start_time": "2023-07-11T16:56:35.793Z"
   },
   {
    "duration": 25,
    "start_time": "2023-07-11T16:57:30.700Z"
   },
   {
    "duration": 25,
    "start_time": "2023-07-11T16:57:46.570Z"
   },
   {
    "duration": 30,
    "start_time": "2023-07-11T16:59:48.194Z"
   },
   {
    "duration": 28,
    "start_time": "2023-07-11T17:02:08.738Z"
   },
   {
    "duration": 31,
    "start_time": "2023-07-11T17:02:18.146Z"
   },
   {
    "duration": 1227,
    "start_time": "2023-07-11T17:02:24.068Z"
   },
   {
    "duration": 190,
    "start_time": "2023-07-11T17:02:25.297Z"
   },
   {
    "duration": 24,
    "start_time": "2023-07-11T17:02:25.489Z"
   },
   {
    "duration": 61,
    "start_time": "2023-07-11T17:02:25.515Z"
   },
   {
    "duration": 230,
    "start_time": "2023-07-11T17:02:25.577Z"
   },
   {
    "duration": 98,
    "start_time": "2023-07-11T17:02:25.809Z"
   },
   {
    "duration": 47,
    "start_time": "2023-07-11T17:02:25.908Z"
   },
   {
    "duration": 360,
    "start_time": "2023-07-11T17:02:25.957Z"
   },
   {
    "duration": 43,
    "start_time": "2023-07-11T17:02:26.319Z"
   },
   {
    "duration": 22,
    "start_time": "2023-07-11T17:03:56.157Z"
   },
   {
    "duration": 1132,
    "start_time": "2023-07-11T17:04:02.404Z"
   },
   {
    "duration": 190,
    "start_time": "2023-07-11T17:04:03.538Z"
   },
   {
    "duration": 34,
    "start_time": "2023-07-11T17:04:03.730Z"
   },
   {
    "duration": 44,
    "start_time": "2023-07-11T17:04:03.767Z"
   },
   {
    "duration": 227,
    "start_time": "2023-07-11T17:04:03.813Z"
   },
   {
    "duration": 101,
    "start_time": "2023-07-11T17:04:04.041Z"
   },
   {
    "duration": 43,
    "start_time": "2023-07-11T17:04:04.143Z"
   },
   {
    "duration": 445,
    "start_time": "2023-07-11T17:04:04.188Z"
   },
   {
    "duration": 38,
    "start_time": "2023-07-11T17:04:04.635Z"
   },
   {
    "duration": 21,
    "start_time": "2023-07-11T17:04:33.193Z"
   },
   {
    "duration": 1188,
    "start_time": "2023-07-11T17:04:37.921Z"
   },
   {
    "duration": 184,
    "start_time": "2023-07-11T17:04:39.111Z"
   },
   {
    "duration": 23,
    "start_time": "2023-07-11T17:04:39.297Z"
   },
   {
    "duration": 55,
    "start_time": "2023-07-11T17:04:39.322Z"
   },
   {
    "duration": 242,
    "start_time": "2023-07-11T17:04:39.379Z"
   },
   {
    "duration": 98,
    "start_time": "2023-07-11T17:04:39.623Z"
   },
   {
    "duration": 85,
    "start_time": "2023-07-11T17:04:39.723Z"
   },
   {
    "duration": 354,
    "start_time": "2023-07-11T17:04:39.810Z"
   },
   {
    "duration": 34,
    "start_time": "2023-07-11T17:04:40.166Z"
   },
   {
    "duration": 38,
    "start_time": "2023-07-11T17:05:39.992Z"
   },
   {
    "duration": 1183,
    "start_time": "2023-07-11T17:05:45.471Z"
   },
   {
    "duration": 189,
    "start_time": "2023-07-11T17:05:46.657Z"
   },
   {
    "duration": 27,
    "start_time": "2023-07-11T17:05:46.847Z"
   },
   {
    "duration": 41,
    "start_time": "2023-07-11T17:05:46.875Z"
   },
   {
    "duration": 238,
    "start_time": "2023-07-11T17:05:46.919Z"
   },
   {
    "duration": 98,
    "start_time": "2023-07-11T17:05:47.158Z"
   },
   {
    "duration": 44,
    "start_time": "2023-07-11T17:05:47.258Z"
   },
   {
    "duration": 449,
    "start_time": "2023-07-11T17:05:47.304Z"
   },
   {
    "duration": 44,
    "start_time": "2023-07-11T17:05:47.755Z"
   },
   {
    "duration": 1207,
    "start_time": "2023-07-11T17:06:06.995Z"
   },
   {
    "duration": 187,
    "start_time": "2023-07-11T17:06:08.204Z"
   },
   {
    "duration": 24,
    "start_time": "2023-07-11T17:06:08.393Z"
   },
   {
    "duration": 63,
    "start_time": "2023-07-11T17:06:08.420Z"
   },
   {
    "duration": 251,
    "start_time": "2023-07-11T17:06:08.485Z"
   },
   {
    "duration": 88,
    "start_time": "2023-07-11T17:06:08.738Z"
   },
   {
    "duration": 43,
    "start_time": "2023-07-11T17:06:08.828Z"
   },
   {
    "duration": 381,
    "start_time": "2023-07-11T17:06:08.873Z"
   },
   {
    "duration": 64,
    "start_time": "2023-07-11T17:06:09.256Z"
   },
   {
    "duration": 46,
    "start_time": "2023-07-11T17:07:08.995Z"
   },
   {
    "duration": 37,
    "start_time": "2023-07-11T17:07:20.447Z"
   },
   {
    "duration": 62,
    "start_time": "2023-07-11T17:07:26.853Z"
   },
   {
    "duration": 59,
    "start_time": "2023-07-11T17:08:06.213Z"
   },
   {
    "duration": 167,
    "start_time": "2023-07-11T17:11:21.254Z"
   },
   {
    "duration": 57,
    "start_time": "2023-07-11T17:11:45.594Z"
   },
   {
    "duration": 75,
    "start_time": "2023-07-11T17:11:52.599Z"
   },
   {
    "duration": 78,
    "start_time": "2023-07-11T17:13:42.863Z"
   },
   {
    "duration": 37,
    "start_time": "2023-07-11T17:16:22.947Z"
   },
   {
    "duration": 50,
    "start_time": "2023-07-11T17:16:27.250Z"
   },
   {
    "duration": 39,
    "start_time": "2023-07-11T17:26:00.752Z"
   },
   {
    "duration": 39,
    "start_time": "2023-07-11T17:26:06.209Z"
   },
   {
    "duration": 40,
    "start_time": "2023-07-11T17:26:09.828Z"
   },
   {
    "duration": 1858,
    "start_time": "2023-07-11T20:54:31.108Z"
   },
   {
    "duration": 1461,
    "start_time": "2023-07-11T20:54:32.968Z"
   },
   {
    "duration": 43,
    "start_time": "2023-07-11T20:54:34.436Z"
   },
   {
    "duration": 73,
    "start_time": "2023-07-11T20:54:34.485Z"
   },
   {
    "duration": 368,
    "start_time": "2023-07-11T20:54:34.560Z"
   },
   {
    "duration": 143,
    "start_time": "2023-07-11T20:54:34.935Z"
   },
   {
    "duration": 89,
    "start_time": "2023-07-11T20:54:35.083Z"
   },
   {
    "duration": 466,
    "start_time": "2023-07-11T20:54:35.177Z"
   },
   {
    "duration": 79,
    "start_time": "2023-07-11T20:54:35.649Z"
   },
   {
    "duration": 201,
    "start_time": "2023-07-11T20:55:48.938Z"
   },
   {
    "duration": 1868,
    "start_time": "2023-07-11T20:56:36.374Z"
   },
   {
    "duration": 274,
    "start_time": "2023-07-11T20:56:38.250Z"
   },
   {
    "duration": 36,
    "start_time": "2023-07-11T20:56:38.532Z"
   },
   {
    "duration": 122,
    "start_time": "2023-07-11T20:56:38.579Z"
   },
   {
    "duration": 305,
    "start_time": "2023-07-11T20:56:38.704Z"
   },
   {
    "duration": 253,
    "start_time": "2023-07-11T20:56:39.012Z"
   },
   {
    "duration": 44,
    "start_time": "2023-07-11T20:56:39.267Z"
   },
   {
    "duration": 668,
    "start_time": "2023-07-11T20:56:39.315Z"
   },
   {
    "duration": 73,
    "start_time": "2023-07-11T20:56:39.987Z"
   },
   {
    "duration": 70,
    "start_time": "2023-07-11T20:56:40.065Z"
   },
   {
    "duration": 38,
    "start_time": "2023-07-11T20:56:55.980Z"
   },
   {
    "duration": 22,
    "start_time": "2023-07-11T20:59:34.491Z"
   },
   {
    "duration": 40,
    "start_time": "2023-07-11T20:59:42.192Z"
   },
   {
    "duration": 48,
    "start_time": "2023-07-11T20:59:57.637Z"
   },
   {
    "duration": 104,
    "start_time": "2023-07-11T21:00:22.903Z"
   },
   {
    "duration": 186,
    "start_time": "2023-07-11T21:00:48.797Z"
   },
   {
    "duration": 91,
    "start_time": "2023-07-11T21:01:00.466Z"
   },
   {
    "duration": 161,
    "start_time": "2023-07-11T21:05:44.392Z"
   },
   {
    "duration": 176,
    "start_time": "2023-07-11T21:07:59.764Z"
   },
   {
    "duration": 91,
    "start_time": "2023-07-11T21:08:14.063Z"
   },
   {
    "duration": 100,
    "start_time": "2023-07-11T21:09:15.331Z"
   },
   {
    "duration": 95,
    "start_time": "2023-07-11T21:09:29.989Z"
   },
   {
    "duration": 92,
    "start_time": "2023-07-11T21:09:41.875Z"
   },
   {
    "duration": 82,
    "start_time": "2023-07-11T21:11:41.837Z"
   },
   {
    "duration": 121,
    "start_time": "2023-07-11T21:13:48.294Z"
   },
   {
    "duration": 128,
    "start_time": "2023-07-11T21:13:58.692Z"
   },
   {
    "duration": 159,
    "start_time": "2023-07-11T21:14:16.100Z"
   },
   {
    "duration": 13,
    "start_time": "2023-07-11T21:14:22.140Z"
   },
   {
    "duration": 89,
    "start_time": "2023-07-11T21:14:41.977Z"
   },
   {
    "duration": 99,
    "start_time": "2023-07-11T21:15:14.475Z"
   },
   {
    "duration": 640,
    "start_time": "2023-07-11T21:17:09.796Z"
   },
   {
    "duration": 68,
    "start_time": "2023-07-11T21:17:18.162Z"
   },
   {
    "duration": 101,
    "start_time": "2023-07-11T21:17:36.233Z"
   },
   {
    "duration": 111,
    "start_time": "2023-07-11T21:18:04.069Z"
   },
   {
    "duration": 111,
    "start_time": "2023-07-11T21:18:17.867Z"
   },
   {
    "duration": 133,
    "start_time": "2023-07-11T21:18:25.461Z"
   },
   {
    "duration": 93,
    "start_time": "2023-07-11T21:18:35.873Z"
   },
   {
    "duration": 114,
    "start_time": "2023-07-11T21:19:36.149Z"
   },
   {
    "duration": 72,
    "start_time": "2023-07-11T21:21:42.471Z"
   },
   {
    "duration": 110,
    "start_time": "2023-07-11T21:22:16.206Z"
   },
   {
    "duration": 137,
    "start_time": "2023-07-11T21:22:52.262Z"
   },
   {
    "duration": 124,
    "start_time": "2023-07-11T21:22:59.764Z"
   },
   {
    "duration": 177,
    "start_time": "2023-07-11T21:23:12.304Z"
   },
   {
    "duration": 167,
    "start_time": "2023-07-11T21:23:31.425Z"
   },
   {
    "duration": 75,
    "start_time": "2023-07-11T21:23:49.153Z"
   },
   {
    "duration": 98,
    "start_time": "2023-07-11T21:23:55.826Z"
   },
   {
    "duration": 95,
    "start_time": "2023-07-11T21:24:07.099Z"
   },
   {
    "duration": 72,
    "start_time": "2023-07-11T21:24:17.757Z"
   },
   {
    "duration": 130,
    "start_time": "2023-07-11T21:24:49.994Z"
   },
   {
    "duration": 97,
    "start_time": "2023-07-11T21:24:57.591Z"
   },
   {
    "duration": 409,
    "start_time": "2023-07-11T21:29:12.358Z"
   },
   {
    "duration": 120,
    "start_time": "2023-07-11T21:29:26.164Z"
   },
   {
    "duration": 1652,
    "start_time": "2023-07-11T21:30:55.063Z"
   },
   {
    "duration": 752,
    "start_time": "2023-07-11T21:31:42.154Z"
   },
   {
    "duration": 108,
    "start_time": "2023-07-11T21:31:59.230Z"
   },
   {
    "duration": 113,
    "start_time": "2023-07-11T21:32:18.569Z"
   },
   {
    "duration": 144,
    "start_time": "2023-07-11T21:32:32.137Z"
   },
   {
    "duration": 191,
    "start_time": "2023-07-11T21:32:39.338Z"
   },
   {
    "duration": 110,
    "start_time": "2023-07-11T21:32:44.758Z"
   },
   {
    "duration": 101,
    "start_time": "2023-07-11T21:33:00.592Z"
   },
   {
    "duration": 113,
    "start_time": "2023-07-11T21:33:19.094Z"
   },
   {
    "duration": 102,
    "start_time": "2023-07-11T21:33:25.467Z"
   },
   {
    "duration": 132,
    "start_time": "2023-07-11T21:33:37.427Z"
   },
   {
    "duration": 101,
    "start_time": "2023-07-11T21:33:43.936Z"
   },
   {
    "duration": 133,
    "start_time": "2023-07-11T21:35:09.374Z"
   },
   {
    "duration": 157,
    "start_time": "2023-07-11T21:36:00.696Z"
   },
   {
    "duration": 120,
    "start_time": "2023-07-11T21:36:40.902Z"
   },
   {
    "duration": 162,
    "start_time": "2023-07-11T21:36:48.735Z"
   },
   {
    "duration": 193,
    "start_time": "2023-07-11T21:37:01.165Z"
   },
   {
    "duration": 163,
    "start_time": "2023-07-11T21:37:28.099Z"
   },
   {
    "duration": 268,
    "start_time": "2023-07-11T21:39:17.687Z"
   },
   {
    "duration": 244,
    "start_time": "2023-07-11T21:39:41.535Z"
   },
   {
    "duration": 286,
    "start_time": "2023-07-11T21:40:02.742Z"
   },
   {
    "duration": 345,
    "start_time": "2023-07-11T21:40:16.228Z"
   },
   {
    "duration": 290,
    "start_time": "2023-07-11T21:43:05.704Z"
   },
   {
    "duration": 103,
    "start_time": "2023-07-11T21:43:16.970Z"
   },
   {
    "duration": 136,
    "start_time": "2023-07-11T21:43:30.931Z"
   },
   {
    "duration": 279,
    "start_time": "2023-07-11T21:44:06.292Z"
   },
   {
    "duration": 38,
    "start_time": "2023-07-11T21:44:30.639Z"
   },
   {
    "duration": 279,
    "start_time": "2023-07-11T21:48:11.972Z"
   },
   {
    "duration": 329,
    "start_time": "2023-07-11T21:49:03.952Z"
   },
   {
    "duration": 302,
    "start_time": "2023-07-11T21:49:36.369Z"
   },
   {
    "duration": 309,
    "start_time": "2023-07-11T21:49:50.366Z"
   },
   {
    "duration": 272,
    "start_time": "2023-07-11T21:56:08.254Z"
   },
   {
    "duration": 293,
    "start_time": "2023-07-11T21:57:40.876Z"
   },
   {
    "duration": 271,
    "start_time": "2023-07-11T21:58:33.660Z"
   },
   {
    "duration": 874,
    "start_time": "2023-07-11T21:59:55.186Z"
   },
   {
    "duration": 330,
    "start_time": "2023-07-11T22:00:13.900Z"
   },
   {
    "duration": 302,
    "start_time": "2023-07-11T22:00:22.607Z"
   },
   {
    "duration": 287,
    "start_time": "2023-07-11T22:00:47.870Z"
   },
   {
    "duration": 259,
    "start_time": "2023-07-11T22:00:57.541Z"
   },
   {
    "duration": 379,
    "start_time": "2023-07-11T22:01:21.450Z"
   },
   {
    "duration": 312,
    "start_time": "2023-07-11T22:01:33.646Z"
   },
   {
    "duration": 283,
    "start_time": "2023-07-11T22:01:45.336Z"
   },
   {
    "duration": 366,
    "start_time": "2023-07-11T22:01:59.551Z"
   },
   {
    "duration": 3119,
    "start_time": "2023-07-11T22:02:46.350Z"
   },
   {
    "duration": 228,
    "start_time": "2023-07-11T22:03:04.735Z"
   },
   {
    "duration": 225,
    "start_time": "2023-07-11T22:03:13.411Z"
   },
   {
    "duration": 2970,
    "start_time": "2023-07-11T22:03:27.300Z"
   },
   {
    "duration": 1985,
    "start_time": "2023-07-11T22:03:54.562Z"
   },
   {
    "duration": 198,
    "start_time": "2023-07-11T22:04:23.894Z"
   },
   {
    "duration": 209,
    "start_time": "2023-07-11T22:04:43.846Z"
   },
   {
    "duration": 159,
    "start_time": "2023-07-11T22:08:42.730Z"
   },
   {
    "duration": 1247,
    "start_time": "2023-07-13T15:44:23.732Z"
   },
   {
    "duration": 1017,
    "start_time": "2023-07-13T15:44:24.981Z"
   },
   {
    "duration": 18,
    "start_time": "2023-07-13T15:44:26.000Z"
   },
   {
    "duration": 63,
    "start_time": "2023-07-13T15:44:26.020Z"
   },
   {
    "duration": 188,
    "start_time": "2023-07-13T15:44:26.085Z"
   },
   {
    "duration": 83,
    "start_time": "2023-07-13T15:44:26.275Z"
   },
   {
    "duration": 35,
    "start_time": "2023-07-13T15:44:26.360Z"
   },
   {
    "duration": 317,
    "start_time": "2023-07-13T15:44:26.413Z"
   },
   {
    "duration": 41,
    "start_time": "2023-07-13T15:44:26.732Z"
   },
   {
    "duration": 19,
    "start_time": "2023-07-13T15:44:26.774Z"
   },
   {
    "duration": 129,
    "start_time": "2023-07-13T15:44:26.814Z"
   },
   {
    "duration": 3,
    "start_time": "2023-07-13T15:44:26.945Z"
   },
   {
    "duration": 59,
    "start_time": "2023-07-13T15:47:06.855Z"
   },
   {
    "duration": 62,
    "start_time": "2023-07-13T15:47:34.940Z"
   },
   {
    "duration": 42,
    "start_time": "2023-07-13T15:48:45.632Z"
   },
   {
    "duration": 35,
    "start_time": "2023-07-13T15:49:03.803Z"
   },
   {
    "duration": 36,
    "start_time": "2023-07-13T15:49:11.471Z"
   },
   {
    "duration": 38,
    "start_time": "2023-07-13T15:49:35.405Z"
   },
   {
    "duration": 38,
    "start_time": "2023-07-13T15:49:44.956Z"
   },
   {
    "duration": 34,
    "start_time": "2023-07-13T15:49:53.529Z"
   },
   {
    "duration": 35,
    "start_time": "2023-07-13T15:49:57.974Z"
   },
   {
    "duration": 120,
    "start_time": "2023-07-13T15:52:24.167Z"
   },
   {
    "duration": 28,
    "start_time": "2023-07-13T15:52:45.571Z"
   },
   {
    "duration": 20,
    "start_time": "2023-07-13T15:52:52.404Z"
   },
   {
    "duration": 31,
    "start_time": "2023-07-13T15:52:58.272Z"
   },
   {
    "duration": 32,
    "start_time": "2023-07-13T15:53:14.105Z"
   },
   {
    "duration": 10,
    "start_time": "2023-07-13T16:07:21.668Z"
   },
   {
    "duration": 13,
    "start_time": "2023-07-13T16:07:30.603Z"
   },
   {
    "duration": 8,
    "start_time": "2023-07-13T16:07:38.057Z"
   },
   {
    "duration": 8,
    "start_time": "2023-07-13T16:21:51.400Z"
   },
   {
    "duration": 8,
    "start_time": "2023-07-13T16:22:15.566Z"
   },
   {
    "duration": 6,
    "start_time": "2023-07-13T16:22:50.526Z"
   },
   {
    "duration": 8,
    "start_time": "2023-07-13T16:23:32.273Z"
   },
   {
    "duration": 24,
    "start_time": "2023-07-13T16:28:44.807Z"
   },
   {
    "duration": 7,
    "start_time": "2023-07-13T16:28:46.211Z"
   },
   {
    "duration": 7,
    "start_time": "2023-07-13T16:30:54.418Z"
   },
   {
    "duration": 6,
    "start_time": "2023-07-13T16:31:09.215Z"
   },
   {
    "duration": 7,
    "start_time": "2023-07-13T16:35:01.151Z"
   },
   {
    "duration": 2995,
    "start_time": "2023-07-13T16:35:13.635Z"
   },
   {
    "duration": 2859,
    "start_time": "2023-07-13T16:36:56.745Z"
   },
   {
    "duration": 5,
    "start_time": "2023-07-13T16:37:44.302Z"
   },
   {
    "duration": 5,
    "start_time": "2023-07-13T16:38:15.805Z"
   },
   {
    "duration": 4,
    "start_time": "2023-07-13T16:38:31.306Z"
   },
   {
    "duration": 6,
    "start_time": "2023-07-13T16:38:49.721Z"
   },
   {
    "duration": 4,
    "start_time": "2023-07-13T16:39:44.099Z"
   },
   {
    "duration": 4,
    "start_time": "2023-07-13T16:39:57.526Z"
   },
   {
    "duration": 5,
    "start_time": "2023-07-13T16:40:13.916Z"
   },
   {
    "duration": 7,
    "start_time": "2023-07-13T16:43:43.710Z"
   },
   {
    "duration": 14,
    "start_time": "2023-07-13T16:50:47.735Z"
   },
   {
    "duration": 23,
    "start_time": "2023-07-13T16:50:56.116Z"
   },
   {
    "duration": 107,
    "start_time": "2023-07-13T16:51:13.053Z"
   },
   {
    "duration": 44,
    "start_time": "2023-07-13T16:51:17.721Z"
   },
   {
    "duration": 6,
    "start_time": "2023-07-13T16:58:11.154Z"
   },
   {
    "duration": 8,
    "start_time": "2023-07-13T16:58:39.806Z"
   },
   {
    "duration": 7,
    "start_time": "2023-07-13T16:58:56.906Z"
   },
   {
    "duration": 9,
    "start_time": "2023-07-13T16:59:02.310Z"
   },
   {
    "duration": 14,
    "start_time": "2023-07-13T17:02:01.812Z"
   },
   {
    "duration": 8,
    "start_time": "2023-07-13T17:02:26.934Z"
   },
   {
    "duration": 40,
    "start_time": "2023-07-13T17:02:32.787Z"
   },
   {
    "duration": 88,
    "start_time": "2023-07-13T17:02:58.823Z"
   },
   {
    "duration": 79,
    "start_time": "2023-07-13T17:03:14.271Z"
   },
   {
    "duration": 46,
    "start_time": "2023-07-13T17:04:00.797Z"
   },
   {
    "duration": 74,
    "start_time": "2023-07-13T17:05:48.802Z"
   },
   {
    "duration": 78,
    "start_time": "2023-07-13T17:13:39.101Z"
   },
   {
    "duration": 5,
    "start_time": "2023-07-13T17:23:20.853Z"
   },
   {
    "duration": 4,
    "start_time": "2023-07-13T17:24:36.575Z"
   },
   {
    "duration": 6,
    "start_time": "2023-07-13T17:26:04.048Z"
   },
   {
    "duration": 10,
    "start_time": "2023-07-13T17:31:25.590Z"
   },
   {
    "duration": 8,
    "start_time": "2023-07-13T17:31:42.066Z"
   },
   {
    "duration": 1716,
    "start_time": "2023-07-13T17:33:54.701Z"
   },
   {
    "duration": 5,
    "start_time": "2023-07-13T17:34:21.192Z"
   },
   {
    "duration": 1909,
    "start_time": "2023-07-13T17:35:26.302Z"
   },
   {
    "duration": 7,
    "start_time": "2023-07-13T17:38:26.530Z"
   },
   {
    "duration": 7,
    "start_time": "2023-07-13T17:38:42.690Z"
   },
   {
    "duration": 7,
    "start_time": "2023-07-13T17:40:20.045Z"
   },
   {
    "duration": 7,
    "start_time": "2023-07-13T17:42:18.531Z"
   },
   {
    "duration": 9,
    "start_time": "2023-07-13T17:42:37.161Z"
   },
   {
    "duration": 9,
    "start_time": "2023-07-13T17:42:47.809Z"
   },
   {
    "duration": 11,
    "start_time": "2023-07-13T17:43:03.655Z"
   },
   {
    "duration": 10,
    "start_time": "2023-07-13T17:45:05.966Z"
   },
   {
    "duration": 10,
    "start_time": "2023-07-13T17:47:39.335Z"
   },
   {
    "duration": 8,
    "start_time": "2023-07-13T17:50:14.813Z"
   },
   {
    "duration": 10,
    "start_time": "2023-07-13T17:50:18.555Z"
   },
   {
    "duration": 8,
    "start_time": "2023-07-13T17:50:55.778Z"
   },
   {
    "duration": 17,
    "start_time": "2023-07-13T17:55:15.581Z"
   },
   {
    "duration": 9,
    "start_time": "2023-07-13T17:58:17.874Z"
   },
   {
    "duration": 13,
    "start_time": "2023-07-13T17:59:44.396Z"
   },
   {
    "duration": 10,
    "start_time": "2023-07-13T18:04:41.495Z"
   },
   {
    "duration": 10,
    "start_time": "2023-07-13T18:05:00.618Z"
   },
   {
    "duration": 11,
    "start_time": "2023-07-13T18:06:11.148Z"
   },
   {
    "duration": 12,
    "start_time": "2023-07-13T18:06:19.301Z"
   },
   {
    "duration": 1187,
    "start_time": "2023-07-13T18:06:31.418Z"
   },
   {
    "duration": 180,
    "start_time": "2023-07-13T18:06:32.607Z"
   },
   {
    "duration": 33,
    "start_time": "2023-07-13T18:06:32.789Z"
   },
   {
    "duration": 35,
    "start_time": "2023-07-13T18:06:32.825Z"
   },
   {
    "duration": 210,
    "start_time": "2023-07-13T18:06:32.861Z"
   },
   {
    "duration": 98,
    "start_time": "2023-07-13T18:06:33.073Z"
   },
   {
    "duration": 48,
    "start_time": "2023-07-13T18:06:33.173Z"
   },
   {
    "duration": 348,
    "start_time": "2023-07-13T18:06:33.223Z"
   },
   {
    "duration": 66,
    "start_time": "2023-07-13T18:06:33.573Z"
   },
   {
    "duration": 20,
    "start_time": "2023-07-13T18:06:33.642Z"
   },
   {
    "duration": 159,
    "start_time": "2023-07-13T18:06:33.664Z"
   },
   {
    "duration": 19,
    "start_time": "2023-07-13T18:06:33.826Z"
   },
   {
    "duration": 29,
    "start_time": "2023-07-13T18:06:33.847Z"
   },
   {
    "duration": 11,
    "start_time": "2023-07-13T18:06:33.878Z"
   },
   {
    "duration": 36,
    "start_time": "2023-07-13T18:06:33.891Z"
   },
   {
    "duration": 89,
    "start_time": "2023-07-13T18:06:33.933Z"
   },
   {
    "duration": 6,
    "start_time": "2023-07-13T18:06:34.024Z"
   },
   {
    "duration": 36,
    "start_time": "2023-07-13T18:06:34.031Z"
   },
   {
    "duration": 24,
    "start_time": "2023-07-13T18:06:34.068Z"
   },
   {
    "duration": 18,
    "start_time": "2023-07-13T18:06:34.094Z"
   },
   {
    "duration": 25,
    "start_time": "2023-07-13T18:06:34.114Z"
   },
   {
    "duration": 108,
    "start_time": "2023-07-13T18:08:15.387Z"
   },
   {
    "duration": 1936,
    "start_time": "2023-07-13T18:10:03.547Z"
   },
   {
    "duration": 1882,
    "start_time": "2023-07-13T18:10:17.683Z"
   },
   {
    "duration": 8,
    "start_time": "2023-07-13T18:11:25.175Z"
   },
   {
    "duration": 21,
    "start_time": "2023-07-13T18:11:35.796Z"
   },
   {
    "duration": 8,
    "start_time": "2023-07-13T18:11:50.834Z"
   },
   {
    "duration": 10,
    "start_time": "2023-07-13T18:12:59.072Z"
   },
   {
    "duration": 9,
    "start_time": "2023-07-13T18:13:08.268Z"
   },
   {
    "duration": 9,
    "start_time": "2023-07-13T18:13:25.685Z"
   },
   {
    "duration": 9,
    "start_time": "2023-07-13T18:13:36.637Z"
   },
   {
    "duration": 11,
    "start_time": "2023-07-13T18:16:35.168Z"
   },
   {
    "duration": 13,
    "start_time": "2023-07-13T18:37:18.467Z"
   },
   {
    "duration": 10,
    "start_time": "2023-07-13T18:37:54.711Z"
   },
   {
    "duration": 1292,
    "start_time": "2023-07-13T20:32:38.685Z"
   },
   {
    "duration": 182,
    "start_time": "2023-07-13T20:32:39.979Z"
   },
   {
    "duration": 18,
    "start_time": "2023-07-13T20:32:40.163Z"
   },
   {
    "duration": 48,
    "start_time": "2023-07-13T20:32:40.182Z"
   },
   {
    "duration": 204,
    "start_time": "2023-07-13T20:32:40.232Z"
   },
   {
    "duration": 87,
    "start_time": "2023-07-13T20:32:40.438Z"
   },
   {
    "duration": 26,
    "start_time": "2023-07-13T20:32:40.526Z"
   },
   {
    "duration": 369,
    "start_time": "2023-07-13T20:32:40.553Z"
   },
   {
    "duration": 47,
    "start_time": "2023-07-13T20:32:40.923Z"
   },
   {
    "duration": 46,
    "start_time": "2023-07-13T20:32:40.972Z"
   },
   {
    "duration": 156,
    "start_time": "2023-07-13T20:32:41.020Z"
   },
   {
    "duration": 21,
    "start_time": "2023-07-13T20:32:41.178Z"
   },
   {
    "duration": 20,
    "start_time": "2023-07-13T20:32:41.200Z"
   },
   {
    "duration": 8,
    "start_time": "2023-07-13T20:32:41.229Z"
   },
   {
    "duration": 19,
    "start_time": "2023-07-13T20:32:41.238Z"
   },
   {
    "duration": 92,
    "start_time": "2023-07-13T20:32:41.259Z"
   },
   {
    "duration": 8,
    "start_time": "2023-07-13T20:32:41.353Z"
   },
   {
    "duration": 15,
    "start_time": "2023-07-13T20:32:41.362Z"
   },
   {
    "duration": 23,
    "start_time": "2023-07-13T20:32:41.379Z"
   },
   {
    "duration": 20,
    "start_time": "2023-07-13T20:32:41.414Z"
   },
   {
    "duration": 13,
    "start_time": "2023-07-13T20:32:41.436Z"
   },
   {
    "duration": 14,
    "start_time": "2023-07-13T20:32:41.451Z"
   },
   {
    "duration": 25,
    "start_time": "2023-07-13T20:34:06.099Z"
   },
   {
    "duration": 1101,
    "start_time": "2023-07-13T20:34:16.576Z"
   },
   {
    "duration": 188,
    "start_time": "2023-07-13T20:34:17.679Z"
   },
   {
    "duration": 21,
    "start_time": "2023-07-13T20:34:17.869Z"
   },
   {
    "duration": 100,
    "start_time": "2023-07-13T20:34:17.891Z"
   },
   {
    "duration": 0,
    "start_time": "2023-07-13T20:34:17.993Z"
   },
   {
    "duration": 0,
    "start_time": "2023-07-13T20:34:17.994Z"
   },
   {
    "duration": 0,
    "start_time": "2023-07-13T20:34:17.996Z"
   },
   {
    "duration": 0,
    "start_time": "2023-07-13T20:34:17.996Z"
   },
   {
    "duration": 0,
    "start_time": "2023-07-13T20:34:17.998Z"
   },
   {
    "duration": 0,
    "start_time": "2023-07-13T20:34:17.999Z"
   },
   {
    "duration": 0,
    "start_time": "2023-07-13T20:34:18.000Z"
   },
   {
    "duration": 0,
    "start_time": "2023-07-13T20:34:18.001Z"
   },
   {
    "duration": 0,
    "start_time": "2023-07-13T20:34:18.002Z"
   },
   {
    "duration": 0,
    "start_time": "2023-07-13T20:34:18.003Z"
   },
   {
    "duration": 0,
    "start_time": "2023-07-13T20:34:18.004Z"
   },
   {
    "duration": 0,
    "start_time": "2023-07-13T20:34:18.005Z"
   },
   {
    "duration": 0,
    "start_time": "2023-07-13T20:34:18.006Z"
   },
   {
    "duration": 0,
    "start_time": "2023-07-13T20:34:18.007Z"
   },
   {
    "duration": 0,
    "start_time": "2023-07-13T20:34:18.008Z"
   },
   {
    "duration": 0,
    "start_time": "2023-07-13T20:34:18.009Z"
   },
   {
    "duration": 0,
    "start_time": "2023-07-13T20:34:18.010Z"
   },
   {
    "duration": 0,
    "start_time": "2023-07-13T20:34:18.011Z"
   },
   {
    "duration": 0,
    "start_time": "2023-07-13T20:34:18.012Z"
   },
   {
    "duration": 0,
    "start_time": "2023-07-13T20:34:18.013Z"
   },
   {
    "duration": 1130,
    "start_time": "2023-07-13T20:35:42.241Z"
   },
   {
    "duration": 177,
    "start_time": "2023-07-13T20:35:43.373Z"
   },
   {
    "duration": 21,
    "start_time": "2023-07-13T20:35:43.552Z"
   },
   {
    "duration": 19,
    "start_time": "2023-07-13T20:35:43.575Z"
   },
   {
    "duration": 40,
    "start_time": "2023-07-13T20:35:43.612Z"
   },
   {
    "duration": 217,
    "start_time": "2023-07-13T20:35:43.654Z"
   },
   {
    "duration": 99,
    "start_time": "2023-07-13T20:35:43.872Z"
   },
   {
    "duration": 43,
    "start_time": "2023-07-13T20:35:43.973Z"
   },
   {
    "duration": 334,
    "start_time": "2023-07-13T20:35:44.018Z"
   },
   {
    "duration": 61,
    "start_time": "2023-07-13T20:35:44.355Z"
   },
   {
    "duration": 22,
    "start_time": "2023-07-13T20:35:44.418Z"
   },
   {
    "duration": 137,
    "start_time": "2023-07-13T20:35:44.442Z"
   },
   {
    "duration": 18,
    "start_time": "2023-07-13T20:35:44.581Z"
   },
   {
    "duration": 14,
    "start_time": "2023-07-13T20:35:44.601Z"
   },
   {
    "duration": 18,
    "start_time": "2023-07-13T20:35:44.617Z"
   },
   {
    "duration": 30,
    "start_time": "2023-07-13T20:35:44.637Z"
   },
   {
    "duration": 81,
    "start_time": "2023-07-13T20:35:44.669Z"
   },
   {
    "duration": 5,
    "start_time": "2023-07-13T20:35:44.751Z"
   },
   {
    "duration": 15,
    "start_time": "2023-07-13T20:35:44.758Z"
   },
   {
    "duration": 9,
    "start_time": "2023-07-13T20:35:44.774Z"
   },
   {
    "duration": 34,
    "start_time": "2023-07-13T20:35:44.785Z"
   },
   {
    "duration": 12,
    "start_time": "2023-07-13T20:35:44.821Z"
   },
   {
    "duration": 10,
    "start_time": "2023-07-13T20:35:44.835Z"
   },
   {
    "duration": 28,
    "start_time": "2023-07-13T20:43:44.367Z"
   },
   {
    "duration": 25,
    "start_time": "2023-07-13T20:43:53.363Z"
   },
   {
    "duration": 21,
    "start_time": "2023-07-13T20:44:18.763Z"
   },
   {
    "duration": 26,
    "start_time": "2023-07-13T20:44:35.891Z"
   },
   {
    "duration": 1180,
    "start_time": "2023-07-13T20:44:47.684Z"
   },
   {
    "duration": 165,
    "start_time": "2023-07-13T20:44:48.867Z"
   },
   {
    "duration": 19,
    "start_time": "2023-07-13T20:44:49.033Z"
   },
   {
    "duration": 23,
    "start_time": "2023-07-13T20:44:49.053Z"
   },
   {
    "duration": 52,
    "start_time": "2023-07-13T20:44:49.078Z"
   },
   {
    "duration": 222,
    "start_time": "2023-07-13T20:44:49.132Z"
   },
   {
    "duration": 89,
    "start_time": "2023-07-13T20:44:49.355Z"
   },
   {
    "duration": 23,
    "start_time": "2023-07-13T20:44:49.445Z"
   },
   {
    "duration": 501,
    "start_time": "2023-07-13T20:44:49.469Z"
   },
   {
    "duration": 74,
    "start_time": "2023-07-13T20:44:49.972Z"
   },
   {
    "duration": 21,
    "start_time": "2023-07-13T20:44:50.048Z"
   },
   {
    "duration": 363,
    "start_time": "2023-07-13T20:44:50.071Z"
   },
   {
    "duration": 20,
    "start_time": "2023-07-13T20:44:50.435Z"
   },
   {
    "duration": 47,
    "start_time": "2023-07-13T20:44:50.458Z"
   },
   {
    "duration": 32,
    "start_time": "2023-07-13T20:44:50.507Z"
   },
   {
    "duration": 26,
    "start_time": "2023-07-13T20:44:50.540Z"
   },
   {
    "duration": 90,
    "start_time": "2023-07-13T20:44:50.568Z"
   },
   {
    "duration": 5,
    "start_time": "2023-07-13T20:44:50.659Z"
   },
   {
    "duration": 43,
    "start_time": "2023-07-13T20:44:50.666Z"
   },
   {
    "duration": 13,
    "start_time": "2023-07-13T20:44:50.711Z"
   },
   {
    "duration": 39,
    "start_time": "2023-07-13T20:44:50.726Z"
   },
   {
    "duration": 44,
    "start_time": "2023-07-13T20:44:50.767Z"
   },
   {
    "duration": 43,
    "start_time": "2023-07-13T20:44:50.813Z"
   },
   {
    "duration": 241,
    "start_time": "2023-07-13T20:45:47.456Z"
   },
   {
    "duration": 259,
    "start_time": "2023-07-13T20:46:07.643Z"
   },
   {
    "duration": 246,
    "start_time": "2023-07-13T20:46:14.993Z"
   },
   {
    "duration": 1193,
    "start_time": "2023-07-13T20:46:31.497Z"
   },
   {
    "duration": 169,
    "start_time": "2023-07-13T20:46:32.692Z"
   },
   {
    "duration": 22,
    "start_time": "2023-07-13T20:46:32.863Z"
   },
   {
    "duration": 54,
    "start_time": "2023-07-13T20:46:32.889Z"
   },
   {
    "duration": 59,
    "start_time": "2023-07-13T20:46:32.944Z"
   },
   {
    "duration": 254,
    "start_time": "2023-07-13T20:46:33.005Z"
   },
   {
    "duration": 96,
    "start_time": "2023-07-13T20:46:33.261Z"
   },
   {
    "duration": 30,
    "start_time": "2023-07-13T20:46:33.359Z"
   },
   {
    "duration": 366,
    "start_time": "2023-07-13T20:46:33.391Z"
   },
   {
    "duration": 62,
    "start_time": "2023-07-13T20:46:33.760Z"
   },
   {
    "duration": 20,
    "start_time": "2023-07-13T20:46:33.824Z"
   },
   {
    "duration": 181,
    "start_time": "2023-07-13T20:46:33.846Z"
   },
   {
    "duration": 20,
    "start_time": "2023-07-13T20:46:34.029Z"
   },
   {
    "duration": 7,
    "start_time": "2023-07-13T20:46:34.051Z"
   },
   {
    "duration": 33,
    "start_time": "2023-07-13T20:46:34.060Z"
   },
   {
    "duration": 34,
    "start_time": "2023-07-13T20:46:34.095Z"
   },
   {
    "duration": 96,
    "start_time": "2023-07-13T20:46:34.131Z"
   },
   {
    "duration": 6,
    "start_time": "2023-07-13T20:46:34.229Z"
   },
   {
    "duration": 43,
    "start_time": "2023-07-13T20:46:34.237Z"
   },
   {
    "duration": 22,
    "start_time": "2023-07-13T20:46:34.283Z"
   },
   {
    "duration": 26,
    "start_time": "2023-07-13T20:46:34.308Z"
   },
   {
    "duration": 33,
    "start_time": "2023-07-13T20:46:34.335Z"
   },
   {
    "duration": 28,
    "start_time": "2023-07-13T20:46:34.371Z"
   },
   {
    "duration": 41,
    "start_time": "2023-07-13T20:50:52.207Z"
   },
   {
    "duration": 10,
    "start_time": "2023-07-13T20:58:33.666Z"
   },
   {
    "duration": 104,
    "start_time": "2023-07-13T20:59:12.631Z"
   },
   {
    "duration": 1112,
    "start_time": "2023-07-13T21:00:40.881Z"
   },
   {
    "duration": 178,
    "start_time": "2023-07-13T21:00:41.996Z"
   },
   {
    "duration": 47,
    "start_time": "2023-07-13T21:00:42.175Z"
   },
   {
    "duration": 79,
    "start_time": "2023-07-13T21:00:42.224Z"
   },
   {
    "duration": 38,
    "start_time": "2023-07-13T21:00:42.305Z"
   },
   {
    "duration": 269,
    "start_time": "2023-07-13T21:00:42.345Z"
   },
   {
    "duration": 97,
    "start_time": "2023-07-13T21:00:42.616Z"
   },
   {
    "duration": 23,
    "start_time": "2023-07-13T21:00:42.715Z"
   },
   {
    "duration": 348,
    "start_time": "2023-07-13T21:00:42.740Z"
   },
   {
    "duration": 56,
    "start_time": "2023-07-13T21:00:43.090Z"
   },
   {
    "duration": 9,
    "start_time": "2023-07-13T21:00:43.148Z"
   },
   {
    "duration": 21,
    "start_time": "2023-07-13T21:00:43.159Z"
   },
   {
    "duration": 160,
    "start_time": "2023-07-13T21:00:43.182Z"
   },
   {
    "duration": 21,
    "start_time": "2023-07-13T21:00:43.344Z"
   },
   {
    "duration": 8,
    "start_time": "2023-07-13T21:00:43.367Z"
   },
   {
    "duration": 14,
    "start_time": "2023-07-13T21:00:43.377Z"
   },
   {
    "duration": 33,
    "start_time": "2023-07-13T21:00:43.393Z"
   },
   {
    "duration": 98,
    "start_time": "2023-07-13T21:00:43.428Z"
   },
   {
    "duration": 5,
    "start_time": "2023-07-13T21:00:43.528Z"
   },
   {
    "duration": 16,
    "start_time": "2023-07-13T21:00:43.535Z"
   },
   {
    "duration": 10,
    "start_time": "2023-07-13T21:00:43.553Z"
   },
   {
    "duration": 12,
    "start_time": "2023-07-13T21:00:43.564Z"
   },
   {
    "duration": 40,
    "start_time": "2023-07-13T21:00:43.578Z"
   },
   {
    "duration": 19,
    "start_time": "2023-07-13T21:00:43.620Z"
   },
   {
    "duration": 115,
    "start_time": "2023-07-13T21:16:22.536Z"
   },
   {
    "duration": 5,
    "start_time": "2023-07-13T21:19:06.728Z"
   },
   {
    "duration": 1285,
    "start_time": "2023-07-14T10:36:48.546Z"
   },
   {
    "duration": 747,
    "start_time": "2023-07-14T10:36:49.833Z"
   },
   {
    "duration": 18,
    "start_time": "2023-07-14T10:36:50.582Z"
   },
   {
    "duration": 19,
    "start_time": "2023-07-14T10:36:50.602Z"
   },
   {
    "duration": 44,
    "start_time": "2023-07-14T10:36:50.623Z"
   },
   {
    "duration": 199,
    "start_time": "2023-07-14T10:36:50.669Z"
   },
   {
    "duration": 90,
    "start_time": "2023-07-14T10:36:50.870Z"
   },
   {
    "duration": 26,
    "start_time": "2023-07-14T10:36:50.962Z"
   },
   {
    "duration": 330,
    "start_time": "2023-07-14T10:36:50.990Z"
   },
   {
    "duration": 55,
    "start_time": "2023-07-14T10:36:51.323Z"
   },
   {
    "duration": 7,
    "start_time": "2023-07-14T10:36:51.379Z"
   },
   {
    "duration": 20,
    "start_time": "2023-07-14T10:36:51.388Z"
   },
   {
    "duration": 94,
    "start_time": "2023-07-14T10:36:51.410Z"
   },
   {
    "duration": 21,
    "start_time": "2023-07-14T10:36:51.505Z"
   },
   {
    "duration": 11,
    "start_time": "2023-07-14T10:36:51.528Z"
   },
   {
    "duration": 19,
    "start_time": "2023-07-14T10:36:51.541Z"
   },
   {
    "duration": 26,
    "start_time": "2023-07-14T10:36:51.561Z"
   },
   {
    "duration": 81,
    "start_time": "2023-07-14T10:36:51.588Z"
   },
   {
    "duration": 6,
    "start_time": "2023-07-14T10:36:51.670Z"
   },
   {
    "duration": 14,
    "start_time": "2023-07-14T10:36:51.677Z"
   },
   {
    "duration": 11,
    "start_time": "2023-07-14T10:36:51.693Z"
   },
   {
    "duration": 10,
    "start_time": "2023-07-14T10:36:51.706Z"
   },
   {
    "duration": 42,
    "start_time": "2023-07-14T10:36:51.718Z"
   },
   {
    "duration": 9,
    "start_time": "2023-07-14T10:36:51.762Z"
   },
   {
    "duration": 7,
    "start_time": "2023-07-14T10:37:22.631Z"
   },
   {
    "duration": 7,
    "start_time": "2023-07-14T10:37:53.559Z"
   },
   {
    "duration": 51,
    "start_time": "2023-07-14T10:40:28.043Z"
   },
   {
    "duration": 37,
    "start_time": "2023-07-14T10:41:49.032Z"
   },
   {
    "duration": 35,
    "start_time": "2023-07-14T10:42:58.564Z"
   },
   {
    "duration": 115,
    "start_time": "2023-07-14T10:47:03.928Z"
   },
   {
    "duration": 6,
    "start_time": "2023-07-14T10:48:45.388Z"
   },
   {
    "duration": 111,
    "start_time": "2023-07-14T10:49:17.249Z"
   },
   {
    "duration": 113,
    "start_time": "2023-07-14T10:51:30.574Z"
   },
   {
    "duration": 1114,
    "start_time": "2023-07-14T10:55:56.518Z"
   },
   {
    "duration": 168,
    "start_time": "2023-07-14T10:55:57.634Z"
   },
   {
    "duration": 22,
    "start_time": "2023-07-14T10:55:57.804Z"
   },
   {
    "duration": 36,
    "start_time": "2023-07-14T10:55:57.828Z"
   },
   {
    "duration": 52,
    "start_time": "2023-07-14T10:55:57.868Z"
   },
   {
    "duration": 226,
    "start_time": "2023-07-14T10:55:57.922Z"
   },
   {
    "duration": 83,
    "start_time": "2023-07-14T10:55:58.150Z"
   },
   {
    "duration": 46,
    "start_time": "2023-07-14T10:55:58.235Z"
   },
   {
    "duration": 347,
    "start_time": "2023-07-14T10:55:58.283Z"
   },
   {
    "duration": 57,
    "start_time": "2023-07-14T10:55:58.632Z"
   },
   {
    "duration": 53,
    "start_time": "2023-07-14T10:55:58.691Z"
   },
   {
    "duration": 22,
    "start_time": "2023-07-14T10:55:58.759Z"
   },
   {
    "duration": 84,
    "start_time": "2023-07-14T10:55:58.782Z"
   },
   {
    "duration": 21,
    "start_time": "2023-07-14T10:55:58.871Z"
   },
   {
    "duration": 7,
    "start_time": "2023-07-14T10:55:58.894Z"
   },
   {
    "duration": 6,
    "start_time": "2023-07-14T10:55:58.903Z"
   },
   {
    "duration": 98,
    "start_time": "2023-07-14T10:55:58.912Z"
   },
   {
    "duration": 93,
    "start_time": "2023-07-14T10:55:59.012Z"
   },
   {
    "duration": 8,
    "start_time": "2023-07-14T10:55:59.108Z"
   },
   {
    "duration": 20,
    "start_time": "2023-07-14T10:55:59.118Z"
   },
   {
    "duration": 25,
    "start_time": "2023-07-14T10:55:59.140Z"
   },
   {
    "duration": 10,
    "start_time": "2023-07-14T10:55:59.168Z"
   },
   {
    "duration": 15,
    "start_time": "2023-07-14T10:55:59.180Z"
   },
   {
    "duration": 12,
    "start_time": "2023-07-14T10:55:59.197Z"
   },
   {
    "duration": 123,
    "start_time": "2023-07-14T11:02:52.801Z"
   },
   {
    "duration": 11,
    "start_time": "2023-07-14T11:18:45.947Z"
   },
   {
    "duration": 16,
    "start_time": "2023-07-14T11:19:39.185Z"
   },
   {
    "duration": 18,
    "start_time": "2023-07-14T11:19:53.169Z"
   },
   {
    "duration": 1285,
    "start_time": "2023-07-14T11:21:49.553Z"
   },
   {
    "duration": 167,
    "start_time": "2023-07-14T11:21:50.840Z"
   },
   {
    "duration": 20,
    "start_time": "2023-07-14T11:21:51.008Z"
   },
   {
    "duration": 31,
    "start_time": "2023-07-14T11:21:51.030Z"
   },
   {
    "duration": 38,
    "start_time": "2023-07-14T11:21:51.063Z"
   },
   {
    "duration": 232,
    "start_time": "2023-07-14T11:21:51.103Z"
   },
   {
    "duration": 92,
    "start_time": "2023-07-14T11:21:51.337Z"
   },
   {
    "duration": 37,
    "start_time": "2023-07-14T11:21:51.431Z"
   },
   {
    "duration": 332,
    "start_time": "2023-07-14T11:21:51.469Z"
   },
   {
    "duration": 55,
    "start_time": "2023-07-14T11:21:51.804Z"
   },
   {
    "duration": 45,
    "start_time": "2023-07-14T11:21:51.861Z"
   },
   {
    "duration": 19,
    "start_time": "2023-07-14T11:21:51.908Z"
   },
   {
    "duration": 87,
    "start_time": "2023-07-14T11:21:51.929Z"
   },
   {
    "duration": 20,
    "start_time": "2023-07-14T11:21:52.017Z"
   },
   {
    "duration": 25,
    "start_time": "2023-07-14T11:21:52.039Z"
   },
   {
    "duration": 13,
    "start_time": "2023-07-14T11:21:52.066Z"
   },
   {
    "duration": 55,
    "start_time": "2023-07-14T11:21:52.081Z"
   },
   {
    "duration": 88,
    "start_time": "2023-07-14T11:21:52.138Z"
   },
   {
    "duration": 6,
    "start_time": "2023-07-14T11:21:52.228Z"
   },
   {
    "duration": 25,
    "start_time": "2023-07-14T11:21:52.235Z"
   },
   {
    "duration": 16,
    "start_time": "2023-07-14T11:21:52.262Z"
   },
   {
    "duration": 18,
    "start_time": "2023-07-14T11:21:52.280Z"
   },
   {
    "duration": 15,
    "start_time": "2023-07-14T11:21:52.299Z"
   },
   {
    "duration": 25,
    "start_time": "2023-07-14T11:21:52.316Z"
   },
   {
    "duration": 17,
    "start_time": "2023-07-14T11:21:52.343Z"
   },
   {
    "duration": 1143,
    "start_time": "2023-07-14T13:35:41.519Z"
   },
   {
    "duration": 165,
    "start_time": "2023-07-14T13:35:42.664Z"
   },
   {
    "duration": 20,
    "start_time": "2023-07-14T13:35:42.830Z"
   },
   {
    "duration": 31,
    "start_time": "2023-07-14T13:35:42.852Z"
   },
   {
    "duration": 65,
    "start_time": "2023-07-14T13:35:42.886Z"
   },
   {
    "duration": 205,
    "start_time": "2023-07-14T13:35:42.953Z"
   },
   {
    "duration": 80,
    "start_time": "2023-07-14T13:35:43.160Z"
   },
   {
    "duration": 36,
    "start_time": "2023-07-14T13:35:43.242Z"
   },
   {
    "duration": 329,
    "start_time": "2023-07-14T13:35:43.280Z"
   },
   {
    "duration": 47,
    "start_time": "2023-07-14T13:35:43.612Z"
   },
   {
    "duration": 78,
    "start_time": "2023-07-14T13:35:43.661Z"
   },
   {
    "duration": 32,
    "start_time": "2023-07-14T13:35:43.741Z"
   },
   {
    "duration": 100,
    "start_time": "2023-07-14T13:35:43.775Z"
   },
   {
    "duration": 42,
    "start_time": "2023-07-14T13:35:43.879Z"
   },
   {
    "duration": 9,
    "start_time": "2023-07-14T13:35:43.923Z"
   },
   {
    "duration": 15,
    "start_time": "2023-07-14T13:35:43.934Z"
   },
   {
    "duration": 55,
    "start_time": "2023-07-14T13:35:43.951Z"
   },
   {
    "duration": 83,
    "start_time": "2023-07-14T13:35:44.008Z"
   },
   {
    "duration": 21,
    "start_time": "2023-07-14T13:35:44.093Z"
   },
   {
    "duration": 18,
    "start_time": "2023-07-14T13:35:44.116Z"
   },
   {
    "duration": 12,
    "start_time": "2023-07-14T13:35:44.135Z"
   },
   {
    "duration": 11,
    "start_time": "2023-07-14T13:35:44.149Z"
   },
   {
    "duration": 15,
    "start_time": "2023-07-14T13:35:44.162Z"
   },
   {
    "duration": 35,
    "start_time": "2023-07-14T13:35:44.179Z"
   },
   {
    "duration": 16,
    "start_time": "2023-07-14T13:35:44.216Z"
   },
   {
    "duration": 1202,
    "start_time": "2023-07-14T13:37:50.890Z"
   },
   {
    "duration": 191,
    "start_time": "2023-07-14T13:37:52.095Z"
   },
   {
    "duration": 20,
    "start_time": "2023-07-14T13:37:52.288Z"
   },
   {
    "duration": 61,
    "start_time": "2023-07-14T13:37:52.313Z"
   },
   {
    "duration": 43,
    "start_time": "2023-07-14T13:37:52.377Z"
   },
   {
    "duration": 185,
    "start_time": "2023-07-14T13:37:52.423Z"
   },
   {
    "duration": 84,
    "start_time": "2023-07-14T13:37:52.614Z"
   },
   {
    "duration": 43,
    "start_time": "2023-07-14T13:37:52.699Z"
   },
   {
    "duration": 326,
    "start_time": "2023-07-14T13:37:52.744Z"
   },
   {
    "duration": 55,
    "start_time": "2023-07-14T13:37:53.072Z"
   },
   {
    "duration": 51,
    "start_time": "2023-07-14T13:37:53.129Z"
   },
   {
    "duration": 33,
    "start_time": "2023-07-14T13:37:53.182Z"
   },
   {
    "duration": 87,
    "start_time": "2023-07-14T13:37:53.218Z"
   },
   {
    "duration": 23,
    "start_time": "2023-07-14T13:37:53.307Z"
   },
   {
    "duration": 14,
    "start_time": "2023-07-14T13:37:53.332Z"
   },
   {
    "duration": 14,
    "start_time": "2023-07-14T13:37:53.347Z"
   },
   {
    "duration": 65,
    "start_time": "2023-07-14T13:37:53.363Z"
   },
   {
    "duration": 76,
    "start_time": "2023-07-14T13:37:53.430Z"
   },
   {
    "duration": 10,
    "start_time": "2023-07-14T13:37:53.508Z"
   },
   {
    "duration": 24,
    "start_time": "2023-07-14T13:37:53.520Z"
   },
   {
    "duration": 8,
    "start_time": "2023-07-14T13:37:53.546Z"
   },
   {
    "duration": 25,
    "start_time": "2023-07-14T13:37:53.555Z"
   },
   {
    "duration": 10,
    "start_time": "2023-07-14T13:37:53.581Z"
   },
   {
    "duration": 35,
    "start_time": "2023-07-14T13:37:53.593Z"
   },
   {
    "duration": 33,
    "start_time": "2023-07-14T13:37:53.630Z"
   },
   {
    "duration": 30,
    "start_time": "2023-07-14T13:51:35.226Z"
   },
   {
    "duration": 7,
    "start_time": "2023-07-14T14:00:23.288Z"
   },
   {
    "duration": 7,
    "start_time": "2023-07-14T14:01:06.911Z"
   },
   {
    "duration": 4,
    "start_time": "2023-07-14T14:01:18.807Z"
   },
   {
    "duration": 88,
    "start_time": "2023-07-14T14:43:33.282Z"
   },
   {
    "duration": 1231,
    "start_time": "2023-07-14T14:46:03.849Z"
   },
   {
    "duration": 526,
    "start_time": "2023-07-14T14:46:05.082Z"
   },
   {
    "duration": 20,
    "start_time": "2023-07-14T14:46:05.609Z"
   },
   {
    "duration": 51,
    "start_time": "2023-07-14T14:46:05.631Z"
   },
   {
    "duration": 1615,
    "start_time": "2023-07-14T14:46:05.684Z"
   },
   {
    "duration": 0,
    "start_time": "2023-07-14T14:46:07.301Z"
   },
   {
    "duration": 0,
    "start_time": "2023-07-14T14:46:07.302Z"
   },
   {
    "duration": 0,
    "start_time": "2023-07-14T14:46:07.303Z"
   },
   {
    "duration": 0,
    "start_time": "2023-07-14T14:46:07.305Z"
   },
   {
    "duration": 0,
    "start_time": "2023-07-14T14:46:07.306Z"
   },
   {
    "duration": 0,
    "start_time": "2023-07-14T14:46:07.307Z"
   },
   {
    "duration": 0,
    "start_time": "2023-07-14T14:46:07.308Z"
   },
   {
    "duration": 0,
    "start_time": "2023-07-14T14:46:07.310Z"
   },
   {
    "duration": 0,
    "start_time": "2023-07-14T14:46:07.311Z"
   },
   {
    "duration": 0,
    "start_time": "2023-07-14T14:46:07.312Z"
   },
   {
    "duration": 0,
    "start_time": "2023-07-14T14:46:07.313Z"
   },
   {
    "duration": 0,
    "start_time": "2023-07-14T14:46:07.314Z"
   },
   {
    "duration": 0,
    "start_time": "2023-07-14T14:46:07.315Z"
   },
   {
    "duration": 0,
    "start_time": "2023-07-14T14:46:07.316Z"
   },
   {
    "duration": 0,
    "start_time": "2023-07-14T14:46:07.318Z"
   },
   {
    "duration": 0,
    "start_time": "2023-07-14T14:46:07.319Z"
   },
   {
    "duration": 0,
    "start_time": "2023-07-14T14:46:07.320Z"
   },
   {
    "duration": 0,
    "start_time": "2023-07-14T14:46:07.321Z"
   },
   {
    "duration": 0,
    "start_time": "2023-07-14T14:46:07.322Z"
   },
   {
    "duration": 0,
    "start_time": "2023-07-14T14:46:07.323Z"
   },
   {
    "duration": 42,
    "start_time": "2023-07-14T14:46:42.436Z"
   },
   {
    "duration": 91,
    "start_time": "2023-07-14T14:47:18.915Z"
   },
   {
    "duration": 187,
    "start_time": "2023-07-14T14:47:46.422Z"
   },
   {
    "duration": 79,
    "start_time": "2023-07-14T14:47:48.238Z"
   },
   {
    "duration": 91,
    "start_time": "2023-07-14T14:48:07.510Z"
   },
   {
    "duration": 90,
    "start_time": "2023-07-14T14:48:13.465Z"
   },
   {
    "duration": 103,
    "start_time": "2023-07-14T14:48:22.079Z"
   },
   {
    "duration": 132,
    "start_time": "2023-07-14T14:48:47.551Z"
   },
   {
    "duration": 86,
    "start_time": "2023-07-14T14:49:56.611Z"
   },
   {
    "duration": 1364,
    "start_time": "2023-07-14T14:52:37.210Z"
   },
   {
    "duration": 7,
    "start_time": "2023-07-14T14:52:48.390Z"
   },
   {
    "duration": 11,
    "start_time": "2023-07-14T14:53:12.777Z"
   },
   {
    "duration": 13,
    "start_time": "2023-07-14T14:53:21.519Z"
   },
   {
    "duration": 13,
    "start_time": "2023-07-14T14:53:59.463Z"
   },
   {
    "duration": 13,
    "start_time": "2023-07-14T14:54:42.967Z"
   },
   {
    "duration": 81,
    "start_time": "2023-07-14T14:57:11.845Z"
   },
   {
    "duration": 24,
    "start_time": "2023-07-14T14:57:43.702Z"
   },
   {
    "duration": 104,
    "start_time": "2023-07-14T14:58:03.095Z"
   },
   {
    "duration": 22,
    "start_time": "2023-07-14T14:58:09.691Z"
   },
   {
    "duration": 310,
    "start_time": "2023-07-14T14:59:19.035Z"
   },
   {
    "duration": 20,
    "start_time": "2023-07-14T15:03:22.952Z"
   },
   {
    "duration": 16,
    "start_time": "2023-07-14T15:03:48.083Z"
   },
   {
    "duration": 14,
    "start_time": "2023-07-14T15:04:56.310Z"
   },
   {
    "duration": 10,
    "start_time": "2023-07-14T15:05:11.790Z"
   },
   {
    "duration": 11,
    "start_time": "2023-07-14T15:05:29.428Z"
   },
   {
    "duration": 3,
    "start_time": "2023-07-14T15:06:12.303Z"
   },
   {
    "duration": 15,
    "start_time": "2023-07-14T15:06:18.843Z"
   },
   {
    "duration": 4,
    "start_time": "2023-07-14T15:06:28.329Z"
   },
   {
    "duration": 235,
    "start_time": "2023-07-14T15:07:11.028Z"
   },
   {
    "duration": 33,
    "start_time": "2023-07-14T15:09:56.067Z"
   },
   {
    "duration": 37,
    "start_time": "2023-07-14T15:12:29.232Z"
   },
   {
    "duration": 37,
    "start_time": "2023-07-14T15:14:16.230Z"
   },
   {
    "duration": 112,
    "start_time": "2023-07-14T15:14:31.177Z"
   },
   {
    "duration": 81,
    "start_time": "2023-07-14T15:14:37.571Z"
   },
   {
    "duration": 38,
    "start_time": "2023-07-14T15:14:52.123Z"
   },
   {
    "duration": 42,
    "start_time": "2023-07-14T15:15:37.215Z"
   },
   {
    "duration": 41,
    "start_time": "2023-07-14T15:16:01.106Z"
   },
   {
    "duration": 40,
    "start_time": "2023-07-14T15:16:20.213Z"
   },
   {
    "duration": 39,
    "start_time": "2023-07-14T15:16:54.060Z"
   },
   {
    "duration": 39,
    "start_time": "2023-07-14T15:17:05.644Z"
   },
   {
    "duration": 41,
    "start_time": "2023-07-14T15:17:42.458Z"
   },
   {
    "duration": 38,
    "start_time": "2023-07-14T15:19:25.451Z"
   },
   {
    "duration": 24,
    "start_time": "2023-07-14T15:20:41.905Z"
   },
   {
    "duration": 62,
    "start_time": "2023-07-14T15:20:45.672Z"
   },
   {
    "duration": 44,
    "start_time": "2023-07-14T15:20:50.351Z"
   },
   {
    "duration": 20,
    "start_time": "2023-07-14T15:20:52.408Z"
   },
   {
    "duration": 63,
    "start_time": "2023-07-14T15:20:56.827Z"
   },
   {
    "duration": 74,
    "start_time": "2023-07-14T15:21:48.846Z"
   },
   {
    "duration": 1163,
    "start_time": "2023-07-14T15:22:10.999Z"
   },
   {
    "duration": 170,
    "start_time": "2023-07-14T15:22:12.164Z"
   },
   {
    "duration": 19,
    "start_time": "2023-07-14T15:22:12.335Z"
   },
   {
    "duration": 36,
    "start_time": "2023-07-14T15:22:12.356Z"
   },
   {
    "duration": 44,
    "start_time": "2023-07-14T15:22:12.395Z"
   },
   {
    "duration": 210,
    "start_time": "2023-07-14T15:22:12.440Z"
   },
   {
    "duration": 130,
    "start_time": "2023-07-14T15:22:12.652Z"
   },
   {
    "duration": 30,
    "start_time": "2023-07-14T15:22:12.784Z"
   },
   {
    "duration": 10,
    "start_time": "2023-07-14T15:22:12.816Z"
   },
   {
    "duration": 10,
    "start_time": "2023-07-14T15:22:12.828Z"
   },
   {
    "duration": 22,
    "start_time": "2023-07-14T15:22:12.839Z"
   },
   {
    "duration": 352,
    "start_time": "2023-07-14T15:22:12.863Z"
   },
   {
    "duration": 34,
    "start_time": "2023-07-14T15:22:13.217Z"
   },
   {
    "duration": 62,
    "start_time": "2023-07-14T15:22:13.254Z"
   },
   {
    "duration": 48,
    "start_time": "2023-07-14T15:22:13.318Z"
   },
   {
    "duration": 19,
    "start_time": "2023-07-14T15:22:13.368Z"
   },
   {
    "duration": 60,
    "start_time": "2023-07-14T15:22:13.402Z"
   },
   {
    "duration": 20,
    "start_time": "2023-07-14T15:22:13.464Z"
   },
   {
    "duration": 7,
    "start_time": "2023-07-14T15:22:13.502Z"
   },
   {
    "duration": 10,
    "start_time": "2023-07-14T15:22:13.510Z"
   },
   {
    "duration": 64,
    "start_time": "2023-07-14T15:22:13.521Z"
   },
   {
    "duration": 84,
    "start_time": "2023-07-14T15:22:13.587Z"
   },
   {
    "duration": 7,
    "start_time": "2023-07-14T15:22:13.673Z"
   },
   {
    "duration": 31,
    "start_time": "2023-07-14T15:22:13.682Z"
   },
   {
    "duration": 11,
    "start_time": "2023-07-14T15:22:13.715Z"
   },
   {
    "duration": 16,
    "start_time": "2023-07-14T15:22:13.728Z"
   },
   {
    "duration": 13,
    "start_time": "2023-07-14T15:22:13.746Z"
   },
   {
    "duration": 11,
    "start_time": "2023-07-14T15:22:13.761Z"
   },
   {
    "duration": 42,
    "start_time": "2023-07-14T15:22:13.773Z"
   },
   {
    "duration": 86,
    "start_time": "2023-07-14T15:28:04.814Z"
   },
   {
    "duration": 1172,
    "start_time": "2023-07-14T15:29:28.008Z"
   },
   {
    "duration": 169,
    "start_time": "2023-07-14T15:29:29.182Z"
   },
   {
    "duration": 19,
    "start_time": "2023-07-14T15:29:29.353Z"
   },
   {
    "duration": 29,
    "start_time": "2023-07-14T15:29:29.373Z"
   },
   {
    "duration": 41,
    "start_time": "2023-07-14T15:29:29.405Z"
   },
   {
    "duration": 223,
    "start_time": "2023-07-14T15:29:29.447Z"
   },
   {
    "duration": 143,
    "start_time": "2023-07-14T15:29:29.671Z"
   },
   {
    "duration": 15,
    "start_time": "2023-07-14T15:29:29.816Z"
   },
   {
    "duration": 12,
    "start_time": "2023-07-14T15:29:29.833Z"
   },
   {
    "duration": 16,
    "start_time": "2023-07-14T15:29:29.846Z"
   },
   {
    "duration": 56,
    "start_time": "2023-07-14T15:29:29.864Z"
   },
   {
    "duration": 320,
    "start_time": "2023-07-14T15:29:29.923Z"
   },
   {
    "duration": 38,
    "start_time": "2023-07-14T15:29:30.245Z"
   },
   {
    "duration": 45,
    "start_time": "2023-07-14T15:29:30.301Z"
   },
   {
    "duration": 76,
    "start_time": "2023-07-14T15:29:30.349Z"
   },
   {
    "duration": 27,
    "start_time": "2023-07-14T15:29:30.427Z"
   },
   {
    "duration": 104,
    "start_time": "2023-07-14T15:29:30.457Z"
   },
   {
    "duration": 20,
    "start_time": "2023-07-14T15:29:30.562Z"
   },
   {
    "duration": 38,
    "start_time": "2023-07-14T15:29:30.583Z"
   },
   {
    "duration": 42,
    "start_time": "2023-07-14T15:29:30.623Z"
   },
   {
    "duration": 83,
    "start_time": "2023-07-14T15:29:30.667Z"
   },
   {
    "duration": 79,
    "start_time": "2023-07-14T15:29:30.752Z"
   },
   {
    "duration": 5,
    "start_time": "2023-07-14T15:29:30.833Z"
   },
   {
    "duration": 72,
    "start_time": "2023-07-14T15:29:30.840Z"
   },
   {
    "duration": 34,
    "start_time": "2023-07-14T15:29:30.914Z"
   },
   {
    "duration": 58,
    "start_time": "2023-07-14T15:29:30.949Z"
   },
   {
    "duration": 38,
    "start_time": "2023-07-14T15:29:31.009Z"
   },
   {
    "duration": 49,
    "start_time": "2023-07-14T15:29:31.048Z"
   },
   {
    "duration": 36,
    "start_time": "2023-07-14T15:29:31.099Z"
   },
   {
    "duration": 231,
    "start_time": "2023-07-14T15:43:31.956Z"
   },
   {
    "duration": 122,
    "start_time": "2023-07-14T15:51:02.877Z"
   },
   {
    "duration": 1529,
    "start_time": "2023-07-17T14:33:59.067Z"
   },
   {
    "duration": 777,
    "start_time": "2023-07-17T14:34:00.599Z"
   },
   {
    "duration": 19,
    "start_time": "2023-07-17T14:34:01.378Z"
   },
   {
    "duration": 176,
    "start_time": "2023-07-17T14:34:01.399Z"
   },
   {
    "duration": 115,
    "start_time": "2023-07-17T14:34:01.577Z"
   },
   {
    "duration": 237,
    "start_time": "2023-07-17T14:34:01.694Z"
   },
   {
    "duration": 166,
    "start_time": "2023-07-17T14:34:01.932Z"
   },
   {
    "duration": 95,
    "start_time": "2023-07-17T14:34:02.100Z"
   },
   {
    "duration": 98,
    "start_time": "2023-07-17T14:34:02.197Z"
   },
   {
    "duration": 62,
    "start_time": "2023-07-17T14:34:02.299Z"
   },
   {
    "duration": 220,
    "start_time": "2023-07-17T14:34:02.363Z"
   },
   {
    "duration": 578,
    "start_time": "2023-07-17T14:34:02.585Z"
   },
   {
    "duration": 74,
    "start_time": "2023-07-17T14:34:03.165Z"
   },
   {
    "duration": 74,
    "start_time": "2023-07-17T14:34:03.243Z"
   },
   {
    "duration": 66,
    "start_time": "2023-07-17T14:34:03.319Z"
   },
   {
    "duration": 95,
    "start_time": "2023-07-17T14:34:03.387Z"
   },
   {
    "duration": 326,
    "start_time": "2023-07-17T14:34:03.484Z"
   },
   {
    "duration": 53,
    "start_time": "2023-07-17T14:34:03.812Z"
   },
   {
    "duration": 344,
    "start_time": "2023-07-17T14:34:03.868Z"
   },
   {
    "duration": 56,
    "start_time": "2023-07-17T14:34:04.213Z"
   },
   {
    "duration": 91,
    "start_time": "2023-07-17T14:34:04.271Z"
   },
   {
    "duration": 98,
    "start_time": "2023-07-17T14:34:04.363Z"
   },
   {
    "duration": 52,
    "start_time": "2023-07-17T14:34:04.463Z"
   },
   {
    "duration": 83,
    "start_time": "2023-07-17T14:34:04.518Z"
   },
   {
    "duration": 44,
    "start_time": "2023-07-17T14:34:04.603Z"
   },
   {
    "duration": 24,
    "start_time": "2023-07-17T14:34:04.659Z"
   },
   {
    "duration": 12,
    "start_time": "2023-07-17T14:34:04.686Z"
   },
   {
    "duration": 31,
    "start_time": "2023-07-17T14:34:04.702Z"
   },
   {
    "duration": 56,
    "start_time": "2023-07-17T14:34:04.735Z"
   },
   {
    "duration": 4,
    "start_time": "2023-07-17T14:50:06.587Z"
   },
   {
    "duration": 884,
    "start_time": "2023-07-17T14:50:11.389Z"
   },
   {
    "duration": 57,
    "start_time": "2023-07-17T14:50:43.238Z"
   },
   {
    "duration": 190,
    "start_time": "2023-07-17T14:52:48.604Z"
   },
   {
    "duration": 210,
    "start_time": "2023-07-17T14:53:00.497Z"
   },
   {
    "duration": 49,
    "start_time": "2023-07-17T14:55:42.052Z"
   },
   {
    "duration": 156,
    "start_time": "2023-07-17T14:56:06.359Z"
   },
   {
    "duration": 132,
    "start_time": "2023-07-17T15:01:03.686Z"
   },
   {
    "duration": 113,
    "start_time": "2023-07-17T15:01:13.794Z"
   },
   {
    "duration": 52,
    "start_time": "2023-07-17T15:01:50.335Z"
   },
   {
    "duration": 385,
    "start_time": "2023-07-17T15:03:05.992Z"
   },
   {
    "duration": 121,
    "start_time": "2023-07-17T15:03:29.995Z"
   },
   {
    "duration": 119,
    "start_time": "2023-07-17T15:04:07.956Z"
   },
   {
    "duration": 104,
    "start_time": "2023-07-17T15:04:52.285Z"
   },
   {
    "duration": 8,
    "start_time": "2023-07-17T15:06:13.804Z"
   },
   {
    "duration": 5,
    "start_time": "2023-07-17T15:08:13.385Z"
   },
   {
    "duration": 6,
    "start_time": "2023-07-17T15:08:19.449Z"
   },
   {
    "duration": 27,
    "start_time": "2023-07-17T15:08:23.618Z"
   },
   {
    "duration": 20,
    "start_time": "2023-07-17T15:12:52.641Z"
   },
   {
    "duration": 18,
    "start_time": "2023-07-17T15:13:16.444Z"
   },
   {
    "duration": 13,
    "start_time": "2023-07-17T15:13:33.481Z"
   },
   {
    "duration": 13,
    "start_time": "2023-07-17T15:13:44.560Z"
   },
   {
    "duration": 11,
    "start_time": "2023-07-17T15:14:32.298Z"
   },
   {
    "duration": 9,
    "start_time": "2023-07-17T15:14:59.845Z"
   },
   {
    "duration": 16,
    "start_time": "2023-07-17T15:15:09.143Z"
   },
   {
    "duration": 13,
    "start_time": "2023-07-17T15:15:22.096Z"
   },
   {
    "duration": 1233,
    "start_time": "2023-07-17T16:43:22.008Z"
   },
   {
    "duration": 730,
    "start_time": "2023-07-17T16:43:23.243Z"
   },
   {
    "duration": 28,
    "start_time": "2023-07-17T16:43:23.976Z"
   },
   {
    "duration": 27,
    "start_time": "2023-07-17T16:43:24.006Z"
   },
   {
    "duration": 75,
    "start_time": "2023-07-17T16:43:24.036Z"
   },
   {
    "duration": 220,
    "start_time": "2023-07-17T16:43:24.113Z"
   },
   {
    "duration": 139,
    "start_time": "2023-07-17T16:43:24.335Z"
   },
   {
    "duration": 14,
    "start_time": "2023-07-17T16:43:24.476Z"
   },
   {
    "duration": 10,
    "start_time": "2023-07-17T16:43:24.492Z"
   },
   {
    "duration": 11,
    "start_time": "2023-07-17T16:43:24.504Z"
   },
   {
    "duration": 51,
    "start_time": "2023-07-17T16:43:24.517Z"
   },
   {
    "duration": 305,
    "start_time": "2023-07-17T16:43:24.570Z"
   },
   {
    "duration": 34,
    "start_time": "2023-07-17T16:43:24.877Z"
   },
   {
    "duration": 59,
    "start_time": "2023-07-17T16:43:24.914Z"
   },
   {
    "duration": 49,
    "start_time": "2023-07-17T16:43:24.975Z"
   },
   {
    "duration": 43,
    "start_time": "2023-07-17T16:43:25.026Z"
   },
   {
    "duration": 64,
    "start_time": "2023-07-17T16:43:25.077Z"
   },
   {
    "duration": 30,
    "start_time": "2023-07-17T16:43:25.142Z"
   },
   {
    "duration": 6,
    "start_time": "2023-07-17T16:43:25.174Z"
   },
   {
    "duration": 8,
    "start_time": "2023-07-17T16:43:25.182Z"
   },
   {
    "duration": 60,
    "start_time": "2023-07-17T16:43:25.192Z"
   },
   {
    "duration": 80,
    "start_time": "2023-07-17T16:43:25.268Z"
   },
   {
    "duration": 542,
    "start_time": "2023-07-17T16:43:25.350Z"
   },
   {
    "duration": 5,
    "start_time": "2023-07-17T16:43:25.894Z"
   },
   {
    "duration": 22,
    "start_time": "2023-07-17T16:43:25.901Z"
   },
   {
    "duration": 43,
    "start_time": "2023-07-17T16:43:25.925Z"
   },
   {
    "duration": 13,
    "start_time": "2023-07-17T16:43:25.970Z"
   },
   {
    "duration": 13,
    "start_time": "2023-07-17T16:43:25.986Z"
   },
   {
    "duration": 13,
    "start_time": "2023-07-17T16:43:26.001Z"
   },
   {
    "duration": 10,
    "start_time": "2023-07-17T16:43:26.069Z"
   },
   {
    "duration": 10,
    "start_time": "2023-07-17T16:43:26.081Z"
   },
   {
    "duration": 15,
    "start_time": "2023-07-17T16:43:26.093Z"
   },
   {
    "duration": 11,
    "start_time": "2023-07-17T16:43:57.003Z"
   },
   {
    "duration": 5,
    "start_time": "2023-07-17T16:44:47.888Z"
   },
   {
    "duration": 5,
    "start_time": "2023-07-17T16:46:35.483Z"
   },
   {
    "duration": 14,
    "start_time": "2023-07-17T16:47:26.383Z"
   },
   {
    "duration": 6,
    "start_time": "2023-07-17T16:50:47.896Z"
   },
   {
    "duration": 163,
    "start_time": "2023-07-17T16:54:59.547Z"
   },
   {
    "duration": 2034,
    "start_time": "2023-07-17T16:55:04.907Z"
   },
   {
    "duration": 5,
    "start_time": "2023-07-17T16:55:56.784Z"
   },
   {
    "duration": 9,
    "start_time": "2023-07-17T16:56:09.011Z"
   },
   {
    "duration": 21,
    "start_time": "2023-07-17T16:58:22.197Z"
   },
   {
    "duration": 20,
    "start_time": "2023-07-17T16:58:42.989Z"
   },
   {
    "duration": 3,
    "start_time": "2023-07-17T16:59:59.479Z"
   },
   {
    "duration": 4,
    "start_time": "2023-07-17T17:00:09.491Z"
   },
   {
    "duration": 6,
    "start_time": "2023-07-17T17:00:40.974Z"
   },
   {
    "duration": 4,
    "start_time": "2023-07-17T17:02:26.148Z"
   },
   {
    "duration": 4,
    "start_time": "2023-07-17T17:03:28.507Z"
   },
   {
    "duration": 4,
    "start_time": "2023-07-17T17:03:33.252Z"
   },
   {
    "duration": 112,
    "start_time": "2023-07-17T17:03:53.820Z"
   },
   {
    "duration": 5,
    "start_time": "2023-07-17T17:03:58.417Z"
   },
   {
    "duration": 6,
    "start_time": "2023-07-17T17:04:40.807Z"
   },
   {
    "duration": 8,
    "start_time": "2023-07-17T17:04:47.022Z"
   },
   {
    "duration": 8,
    "start_time": "2023-07-17T17:05:18.718Z"
   },
   {
    "duration": 11,
    "start_time": "2023-07-17T17:05:34.105Z"
   },
   {
    "duration": 1144,
    "start_time": "2023-07-17T18:11:49.005Z"
   },
   {
    "duration": 187,
    "start_time": "2023-07-17T18:11:50.151Z"
   },
   {
    "duration": 21,
    "start_time": "2023-07-17T18:11:50.340Z"
   },
   {
    "duration": 26,
    "start_time": "2023-07-17T18:11:50.369Z"
   },
   {
    "duration": 39,
    "start_time": "2023-07-17T18:11:50.397Z"
   },
   {
    "duration": 243,
    "start_time": "2023-07-17T18:11:50.438Z"
   },
   {
    "duration": 145,
    "start_time": "2023-07-17T18:11:50.683Z"
   },
   {
    "duration": 16,
    "start_time": "2023-07-17T18:11:50.830Z"
   },
   {
    "duration": 36,
    "start_time": "2023-07-17T18:11:50.847Z"
   },
   {
    "duration": 10,
    "start_time": "2023-07-17T18:11:50.885Z"
   },
   {
    "duration": 24,
    "start_time": "2023-07-17T18:11:50.896Z"
   },
   {
    "duration": 353,
    "start_time": "2023-07-17T18:11:50.921Z"
   },
   {
    "duration": 40,
    "start_time": "2023-07-17T18:11:51.276Z"
   },
   {
    "duration": 71,
    "start_time": "2023-07-17T18:11:51.320Z"
   },
   {
    "duration": 115,
    "start_time": "2023-07-17T18:11:51.392Z"
   },
   {
    "duration": 20,
    "start_time": "2023-07-17T18:11:51.509Z"
   },
   {
    "duration": 79,
    "start_time": "2023-07-17T18:11:51.531Z"
   },
   {
    "duration": 18,
    "start_time": "2023-07-17T18:11:51.611Z"
   },
   {
    "duration": 6,
    "start_time": "2023-07-17T18:11:51.630Z"
   },
   {
    "duration": 4,
    "start_time": "2023-07-17T18:11:51.638Z"
   },
   {
    "duration": 70,
    "start_time": "2023-07-17T18:11:51.643Z"
   },
   {
    "duration": 103,
    "start_time": "2023-07-17T18:11:51.715Z"
   },
   {
    "duration": 528,
    "start_time": "2023-07-17T18:11:51.820Z"
   },
   {
    "duration": 5,
    "start_time": "2023-07-17T18:11:52.349Z"
   },
   {
    "duration": 14,
    "start_time": "2023-07-17T18:11:52.356Z"
   },
   {
    "duration": 18,
    "start_time": "2023-07-17T18:11:52.372Z"
   },
   {
    "duration": 18,
    "start_time": "2023-07-17T18:11:52.392Z"
   },
   {
    "duration": 65,
    "start_time": "2023-07-17T18:11:52.412Z"
   },
   {
    "duration": 11,
    "start_time": "2023-07-17T18:11:52.479Z"
   },
   {
    "duration": 11,
    "start_time": "2023-07-17T18:11:52.492Z"
   },
   {
    "duration": 20,
    "start_time": "2023-07-17T18:11:52.504Z"
   },
   {
    "duration": 58,
    "start_time": "2023-07-17T18:11:52.525Z"
   },
   {
    "duration": 1174,
    "start_time": "2023-07-18T09:54:43.701Z"
   },
   {
    "duration": 488,
    "start_time": "2023-07-18T09:54:44.878Z"
   },
   {
    "duration": 21,
    "start_time": "2023-07-18T09:54:45.368Z"
   },
   {
    "duration": 111,
    "start_time": "2023-07-18T09:54:45.392Z"
   },
   {
    "duration": 58,
    "start_time": "2023-07-18T09:54:45.504Z"
   },
   {
    "duration": 211,
    "start_time": "2023-07-18T09:54:45.563Z"
   },
   {
    "duration": 128,
    "start_time": "2023-07-18T09:54:45.775Z"
   },
   {
    "duration": 24,
    "start_time": "2023-07-18T09:54:45.904Z"
   },
   {
    "duration": 22,
    "start_time": "2023-07-18T09:54:45.930Z"
   },
   {
    "duration": 39,
    "start_time": "2023-07-18T09:54:45.954Z"
   },
   {
    "duration": 94,
    "start_time": "2023-07-18T09:54:45.994Z"
   },
   {
    "duration": 311,
    "start_time": "2023-07-18T09:54:46.090Z"
   },
   {
    "duration": 40,
    "start_time": "2023-07-18T09:54:46.402Z"
   },
   {
    "duration": 41,
    "start_time": "2023-07-18T09:54:46.443Z"
   },
   {
    "duration": 52,
    "start_time": "2023-07-18T09:54:46.485Z"
   },
   {
    "duration": 19,
    "start_time": "2023-07-18T09:54:46.539Z"
   },
   {
    "duration": 84,
    "start_time": "2023-07-18T09:54:46.560Z"
   },
   {
    "duration": 32,
    "start_time": "2023-07-18T09:54:46.645Z"
   },
   {
    "duration": 27,
    "start_time": "2023-07-18T09:54:46.679Z"
   },
   {
    "duration": 45,
    "start_time": "2023-07-18T09:54:46.707Z"
   },
   {
    "duration": 59,
    "start_time": "2023-07-18T09:54:46.754Z"
   },
   {
    "duration": 73,
    "start_time": "2023-07-18T09:54:46.815Z"
   },
   {
    "duration": 566,
    "start_time": "2023-07-18T09:54:46.890Z"
   },
   {
    "duration": 6,
    "start_time": "2023-07-18T09:54:47.458Z"
   },
   {
    "duration": 32,
    "start_time": "2023-07-18T09:54:47.465Z"
   },
   {
    "duration": 38,
    "start_time": "2023-07-18T09:54:47.499Z"
   },
   {
    "duration": 29,
    "start_time": "2023-07-18T09:54:47.539Z"
   },
   {
    "duration": 15,
    "start_time": "2023-07-18T09:54:47.571Z"
   },
   {
    "duration": 33,
    "start_time": "2023-07-18T09:54:47.587Z"
   },
   {
    "duration": 31,
    "start_time": "2023-07-18T09:54:47.621Z"
   },
   {
    "duration": 31,
    "start_time": "2023-07-18T09:54:47.653Z"
   },
   {
    "duration": 37,
    "start_time": "2023-07-18T09:54:47.685Z"
   },
   {
    "duration": 1153,
    "start_time": "2023-07-18T10:09:02.343Z"
   },
   {
    "duration": 177,
    "start_time": "2023-07-18T10:09:03.498Z"
   },
   {
    "duration": 20,
    "start_time": "2023-07-18T10:09:03.678Z"
   },
   {
    "duration": 34,
    "start_time": "2023-07-18T10:09:03.700Z"
   },
   {
    "duration": 49,
    "start_time": "2023-07-18T10:09:03.735Z"
   },
   {
    "duration": 211,
    "start_time": "2023-07-18T10:09:03.786Z"
   },
   {
    "duration": 148,
    "start_time": "2023-07-18T10:09:03.999Z"
   },
   {
    "duration": 14,
    "start_time": "2023-07-18T10:09:04.148Z"
   },
   {
    "duration": 15,
    "start_time": "2023-07-18T10:09:04.164Z"
   },
   {
    "duration": 15,
    "start_time": "2023-07-18T10:09:04.182Z"
   },
   {
    "duration": 27,
    "start_time": "2023-07-18T10:09:04.220Z"
   },
   {
    "duration": 327,
    "start_time": "2023-07-18T10:09:04.249Z"
   },
   {
    "duration": 44,
    "start_time": "2023-07-18T10:09:04.577Z"
   },
   {
    "duration": 51,
    "start_time": "2023-07-18T10:09:04.622Z"
   },
   {
    "duration": 75,
    "start_time": "2023-07-18T10:09:04.675Z"
   },
   {
    "duration": 29,
    "start_time": "2023-07-18T10:09:04.752Z"
   },
   {
    "duration": 91,
    "start_time": "2023-07-18T10:09:04.783Z"
   },
   {
    "duration": 19,
    "start_time": "2023-07-18T10:09:04.876Z"
   },
   {
    "duration": 46,
    "start_time": "2023-07-18T10:09:04.897Z"
   },
   {
    "duration": 21,
    "start_time": "2023-07-18T10:09:04.946Z"
   },
   {
    "duration": 88,
    "start_time": "2023-07-18T10:09:04.968Z"
   },
   {
    "duration": 94,
    "start_time": "2023-07-18T10:09:05.057Z"
   },
   {
    "duration": 612,
    "start_time": "2023-07-18T10:09:05.153Z"
   },
   {
    "duration": 5,
    "start_time": "2023-07-18T10:09:05.767Z"
   },
   {
    "duration": 33,
    "start_time": "2023-07-18T10:09:05.774Z"
   },
   {
    "duration": 13,
    "start_time": "2023-07-18T10:09:05.821Z"
   },
   {
    "duration": 26,
    "start_time": "2023-07-18T10:09:05.836Z"
   },
   {
    "duration": 56,
    "start_time": "2023-07-18T10:09:05.865Z"
   },
   {
    "duration": 10,
    "start_time": "2023-07-18T10:09:05.923Z"
   },
   {
    "duration": 14,
    "start_time": "2023-07-18T10:09:05.934Z"
   },
   {
    "duration": 25,
    "start_time": "2023-07-18T10:09:05.949Z"
   },
   {
    "duration": 26,
    "start_time": "2023-07-18T10:09:05.976Z"
   },
   {
    "duration": 1239,
    "start_time": "2023-07-18T10:16:40.750Z"
   },
   {
    "duration": 1004,
    "start_time": "2023-07-18T10:16:41.991Z"
   },
   {
    "duration": 21,
    "start_time": "2023-07-18T10:16:42.996Z"
   },
   {
    "duration": 18,
    "start_time": "2023-07-18T10:16:43.018Z"
   },
   {
    "duration": 40,
    "start_time": "2023-07-18T10:16:43.038Z"
   },
   {
    "duration": 218,
    "start_time": "2023-07-18T10:16:43.080Z"
   },
   {
    "duration": 148,
    "start_time": "2023-07-18T10:16:43.300Z"
   },
   {
    "duration": 15,
    "start_time": "2023-07-18T10:16:43.450Z"
   },
   {
    "duration": 11,
    "start_time": "2023-07-18T10:16:43.467Z"
   },
   {
    "duration": 39,
    "start_time": "2023-07-18T10:16:43.480Z"
   },
   {
    "duration": 26,
    "start_time": "2023-07-18T10:16:43.521Z"
   },
   {
    "duration": 382,
    "start_time": "2023-07-18T10:16:43.548Z"
   },
   {
    "duration": 35,
    "start_time": "2023-07-18T10:16:43.932Z"
   },
   {
    "duration": 62,
    "start_time": "2023-07-18T10:16:43.970Z"
   },
   {
    "duration": 51,
    "start_time": "2023-07-18T10:16:44.034Z"
   },
   {
    "duration": 37,
    "start_time": "2023-07-18T10:16:44.086Z"
   },
   {
    "duration": 84,
    "start_time": "2023-07-18T10:16:44.125Z"
   },
   {
    "duration": 19,
    "start_time": "2023-07-18T10:16:44.214Z"
   },
   {
    "duration": 8,
    "start_time": "2023-07-18T10:16:44.235Z"
   },
   {
    "duration": 32,
    "start_time": "2023-07-18T10:16:44.244Z"
   },
   {
    "duration": 76,
    "start_time": "2023-07-18T10:16:44.278Z"
   },
   {
    "duration": 91,
    "start_time": "2023-07-18T10:16:44.356Z"
   },
   {
    "duration": 557,
    "start_time": "2023-07-18T10:16:44.449Z"
   },
   {
    "duration": 6,
    "start_time": "2023-07-18T10:16:45.008Z"
   },
   {
    "duration": 97,
    "start_time": "2023-07-18T10:16:45.016Z"
   },
   {
    "duration": 53,
    "start_time": "2023-07-18T10:16:45.115Z"
   },
   {
    "duration": 27,
    "start_time": "2023-07-18T10:16:45.170Z"
   },
   {
    "duration": 13,
    "start_time": "2023-07-18T10:16:45.199Z"
   },
   {
    "duration": 19,
    "start_time": "2023-07-18T10:16:45.214Z"
   },
   {
    "duration": 12,
    "start_time": "2023-07-18T10:16:45.235Z"
   },
   {
    "duration": 12,
    "start_time": "2023-07-18T10:16:45.249Z"
   },
   {
    "duration": 37,
    "start_time": "2023-07-18T10:16:45.263Z"
   },
   {
    "duration": 7,
    "start_time": "2023-07-18T10:19:28.570Z"
   },
   {
    "duration": 157,
    "start_time": "2023-07-18T10:22:39.920Z"
   },
   {
    "duration": 13,
    "start_time": "2023-07-18T10:22:55.208Z"
   },
   {
    "duration": 7,
    "start_time": "2023-07-18T10:24:06.514Z"
   },
   {
    "duration": 11,
    "start_time": "2023-07-18T10:28:48.971Z"
   },
   {
    "duration": 12,
    "start_time": "2023-07-18T10:29:37.200Z"
   },
   {
    "duration": 12,
    "start_time": "2023-07-18T10:29:52.985Z"
   },
   {
    "duration": 13,
    "start_time": "2023-07-18T10:30:01.908Z"
   },
   {
    "duration": 12,
    "start_time": "2023-07-18T10:30:21.057Z"
   },
   {
    "duration": 13,
    "start_time": "2023-07-18T10:30:32.816Z"
   },
   {
    "duration": 12,
    "start_time": "2023-07-18T10:30:37.103Z"
   },
   {
    "duration": 17,
    "start_time": "2023-07-18T10:31:42.504Z"
   },
   {
    "duration": 9,
    "start_time": "2023-07-18T10:32:06.179Z"
   },
   {
    "duration": 11,
    "start_time": "2023-07-18T10:32:58.582Z"
   },
   {
    "duration": 13,
    "start_time": "2023-07-18T10:33:13.849Z"
   },
   {
    "duration": 21,
    "start_time": "2023-07-18T10:35:02.665Z"
   },
   {
    "duration": 1259,
    "start_time": "2023-07-18T10:51:36.987Z"
   },
   {
    "duration": 185,
    "start_time": "2023-07-18T10:51:38.248Z"
   },
   {
    "duration": 29,
    "start_time": "2023-07-18T10:51:38.436Z"
   },
   {
    "duration": 19,
    "start_time": "2023-07-18T10:51:38.467Z"
   },
   {
    "duration": 69,
    "start_time": "2023-07-18T10:51:38.487Z"
   },
   {
    "duration": 238,
    "start_time": "2023-07-18T10:51:38.558Z"
   },
   {
    "duration": 153,
    "start_time": "2023-07-18T10:51:38.798Z"
   },
   {
    "duration": 14,
    "start_time": "2023-07-18T10:51:38.953Z"
   },
   {
    "duration": 12,
    "start_time": "2023-07-18T10:51:38.969Z"
   },
   {
    "duration": 48,
    "start_time": "2023-07-18T10:51:38.983Z"
   },
   {
    "duration": 30,
    "start_time": "2023-07-18T10:51:39.033Z"
   },
   {
    "duration": 380,
    "start_time": "2023-07-18T10:51:39.066Z"
   },
   {
    "duration": 35,
    "start_time": "2023-07-18T10:51:39.448Z"
   },
   {
    "duration": 66,
    "start_time": "2023-07-18T10:51:39.485Z"
   },
   {
    "duration": 72,
    "start_time": "2023-07-18T10:51:39.553Z"
   },
   {
    "duration": 37,
    "start_time": "2023-07-18T10:51:39.628Z"
   },
   {
    "duration": 95,
    "start_time": "2023-07-18T10:51:39.667Z"
   },
   {
    "duration": 21,
    "start_time": "2023-07-18T10:51:39.764Z"
   },
   {
    "duration": 10,
    "start_time": "2023-07-18T10:51:39.787Z"
   },
   {
    "duration": 15,
    "start_time": "2023-07-18T10:51:39.814Z"
   },
   {
    "duration": 50,
    "start_time": "2023-07-18T10:51:39.834Z"
   },
   {
    "duration": 150,
    "start_time": "2023-07-18T10:51:39.889Z"
   },
   {
    "duration": 7,
    "start_time": "2023-07-18T10:51:40.041Z"
   },
   {
    "duration": 21,
    "start_time": "2023-07-18T10:51:40.049Z"
   },
   {
    "duration": 10,
    "start_time": "2023-07-18T10:51:40.072Z"
   },
   {
    "duration": 26,
    "start_time": "2023-07-18T10:51:40.084Z"
   },
   {
    "duration": 19,
    "start_time": "2023-07-18T10:51:40.112Z"
   },
   {
    "duration": 11,
    "start_time": "2023-07-18T10:51:40.135Z"
   },
   {
    "duration": 13,
    "start_time": "2023-07-18T10:51:40.147Z"
   },
   {
    "duration": 18,
    "start_time": "2023-07-18T10:51:40.162Z"
   },
   {
    "duration": 57,
    "start_time": "2023-07-18T10:51:40.182Z"
   },
   {
    "duration": 293,
    "start_time": "2023-07-18T10:52:30.382Z"
   },
   {
    "duration": 1355,
    "start_time": "2023-07-19T07:18:14.558Z"
   },
   {
    "duration": 840,
    "start_time": "2023-07-19T07:18:15.915Z"
   },
   {
    "duration": 26,
    "start_time": "2023-07-19T07:18:16.757Z"
   },
   {
    "duration": 19,
    "start_time": "2023-07-19T07:18:16.785Z"
   },
   {
    "duration": 68,
    "start_time": "2023-07-19T07:18:16.807Z"
   },
   {
    "duration": 260,
    "start_time": "2023-07-19T07:18:16.877Z"
   },
   {
    "duration": 190,
    "start_time": "2023-07-19T07:18:17.139Z"
   },
   {
    "duration": 18,
    "start_time": "2023-07-19T07:18:17.332Z"
   },
   {
    "duration": 16,
    "start_time": "2023-07-19T07:18:17.367Z"
   },
   {
    "duration": 24,
    "start_time": "2023-07-19T07:18:17.385Z"
   },
   {
    "duration": 60,
    "start_time": "2023-07-19T07:18:17.412Z"
   },
   {
    "duration": 397,
    "start_time": "2023-07-19T07:18:17.474Z"
   },
   {
    "duration": 41,
    "start_time": "2023-07-19T07:18:17.873Z"
   },
   {
    "duration": 72,
    "start_time": "2023-07-19T07:18:17.918Z"
   },
   {
    "duration": 76,
    "start_time": "2023-07-19T07:18:17.992Z"
   },
   {
    "duration": 28,
    "start_time": "2023-07-19T07:18:18.071Z"
   },
   {
    "duration": 102,
    "start_time": "2023-07-19T07:18:18.101Z"
   },
   {
    "duration": 22,
    "start_time": "2023-07-19T07:18:18.205Z"
   },
   {
    "duration": 11,
    "start_time": "2023-07-19T07:18:18.229Z"
   },
   {
    "duration": 36,
    "start_time": "2023-07-19T07:18:18.243Z"
   },
   {
    "duration": 73,
    "start_time": "2023-07-19T07:18:18.281Z"
   },
   {
    "duration": 103,
    "start_time": "2023-07-19T07:18:18.356Z"
   },
   {
    "duration": 7,
    "start_time": "2023-07-19T07:18:18.461Z"
   },
   {
    "duration": 21,
    "start_time": "2023-07-19T07:18:18.470Z"
   },
   {
    "duration": 30,
    "start_time": "2023-07-19T07:18:18.493Z"
   },
   {
    "duration": 13,
    "start_time": "2023-07-19T07:18:18.525Z"
   },
   {
    "duration": 15,
    "start_time": "2023-07-19T07:18:18.540Z"
   },
   {
    "duration": 20,
    "start_time": "2023-07-19T07:18:18.568Z"
   },
   {
    "duration": 13,
    "start_time": "2023-07-19T07:18:18.590Z"
   },
   {
    "duration": 17,
    "start_time": "2023-07-19T07:18:18.605Z"
   },
   {
    "duration": 56,
    "start_time": "2023-07-19T07:18:18.624Z"
   },
   {
    "duration": 1173,
    "start_time": "2023-07-19T07:26:19.799Z"
   },
   {
    "duration": 186,
    "start_time": "2023-07-19T07:26:20.974Z"
   },
   {
    "duration": 21,
    "start_time": "2023-07-19T07:26:21.162Z"
   },
   {
    "duration": 18,
    "start_time": "2023-07-19T07:26:21.186Z"
   },
   {
    "duration": 68,
    "start_time": "2023-07-19T07:26:21.206Z"
   },
   {
    "duration": 235,
    "start_time": "2023-07-19T07:26:21.276Z"
   },
   {
    "duration": 155,
    "start_time": "2023-07-19T07:26:21.513Z"
   },
   {
    "duration": 18,
    "start_time": "2023-07-19T07:26:21.670Z"
   },
   {
    "duration": 16,
    "start_time": "2023-07-19T07:26:21.690Z"
   },
   {
    "duration": 41,
    "start_time": "2023-07-19T07:26:21.710Z"
   },
   {
    "duration": 35,
    "start_time": "2023-07-19T07:26:21.753Z"
   },
   {
    "duration": 362,
    "start_time": "2023-07-19T07:26:21.790Z"
   },
   {
    "duration": 41,
    "start_time": "2023-07-19T07:26:22.154Z"
   },
   {
    "duration": 45,
    "start_time": "2023-07-19T07:26:22.197Z"
   },
   {
    "duration": 73,
    "start_time": "2023-07-19T07:26:22.244Z"
   },
   {
    "duration": 21,
    "start_time": "2023-07-19T07:26:22.319Z"
   },
   {
    "duration": 88,
    "start_time": "2023-07-19T07:26:22.342Z"
   },
   {
    "duration": 19,
    "start_time": "2023-07-19T07:26:22.432Z"
   },
   {
    "duration": 20,
    "start_time": "2023-07-19T07:26:22.453Z"
   },
   {
    "duration": 43,
    "start_time": "2023-07-19T07:26:22.475Z"
   },
   {
    "duration": 72,
    "start_time": "2023-07-19T07:26:22.520Z"
   },
   {
    "duration": 100,
    "start_time": "2023-07-19T07:26:22.594Z"
   },
   {
    "duration": 6,
    "start_time": "2023-07-19T07:26:22.696Z"
   },
   {
    "duration": 25,
    "start_time": "2023-07-19T07:26:22.703Z"
   },
   {
    "duration": 13,
    "start_time": "2023-07-19T07:26:22.729Z"
   },
   {
    "duration": 30,
    "start_time": "2023-07-19T07:26:22.743Z"
   },
   {
    "duration": 12,
    "start_time": "2023-07-19T07:26:22.776Z"
   },
   {
    "duration": 13,
    "start_time": "2023-07-19T07:26:22.791Z"
   },
   {
    "duration": 12,
    "start_time": "2023-07-19T07:26:22.805Z"
   },
   {
    "duration": 25,
    "start_time": "2023-07-19T07:26:22.819Z"
   },
   {
    "duration": 34,
    "start_time": "2023-07-19T07:26:22.870Z"
   },
   {
    "duration": 1284,
    "start_time": "2023-07-19T07:29:00.898Z"
   },
   {
    "duration": 212,
    "start_time": "2023-07-19T07:29:02.186Z"
   },
   {
    "duration": 24,
    "start_time": "2023-07-19T07:29:02.400Z"
   },
   {
    "duration": 23,
    "start_time": "2023-07-19T07:29:02.426Z"
   },
   {
    "duration": 51,
    "start_time": "2023-07-19T07:29:02.468Z"
   },
   {
    "duration": 264,
    "start_time": "2023-07-19T07:29:02.522Z"
   },
   {
    "duration": 186,
    "start_time": "2023-07-19T07:29:02.788Z"
   },
   {
    "duration": 21,
    "start_time": "2023-07-19T07:29:02.976Z"
   },
   {
    "duration": 59,
    "start_time": "2023-07-19T07:29:03.000Z"
   },
   {
    "duration": 19,
    "start_time": "2023-07-19T07:29:03.062Z"
   },
   {
    "duration": 36,
    "start_time": "2023-07-19T07:29:03.083Z"
   },
   {
    "duration": 404,
    "start_time": "2023-07-19T07:29:03.122Z"
   },
   {
    "duration": 43,
    "start_time": "2023-07-19T07:29:03.528Z"
   },
   {
    "duration": 48,
    "start_time": "2023-07-19T07:29:03.575Z"
   },
   {
    "duration": 71,
    "start_time": "2023-07-19T07:29:03.624Z"
   },
   {
    "duration": 20,
    "start_time": "2023-07-19T07:29:03.697Z"
   },
   {
    "duration": 112,
    "start_time": "2023-07-19T07:29:03.719Z"
   },
   {
    "duration": 19,
    "start_time": "2023-07-19T07:29:03.833Z"
   },
   {
    "duration": 19,
    "start_time": "2023-07-19T07:29:03.854Z"
   },
   {
    "duration": 31,
    "start_time": "2023-07-19T07:29:03.874Z"
   },
   {
    "duration": 98,
    "start_time": "2023-07-19T07:29:03.907Z"
   },
   {
    "duration": 121,
    "start_time": "2023-07-19T07:29:04.007Z"
   },
   {
    "duration": 7,
    "start_time": "2023-07-19T07:29:04.130Z"
   },
   {
    "duration": 29,
    "start_time": "2023-07-19T07:29:04.139Z"
   },
   {
    "duration": 12,
    "start_time": "2023-07-19T07:29:04.170Z"
   },
   {
    "duration": 32,
    "start_time": "2023-07-19T07:29:04.184Z"
   },
   {
    "duration": 22,
    "start_time": "2023-07-19T07:29:04.218Z"
   },
   {
    "duration": 26,
    "start_time": "2023-07-19T07:29:04.242Z"
   },
   {
    "duration": 28,
    "start_time": "2023-07-19T07:29:04.270Z"
   },
   {
    "duration": 24,
    "start_time": "2023-07-19T07:29:04.300Z"
   },
   {
    "duration": 28,
    "start_time": "2023-07-19T07:29:04.326Z"
   },
   {
    "duration": 1992,
    "start_time": "2023-07-19T07:38:54.501Z"
   },
   {
    "duration": 1330,
    "start_time": "2023-07-19T08:00:34.337Z"
   },
   {
    "duration": 182,
    "start_time": "2023-07-19T08:00:35.669Z"
   },
   {
    "duration": 24,
    "start_time": "2023-07-19T08:00:35.853Z"
   },
   {
    "duration": 23,
    "start_time": "2023-07-19T08:00:35.879Z"
   },
   {
    "duration": 63,
    "start_time": "2023-07-19T08:00:35.905Z"
   },
   {
    "duration": 247,
    "start_time": "2023-07-19T08:00:35.970Z"
   },
   {
    "duration": 156,
    "start_time": "2023-07-19T08:00:36.219Z"
   },
   {
    "duration": 19,
    "start_time": "2023-07-19T08:00:36.377Z"
   },
   {
    "duration": 15,
    "start_time": "2023-07-19T08:00:36.397Z"
   },
   {
    "duration": 37,
    "start_time": "2023-07-19T08:00:36.414Z"
   },
   {
    "duration": 32,
    "start_time": "2023-07-19T08:00:36.466Z"
   },
   {
    "duration": 366,
    "start_time": "2023-07-19T08:00:36.500Z"
   },
   {
    "duration": 46,
    "start_time": "2023-07-19T08:00:36.868Z"
   },
   {
    "duration": 69,
    "start_time": "2023-07-19T08:00:36.917Z"
   },
   {
    "duration": 61,
    "start_time": "2023-07-19T08:00:36.988Z"
   },
   {
    "duration": 32,
    "start_time": "2023-07-19T08:00:37.052Z"
   },
   {
    "duration": 88,
    "start_time": "2023-07-19T08:00:37.085Z"
   },
   {
    "duration": 25,
    "start_time": "2023-07-19T08:00:37.175Z"
   },
   {
    "duration": 9,
    "start_time": "2023-07-19T08:00:37.202Z"
   },
   {
    "duration": 21,
    "start_time": "2023-07-19T08:00:37.213Z"
   },
   {
    "duration": 69,
    "start_time": "2023-07-19T08:00:37.236Z"
   },
   {
    "duration": 106,
    "start_time": "2023-07-19T08:00:37.307Z"
   },
   {
    "duration": 7,
    "start_time": "2023-07-19T08:00:37.414Z"
   },
   {
    "duration": 15,
    "start_time": "2023-07-19T08:00:37.422Z"
   },
   {
    "duration": 8,
    "start_time": "2023-07-19T08:00:37.439Z"
   },
   {
    "duration": 12,
    "start_time": "2023-07-19T08:00:37.467Z"
   },
   {
    "duration": 18,
    "start_time": "2023-07-19T08:00:37.481Z"
   },
   {
    "duration": 20,
    "start_time": "2023-07-19T08:00:37.501Z"
   },
   {
    "duration": 11,
    "start_time": "2023-07-19T08:00:37.523Z"
   },
   {
    "duration": 40,
    "start_time": "2023-07-19T08:00:37.536Z"
   },
   {
    "duration": 30,
    "start_time": "2023-07-19T08:00:37.578Z"
   },
   {
    "duration": 161,
    "start_time": "2023-07-19T16:46:47.002Z"
   },
   {
    "duration": 9,
    "start_time": "2023-07-19T16:46:58.631Z"
   },
   {
    "duration": 114,
    "start_time": "2023-07-19T16:47:52.911Z"
   },
   {
    "duration": 44,
    "start_time": "2023-07-19T16:48:04.217Z"
   },
   {
    "duration": 5,
    "start_time": "2023-07-19T16:48:22.787Z"
   },
   {
    "duration": 1380,
    "start_time": "2023-07-27T13:01:52.899Z"
   },
   {
    "duration": 868,
    "start_time": "2023-07-27T13:01:54.285Z"
   },
   {
    "duration": 30,
    "start_time": "2023-07-27T13:01:55.155Z"
   },
   {
    "duration": 57,
    "start_time": "2023-07-27T13:01:55.188Z"
   },
   {
    "duration": 64,
    "start_time": "2023-07-27T13:01:55.247Z"
   },
   {
    "duration": 218,
    "start_time": "2023-07-27T13:01:55.312Z"
   },
   {
    "duration": 169,
    "start_time": "2023-07-27T13:01:55.532Z"
   },
   {
    "duration": 15,
    "start_time": "2023-07-27T13:01:55.702Z"
   },
   {
    "duration": 11,
    "start_time": "2023-07-27T13:01:55.718Z"
   },
   {
    "duration": 33,
    "start_time": "2023-07-27T13:01:55.732Z"
   },
   {
    "duration": 33,
    "start_time": "2023-07-27T13:01:55.766Z"
   },
   {
    "duration": 345,
    "start_time": "2023-07-27T13:01:55.801Z"
   },
   {
    "duration": 42,
    "start_time": "2023-07-27T13:01:56.147Z"
   },
   {
    "duration": 43,
    "start_time": "2023-07-27T13:01:56.190Z"
   },
   {
    "duration": 64,
    "start_time": "2023-07-27T13:01:56.235Z"
   },
   {
    "duration": 20,
    "start_time": "2023-07-27T13:01:56.301Z"
   },
   {
    "duration": 100,
    "start_time": "2023-07-27T13:01:56.322Z"
   },
   {
    "duration": 18,
    "start_time": "2023-07-27T13:01:56.423Z"
   },
   {
    "duration": 27,
    "start_time": "2023-07-27T13:01:56.442Z"
   },
   {
    "duration": 5,
    "start_time": "2023-07-27T13:01:56.472Z"
   },
   {
    "duration": 50,
    "start_time": "2023-07-27T13:01:56.479Z"
   },
   {
    "duration": 108,
    "start_time": "2023-07-27T13:01:56.530Z"
   },
   {
    "duration": 5,
    "start_time": "2023-07-27T13:01:56.640Z"
   },
   {
    "duration": 23,
    "start_time": "2023-07-27T13:01:56.646Z"
   },
   {
    "duration": 14,
    "start_time": "2023-07-27T13:01:56.671Z"
   },
   {
    "duration": 13,
    "start_time": "2023-07-27T13:01:56.687Z"
   },
   {
    "duration": 11,
    "start_time": "2023-07-27T13:01:56.702Z"
   },
   {
    "duration": 43,
    "start_time": "2023-07-27T13:01:56.716Z"
   },
   {
    "duration": 16,
    "start_time": "2023-07-27T13:01:56.768Z"
   },
   {
    "duration": 22,
    "start_time": "2023-07-27T13:01:56.785Z"
   },
   {
    "duration": 18,
    "start_time": "2023-07-27T13:01:56.809Z"
   },
   {
    "duration": 12,
    "start_time": "2023-07-27T13:01:56.829Z"
   },
   {
    "duration": 10,
    "start_time": "2023-07-27T13:02:24.361Z"
   },
   {
    "duration": 642,
    "start_time": "2023-07-27T13:03:17.243Z"
   },
   {
    "duration": 45,
    "start_time": "2023-07-27T13:05:08.262Z"
   },
   {
    "duration": 11,
    "start_time": "2023-07-27T13:05:26.164Z"
   },
   {
    "duration": 12,
    "start_time": "2023-07-27T13:06:39.066Z"
   },
   {
    "duration": 9,
    "start_time": "2023-07-27T13:07:02.901Z"
   },
   {
    "duration": 159,
    "start_time": "2023-07-27T13:08:18.911Z"
   },
   {
    "duration": 19,
    "start_time": "2023-07-27T13:08:53.535Z"
   },
   {
    "duration": 18,
    "start_time": "2023-07-27T13:09:20.602Z"
   },
   {
    "duration": 23,
    "start_time": "2023-07-27T13:09:26.889Z"
   },
   {
    "duration": 9,
    "start_time": "2023-07-27T13:09:39.997Z"
   },
   {
    "duration": 15,
    "start_time": "2023-07-27T13:10:05.769Z"
   },
   {
    "duration": 17,
    "start_time": "2023-07-27T13:10:23.623Z"
   },
   {
    "duration": 12,
    "start_time": "2023-07-27T13:10:29.312Z"
   },
   {
    "duration": 19,
    "start_time": "2023-07-27T13:14:23.186Z"
   },
   {
    "duration": 17,
    "start_time": "2023-07-27T13:14:33.790Z"
   },
   {
    "duration": 13,
    "start_time": "2023-07-27T13:14:47.570Z"
   },
   {
    "duration": 10,
    "start_time": "2023-07-27T13:15:00.027Z"
   },
   {
    "duration": 8,
    "start_time": "2023-07-27T13:15:05.894Z"
   },
   {
    "duration": 1656,
    "start_time": "2023-08-02T11:50:42.790Z"
   },
   {
    "duration": 546,
    "start_time": "2023-08-25T13:28:19.017Z"
   },
   {
    "duration": 1300,
    "start_time": "2023-08-25T13:37:10.273Z"
   },
   {
    "duration": 584,
    "start_time": "2023-08-25T13:37:11.575Z"
   },
   {
    "duration": 32,
    "start_time": "2023-08-25T13:37:12.160Z"
   },
   {
    "duration": 23,
    "start_time": "2023-08-25T13:37:12.194Z"
   },
   {
    "duration": 43,
    "start_time": "2023-08-25T13:37:12.219Z"
   },
   {
    "duration": 202,
    "start_time": "2023-08-25T13:37:12.264Z"
   },
   {
    "duration": 171,
    "start_time": "2023-08-25T13:37:12.468Z"
   },
   {
    "duration": 12,
    "start_time": "2023-08-25T13:37:12.641Z"
   },
   {
    "duration": 36,
    "start_time": "2023-08-25T13:37:12.655Z"
   },
   {
    "duration": 12,
    "start_time": "2023-08-25T13:37:12.695Z"
   },
   {
    "duration": 24,
    "start_time": "2023-08-25T13:37:12.709Z"
   },
   {
    "duration": 371,
    "start_time": "2023-08-25T13:37:12.735Z"
   },
   {
    "duration": 32,
    "start_time": "2023-08-25T13:37:13.107Z"
   },
   {
    "duration": 74,
    "start_time": "2023-08-25T13:37:13.141Z"
   },
   {
    "duration": 73,
    "start_time": "2023-08-25T13:37:13.218Z"
   },
   {
    "duration": 25,
    "start_time": "2023-08-25T13:37:13.294Z"
   },
   {
    "duration": 72,
    "start_time": "2023-08-25T13:37:13.321Z"
   },
   {
    "duration": 22,
    "start_time": "2023-08-25T13:37:13.395Z"
   },
   {
    "duration": 8,
    "start_time": "2023-08-25T13:37:13.419Z"
   },
   {
    "duration": 8,
    "start_time": "2023-08-25T13:37:13.428Z"
   },
   {
    "duration": 71,
    "start_time": "2023-08-25T13:37:13.438Z"
   },
   {
    "duration": 105,
    "start_time": "2023-08-25T13:37:13.511Z"
   },
   {
    "duration": 7,
    "start_time": "2023-08-25T13:37:13.618Z"
   },
   {
    "duration": 10,
    "start_time": "2023-08-25T13:37:13.627Z"
   },
   {
    "duration": 12,
    "start_time": "2023-08-25T13:37:13.638Z"
   },
   {
    "duration": 46,
    "start_time": "2023-08-25T13:37:13.652Z"
   },
   {
    "duration": 13,
    "start_time": "2023-08-25T13:37:13.700Z"
   },
   {
    "duration": 12,
    "start_time": "2023-08-25T13:37:13.716Z"
   },
   {
    "duration": 10,
    "start_time": "2023-08-25T13:37:13.730Z"
   },
   {
    "duration": 49,
    "start_time": "2023-08-25T13:37:13.742Z"
   },
   {
    "duration": 27,
    "start_time": "2023-08-25T13:37:13.793Z"
   },
   {
    "duration": 1176,
    "start_time": "2023-08-25T13:42:04.348Z"
   },
   {
    "duration": 190,
    "start_time": "2023-08-25T13:42:05.526Z"
   },
   {
    "duration": 21,
    "start_time": "2023-08-25T13:42:05.718Z"
   },
   {
    "duration": 50,
    "start_time": "2023-08-25T13:42:05.741Z"
   },
   {
    "duration": 63,
    "start_time": "2023-08-25T13:42:05.793Z"
   },
   {
    "duration": 199,
    "start_time": "2023-08-25T13:42:05.857Z"
   },
   {
    "duration": 155,
    "start_time": "2023-08-25T13:42:06.057Z"
   },
   {
    "duration": 15,
    "start_time": "2023-08-25T13:42:06.213Z"
   },
   {
    "duration": 67,
    "start_time": "2023-08-25T13:42:06.230Z"
   },
   {
    "duration": 39,
    "start_time": "2023-08-25T13:42:06.300Z"
   },
   {
    "duration": 57,
    "start_time": "2023-08-25T13:42:06.341Z"
   },
   {
    "duration": 394,
    "start_time": "2023-08-25T13:42:06.400Z"
   },
   {
    "duration": 32,
    "start_time": "2023-08-25T13:42:06.796Z"
   },
   {
    "duration": 64,
    "start_time": "2023-08-25T13:42:06.829Z"
   },
   {
    "duration": 50,
    "start_time": "2023-08-25T13:42:06.895Z"
   },
   {
    "duration": 42,
    "start_time": "2023-08-25T13:42:06.947Z"
   },
   {
    "duration": 80,
    "start_time": "2023-08-25T13:42:06.990Z"
   },
   {
    "duration": 19,
    "start_time": "2023-08-25T13:42:07.071Z"
   },
   {
    "duration": 7,
    "start_time": "2023-08-25T13:42:07.092Z"
   },
   {
    "duration": 14,
    "start_time": "2023-08-25T13:42:07.101Z"
   },
   {
    "duration": 55,
    "start_time": "2023-08-25T13:42:07.117Z"
   },
   {
    "duration": 108,
    "start_time": "2023-08-25T13:42:07.174Z"
   },
   {
    "duration": 5,
    "start_time": "2023-08-25T13:42:07.284Z"
   },
   {
    "duration": 19,
    "start_time": "2023-08-25T13:42:07.291Z"
   },
   {
    "duration": 29,
    "start_time": "2023-08-25T13:42:07.312Z"
   },
   {
    "duration": 20,
    "start_time": "2023-08-25T13:42:07.342Z"
   },
   {
    "duration": 17,
    "start_time": "2023-08-25T13:42:07.364Z"
   },
   {
    "duration": 17,
    "start_time": "2023-08-25T13:42:07.384Z"
   },
   {
    "duration": 13,
    "start_time": "2023-08-25T13:42:07.403Z"
   },
   {
    "duration": 20,
    "start_time": "2023-08-25T13:42:07.418Z"
   },
   {
    "duration": 41,
    "start_time": "2023-08-25T13:42:07.440Z"
   }
  ],
  "kernelspec": {
   "display_name": "Python 3 (ipykernel)",
   "language": "python",
   "name": "python3"
  },
  "language_info": {
   "codemirror_mode": {
    "name": "ipython",
    "version": 3
   },
   "file_extension": ".py",
   "mimetype": "text/x-python",
   "name": "python",
   "nbconvert_exporter": "python",
   "pygments_lexer": "ipython3",
   "version": "3.9.5"
  },
  "toc": {
   "base_numbering": 1,
   "nav_menu": {},
   "number_sections": true,
   "sideBar": true,
   "skip_h1_title": true,
   "title_cell": "Table of Contents",
   "title_sidebar": "Contents",
   "toc_cell": false,
   "toc_position": {},
   "toc_section_display": true,
   "toc_window_display": false
  }
 },
 "nbformat": 4,
 "nbformat_minor": 2
}
