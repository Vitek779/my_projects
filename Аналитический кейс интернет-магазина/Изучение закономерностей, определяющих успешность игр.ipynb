{
 "cells": [
  {
   "cell_type": "markdown",
   "metadata": {},
   "source": [
    "# Аналитический кейс интернет-магазина «Стримчик»"
   ]
  },
  {
   "cell_type": "markdown",
   "metadata": {},
   "source": [
    "# Описание проекта"
   ]
  },
  {
   "cell_type": "markdown",
   "metadata": {},
   "source": [
    "Вы работаете в интернет-магазине «Стримчик», который продаёт по всему миру компьютерные игры. Из открытых источников доступны исторические данные о продажах игр, оценки пользователей и экспертов, жанры и платформы (например, Xbox или PlayStation). Вам нужно выявить определяющие успешность игры закономерности. Это позволит сделать ставку на потенциально популярный продукт и спланировать рекламные кампании.\n",
    "\n",
    "Перед вами данные до 2016 года. Представим, что сейчас декабрь 2016 г., и вы планируете кампанию на 2017-й. Нужно отработать принцип работы с данными. Неважно, прогнозируете ли вы продажи на 2017 год по данным 2016-го или же 2027-й — по данным 2026 года.\n",
    "\n",
    "В наборе данных попадается аббревиатура ESRB (Entertainment Software Rating Board) — это ассоциация, определяющая возрастной рейтинг компьютерных игр. ESRB оценивает игровой контент и присваивает ему подходящую возрастную категорию, например, «Для взрослых», «Для детей младшего возраста» или «Для подростков»."
   ]
  },
  {
   "cell_type": "markdown",
   "metadata": {},
   "source": [
    "# Описание данных"
   ]
  },
  {
   "cell_type": "markdown",
   "metadata": {},
   "source": [
    "`Name` — название игры\n",
    "\n",
    "`Platform` — платформа\n",
    "\n",
    "`Year_of_Release` — год выпуска\n",
    "\n",
    "`Genre` — жанр игры\n",
    "\n",
    "`NA_sales` — продажи в Северной Америке (миллионы проданных копий)\n",
    "\n",
    "`EU_sales` — продажи в Европе (миллионы проданных копий)\n",
    "\n",
    "`JP_sales` — продажи в Японии (миллионы проданных копий)\n",
    "\n",
    "`Other_sales` — продажи в других странах (миллионы проданных копий)\n",
    "\n",
    "`Critic_Score` — оценка критиков (максимум 100)\n",
    "\n",
    "`User_Score` — оценка пользователей (максимум 10)\n",
    "\n",
    "`Rating` — рейтинг от организации ESRB (англ. Entertainment Software Rating Board). Эта ассоциация определяет рейтинг компьютерных игр и присваивает им подходящую возрастную категорию.\n",
    "\n",
    "**Данные за 2016 год могут быть неполными.**"
   ]
  },
  {
   "cell_type": "code",
   "execution_count": 1,
   "metadata": {},
   "outputs": [],
   "source": [
    "import pandas as pd\n",
    "import numpy as np\n",
    "import matplotlib.pyplot as plt\n",
    "from scipy import stats as st\n",
    "import seaborn as sns"
   ]
  },
  {
   "cell_type": "markdown",
   "metadata": {},
   "source": [
    "#### Шаг 1. Загрузка данных"
   ]
  },
  {
   "cell_type": "code",
   "execution_count": 2,
   "metadata": {},
   "outputs": [],
   "source": [
    "data = pd.read_csv('/datasets/games.csv')"
   ]
  },
  {
   "cell_type": "code",
   "execution_count": 3,
   "metadata": {},
   "outputs": [
    {
     "data": {
      "text/html": [
       "<div>\n",
       "<style scoped>\n",
       "    .dataframe tbody tr th:only-of-type {\n",
       "        vertical-align: middle;\n",
       "    }\n",
       "\n",
       "    .dataframe tbody tr th {\n",
       "        vertical-align: top;\n",
       "    }\n",
       "\n",
       "    .dataframe thead th {\n",
       "        text-align: right;\n",
       "    }\n",
       "</style>\n",
       "<table border=\"1\" class=\"dataframe\">\n",
       "  <thead>\n",
       "    <tr style=\"text-align: right;\">\n",
       "      <th></th>\n",
       "      <th>Name</th>\n",
       "      <th>Platform</th>\n",
       "      <th>Year_of_Release</th>\n",
       "      <th>Genre</th>\n",
       "      <th>NA_sales</th>\n",
       "      <th>EU_sales</th>\n",
       "      <th>JP_sales</th>\n",
       "      <th>Other_sales</th>\n",
       "      <th>Critic_Score</th>\n",
       "      <th>User_Score</th>\n",
       "      <th>Rating</th>\n",
       "    </tr>\n",
       "  </thead>\n",
       "  <tbody>\n",
       "    <tr>\n",
       "      <th>0</th>\n",
       "      <td>Wii Sports</td>\n",
       "      <td>Wii</td>\n",
       "      <td>2006.0</td>\n",
       "      <td>Sports</td>\n",
       "      <td>41.36</td>\n",
       "      <td>28.96</td>\n",
       "      <td>3.77</td>\n",
       "      <td>8.45</td>\n",
       "      <td>76.0</td>\n",
       "      <td>8</td>\n",
       "      <td>E</td>\n",
       "    </tr>\n",
       "    <tr>\n",
       "      <th>1</th>\n",
       "      <td>Super Mario Bros.</td>\n",
       "      <td>NES</td>\n",
       "      <td>1985.0</td>\n",
       "      <td>Platform</td>\n",
       "      <td>29.08</td>\n",
       "      <td>3.58</td>\n",
       "      <td>6.81</td>\n",
       "      <td>0.77</td>\n",
       "      <td>NaN</td>\n",
       "      <td>NaN</td>\n",
       "      <td>NaN</td>\n",
       "    </tr>\n",
       "    <tr>\n",
       "      <th>2</th>\n",
       "      <td>Mario Kart Wii</td>\n",
       "      <td>Wii</td>\n",
       "      <td>2008.0</td>\n",
       "      <td>Racing</td>\n",
       "      <td>15.68</td>\n",
       "      <td>12.76</td>\n",
       "      <td>3.79</td>\n",
       "      <td>3.29</td>\n",
       "      <td>82.0</td>\n",
       "      <td>8.3</td>\n",
       "      <td>E</td>\n",
       "    </tr>\n",
       "    <tr>\n",
       "      <th>3</th>\n",
       "      <td>Wii Sports Resort</td>\n",
       "      <td>Wii</td>\n",
       "      <td>2009.0</td>\n",
       "      <td>Sports</td>\n",
       "      <td>15.61</td>\n",
       "      <td>10.93</td>\n",
       "      <td>3.28</td>\n",
       "      <td>2.95</td>\n",
       "      <td>80.0</td>\n",
       "      <td>8</td>\n",
       "      <td>E</td>\n",
       "    </tr>\n",
       "    <tr>\n",
       "      <th>4</th>\n",
       "      <td>Pokemon Red/Pokemon Blue</td>\n",
       "      <td>GB</td>\n",
       "      <td>1996.0</td>\n",
       "      <td>Role-Playing</td>\n",
       "      <td>11.27</td>\n",
       "      <td>8.89</td>\n",
       "      <td>10.22</td>\n",
       "      <td>1.00</td>\n",
       "      <td>NaN</td>\n",
       "      <td>NaN</td>\n",
       "      <td>NaN</td>\n",
       "    </tr>\n",
       "  </tbody>\n",
       "</table>\n",
       "</div>"
      ],
      "text/plain": [
       "                       Name Platform  Year_of_Release         Genre  NA_sales  \\\n",
       "0                Wii Sports      Wii           2006.0        Sports     41.36   \n",
       "1         Super Mario Bros.      NES           1985.0      Platform     29.08   \n",
       "2            Mario Kart Wii      Wii           2008.0        Racing     15.68   \n",
       "3         Wii Sports Resort      Wii           2009.0        Sports     15.61   \n",
       "4  Pokemon Red/Pokemon Blue       GB           1996.0  Role-Playing     11.27   \n",
       "\n",
       "   EU_sales  JP_sales  Other_sales  Critic_Score User_Score Rating  \n",
       "0     28.96      3.77         8.45          76.0          8      E  \n",
       "1      3.58      6.81         0.77           NaN        NaN    NaN  \n",
       "2     12.76      3.79         3.29          82.0        8.3      E  \n",
       "3     10.93      3.28         2.95          80.0          8      E  \n",
       "4      8.89     10.22         1.00           NaN        NaN    NaN  "
      ]
     },
     "execution_count": 3,
     "metadata": {},
     "output_type": "execute_result"
    }
   ],
   "source": [
    "data.head()"
   ]
  },
  {
   "cell_type": "code",
   "execution_count": 4,
   "metadata": {},
   "outputs": [
    {
     "name": "stdout",
     "output_type": "stream",
     "text": [
      "<class 'pandas.core.frame.DataFrame'>\n",
      "RangeIndex: 16715 entries, 0 to 16714\n",
      "Data columns (total 11 columns):\n",
      " #   Column           Non-Null Count  Dtype  \n",
      "---  ------           --------------  -----  \n",
      " 0   Name             16713 non-null  object \n",
      " 1   Platform         16715 non-null  object \n",
      " 2   Year_of_Release  16446 non-null  float64\n",
      " 3   Genre            16713 non-null  object \n",
      " 4   NA_sales         16715 non-null  float64\n",
      " 5   EU_sales         16715 non-null  float64\n",
      " 6   JP_sales         16715 non-null  float64\n",
      " 7   Other_sales      16715 non-null  float64\n",
      " 8   Critic_Score     8137 non-null   float64\n",
      " 9   User_Score       10014 non-null  object \n",
      " 10  Rating           9949 non-null   object \n",
      "dtypes: float64(6), object(5)\n",
      "memory usage: 1.4+ MB\n"
     ]
    }
   ],
   "source": [
    "data.info()"
   ]
  },
  {
   "cell_type": "markdown",
   "metadata": {},
   "source": [
    "По изученному датафрейму можно сказать, что в датафрейме есть пропуски и тип данных не у всех столбцов верный."
   ]
  },
  {
   "cell_type": "markdown",
   "metadata": {},
   "source": [
    "#### Шаг 2. Предобработка данных"
   ]
  },
  {
   "cell_type": "code",
   "execution_count": 5,
   "metadata": {
    "scrolled": true
   },
   "outputs": [
    {
     "name": "stdout",
     "output_type": "stream",
     "text": [
      "<class 'pandas.core.frame.DataFrame'>\n",
      "RangeIndex: 16715 entries, 0 to 16714\n",
      "Data columns (total 11 columns):\n",
      " #   Column           Non-Null Count  Dtype  \n",
      "---  ------           --------------  -----  \n",
      " 0   name             16713 non-null  object \n",
      " 1   platform         16715 non-null  object \n",
      " 2   year_of_release  16446 non-null  float64\n",
      " 3   genre            16713 non-null  object \n",
      " 4   na_sales         16715 non-null  float64\n",
      " 5   eu_sales         16715 non-null  float64\n",
      " 6   jp_sales         16715 non-null  float64\n",
      " 7   other_sales      16715 non-null  float64\n",
      " 8   critic_score     8137 non-null   float64\n",
      " 9   user_score       10014 non-null  object \n",
      " 10  rating           9949 non-null   object \n",
      "dtypes: float64(6), object(5)\n",
      "memory usage: 1.4+ MB\n"
     ]
    }
   ],
   "source": [
    "#data.columns = [x.lower() for x in data.columns]\n",
    "data.columns = data.columns.str.lower()\n",
    "data.info()"
   ]
  },
  {
   "cell_type": "code",
   "execution_count": 6,
   "metadata": {},
   "outputs": [
    {
     "name": "stdout",
     "output_type": "stream",
     "text": [
      "<class 'pandas.core.frame.DataFrame'>\n",
      "RangeIndex: 16715 entries, 0 to 16714\n",
      "Data columns (total 11 columns):\n",
      " #   Column           Non-Null Count  Dtype  \n",
      "---  ------           --------------  -----  \n",
      " 0   name             16713 non-null  object \n",
      " 1   platform         16715 non-null  object \n",
      " 2   year_of_release  16446 non-null  float64\n",
      " 3   genre            16713 non-null  object \n",
      " 4   na_sales         16715 non-null  float64\n",
      " 5   eu_sales         16715 non-null  float64\n",
      " 6   jp_sales         16715 non-null  float64\n",
      " 7   other_sales      16715 non-null  float64\n",
      " 8   critic_score     8137 non-null   float64\n",
      " 9   user_score       7590 non-null   float64\n",
      " 10  rating           9949 non-null   object \n",
      "dtypes: float64(7), object(4)\n",
      "memory usage: 1.4+ MB\n"
     ]
    }
   ],
   "source": [
    "#data.head()\n",
    "data['user_score'] = pd.to_numeric(data['user_score'], errors='coerce')\n",
    "data.info()"
   ]
  },
  {
   "cell_type": "markdown",
   "metadata": {},
   "source": [
    "Я заменил пропуски в столбце `user_score` потому что он был типа object, хотя это колонка с оценкой пользователей и она должна быть типа float. "
   ]
  },
  {
   "cell_type": "code",
   "execution_count": 7,
   "metadata": {},
   "outputs": [
    {
     "data": {
      "text/plain": [
       "name                  2\n",
       "platform              0\n",
       "year_of_release     269\n",
       "genre                 2\n",
       "na_sales              0\n",
       "eu_sales              0\n",
       "jp_sales              0\n",
       "other_sales           0\n",
       "critic_score       8578\n",
       "user_score         9125\n",
       "rating             6766\n",
       "dtype: int64"
      ]
     },
     "execution_count": 7,
     "metadata": {},
     "output_type": "execute_result"
    }
   ],
   "source": [
    "data.isna().sum()"
   ]
  },
  {
   "cell_type": "code",
   "execution_count": 8,
   "metadata": {},
   "outputs": [
    {
     "data": {
      "text/plain": [
       "0"
      ]
     },
     "execution_count": 8,
     "metadata": {},
     "output_type": "execute_result"
    }
   ],
   "source": [
    "data.duplicated().sum()"
   ]
  },
  {
   "cell_type": "code",
   "execution_count": 9,
   "metadata": {},
   "outputs": [],
   "source": [
    "data[data.duplicated(['name', 'platform','year_of_release'])]\n",
    "data = data.drop_duplicates(['name', 'platform','year_of_release'], keep='first')"
   ]
  },
  {
   "cell_type": "code",
   "execution_count": 10,
   "metadata": {},
   "outputs": [
    {
     "data": {
      "text/html": [
       "<div>\n",
       "<style scoped>\n",
       "    .dataframe tbody tr th:only-of-type {\n",
       "        vertical-align: middle;\n",
       "    }\n",
       "\n",
       "    .dataframe tbody tr th {\n",
       "        vertical-align: top;\n",
       "    }\n",
       "\n",
       "    .dataframe thead th {\n",
       "        text-align: right;\n",
       "    }\n",
       "</style>\n",
       "<table border=\"1\" class=\"dataframe\">\n",
       "  <thead>\n",
       "    <tr style=\"text-align: right;\">\n",
       "      <th></th>\n",
       "      <th>name</th>\n",
       "      <th>platform</th>\n",
       "      <th>year_of_release</th>\n",
       "      <th>genre</th>\n",
       "      <th>na_sales</th>\n",
       "      <th>eu_sales</th>\n",
       "      <th>jp_sales</th>\n",
       "      <th>other_sales</th>\n",
       "      <th>critic_score</th>\n",
       "      <th>user_score</th>\n",
       "      <th>rating</th>\n",
       "    </tr>\n",
       "  </thead>\n",
       "  <tbody>\n",
       "  </tbody>\n",
       "</table>\n",
       "</div>"
      ],
      "text/plain": [
       "Empty DataFrame\n",
       "Columns: [name, platform, year_of_release, genre, na_sales, eu_sales, jp_sales, other_sales, critic_score, user_score, rating]\n",
       "Index: []"
      ]
     },
     "execution_count": 10,
     "metadata": {},
     "output_type": "execute_result"
    }
   ],
   "source": [
    "data[data.duplicated(['name', 'platform','year_of_release'])]"
   ]
  },
  {
   "cell_type": "code",
   "execution_count": 11,
   "metadata": {},
   "outputs": [
    {
     "data": {
      "text/plain": [
       "name                  0\n",
       "platform              0\n",
       "year_of_release       0\n",
       "genre                 0\n",
       "na_sales              0\n",
       "eu_sales              0\n",
       "jp_sales              0\n",
       "other_sales           0\n",
       "critic_score       8461\n",
       "user_score         8981\n",
       "rating             6676\n",
       "dtype: int64"
      ]
     },
     "execution_count": 11,
     "metadata": {},
     "output_type": "execute_result"
    }
   ],
   "source": [
    "data = data.dropna(subset = ['name','genre','year_of_release'])\n",
    "data['user_score'].replace('tbd',np.nan)\n",
    "data.isna().sum()"
   ]
  },
  {
   "cell_type": "markdown",
   "metadata": {},
   "source": [
    "Я обработал пропуски только в столбцах `name`,`genre`,`year_of_release`. В них было мало пропусков поэтому я просто удалил строки с пропусками. А в столбце `user_score` были значения ' tbd'. Их я заменил на nan. В остальных столбцах я оставил пропуски потому что их никак не обработать. У нас 8000+ тысяч пропусках в оценках и заполнять их средними неправильно, так как это половина значений от всего столбца. А столбец `rating` заполню позже при необходимости."
   ]
  },
  {
   "cell_type": "markdown",
   "metadata": {},
   "source": [
    "Пропуски в этих столбцах могли появиться по разным причинам. Например в колонках `name`,`genre` пропуски могли появиться из-за человечкого фактора или при передачи данных мог произойти сбой, так как в этих стобцах было всего по 2 пропуска. А в столбце `year_of_release` пропуски могли появиться из-за того, что игра выпустилась давно, но на новой платформе она только появилась и поэтому было пропущены значения.  "
   ]
  },
  {
   "cell_type": "code",
   "execution_count": 12,
   "metadata": {},
   "outputs": [
    {
     "name": "stdout",
     "output_type": "stream",
     "text": [
      "<class 'pandas.core.frame.DataFrame'>\n",
      "Int64Index: 16443 entries, 0 to 16714\n",
      "Data columns (total 11 columns):\n",
      " #   Column           Non-Null Count  Dtype  \n",
      "---  ------           --------------  -----  \n",
      " 0   name             16443 non-null  object \n",
      " 1   platform         16443 non-null  object \n",
      " 2   year_of_release  16443 non-null  float64\n",
      " 3   genre            16443 non-null  object \n",
      " 4   na_sales         16443 non-null  float64\n",
      " 5   eu_sales         16443 non-null  float64\n",
      " 6   jp_sales         16443 non-null  float64\n",
      " 7   other_sales      16443 non-null  float64\n",
      " 8   critic_score     7982 non-null   float64\n",
      " 9   user_score       7462 non-null   float64\n",
      " 10  rating           9767 non-null   object \n",
      "dtypes: float64(7), object(4)\n",
      "memory usage: 1.5+ MB\n",
      "None\n",
      "-------------------------\n",
      "name [' Beyblade Burst' ' Fire Emblem Fates' \" Frozen: Olaf's Quest\" ...\n",
      " 'uDraw Studio' 'uDraw Studio: Instant Artist'\n",
      " '¡Shin Chan Flipa en colores!']\n",
      "name : кол-во NaN 0 , процент NaN 0.0 %\n",
      "-------------------------\n",
      "platform ['2600' '3DO' '3DS' 'DC' 'DS' 'GB' 'GBA' 'GC' 'GEN' 'GG' 'N64' 'NES' 'NG'\n",
      " 'PC' 'PCFX' 'PS' 'PS2' 'PS3' 'PS4' 'PSP' 'PSV' 'SAT' 'SCD' 'SNES' 'TG16'\n",
      " 'WS' 'Wii' 'WiiU' 'X360' 'XB' 'XOne']\n",
      "platform : кол-во NaN 0 , процент NaN 0.0 %\n",
      "-------------------------\n",
      "year_of_release [1980. 1981. 1982. 1983. 1984. 1985. 1986. 1987. 1988. 1989. 1990. 1991.\n",
      " 1992. 1993. 1994. 1995. 1996. 1997. 1998. 1999. 2000. 2001. 2002. 2003.\n",
      " 2004. 2005. 2006. 2007. 2008. 2009. 2010. 2011. 2012. 2013. 2014. 2015.\n",
      " 2016.]\n",
      "year_of_release : кол-во NaN 0 , процент NaN 0.0 %\n",
      "-------------------------\n",
      "genre ['Action' 'Adventure' 'Fighting' 'Misc' 'Platform' 'Puzzle' 'Racing'\n",
      " 'Role-Playing' 'Shooter' 'Simulation' 'Sports' 'Strategy']\n",
      "genre : кол-во NaN 0 , процент NaN 0.0 %\n",
      "-------------------------\n",
      "critic_score [13. 17. 19. 20. 21. 23. 24. 25. 26. 27. 28. 29. 30. 31. 32. 33. 34. 35.\n",
      " 36. 37. 38. 39. 40. 41. 42. 43. 44. 45. 46. 47. 48. 49. 50. 51. 52. 53.\n",
      " 54. 55. 56. 57. 58. 59. 60. 61. 62. 63. 64. 65. 66. 67. 68. 69. 70. 71.\n",
      " 72. 73. 74. 75. 76. 77. 78. 79. 80. 81. 82. 83. 84. 85. 86. 87. 88. 89.\n",
      " 90. 91. 92. 93. 94. 95. 96. 97. 98. nan]\n",
      "critic_score : кол-во NaN 8461 , процент NaN 51.46 %\n",
      "-------------------------\n",
      "user_score [0.  0.2 0.3 0.5 0.6 0.7 0.9 1.  1.1 1.2 1.3 1.4 1.5 1.6 1.7 1.8 1.9 2.\n",
      " 2.1 2.2 2.3 2.4 2.5 2.6 2.7 2.8 2.9 3.  3.1 3.2 3.3 3.4 3.5 3.6 3.7 3.8\n",
      " 3.9 4.  4.1 4.2 4.3 4.4 4.5 4.6 4.7 4.8 4.9 5.  5.1 5.2 5.3 5.4 5.5 5.6\n",
      " 5.7 5.8 5.9 6.  6.1 6.2 6.3 6.4 6.5 6.6 6.7 6.8 6.9 7.  7.1 7.2 7.3 7.4\n",
      " 7.5 7.6 7.7 7.8 7.9 8.  8.1 8.2 8.3 8.4 8.5 8.6 8.7 8.8 8.9 9.  9.1 9.2\n",
      " 9.3 9.4 9.5 9.6 9.7 nan]\n",
      "user_score : кол-во NaN 8981 , процент NaN 54.62 %\n",
      "-------------------------\n",
      "rating ['AO' 'E' 'E10+' 'EC' 'K-A' 'M' 'RP' 'T' nan]\n",
      "rating : кол-во NaN 6676 , процент NaN 40.6 %\n"
     ]
    }
   ],
   "source": [
    "temp = data.copy() \n",
    "list_c = ['name', 'platform', 'year_of_release', 'genre', 'critic_score', 'user_score', 'rating']\n",
    "print(temp.info())\n",
    "for col_l in list_c:\n",
    "  print('-'* 25)\n",
    "  print(col_l, temp[col_l].sort_values().unique())\n",
    "  print(col_l,': кол-во NaN',temp[col_l].isna().sum(),\n",
    "        ', процент NaN', round(temp[col_l].isna().mean()*100,2),'%') "
   ]
  },
  {
   "cell_type": "code",
   "execution_count": 13,
   "metadata": {},
   "outputs": [
    {
     "data": {
      "text/html": [
       "<div>\n",
       "<style scoped>\n",
       "    .dataframe tbody tr th:only-of-type {\n",
       "        vertical-align: middle;\n",
       "    }\n",
       "\n",
       "    .dataframe tbody tr th {\n",
       "        vertical-align: top;\n",
       "    }\n",
       "\n",
       "    .dataframe thead th {\n",
       "        text-align: right;\n",
       "    }\n",
       "</style>\n",
       "<table border=\"1\" class=\"dataframe\">\n",
       "  <thead>\n",
       "    <tr style=\"text-align: right;\">\n",
       "      <th></th>\n",
       "      <th>name</th>\n",
       "      <th>platform</th>\n",
       "      <th>year_of_release</th>\n",
       "      <th>genre</th>\n",
       "      <th>na_sales</th>\n",
       "      <th>eu_sales</th>\n",
       "      <th>jp_sales</th>\n",
       "      <th>other_sales</th>\n",
       "      <th>critic_score</th>\n",
       "      <th>user_score</th>\n",
       "      <th>rating</th>\n",
       "      <th>total_sales</th>\n",
       "    </tr>\n",
       "  </thead>\n",
       "  <tbody>\n",
       "    <tr>\n",
       "      <th>0</th>\n",
       "      <td>Wii Sports</td>\n",
       "      <td>Wii</td>\n",
       "      <td>2006.0</td>\n",
       "      <td>Sports</td>\n",
       "      <td>41.36</td>\n",
       "      <td>28.96</td>\n",
       "      <td>3.77</td>\n",
       "      <td>8.45</td>\n",
       "      <td>76.0</td>\n",
       "      <td>8.0</td>\n",
       "      <td>E</td>\n",
       "      <td>82.54</td>\n",
       "    </tr>\n",
       "    <tr>\n",
       "      <th>1</th>\n",
       "      <td>Super Mario Bros.</td>\n",
       "      <td>NES</td>\n",
       "      <td>1985.0</td>\n",
       "      <td>Platform</td>\n",
       "      <td>29.08</td>\n",
       "      <td>3.58</td>\n",
       "      <td>6.81</td>\n",
       "      <td>0.77</td>\n",
       "      <td>NaN</td>\n",
       "      <td>NaN</td>\n",
       "      <td>NaN</td>\n",
       "      <td>40.24</td>\n",
       "    </tr>\n",
       "    <tr>\n",
       "      <th>2</th>\n",
       "      <td>Mario Kart Wii</td>\n",
       "      <td>Wii</td>\n",
       "      <td>2008.0</td>\n",
       "      <td>Racing</td>\n",
       "      <td>15.68</td>\n",
       "      <td>12.76</td>\n",
       "      <td>3.79</td>\n",
       "      <td>3.29</td>\n",
       "      <td>82.0</td>\n",
       "      <td>8.3</td>\n",
       "      <td>E</td>\n",
       "      <td>35.52</td>\n",
       "    </tr>\n",
       "    <tr>\n",
       "      <th>3</th>\n",
       "      <td>Wii Sports Resort</td>\n",
       "      <td>Wii</td>\n",
       "      <td>2009.0</td>\n",
       "      <td>Sports</td>\n",
       "      <td>15.61</td>\n",
       "      <td>10.93</td>\n",
       "      <td>3.28</td>\n",
       "      <td>2.95</td>\n",
       "      <td>80.0</td>\n",
       "      <td>8.0</td>\n",
       "      <td>E</td>\n",
       "      <td>32.77</td>\n",
       "    </tr>\n",
       "    <tr>\n",
       "      <th>4</th>\n",
       "      <td>Pokemon Red/Pokemon Blue</td>\n",
       "      <td>GB</td>\n",
       "      <td>1996.0</td>\n",
       "      <td>Role-Playing</td>\n",
       "      <td>11.27</td>\n",
       "      <td>8.89</td>\n",
       "      <td>10.22</td>\n",
       "      <td>1.00</td>\n",
       "      <td>NaN</td>\n",
       "      <td>NaN</td>\n",
       "      <td>NaN</td>\n",
       "      <td>31.38</td>\n",
       "    </tr>\n",
       "  </tbody>\n",
       "</table>\n",
       "</div>"
      ],
      "text/plain": [
       "                       name platform  year_of_release         genre  na_sales  \\\n",
       "0                Wii Sports      Wii           2006.0        Sports     41.36   \n",
       "1         Super Mario Bros.      NES           1985.0      Platform     29.08   \n",
       "2            Mario Kart Wii      Wii           2008.0        Racing     15.68   \n",
       "3         Wii Sports Resort      Wii           2009.0        Sports     15.61   \n",
       "4  Pokemon Red/Pokemon Blue       GB           1996.0  Role-Playing     11.27   \n",
       "\n",
       "   eu_sales  jp_sales  other_sales  critic_score  user_score rating  \\\n",
       "0     28.96      3.77         8.45          76.0         8.0      E   \n",
       "1      3.58      6.81         0.77           NaN         NaN    NaN   \n",
       "2     12.76      3.79         3.29          82.0         8.3      E   \n",
       "3     10.93      3.28         2.95          80.0         8.0      E   \n",
       "4      8.89     10.22         1.00           NaN         NaN    NaN   \n",
       "\n",
       "   total_sales  \n",
       "0        82.54  \n",
       "1        40.24  \n",
       "2        35.52  \n",
       "3        32.77  \n",
       "4        31.38  "
      ]
     },
     "execution_count": 13,
     "metadata": {},
     "output_type": "execute_result"
    }
   ],
   "source": [
    "data['total_sales'] = data['na_sales'] + data['eu_sales'] + data['jp_sales'] + data['other_sales']\n",
    "data.head()"
   ]
  },
  {
   "cell_type": "markdown",
   "metadata": {},
   "source": [
    "В итоге раздела по предобработке данных, я заменил названия столбцов, преобразовал данные в нужный тип, устранил пропуски там где это требовалось и посчитал суммарные продажи во всех регионах."
   ]
  },
  {
   "cell_type": "markdown",
   "metadata": {},
   "source": [
    "#### Шаг 3. Проведите исследовательский анализ данных"
   ]
  },
  {
   "cell_type": "markdown",
   "metadata": {},
   "source": [
    "**3.1 Посмотрим, сколько игр выпускалось в разные годы.**"
   ]
  },
  {
   "cell_type": "code",
   "execution_count": 14,
   "metadata": {},
   "outputs": [
    {
     "data": {
      "text/plain": [
       "37"
      ]
     },
     "execution_count": 14,
     "metadata": {},
     "output_type": "execute_result"
    }
   ],
   "source": [
    "len(data['year_of_release'].unique())"
   ]
  },
  {
   "cell_type": "code",
   "execution_count": 15,
   "metadata": {},
   "outputs": [
    {
     "data": {
      "image/png": "[encoded data removed]",
      "text/plain": [
       "<Figure size 720x504 with 1 Axes>"
      ]
     },
     "metadata": {
      "needs_background": "light"
     },
     "output_type": "display_data"
    }
   ],
   "source": [
    "plt.rcParams ['figure.figsize'] = [10, 7] #задаю размер для всех графиков\n",
    "data.plot(kind='hist',y='year_of_release',bins=37,legend = False,grid=True,title='Выпук игр в разные годы',);\n",
    "plt.xlabel('Год выпуска игр');\n",
    "plt.ylabel('Количество');"
   ]
  },
  {
   "cell_type": "markdown",
   "metadata": {},
   "source": [
    "Думаю данные до 2000 года не очень важны. Так как их мало и не имеют актуальности в настоящее время. Хотя если говорить про прогноз на 2017 год, то и данные до 2013 года нас не сильно интересуют."
   ]
  },
  {
   "cell_type": "markdown",
   "metadata": {},
   "source": [
    "**3.2 Как менялись продажи по платформам и выберем платформы с наибольшими суммарными продажами и построим распределение по годам**"
   ]
  },
  {
   "cell_type": "code",
   "execution_count": 16,
   "metadata": {},
   "outputs": [
    {
     "data": {
      "text/plain": [
       "platform\n",
       "PS2     1233.56\n",
       "X360     961.24\n",
       "PS3      931.33\n",
       "Wii      891.18\n",
       "DS       802.78\n",
       "Name: total_sales, dtype: float64"
      ]
     },
     "metadata": {},
     "output_type": "display_data"
    }
   ],
   "source": [
    "pivot = data.groupby('platform')['total_sales'].agg(sum).sort_values(ascending=False).head()\n",
    "display(pivot)\n"
   ]
  },
  {
   "cell_type": "code",
   "execution_count": 17,
   "metadata": {
    "scrolled": false
   },
   "outputs": [
    {
     "data": {
      "image/png": "[encoded data removed]",
      "text/plain": [
       "<Figure size 720x504 with 1 Axes>"
      ]
     },
     "metadata": {
      "needs_background": "light"
     },
     "output_type": "display_data"
    },
    {
     "data": {
      "image/png": "[encoded data removed]",
      "text/plain": [
       "<Figure size 720x504 with 1 Axes>"
      ]
     },
     "metadata": {
      "needs_background": "light"
     },
     "output_type": "display_data"
    },
    {
     "data": {
      "image/png": "[encoded data removed]",
      "text/plain": [
       "<Figure size 720x504 with 1 Axes>"
      ]
     },
     "metadata": {
      "needs_background": "light"
     },
     "output_type": "display_data"
    },
    {
     "data": {
      "image/png": "[encoded data removed]",
      "text/plain": [
       "<Figure size 720x504 with 1 Axes>"
      ]
     },
     "metadata": {
      "needs_background": "light"
     },
     "output_type": "display_data"
    },
    {
     "data": {
      "image/png": "[encoded data removed]",
      "text/plain": [
       "<Figure size 720x504 with 1 Axes>"
      ]
     },
     "metadata": {
      "needs_background": "light"
     },
     "output_type": "display_data"
    }
   ],
   "source": [
    "top_five=['PS2', 'X360','PS3' ,'Wii' ,'DS' ]\n",
    "    \n",
    "for i in top_five:\n",
    "    data.query('platform == @i').pivot_table(index=['year_of_release'],\n",
    "                                             values='total_sales', aggfunc= sum).plot.bar(title=i,xlabel='Год выпуска',\n",
    "                                                                                          legend = False,ylabel='Общие продажи')"
   ]
  },
  {
   "cell_type": "markdown",
   "metadata": {},
   "source": [
    "Получилось, что топ 5 платформ по продажам за все время это - ['PS2', 'X360','PS3' ,'Wii' ,'DS' ]. Каждая платформа актуальна примерно 4-6 лет, а дальше уже идет спад. Например PS2 была акутальна с 2001-2006 года, а уже с 2007 года были популярны  остальные 4 платформы. Но DS и Wii были на пике популярности до 2008-2009 года, а после уже все внимание было на X360 и PS3."
   ]
  },
  {
   "cell_type": "markdown",
   "metadata": {},
   "source": [
    "**3.3 Возьмем актуальный период**"
   ]
  },
  {
   "cell_type": "code",
   "execution_count": 18,
   "metadata": {},
   "outputs": [
    {
     "data": {
      "text/html": [
       "<div>\n",
       "<style scoped>\n",
       "    .dataframe tbody tr th:only-of-type {\n",
       "        vertical-align: middle;\n",
       "    }\n",
       "\n",
       "    .dataframe tbody tr th {\n",
       "        vertical-align: top;\n",
       "    }\n",
       "\n",
       "    .dataframe thead th {\n",
       "        text-align: right;\n",
       "    }\n",
       "</style>\n",
       "<table border=\"1\" class=\"dataframe\">\n",
       "  <thead>\n",
       "    <tr style=\"text-align: right;\">\n",
       "      <th></th>\n",
       "      <th>name</th>\n",
       "      <th>platform</th>\n",
       "      <th>year_of_release</th>\n",
       "      <th>genre</th>\n",
       "      <th>na_sales</th>\n",
       "      <th>eu_sales</th>\n",
       "      <th>jp_sales</th>\n",
       "      <th>other_sales</th>\n",
       "      <th>critic_score</th>\n",
       "      <th>user_score</th>\n",
       "      <th>rating</th>\n",
       "      <th>total_sales</th>\n",
       "    </tr>\n",
       "  </thead>\n",
       "  <tbody>\n",
       "    <tr>\n",
       "      <th>16</th>\n",
       "      <td>Grand Theft Auto V</td>\n",
       "      <td>PS3</td>\n",
       "      <td>2013.0</td>\n",
       "      <td>Action</td>\n",
       "      <td>7.02</td>\n",
       "      <td>9.09</td>\n",
       "      <td>0.98</td>\n",
       "      <td>3.96</td>\n",
       "      <td>97.0</td>\n",
       "      <td>8.2</td>\n",
       "      <td>M</td>\n",
       "      <td>21.05</td>\n",
       "    </tr>\n",
       "    <tr>\n",
       "      <th>23</th>\n",
       "      <td>Grand Theft Auto V</td>\n",
       "      <td>X360</td>\n",
       "      <td>2013.0</td>\n",
       "      <td>Action</td>\n",
       "      <td>9.66</td>\n",
       "      <td>5.14</td>\n",
       "      <td>0.06</td>\n",
       "      <td>1.41</td>\n",
       "      <td>97.0</td>\n",
       "      <td>8.1</td>\n",
       "      <td>M</td>\n",
       "      <td>16.27</td>\n",
       "    </tr>\n",
       "    <tr>\n",
       "      <th>31</th>\n",
       "      <td>Call of Duty: Black Ops 3</td>\n",
       "      <td>PS4</td>\n",
       "      <td>2015.0</td>\n",
       "      <td>Shooter</td>\n",
       "      <td>6.03</td>\n",
       "      <td>5.86</td>\n",
       "      <td>0.36</td>\n",
       "      <td>2.38</td>\n",
       "      <td>NaN</td>\n",
       "      <td>NaN</td>\n",
       "      <td>NaN</td>\n",
       "      <td>14.63</td>\n",
       "    </tr>\n",
       "    <tr>\n",
       "      <th>33</th>\n",
       "      <td>Pokemon X/Pokemon Y</td>\n",
       "      <td>3DS</td>\n",
       "      <td>2013.0</td>\n",
       "      <td>Role-Playing</td>\n",
       "      <td>5.28</td>\n",
       "      <td>4.19</td>\n",
       "      <td>4.35</td>\n",
       "      <td>0.78</td>\n",
       "      <td>NaN</td>\n",
       "      <td>NaN</td>\n",
       "      <td>NaN</td>\n",
       "      <td>14.60</td>\n",
       "    </tr>\n",
       "    <tr>\n",
       "      <th>42</th>\n",
       "      <td>Grand Theft Auto V</td>\n",
       "      <td>PS4</td>\n",
       "      <td>2014.0</td>\n",
       "      <td>Action</td>\n",
       "      <td>3.96</td>\n",
       "      <td>6.31</td>\n",
       "      <td>0.38</td>\n",
       "      <td>1.97</td>\n",
       "      <td>97.0</td>\n",
       "      <td>8.3</td>\n",
       "      <td>M</td>\n",
       "      <td>12.62</td>\n",
       "    </tr>\n",
       "    <tr>\n",
       "      <th>...</th>\n",
       "      <td>...</td>\n",
       "      <td>...</td>\n",
       "      <td>...</td>\n",
       "      <td>...</td>\n",
       "      <td>...</td>\n",
       "      <td>...</td>\n",
       "      <td>...</td>\n",
       "      <td>...</td>\n",
       "      <td>...</td>\n",
       "      <td>...</td>\n",
       "      <td>...</td>\n",
       "      <td>...</td>\n",
       "    </tr>\n",
       "    <tr>\n",
       "      <th>16703</th>\n",
       "      <td>Strawberry Nauts</td>\n",
       "      <td>PSV</td>\n",
       "      <td>2016.0</td>\n",
       "      <td>Adventure</td>\n",
       "      <td>0.00</td>\n",
       "      <td>0.00</td>\n",
       "      <td>0.01</td>\n",
       "      <td>0.00</td>\n",
       "      <td>NaN</td>\n",
       "      <td>NaN</td>\n",
       "      <td>NaN</td>\n",
       "      <td>0.01</td>\n",
       "    </tr>\n",
       "    <tr>\n",
       "      <th>16707</th>\n",
       "      <td>Aiyoku no Eustia</td>\n",
       "      <td>PSV</td>\n",
       "      <td>2014.0</td>\n",
       "      <td>Misc</td>\n",
       "      <td>0.00</td>\n",
       "      <td>0.00</td>\n",
       "      <td>0.01</td>\n",
       "      <td>0.00</td>\n",
       "      <td>NaN</td>\n",
       "      <td>NaN</td>\n",
       "      <td>NaN</td>\n",
       "      <td>0.01</td>\n",
       "    </tr>\n",
       "    <tr>\n",
       "      <th>16710</th>\n",
       "      <td>Samurai Warriors: Sanada Maru</td>\n",
       "      <td>PS3</td>\n",
       "      <td>2016.0</td>\n",
       "      <td>Action</td>\n",
       "      <td>0.00</td>\n",
       "      <td>0.00</td>\n",
       "      <td>0.01</td>\n",
       "      <td>0.00</td>\n",
       "      <td>NaN</td>\n",
       "      <td>NaN</td>\n",
       "      <td>NaN</td>\n",
       "      <td>0.01</td>\n",
       "    </tr>\n",
       "    <tr>\n",
       "      <th>16712</th>\n",
       "      <td>Haitaka no Psychedelica</td>\n",
       "      <td>PSV</td>\n",
       "      <td>2016.0</td>\n",
       "      <td>Adventure</td>\n",
       "      <td>0.00</td>\n",
       "      <td>0.00</td>\n",
       "      <td>0.01</td>\n",
       "      <td>0.00</td>\n",
       "      <td>NaN</td>\n",
       "      <td>NaN</td>\n",
       "      <td>NaN</td>\n",
       "      <td>0.01</td>\n",
       "    </tr>\n",
       "    <tr>\n",
       "      <th>16714</th>\n",
       "      <td>Winning Post 8 2016</td>\n",
       "      <td>PSV</td>\n",
       "      <td>2016.0</td>\n",
       "      <td>Simulation</td>\n",
       "      <td>0.00</td>\n",
       "      <td>0.00</td>\n",
       "      <td>0.01</td>\n",
       "      <td>0.00</td>\n",
       "      <td>NaN</td>\n",
       "      <td>NaN</td>\n",
       "      <td>NaN</td>\n",
       "      <td>0.01</td>\n",
       "    </tr>\n",
       "  </tbody>\n",
       "</table>\n",
       "<p>2233 rows × 12 columns</p>\n",
       "</div>"
      ],
      "text/plain": [
       "                                name platform  year_of_release         genre  \\\n",
       "16                Grand Theft Auto V      PS3           2013.0        Action   \n",
       "23                Grand Theft Auto V     X360           2013.0        Action   \n",
       "31         Call of Duty: Black Ops 3      PS4           2015.0       Shooter   \n",
       "33               Pokemon X/Pokemon Y      3DS           2013.0  Role-Playing   \n",
       "42                Grand Theft Auto V      PS4           2014.0        Action   \n",
       "...                              ...      ...              ...           ...   \n",
       "16703               Strawberry Nauts      PSV           2016.0     Adventure   \n",
       "16707               Aiyoku no Eustia      PSV           2014.0          Misc   \n",
       "16710  Samurai Warriors: Sanada Maru      PS3           2016.0        Action   \n",
       "16712        Haitaka no Psychedelica      PSV           2016.0     Adventure   \n",
       "16714            Winning Post 8 2016      PSV           2016.0    Simulation   \n",
       "\n",
       "       na_sales  eu_sales  jp_sales  other_sales  critic_score  user_score  \\\n",
       "16         7.02      9.09      0.98         3.96          97.0         8.2   \n",
       "23         9.66      5.14      0.06         1.41          97.0         8.1   \n",
       "31         6.03      5.86      0.36         2.38           NaN         NaN   \n",
       "33         5.28      4.19      4.35         0.78           NaN         NaN   \n",
       "42         3.96      6.31      0.38         1.97          97.0         8.3   \n",
       "...         ...       ...       ...          ...           ...         ...   \n",
       "16703      0.00      0.00      0.01         0.00           NaN         NaN   \n",
       "16707      0.00      0.00      0.01         0.00           NaN         NaN   \n",
       "16710      0.00      0.00      0.01         0.00           NaN         NaN   \n",
       "16712      0.00      0.00      0.01         0.00           NaN         NaN   \n",
       "16714      0.00      0.00      0.01         0.00           NaN         NaN   \n",
       "\n",
       "      rating  total_sales  \n",
       "16         M        21.05  \n",
       "23         M        16.27  \n",
       "31       NaN        14.63  \n",
       "33       NaN        14.60  \n",
       "42         M        12.62  \n",
       "...      ...          ...  \n",
       "16703    NaN         0.01  \n",
       "16707    NaN         0.01  \n",
       "16710    NaN         0.01  \n",
       "16712    NaN         0.01  \n",
       "16714    NaN         0.01  \n",
       "\n",
       "[2233 rows x 12 columns]"
      ]
     },
     "metadata": {},
     "output_type": "display_data"
    }
   ],
   "source": [
    "data_2013 = data.query('year_of_release >=2013')\n",
    "display(data_2013)"
   ]
  },
  {
   "cell_type": "markdown",
   "metadata": {},
   "source": [
    "Я взял данные от 2013 года, так как считаю, что это является актуальным периодом. Приставки прошлых времен не имеют почти актуальности после выпуска новых моделей. А в этот период у нас как раз попадают новые модели приставок. Такие как PS4 и XOne. Так же эти данные нам точно помогут построить прогноз на 2017 год, так как это последние 4 года перед 2017."
   ]
  },
  {
   "cell_type": "markdown",
   "metadata": {},
   "source": [
    "**3.4 Определим какие какие платформы лидируют по продажам**"
   ]
  },
  {
   "cell_type": "code",
   "execution_count": 19,
   "metadata": {},
   "outputs": [
    {
     "data": {
      "text/plain": [
       "platform\n",
       "PS4     314.14\n",
       "PS3     181.43\n",
       "XOne    159.32\n",
       "3DS     143.25\n",
       "X360    136.80\n",
       "Name: total_sales, dtype: float64"
      ]
     },
     "metadata": {},
     "output_type": "display_data"
    },
    {
     "name": "stdout",
     "output_type": "stream",
     "text": [
      "Лидеры по продажам: PS4 PS3 XOne 3DS X360\n"
     ]
    }
   ],
   "source": [
    "pivot_2013 = data_2013.groupby('platform')['total_sales'].agg(sum).sort_values(ascending=False).head()\n",
    "display(pivot_2013)\n",
    "\n",
    "print('Лидеры по продажам:',pivot_2013.index[0],pivot_2013.index[1],pivot_2013.index[2],pivot_2013.index[3],pivot_2013.index[4])\n"
   ]
  },
  {
   "cell_type": "code",
   "execution_count": 20,
   "metadata": {
    "scrolled": false
   },
   "outputs": [
    {
     "data": {
      "image/png": "[encoded data removed]",
      "text/plain": [
       "<Figure size 720x504 with 1 Axes>"
      ]
     },
     "metadata": {
      "needs_background": "light"
     },
     "output_type": "display_data"
    },
    {
     "data": {
      "image/png": "[encoded data removed]",
      "text/plain": [
       "<Figure size 720x504 with 1 Axes>"
      ]
     },
     "metadata": {
      "needs_background": "light"
     },
     "output_type": "display_data"
    },
    {
     "data": {
      "image/png": "[encoded data removed]",
      "text/plain": [
       "<Figure size 720x504 with 1 Axes>"
      ]
     },
     "metadata": {
      "needs_background": "light"
     },
     "output_type": "display_data"
    },
    {
     "data": {
      "image/png": "[encoded data removed]",
      "text/plain": [
       "<Figure size 720x504 with 1 Axes>"
      ]
     },
     "metadata": {
      "needs_background": "light"
     },
     "output_type": "display_data"
    },
    {
     "data": {
      "image/png": "[encoded data removed]",
      "text/plain": [
       "<Figure size 720x504 with 1 Axes>"
      ]
     },
     "metadata": {
      "needs_background": "light"
     },
     "output_type": "display_data"
    }
   ],
   "source": [
    "top_5=['PS4', 'PS3','XOne' ,'3DS' ,'X360' ]\n",
    "    \n",
    "for i in top_5:\n",
    "    data_2013.query('platform == @i').pivot_table(index=['year_of_release'], \n",
    "                                                  values='total_sales', aggfunc= sum).plot.bar(title=i,xlabel='Год выпуска',\n",
    "                                                                                          legend = False,ylabel='Общие продажи')"
   ]
  },
  {
   "cell_type": "markdown",
   "metadata": {},
   "source": [
    "Потенциально прибыльными платформами выглядят: PS4, XOne. Продажи за 2016 год у нас у всех маленькие, скорее всего еще нет данных за весь год, поэтому и значения не полные. PS3, 3DS, X360 начали терять свою актуальность с 2013 года. С каждым годом продажи только уменшались. Это связано с тем, что PS4 и XOne, новые модели и их продажи с 2013 года только растут вверх."
   ]
  },
  {
   "cell_type": "markdown",
   "metadata": {},
   "source": [
    "**3.5 Построим график «ящик с усами» по глобальным продажам игр в разбивке по платформам**"
   ]
  },
  {
   "cell_type": "code",
   "execution_count": 21,
   "metadata": {},
   "outputs": [
    {
     "data": {
      "image/png": "[encoded data removed]",
      "text/plain": [
       "<Figure size 720x504 with 1 Axes>"
      ]
     },
     "metadata": {
      "needs_background": "light"
     },
     "output_type": "display_data"
    }
   ],
   "source": [
    "sns.boxplot(data=data_2013, x = 'platform', y = 'total_sales');\n",
    "plt.ylabel('Общие продажи'); \n",
    "plt.xlabel('Платформы');"
   ]
  },
  {
   "cell_type": "code",
   "execution_count": 22,
   "metadata": {},
   "outputs": [
    {
     "data": {
      "image/png": "[encoded data removed]",
      "text/plain": [
       "<Figure size 720x504 with 1 Axes>"
      ]
     },
     "metadata": {
      "needs_background": "light"
     },
     "output_type": "display_data"
    }
   ],
   "source": [
    "sns.boxplot(x=\"platform\", y=\"total_sales\", data=data_2013);\n",
    "plt.ylim(0,2)\n",
    "plt.ylabel('Общие продажи'); \n",
    "plt.xlabel('Платформы');"
   ]
  },
  {
   "cell_type": "markdown",
   "metadata": {},
   "source": [
    "У нас получилось, что на каждом «ящике с усами» много выбросов. Видимо это связано с тем, что у нас много не популярных игр которые имеют маленький процент продаж. Поэтому обычные значения выходят за «ящик с усами»."
   ]
  },
  {
   "cell_type": "markdown",
   "metadata": {},
   "source": [
    "**3.6 Найдем как влияют на продажи внутри одной популярной платформы отзывы пользователей и критиков**"
   ]
  },
  {
   "cell_type": "code",
   "execution_count": 23,
   "metadata": {},
   "outputs": [
    {
     "data": {
      "text/plain": [
       "platform\n",
       "PS4     314.14\n",
       "PS3     181.43\n",
       "XOne    159.32\n",
       "3DS     143.25\n",
       "X360    136.80\n",
       "Name: total_sales, dtype: float64"
      ]
     },
     "metadata": {},
     "output_type": "display_data"
    }
   ],
   "source": [
    "display(pivot_2013)"
   ]
  },
  {
   "cell_type": "markdown",
   "metadata": {},
   "source": [
    "Для этого построим диаграмму рассеяния и посчитаем корреляцию между отзывами и продажами"
   ]
  },
  {
   "cell_type": "code",
   "execution_count": 24,
   "metadata": {
    "scrolled": false
   },
   "outputs": [
    {
     "name": "stdout",
     "output_type": "stream",
     "text": [
      "0.40656790206178095\n",
      "-0.031957110204556376\n"
     ]
    },
    {
     "data": {
      "image/png": "[encoded data removed]",
      "text/plain": [
       "<Figure size 576x360 with 1 Axes>"
      ]
     },
     "metadata": {
      "needs_background": "light"
     },
     "output_type": "display_data"
    },
    {
     "data": {
      "image/png": "[encoded data removed]",
      "text/plain": [
       "<Figure size 432x360 with 1 Axes>"
      ]
     },
     "metadata": {
      "needs_background": "light"
     },
     "output_type": "display_data"
    },
    {
     "name": "stdout",
     "output_type": "stream",
     "text": [
      "0.3342853393371919\n",
      "0.0023944027357566925\n"
     ]
    },
    {
     "data": {
      "image/png": "[encoded data removed]",
      "text/plain": [
       "<Figure size 576x360 with 1 Axes>"
      ]
     },
     "metadata": {
      "needs_background": "light"
     },
     "output_type": "display_data"
    },
    {
     "data": {
      "image/png": "[encoded data removed]",
      "text/plain": [
       "<Figure size 432x360 with 1 Axes>"
      ]
     },
     "metadata": {
      "needs_background": "light"
     },
     "output_type": "display_data"
    },
    {
     "name": "stdout",
     "output_type": "stream",
     "text": [
      "0.4169983280084017\n",
      "-0.06892505328279414\n"
     ]
    },
    {
     "data": {
      "image/png": "[encoded data removed]",
      "text/plain": [
       "<Figure size 576x360 with 1 Axes>"
      ]
     },
     "metadata": {
      "needs_background": "light"
     },
     "output_type": "display_data"
    },
    {
     "data": {
      "image/png": "[encoded data removed]",
      "text/plain": [
       "<Figure size 432x360 with 1 Axes>"
      ]
     },
     "metadata": {
      "needs_background": "light"
     },
     "output_type": "display_data"
    },
    {
     "name": "stdout",
     "output_type": "stream",
     "text": [
      "0.3570566142288103\n",
      "0.24150411773563016\n"
     ]
    },
    {
     "data": {
      "image/png": "[encoded data removed]",
      "text/plain": [
       "<Figure size 576x360 with 1 Axes>"
      ]
     },
     "metadata": {
      "needs_background": "light"
     },
     "output_type": "display_data"
    },
    {
     "data": {
      "image/png": "[encoded data removed]",
      "text/plain": [
       "<Figure size 432x360 with 1 Axes>"
      ]
     },
     "metadata": {
      "needs_background": "light"
     },
     "output_type": "display_data"
    },
    {
     "name": "stdout",
     "output_type": "stream",
     "text": [
      "0.3503445460228664\n",
      "-0.011742185147181342\n"
     ]
    },
    {
     "data": {
      "image/png": "[encoded data removed]",
      "text/plain": [
       "<Figure size 576x360 with 1 Axes>"
      ]
     },
     "metadata": {
      "needs_background": "light"
     },
     "output_type": "display_data"
    },
    {
     "data": {
      "image/png": "[encoded data removed]",
      "text/plain": [
       "<Figure size 432x360 with 1 Axes>"
      ]
     },
     "metadata": {
      "needs_background": "light"
     },
     "output_type": "display_data"
    }
   ],
   "source": [
    "for i in top_5:\n",
    "    data_2013.query('platform == @i').plot(x='critic_score', y='total_sales', kind='scatter', alpha=1, \n",
    "                                           figsize=(8, 5), sharex=False, grid=True,title=i,xlabel='общие продажи',\n",
    "                                           ylabel='оценки критиков')\n",
    "    \n",
    "    print(data_2013.query('platform == @i')['critic_score'].corr(data_2013.query('platform == @i')['total_sales']))\n",
    "    \n",
    "    data_2013.query('platform == @i').plot(x='user_score', y='total_sales', kind='scatter', alpha=1,\n",
    "                                           figsize=(6, 5), sharex=False, grid=True,title=i,xlabel='общие продажи',\n",
    "                                           ylabel='оценки пользователей')\n",
    "\n",
    "    print(data_2013.query('platform == @i')['user_score'].corr(data_2013.query('platform == @i')['total_sales']))\n",
    "    plt.show()"
   ]
  },
  {
   "cell_type": "markdown",
   "metadata": {},
   "source": [
    "По построенным графикам рассеивания и полученным корреляциям, можно сказать, что у нас либо корреляция ниже среднего или ее почти нет. В общем у нас не на всех платформах влияют отзывы пользователей и критиков на общие продажи. Так же сложно делать вывод по всем данным, так как повторюсь, у нас много общих продаж ~0.01. Из-за этого сложно говорить про зависимость этих значений."
   ]
  },
  {
   "cell_type": "markdown",
   "metadata": {},
   "source": [
    "**3.7 Общее распределение игр по жанрам**"
   ]
  },
  {
   "cell_type": "code",
   "execution_count": 25,
   "metadata": {
    "scrolled": false
   },
   "outputs": [
    {
     "data": {
      "text/plain": [
       "genre\n",
       "Action          321.87\n",
       "Shooter         232.98\n",
       "Sports          150.65\n",
       "Role-Playing    145.89\n",
       "Misc             62.82\n",
       "Name: total_sales, dtype: float64"
      ]
     },
     "metadata": {},
     "output_type": "display_data"
    },
    {
     "data": {
      "text/plain": [
       "genre\n",
       "Shooter         0.450\n",
       "Sports          0.240\n",
       "Platform        0.225\n",
       "Role-Playing    0.125\n",
       "Fighting        0.125\n",
       "Name: total_sales, dtype: float64"
      ]
     },
     "metadata": {},
     "output_type": "display_data"
    },
    {
     "data": {
      "image/png": "[encoded data removed]",
      "text/plain": [
       "<Figure size 720x504 with 1 Axes>"
      ]
     },
     "metadata": {
      "needs_background": "light"
     },
     "output_type": "display_data"
    }
   ],
   "source": [
    "data_2013.plot(kind='hist',y='total_sales',bins=20,grid=True,legend=True,range = (0,5),label='продажи',ylabel='Количество',title='Общее распределние');\n",
    "genre_2013 = data_2013.groupby('genre')['total_sales'].agg(sum).sort_values(ascending=False).head()\n",
    "display(genre_2013)\n",
    "genre_median = data_2013.groupby('genre')['total_sales'].agg('median').sort_values(ascending=False).head()\n",
    "display(genre_median)\n",
    "#sns.boxplot(x=\"genre\", y=\"total_sales\",data=genre_median)"
   ]
  },
  {
   "cell_type": "code",
   "execution_count": 26,
   "metadata": {},
   "outputs": [
    {
     "data": {
      "image/png": "[encoded data removed]",
      "text/plain": [
       "<Figure size 936x576 with 1 Axes>"
      ]
     },
     "metadata": {
      "needs_background": "light"
     },
     "output_type": "display_data"
    },
    {
     "data": {
      "image/png": "[encoded data removed]",
      "text/plain": [
       "<Figure size 936x576 with 1 Axes>"
      ]
     },
     "metadata": {
      "needs_background": "light"
     },
     "output_type": "display_data"
    }
   ],
   "source": [
    "import seaborn as sns\n",
    "data_temp, y = data_2013.copy(), 'total_sales'\n",
    "plt.figure(figsize=(13, 8))\n",
    "(sns.boxplot(data = data_temp, y = y, x='genre')\n",
    "    .set(title = 'Продажи по жанрам', xlabel = 'Жанры', ylabel = 'Общие продажи'))\n",
    "plt.show()\n",
    "plt.figure(figsize=(13, 8))\n",
    "(sns.boxplot(data = data_temp, y = y, x='genre')\n",
    "    .set(title = 'Продажи по жанрам', xlabel = 'Жанры', ylabel = 'Общие продажи', ylim=(0, 3.5)))\n",
    "plt.show()"
   ]
  },
  {
   "cell_type": "markdown",
   "metadata": {},
   "source": [
    "По суммарным продажам у нас выделяются Action, Shooter, Sports, Role-Playing. А по медианным продажам у нас  Shooter, Sport, Platform. Поэтому с вызокими продажми у нас выделяются Shooter и Sport."
   ]
  },
  {
   "cell_type": "markdown",
   "metadata": {},
   "source": [
    "#### Шаг 4. Составьте портрет пользователя каждого региона"
   ]
  },
  {
   "cell_type": "markdown",
   "metadata": {},
   "source": [
    "**4.1 Определим для пользователя каждого региона (NA, EU, JP): Самые популярные платформы (топ-5)**"
   ]
  },
  {
   "cell_type": "code",
   "execution_count": 27,
   "metadata": {
    "scrolled": false
   },
   "outputs": [
    {
     "data": {
      "text/html": [
       "<div>\n",
       "<style scoped>\n",
       "    .dataframe tbody tr th:only-of-type {\n",
       "        vertical-align: middle;\n",
       "    }\n",
       "\n",
       "    .dataframe tbody tr th {\n",
       "        vertical-align: top;\n",
       "    }\n",
       "\n",
       "    .dataframe thead th {\n",
       "        text-align: right;\n",
       "    }\n",
       "</style>\n",
       "<table border=\"1\" class=\"dataframe\">\n",
       "  <thead>\n",
       "    <tr style=\"text-align: right;\">\n",
       "      <th></th>\n",
       "      <th>na_sales</th>\n",
       "    </tr>\n",
       "    <tr>\n",
       "      <th>platform</th>\n",
       "      <th></th>\n",
       "    </tr>\n",
       "  </thead>\n",
       "  <tbody>\n",
       "    <tr>\n",
       "      <th>PS4</th>\n",
       "      <td>108.74</td>\n",
       "    </tr>\n",
       "    <tr>\n",
       "      <th>XOne</th>\n",
       "      <td>93.12</td>\n",
       "    </tr>\n",
       "    <tr>\n",
       "      <th>X360</th>\n",
       "      <td>81.66</td>\n",
       "    </tr>\n",
       "    <tr>\n",
       "      <th>PS3</th>\n",
       "      <td>63.50</td>\n",
       "    </tr>\n",
       "    <tr>\n",
       "      <th>3DS</th>\n",
       "      <td>38.20</td>\n",
       "    </tr>\n",
       "  </tbody>\n",
       "</table>\n",
       "</div>"
      ],
      "text/plain": [
       "          na_sales\n",
       "platform          \n",
       "PS4         108.74\n",
       "XOne         93.12\n",
       "X360         81.66\n",
       "PS3          63.50\n",
       "3DS          38.20"
      ]
     },
     "metadata": {},
     "output_type": "display_data"
    },
    {
     "data": {
      "text/html": [
       "<div>\n",
       "<style scoped>\n",
       "    .dataframe tbody tr th:only-of-type {\n",
       "        vertical-align: middle;\n",
       "    }\n",
       "\n",
       "    .dataframe tbody tr th {\n",
       "        vertical-align: top;\n",
       "    }\n",
       "\n",
       "    .dataframe thead th {\n",
       "        text-align: right;\n",
       "    }\n",
       "</style>\n",
       "<table border=\"1\" class=\"dataframe\">\n",
       "  <thead>\n",
       "    <tr style=\"text-align: right;\">\n",
       "      <th></th>\n",
       "      <th>eu_sales</th>\n",
       "    </tr>\n",
       "    <tr>\n",
       "      <th>platform</th>\n",
       "      <th></th>\n",
       "    </tr>\n",
       "  </thead>\n",
       "  <tbody>\n",
       "    <tr>\n",
       "      <th>PS4</th>\n",
       "      <td>141.09</td>\n",
       "    </tr>\n",
       "    <tr>\n",
       "      <th>PS3</th>\n",
       "      <td>67.81</td>\n",
       "    </tr>\n",
       "    <tr>\n",
       "      <th>XOne</th>\n",
       "      <td>51.59</td>\n",
       "    </tr>\n",
       "    <tr>\n",
       "      <th>X360</th>\n",
       "      <td>42.52</td>\n",
       "    </tr>\n",
       "    <tr>\n",
       "      <th>3DS</th>\n",
       "      <td>30.96</td>\n",
       "    </tr>\n",
       "  </tbody>\n",
       "</table>\n",
       "</div>"
      ],
      "text/plain": [
       "          eu_sales\n",
       "platform          \n",
       "PS4         141.09\n",
       "PS3          67.81\n",
       "XOne         51.59\n",
       "X360         42.52\n",
       "3DS          30.96"
      ]
     },
     "metadata": {},
     "output_type": "display_data"
    },
    {
     "data": {
      "text/html": [
       "<div>\n",
       "<style scoped>\n",
       "    .dataframe tbody tr th:only-of-type {\n",
       "        vertical-align: middle;\n",
       "    }\n",
       "\n",
       "    .dataframe tbody tr th {\n",
       "        vertical-align: top;\n",
       "    }\n",
       "\n",
       "    .dataframe thead th {\n",
       "        text-align: right;\n",
       "    }\n",
       "</style>\n",
       "<table border=\"1\" class=\"dataframe\">\n",
       "  <thead>\n",
       "    <tr style=\"text-align: right;\">\n",
       "      <th></th>\n",
       "      <th>jp_sales</th>\n",
       "    </tr>\n",
       "    <tr>\n",
       "      <th>platform</th>\n",
       "      <th></th>\n",
       "    </tr>\n",
       "  </thead>\n",
       "  <tbody>\n",
       "    <tr>\n",
       "      <th>3DS</th>\n",
       "      <td>67.81</td>\n",
       "    </tr>\n",
       "    <tr>\n",
       "      <th>PS3</th>\n",
       "      <td>23.35</td>\n",
       "    </tr>\n",
       "    <tr>\n",
       "      <th>PSV</th>\n",
       "      <td>18.59</td>\n",
       "    </tr>\n",
       "    <tr>\n",
       "      <th>PS4</th>\n",
       "      <td>15.96</td>\n",
       "    </tr>\n",
       "    <tr>\n",
       "      <th>WiiU</th>\n",
       "      <td>10.88</td>\n",
       "    </tr>\n",
       "  </tbody>\n",
       "</table>\n",
       "</div>"
      ],
      "text/plain": [
       "          jp_sales\n",
       "platform          \n",
       "3DS          67.81\n",
       "PS3          23.35\n",
       "PSV          18.59\n",
       "PS4          15.96\n",
       "WiiU         10.88"
      ]
     },
     "metadata": {},
     "output_type": "display_data"
    },
    {
     "data": {
      "image/png": "[encoded data removed]",
      "text/plain": [
       "<Figure size 1440x576 with 3 Axes>"
      ]
     },
     "metadata": {},
     "output_type": "display_data"
    }
   ],
   "source": [
    "na_platform = data_2013.pivot_table(index='platform',values='na_sales',aggfunc=sum).sort_values(by='na_sales',\n",
    "                                                                                                  ascending=False)\n",
    "\n",
    "eu_platform = data_2013.pivot_table(index='platform',values='eu_sales',aggfunc=sum).sort_values(by='eu_sales',\n",
    "                                                                                                  ascending=False)\n",
    "\n",
    "jp_platform = data_2013.pivot_table(index='platform',values='jp_sales',aggfunc=sum).sort_values(by='jp_sales',\n",
    "                                                                                                  ascending=False)\n",
    "\n",
    "display(na_platform.head())\n",
    "display(eu_platform.head())\n",
    "display(jp_platform.head())   \n",
    "\n",
    "tmp = data_2013.copy()\n",
    "region = tmp.columns[4:7]\n",
    "fig, axs = plt.subplots(1, 3, figsize=(20, 8))\n",
    "fig.suptitle('ТОП-5 жанров в регионах')\n",
    "for i in range(len(region)):\n",
    "  df_i = (tmp.groupby('platform')[region[i]].sum().reset_index().\n",
    "          sort_values(region[i], ascending = False, ignore_index = True)[:5])\n",
    "  df_i = df_i.append({'platform': 'Other_genre', region[i]: tmp[region[i]].sum() - df_i[region[i]].sum()}, ignore_index= True)\n",
    "  axs[i].pie(df_i[region[i]], labels = df_i['platform'], autopct='%1.1f%%')\n",
    "  axs[i].set_title(df_i.columns[1].split('_')[0].upper())\n",
    "plt.show()"
   ]
  },
  {
   "cell_type": "markdown",
   "metadata": {},
   "source": [
    "PS4 являются самыми прибыльными в Северной Америке и Европе (108 и 141). В то время как в Японии только на 4 месте (16). А так в каждом регоине популярные платформы разные. Меньше всего продаж в Японии, а больше всего в Северной Америке. Различия в долях продаж между Северной Америкой и Европой маленькая, а вот между Северной Америкой, Европой и Японией, различия в долях продаж большая."
   ]
  },
  {
   "cell_type": "markdown",
   "metadata": {},
   "source": [
    "**4.2 Определим для пользователя каждого региона (NA, EU, JP): Самые популярные жанры (топ-5)**"
   ]
  },
  {
   "cell_type": "code",
   "execution_count": 28,
   "metadata": {
    "scrolled": false
   },
   "outputs": [
    {
     "data": {
      "text/html": [
       "<div>\n",
       "<style scoped>\n",
       "    .dataframe tbody tr th:only-of-type {\n",
       "        vertical-align: middle;\n",
       "    }\n",
       "\n",
       "    .dataframe tbody tr th {\n",
       "        vertical-align: top;\n",
       "    }\n",
       "\n",
       "    .dataframe thead th {\n",
       "        text-align: right;\n",
       "    }\n",
       "</style>\n",
       "<table border=\"1\" class=\"dataframe\">\n",
       "  <thead>\n",
       "    <tr style=\"text-align: right;\">\n",
       "      <th></th>\n",
       "      <th>na_sales</th>\n",
       "    </tr>\n",
       "    <tr>\n",
       "      <th>genre</th>\n",
       "      <th></th>\n",
       "    </tr>\n",
       "  </thead>\n",
       "  <tbody>\n",
       "    <tr>\n",
       "      <th>Action</th>\n",
       "      <td>126.05</td>\n",
       "    </tr>\n",
       "    <tr>\n",
       "      <th>Shooter</th>\n",
       "      <td>109.74</td>\n",
       "    </tr>\n",
       "    <tr>\n",
       "      <th>Sports</th>\n",
       "      <td>65.27</td>\n",
       "    </tr>\n",
       "    <tr>\n",
       "      <th>Role-Playing</th>\n",
       "      <td>46.40</td>\n",
       "    </tr>\n",
       "    <tr>\n",
       "      <th>Misc</th>\n",
       "      <td>27.49</td>\n",
       "    </tr>\n",
       "  </tbody>\n",
       "</table>\n",
       "</div>"
      ],
      "text/plain": [
       "              na_sales\n",
       "genre                 \n",
       "Action          126.05\n",
       "Shooter         109.74\n",
       "Sports           65.27\n",
       "Role-Playing     46.40\n",
       "Misc             27.49"
      ]
     },
     "metadata": {},
     "output_type": "display_data"
    },
    {
     "data": {
      "text/html": [
       "<div>\n",
       "<style scoped>\n",
       "    .dataframe tbody tr th:only-of-type {\n",
       "        vertical-align: middle;\n",
       "    }\n",
       "\n",
       "    .dataframe tbody tr th {\n",
       "        vertical-align: top;\n",
       "    }\n",
       "\n",
       "    .dataframe thead th {\n",
       "        text-align: right;\n",
       "    }\n",
       "</style>\n",
       "<table border=\"1\" class=\"dataframe\">\n",
       "  <thead>\n",
       "    <tr style=\"text-align: right;\">\n",
       "      <th></th>\n",
       "      <th>eu_sales</th>\n",
       "    </tr>\n",
       "    <tr>\n",
       "      <th>genre</th>\n",
       "      <th></th>\n",
       "    </tr>\n",
       "  </thead>\n",
       "  <tbody>\n",
       "    <tr>\n",
       "      <th>Action</th>\n",
       "      <td>118.13</td>\n",
       "    </tr>\n",
       "    <tr>\n",
       "      <th>Shooter</th>\n",
       "      <td>87.86</td>\n",
       "    </tr>\n",
       "    <tr>\n",
       "      <th>Sports</th>\n",
       "      <td>60.52</td>\n",
       "    </tr>\n",
       "    <tr>\n",
       "      <th>Role-Playing</th>\n",
       "      <td>36.97</td>\n",
       "    </tr>\n",
       "    <tr>\n",
       "      <th>Racing</th>\n",
       "      <td>20.19</td>\n",
       "    </tr>\n",
       "  </tbody>\n",
       "</table>\n",
       "</div>"
      ],
      "text/plain": [
       "              eu_sales\n",
       "genre                 \n",
       "Action          118.13\n",
       "Shooter          87.86\n",
       "Sports           60.52\n",
       "Role-Playing     36.97\n",
       "Racing           20.19"
      ]
     },
     "metadata": {},
     "output_type": "display_data"
    },
    {
     "data": {
      "text/html": [
       "<div>\n",
       "<style scoped>\n",
       "    .dataframe tbody tr th:only-of-type {\n",
       "        vertical-align: middle;\n",
       "    }\n",
       "\n",
       "    .dataframe tbody tr th {\n",
       "        vertical-align: top;\n",
       "    }\n",
       "\n",
       "    .dataframe thead th {\n",
       "        text-align: right;\n",
       "    }\n",
       "</style>\n",
       "<table border=\"1\" class=\"dataframe\">\n",
       "  <thead>\n",
       "    <tr style=\"text-align: right;\">\n",
       "      <th></th>\n",
       "      <th>jp_sales</th>\n",
       "    </tr>\n",
       "    <tr>\n",
       "      <th>genre</th>\n",
       "      <th></th>\n",
       "    </tr>\n",
       "  </thead>\n",
       "  <tbody>\n",
       "    <tr>\n",
       "      <th>Role-Playing</th>\n",
       "      <td>51.04</td>\n",
       "    </tr>\n",
       "    <tr>\n",
       "      <th>Action</th>\n",
       "      <td>40.49</td>\n",
       "    </tr>\n",
       "    <tr>\n",
       "      <th>Misc</th>\n",
       "      <td>9.20</td>\n",
       "    </tr>\n",
       "    <tr>\n",
       "      <th>Fighting</th>\n",
       "      <td>7.65</td>\n",
       "    </tr>\n",
       "    <tr>\n",
       "      <th>Shooter</th>\n",
       "      <td>6.61</td>\n",
       "    </tr>\n",
       "  </tbody>\n",
       "</table>\n",
       "</div>"
      ],
      "text/plain": [
       "              jp_sales\n",
       "genre                 \n",
       "Role-Playing     51.04\n",
       "Action           40.49\n",
       "Misc              9.20\n",
       "Fighting          7.65\n",
       "Shooter           6.61"
      ]
     },
     "metadata": {},
     "output_type": "display_data"
    },
    {
     "data": {
      "image/png": "[encoded data removed]",
      "text/plain": [
       "<Figure size 1440x576 with 3 Axes>"
      ]
     },
     "metadata": {},
     "output_type": "display_data"
    }
   ],
   "source": [
    "na_genre = data_2013.pivot_table(index='genre',values='na_sales',aggfunc=sum).sort_values(by='na_sales',\n",
    "                                                                                                  ascending=False).head()\n",
    "\n",
    "eu_genre = data_2013.pivot_table(index='genre',values='eu_sales',aggfunc=sum).sort_values(by='eu_sales',\n",
    "                                                                                                  ascending=False).head()\n",
    "\n",
    "jp_genre = data_2013.pivot_table(index='genre',values='jp_sales',aggfunc=sum).sort_values(by='jp_sales',\n",
    "                                                                                                  ascending=False).head()\n",
    "\n",
    "display(na_genre)\n",
    "display(eu_genre)\n",
    "display(jp_genre)\n",
    "\n",
    "tmp = data_2013.copy()\n",
    "region = tmp.columns[4:7]\n",
    "fig, axs = plt.subplots(1, 3, figsize=(20, 8))\n",
    "fig.suptitle('ТОП-5 жанров в регионах')\n",
    "for i in range(len(region)):\n",
    "  df_i = (tmp.groupby('genre')[region[i]].sum().reset_index().\n",
    "          sort_values(region[i], ascending = False, ignore_index = True)[:5])\n",
    "  df_i = df_i.append({'genre': 'Other_genre', region[i]: tmp[region[i]].sum() - df_i[region[i]].sum()}, ignore_index= True)\n",
    "  axs[i].pie(df_i[region[i]], labels = df_i['genre'], autopct='%1.1f%%')\n",
    "  axs[i].set_title(df_i.columns[1].split('_')[0].upper())\n",
    "plt.show()"
   ]
  },
  {
   "cell_type": "markdown",
   "metadata": {},
   "source": [
    "В Северной Америке и Европе самыми популярными жанрами являются Action, Shooter, Sports. В то время как в Японии это Role-Playing, Action. А Shooter и Sports не такие популярные в Японии."
   ]
  },
  {
   "cell_type": "markdown",
   "metadata": {},
   "source": [
    "**4.3 Определим для пользователя каждого региона (NA, EU, JP): Влияет ли рейтинг ESRB на продажи в отдельном регионе?**"
   ]
  },
  {
   "cell_type": "code",
   "execution_count": 29,
   "metadata": {},
   "outputs": [
    {
     "name": "stdout",
     "output_type": "stream",
     "text": [
      "977 0.43752798925212716\n"
     ]
    },
    {
     "data": {
      "text/plain": [
       "M       369\n",
       "T       333\n",
       "E       302\n",
       "E10+    252\n",
       "Name: rating, dtype: int64"
      ]
     },
     "execution_count": 29,
     "metadata": {},
     "output_type": "execute_result"
    }
   ],
   "source": [
    "temp = data_2013.copy()\n",
    "print(temp.rating.isna().sum(), temp.rating.isna().sum()/len(temp))\n",
    "temp.rating.value_counts()"
   ]
  },
  {
   "cell_type": "code",
   "execution_count": 30,
   "metadata": {},
   "outputs": [
    {
     "data": {
      "image/png": "[encoded data removed]",
      "text/plain": [
       "<Figure size 720x504 with 1 Axes>"
      ]
     },
     "metadata": {
      "needs_background": "light"
     },
     "output_type": "display_data"
    },
    {
     "data": {
      "image/png": "[encoded data removed]",
      "text/plain": [
       "<Figure size 720x504 with 1 Axes>"
      ]
     },
     "metadata": {
      "needs_background": "light"
     },
     "output_type": "display_data"
    },
    {
     "data": {
      "image/png": "[encoded data removed]",
      "text/plain": [
       "<Figure size 720x504 with 1 Axes>"
      ]
     },
     "metadata": {
      "needs_background": "light"
     },
     "output_type": "display_data"
    }
   ],
   "source": [
    "import warnings\n",
    "warnings.filterwarnings(\"ignore\")\n",
    "\n",
    "data_2013['rating'] = data_2013['rating'].fillna('Not def')\n",
    "\n",
    "data_2013.pivot_table(index='rating',values='na_sales',aggfunc=sum).sort_values(\n",
    "    by='na_sales',ascending=False).plot.bar(grid=True,legend=False,xlabel='Рейтинг ESRB',title='NA');\n",
    "data_2013.pivot_table(index='rating',values='eu_sales',aggfunc=sum).sort_values(\n",
    "    by='eu_sales',ascending=False).plot.bar(grid=True,legend=False,xlabel='Рейтинг ESRB',title='EU');\n",
    "data_2013.pivot_table(index='rating',values='jp_sales',aggfunc=sum).sort_values(\n",
    "    by='jp_sales',ascending=False).plot.bar(grid=True,legend=False,xlabel='Рейтинг ESRB',title='JP');"
   ]
  },
  {
   "cell_type": "markdown",
   "metadata": {},
   "source": [
    "В итоге анализа у нас получилось, что у многих игр нет рейтинга. Это потому что  рейтинг ESRB предназначен для маркировки игр для США и Канады. Поэтому большинство продаж в Японии не имеют рейтинга. В этом и заключается ключевое различие в регионах."
   ]
  },
  {
   "cell_type": "markdown",
   "metadata": {},
   "source": [
    "#### Шаг 5. Проверка гипотез"
   ]
  },
  {
   "cell_type": "markdown",
   "metadata": {},
   "source": [
    "**5.1**\n",
    "**Нулевая гипотеза: Средние пользовательские рейтинги платформ Xbox One и PC одинаковые.**\n",
    " \n",
    "**Альтернативная гипотеза: Средние пользовательские рейтинги платформ Xbox One и PC разные.**"
   ]
  },
  {
   "cell_type": "code",
   "execution_count": 31,
   "metadata": {},
   "outputs": [
    {
     "name": "stdout",
     "output_type": "stream",
     "text": [
      "p-значение: 0.14759594013430463\n",
      "Не получилось отвергнуть нулевую гипотезу\n",
      "Средние пользовательские рейтинги по платформаме PC: 6.3\n",
      "Средние пользовательские рейтинги по платформаме XOne: 6.5\n"
     ]
    }
   ],
   "source": [
    "pc = data_2013[data_2013['platform'] == 'PC']['user_score'].dropna()\n",
    "xone = data_2013[data_2013['platform'] == 'XOne']['user_score'].dropna()\n",
    "\n",
    "alpha = 0.05 \n",
    "\n",
    "results = st.ttest_ind(pc,xone,equal_var=False)\n",
    "\n",
    "print('p-значение:', results.pvalue) \n",
    "\n",
    "if results.pvalue < alpha:\n",
    "    print('Отвергаем нулевую гипотезу')\n",
    "else:\n",
    "    print('Не получилось отвергнуть нулевую гипотезу')\n",
    "    \n",
    "print('Средние пользовательские рейтинги по платформаме PC:',round(pc.mean(),1))\n",
    "print('Средние пользовательские рейтинги по платформаме XOne:',round(xone.mean(),1))"
   ]
  },
  {
   "cell_type": "markdown",
   "metadata": {},
   "source": [
    "Я сформировал нулевую гипотезу о том, что нам надо было проверить средние пользовательские рейтинги платформ Xbox One и PC одинаковые. И уже оталкиваясь от нее сформировал альтернативную гипотезу о том что средние пользовательские рейтинги платформ Xbox One и PC разные. В итоге проверки получилось, что мы не отвергаем нулевую гипотезу и средние пользовательские рейтинги платформ Xbox One и PC одинаковые."
   ]
  },
  {
   "cell_type": "markdown",
   "metadata": {},
   "source": [
    "**5.2**\n",
    "**Нулевая гипотеза: Средние пользовательские рейтинги жанров Action (англ. «действие», экшен-игры) и Sports (англ. «спортивные соревнования») одинаковые.**\n",
    " \n",
    "**Альтернативная гипотеза: Средние пользовательские рейтинги жанров Action (англ. «действие», экшен-игры) и Sports (англ. «спортивные соревнования») разные.**"
   ]
  },
  {
   "cell_type": "code",
   "execution_count": 32,
   "metadata": {},
   "outputs": [
    {
     "name": "stdout",
     "output_type": "stream",
     "text": [
      "p-значение: 1.4460039700704315e-20\n",
      "Отвергаем нулевую гипотезу\n",
      "Средние пользовательские рейтинги по жанру Action: 6.8\n",
      "Средние пользовательские рейтинги по жанру Sports: 5.2\n"
     ]
    }
   ],
   "source": [
    "actions = data_2013[data_2013['genre'] == 'Action']['user_score'].dropna() \n",
    "sports = data_2013[data_2013['genre'] == 'Sports']['user_score'].dropna()\n",
    "\n",
    "alpha = 0.05 \n",
    "\n",
    "results = st.ttest_ind(actions,sports,equal_var=False)\n",
    "\n",
    "print('p-значение:', results.pvalue) \n",
    "\n",
    "if results.pvalue < alpha:\n",
    "    print('Отвергаем нулевую гипотезу')\n",
    "else:\n",
    "    print('Не получилось отвергнуть нулевую гипотезу')\n",
    "    \n",
    "\n",
    "print('Средние пользовательские рейтинги по жанру Action:',round(actions.mean(),1))   \n",
    "print('Средние пользовательские рейтинги по жанру Sports:',round(sports.mean(),1))"
   ]
  },
  {
   "cell_type": "markdown",
   "metadata": {},
   "source": [
    "В этой проверке я сформировал аналогичную нулевую гипотезу и о равенстве двух средних. И от нее сформулировал альтернативную гипотезу о разности средних двух. И в итоге получил, что мы отвергаем нулевую гипотезу о равенстве и средние пользовательские рейтинги жанров Action и Sports разные."
   ]
  },
  {
   "cell_type": "markdown",
   "metadata": {},
   "source": [
    "Для тестирования гипотез я использовал двусторонний t-тест. Потому что он сравнивает два средних значения, и сообщает нам, отличаются они друг от друга или нет. Так же я использовал t-критерий Стюдента, потому что это статистический тест, который используется для проверки равенства средних значений в двух выборок. Что я и делал. "
   ]
  },
  {
   "cell_type": "markdown",
   "metadata": {},
   "source": [
    "# Вывод"
   ]
  },
  {
   "cell_type": "markdown",
   "metadata": {},
   "source": [
    "В данном проекте я исследовал из открытых источников доступные исторические данные о продажах игр, оценки пользователей и экспертов, жанры и платформы (например, Xbox или PlayStation). И выявлял определяющие успешность игры закономерности. В итоге это должно позволить сделать ставку на потенциально популярный продукт и спланировать рекламные кампании.\n",
    "\n",
    "Сначал я ознакомился с данными и изучил общую информацию. Затем я подготавливал данные для работы: заменил названия столбцов, преобразовал данные в нужные типы и обработал пропуски в некоторых стобцах. Так же создал новый столбец с суммарными продажами во всех регионах.\n",
    "\n",
    "Затем я провел исследовательский анализ данных. Посмотрел как менялись продажи по платформам и выявил, что нужно выделить актуальный период для прогноза на 2017 год. Я выбрал период с 2013-2016 год. И тоже посмотрел как менялись продажи по платформам, но уже с 2013 года. Потенциально прибыльными платформами выглядят: PS4, XOne. Продажи за 2016 год у нас у всех маленькие, скорее всего еще нет данных за весь год, поэтому и значения не полные. PS3, 3DS, X360 начали терять свою актуальность с 2013 года. С каждым годом продажи только уменшались. Затем я посмотрел как влияют на продажи, отзывы пользователей и критиков. Получилось, что у нас либо корреляция ниже среднего или ее почти нет. В общем у нас не на всех платформах влияют отзывы пользователей и критиков на общие продажи. Так же сложно делать вывод по всем данным, так как повторюсь, у нас много общих продаж ~0.01. Из-за этого сложно говорить про зависимость этих значений. И в конце я посмотрел на на общее распределение игр по жанрам. Оказалось, что самые выделающиеся жанры это Action, Shooter, Sports.\n",
    "\n",
    "Дальше я составлял портрет пользователя каждого региона.Получилось, что в каждом регоине популярные платформы разные. Меньше всего продаж в Японии, а больше всего в Северной Америке. Различия в долях продаж между Северной Америкой и Европой маленькая, а вот между Северной Америкой, Европой и Японией, различия в долях продаж большая. По жанрам в Северной Америке и Европе самыми популярными жанрами являются Action, Shooter, Sports. В то время как в Японии это Role-Playing, Action. А Shooter и Sports не такие популярные в Японии. А рейтинг от организации ESRB влияют только на продажи в Японии.\n",
    "\n",
    "В конце работы я проверял 2 гипотезы.\n",
    "\n",
    "Первая была о том, что средние пользовательские рейтинги платформ Xbox One и PC одинаковые. В итоге проверки мы подтвердили эту гипотезу.\n",
    "\n",
    "Вторая была о том, что средние пользовательские рейтинги жанров Action и Sports разные. И эту гипотезу, в результате проверки, мы тоже подтвердили.\n",
    "\n",
    "Лучше всего будет потратить рекламный бюджет на платформы PS4 и XOne, на игры жанра Action и Shooter с рейтингом \"M\" в регионах Северной Америки и Европе."
   ]
  }
 ],
 "metadata": {
  "ExecuteTimeLog": [
   {
    "duration": 1405,
    "start_time": "2023-05-02T20:05:07.711Z"
   },
   {
    "duration": 92,
    "start_time": "2023-05-02T20:05:45.082Z"
   },
   {
    "duration": 19,
    "start_time": "2023-05-02T20:06:25.033Z"
   },
   {
    "duration": 14,
    "start_time": "2023-05-02T20:06:29.316Z"
   },
   {
    "duration": 5,
    "start_time": "2023-05-02T20:07:31.374Z"
   },
   {
    "duration": 6,
    "start_time": "2023-05-02T20:08:09.399Z"
   },
   {
    "duration": 13,
    "start_time": "2023-05-02T20:08:35.424Z"
   },
   {
    "duration": 13,
    "start_time": "2023-05-02T20:08:45.767Z"
   },
   {
    "duration": 13,
    "start_time": "2023-05-02T20:08:54.786Z"
   },
   {
    "duration": 18,
    "start_time": "2023-05-02T20:09:30.621Z"
   },
   {
    "duration": 95,
    "start_time": "2023-05-02T20:14:58.651Z"
   },
   {
    "duration": 10,
    "start_time": "2023-05-02T20:16:19.124Z"
   },
   {
    "duration": 4,
    "start_time": "2023-05-02T20:17:43.426Z"
   },
   {
    "duration": 8,
    "start_time": "2023-05-02T20:18:32.892Z"
   },
   {
    "duration": 3,
    "start_time": "2023-05-02T20:18:41.629Z"
   },
   {
    "duration": 15,
    "start_time": "2023-05-02T20:18:49.617Z"
   },
   {
    "duration": 14,
    "start_time": "2023-05-02T20:21:14.757Z"
   },
   {
    "duration": 17,
    "start_time": "2023-05-02T20:23:23.855Z"
   },
   {
    "duration": 13,
    "start_time": "2023-05-02T20:23:29.835Z"
   },
   {
    "duration": 14,
    "start_time": "2023-05-02T20:24:02.667Z"
   },
   {
    "duration": 297,
    "start_time": "2023-05-02T20:24:06.691Z"
   },
   {
    "duration": 14,
    "start_time": "2023-05-02T20:24:39.693Z"
   },
   {
    "duration": 7,
    "start_time": "2023-05-02T20:24:51.433Z"
   },
   {
    "duration": 7,
    "start_time": "2023-05-02T20:25:18.885Z"
   },
   {
    "duration": 17,
    "start_time": "2023-05-02T20:25:30.522Z"
   },
   {
    "duration": 739,
    "start_time": "2023-05-02T20:26:23.880Z"
   },
   {
    "duration": 20,
    "start_time": "2023-05-02T20:27:03.981Z"
   },
   {
    "duration": 8,
    "start_time": "2023-05-02T20:28:43.388Z"
   },
   {
    "duration": 10,
    "start_time": "2023-05-02T20:29:28.168Z"
   },
   {
    "duration": 8,
    "start_time": "2023-05-02T20:30:07.787Z"
   },
   {
    "duration": 9,
    "start_time": "2023-05-02T20:30:15.389Z"
   },
   {
    "duration": 18,
    "start_time": "2023-05-02T20:31:44.867Z"
   },
   {
    "duration": 1121,
    "start_time": "2023-05-02T20:31:58.575Z"
   },
   {
    "duration": 47,
    "start_time": "2023-05-02T20:31:59.698Z"
   },
   {
    "duration": 20,
    "start_time": "2023-05-02T20:31:59.747Z"
   },
   {
    "duration": 14,
    "start_time": "2023-05-02T20:31:59.768Z"
   },
   {
    "duration": 14,
    "start_time": "2023-05-02T20:31:59.784Z"
   },
   {
    "duration": 1377,
    "start_time": "2023-05-02T20:31:59.799Z"
   },
   {
    "duration": 16,
    "start_time": "2023-05-02T20:32:16.814Z"
   },
   {
    "duration": 19,
    "start_time": "2023-05-02T20:33:08.309Z"
   },
   {
    "duration": 14,
    "start_time": "2023-05-02T20:33:14.751Z"
   },
   {
    "duration": 2,
    "start_time": "2023-05-02T20:33:21.503Z"
   },
   {
    "duration": 15,
    "start_time": "2023-05-02T20:33:24.223Z"
   },
   {
    "duration": 17,
    "start_time": "2023-05-02T20:33:44.367Z"
   },
   {
    "duration": 18,
    "start_time": "2023-05-02T20:33:52.341Z"
   },
   {
    "duration": 16,
    "start_time": "2023-05-02T20:34:25.805Z"
   },
   {
    "duration": 19,
    "start_time": "2023-05-02T20:35:10.522Z"
   },
   {
    "duration": 12,
    "start_time": "2023-05-02T20:35:57.707Z"
   },
   {
    "duration": 21,
    "start_time": "2023-05-02T20:36:09.209Z"
   },
   {
    "duration": 14,
    "start_time": "2023-05-02T20:36:49.594Z"
   },
   {
    "duration": 17,
    "start_time": "2023-05-02T20:39:14.898Z"
   },
   {
    "duration": 14,
    "start_time": "2023-05-02T20:42:38.328Z"
   },
   {
    "duration": 29,
    "start_time": "2023-05-02T20:43:53.144Z"
   },
   {
    "duration": 312,
    "start_time": "2023-05-02T20:44:09.077Z"
   },
   {
    "duration": 335,
    "start_time": "2023-05-02T20:46:48.011Z"
   },
   {
    "duration": 19,
    "start_time": "2023-05-02T20:47:00.403Z"
   },
   {
    "duration": 1154,
    "start_time": "2023-05-02T20:47:15.381Z"
   },
   {
    "duration": 58,
    "start_time": "2023-05-02T20:47:16.537Z"
   },
   {
    "duration": 27,
    "start_time": "2023-05-02T20:47:16.597Z"
   },
   {
    "duration": 26,
    "start_time": "2023-05-02T20:47:16.625Z"
   },
   {
    "duration": 18,
    "start_time": "2023-05-02T20:47:16.656Z"
   },
   {
    "duration": 23,
    "start_time": "2023-05-02T20:47:16.678Z"
   },
   {
    "duration": 104,
    "start_time": "2023-05-02T20:48:00.821Z"
   },
   {
    "duration": 9,
    "start_time": "2023-05-02T20:48:06.713Z"
   },
   {
    "duration": 14,
    "start_time": "2023-05-02T20:48:42.293Z"
   },
   {
    "duration": 12,
    "start_time": "2023-05-02T20:51:06.679Z"
   },
   {
    "duration": 14,
    "start_time": "2023-05-02T20:52:14.490Z"
   },
   {
    "duration": 17,
    "start_time": "2023-05-02T20:52:21.155Z"
   },
   {
    "duration": 13,
    "start_time": "2023-05-02T20:57:24.025Z"
   },
   {
    "duration": 12,
    "start_time": "2023-05-02T20:58:28.949Z"
   },
   {
    "duration": 11,
    "start_time": "2023-05-02T21:00:03.319Z"
   },
   {
    "duration": 15,
    "start_time": "2023-05-02T21:00:14.614Z"
   },
   {
    "duration": 20,
    "start_time": "2023-05-02T21:00:24.234Z"
   },
   {
    "duration": 18,
    "start_time": "2023-05-02T21:00:45.712Z"
   },
   {
    "duration": 17,
    "start_time": "2023-05-02T21:00:53.431Z"
   },
   {
    "duration": 16,
    "start_time": "2023-05-02T21:01:01.379Z"
   },
   {
    "duration": 18,
    "start_time": "2023-05-02T21:01:43.279Z"
   },
   {
    "duration": 20,
    "start_time": "2023-05-02T21:01:54.443Z"
   },
   {
    "duration": 18,
    "start_time": "2023-05-02T21:02:26.888Z"
   },
   {
    "duration": 16,
    "start_time": "2023-05-02T21:04:22.193Z"
   },
   {
    "duration": 25,
    "start_time": "2023-05-02T21:04:32.127Z"
   },
   {
    "duration": 15,
    "start_time": "2023-05-02T21:06:47.887Z"
   },
   {
    "duration": 15,
    "start_time": "2023-05-02T21:06:55.777Z"
   },
   {
    "duration": 19,
    "start_time": "2023-05-02T21:07:06.297Z"
   },
   {
    "duration": 1366,
    "start_time": "2023-05-02T21:07:13.708Z"
   },
   {
    "duration": 52,
    "start_time": "2023-05-02T21:07:15.079Z"
   },
   {
    "duration": 37,
    "start_time": "2023-05-02T21:07:15.133Z"
   },
   {
    "duration": 29,
    "start_time": "2023-05-02T21:07:15.172Z"
   },
   {
    "duration": 19,
    "start_time": "2023-05-02T21:07:15.204Z"
   },
   {
    "duration": 43,
    "start_time": "2023-05-02T21:07:15.225Z"
   },
   {
    "duration": 20,
    "start_time": "2023-05-02T21:07:15.276Z"
   },
   {
    "duration": 24,
    "start_time": "2023-05-02T21:07:15.298Z"
   },
   {
    "duration": 21,
    "start_time": "2023-05-02T21:07:15.324Z"
   },
   {
    "duration": 16,
    "start_time": "2023-05-02T21:07:43.606Z"
   },
   {
    "duration": 1108,
    "start_time": "2023-05-02T21:07:53.291Z"
   },
   {
    "duration": 52,
    "start_time": "2023-05-02T21:07:54.401Z"
   },
   {
    "duration": 25,
    "start_time": "2023-05-02T21:07:54.454Z"
   },
   {
    "duration": 14,
    "start_time": "2023-05-02T21:07:54.481Z"
   },
   {
    "duration": 15,
    "start_time": "2023-05-02T21:07:54.497Z"
   },
   {
    "duration": 18,
    "start_time": "2023-05-02T21:07:54.514Z"
   },
   {
    "duration": 12,
    "start_time": "2023-05-02T21:07:54.561Z"
   },
   {
    "duration": 15,
    "start_time": "2023-05-02T21:07:54.574Z"
   },
   {
    "duration": 18,
    "start_time": "2023-05-02T21:07:54.591Z"
   },
   {
    "duration": 18,
    "start_time": "2023-05-02T21:08:40.126Z"
   },
   {
    "duration": 10,
    "start_time": "2023-05-02T21:10:30.378Z"
   },
   {
    "duration": 13,
    "start_time": "2023-05-02T21:11:30.133Z"
   },
   {
    "duration": 19,
    "start_time": "2023-05-02T21:11:41.185Z"
   },
   {
    "duration": 5,
    "start_time": "2023-05-02T21:17:16.481Z"
   },
   {
    "duration": 17,
    "start_time": "2023-05-02T21:17:28.578Z"
   },
   {
    "duration": 1321,
    "start_time": "2023-05-03T10:57:58.806Z"
   },
   {
    "duration": 92,
    "start_time": "2023-05-03T10:58:00.129Z"
   },
   {
    "duration": 20,
    "start_time": "2023-05-03T10:58:00.223Z"
   },
   {
    "duration": 29,
    "start_time": "2023-05-03T10:58:00.245Z"
   },
   {
    "duration": 14,
    "start_time": "2023-05-03T10:58:00.277Z"
   },
   {
    "duration": 24,
    "start_time": "2023-05-03T10:58:00.293Z"
   },
   {
    "duration": 17,
    "start_time": "2023-05-03T10:58:00.319Z"
   },
   {
    "duration": 31,
    "start_time": "2023-05-03T10:58:00.338Z"
   },
   {
    "duration": 24,
    "start_time": "2023-05-03T10:58:00.371Z"
   },
   {
    "duration": 23,
    "start_time": "2023-05-03T10:58:00.397Z"
   },
   {
    "duration": 98,
    "start_time": "2023-05-03T11:00:58.724Z"
   },
   {
    "duration": 23,
    "start_time": "2023-05-03T11:01:04.540Z"
   },
   {
    "duration": 25,
    "start_time": "2023-05-03T11:02:27.714Z"
   },
   {
    "duration": 8,
    "start_time": "2023-05-03T11:02:32.850Z"
   },
   {
    "duration": 1679,
    "start_time": "2023-05-03T11:03:00.951Z"
   },
   {
    "duration": 15,
    "start_time": "2023-05-03T11:03:12.812Z"
   },
   {
    "duration": 1343,
    "start_time": "2023-05-03T11:03:27.009Z"
   },
   {
    "duration": 154,
    "start_time": "2023-05-03T11:04:27.612Z"
   },
   {
    "duration": 145,
    "start_time": "2023-05-03T11:04:43.735Z"
   },
   {
    "duration": 15,
    "start_time": "2023-05-03T11:04:51.463Z"
   },
   {
    "duration": 21,
    "start_time": "2023-05-03T11:10:05.023Z"
   },
   {
    "duration": 8,
    "start_time": "2023-05-03T11:10:37.660Z"
   },
   {
    "duration": 155,
    "start_time": "2023-05-03T11:11:34.111Z"
   },
   {
    "duration": 96,
    "start_time": "2023-05-03T11:13:05.322Z"
   },
   {
    "duration": 21,
    "start_time": "2023-05-03T11:13:10.824Z"
   },
   {
    "duration": 7,
    "start_time": "2023-05-03T11:13:46.239Z"
   },
   {
    "duration": 1147,
    "start_time": "2023-05-03T11:14:21.392Z"
   },
   {
    "duration": 51,
    "start_time": "2023-05-03T11:14:22.541Z"
   },
   {
    "duration": 22,
    "start_time": "2023-05-03T11:14:22.594Z"
   },
   {
    "duration": 15,
    "start_time": "2023-05-03T11:14:22.619Z"
   },
   {
    "duration": 14,
    "start_time": "2023-05-03T11:14:22.635Z"
   },
   {
    "duration": 44,
    "start_time": "2023-05-03T11:14:22.651Z"
   },
   {
    "duration": 9,
    "start_time": "2023-05-03T11:14:22.697Z"
   },
   {
    "duration": 18,
    "start_time": "2023-05-03T11:14:22.708Z"
   },
   {
    "duration": 22,
    "start_time": "2023-05-03T11:14:22.728Z"
   },
   {
    "duration": 42,
    "start_time": "2023-05-03T11:14:22.752Z"
   },
   {
    "duration": 15,
    "start_time": "2023-05-03T11:14:22.796Z"
   },
   {
    "duration": 18,
    "start_time": "2023-05-03T11:15:11.358Z"
   },
   {
    "duration": 18,
    "start_time": "2023-05-03T11:15:12.509Z"
   },
   {
    "duration": 8,
    "start_time": "2023-05-03T11:15:15.915Z"
   },
   {
    "duration": 1130,
    "start_time": "2023-05-03T11:15:22.531Z"
   },
   {
    "duration": 50,
    "start_time": "2023-05-03T11:15:23.663Z"
   },
   {
    "duration": 21,
    "start_time": "2023-05-03T11:15:23.714Z"
   },
   {
    "duration": 33,
    "start_time": "2023-05-03T11:15:23.737Z"
   },
   {
    "duration": 23,
    "start_time": "2023-05-03T11:15:23.773Z"
   },
   {
    "duration": 26,
    "start_time": "2023-05-03T11:15:23.798Z"
   },
   {
    "duration": 10,
    "start_time": "2023-05-03T11:15:23.825Z"
   },
   {
    "duration": 36,
    "start_time": "2023-05-03T11:15:23.836Z"
   },
   {
    "duration": 23,
    "start_time": "2023-05-03T11:15:23.874Z"
   },
   {
    "duration": 17,
    "start_time": "2023-05-03T11:15:23.899Z"
   },
   {
    "duration": 23,
    "start_time": "2023-05-03T11:15:23.917Z"
   },
   {
    "duration": 188,
    "start_time": "2023-05-03T11:15:32.514Z"
   },
   {
    "duration": 227,
    "start_time": "2023-05-03T11:15:39.905Z"
   },
   {
    "duration": 180,
    "start_time": "2023-05-03T11:15:49.145Z"
   },
   {
    "duration": 188,
    "start_time": "2023-05-03T11:16:11.562Z"
   },
   {
    "duration": 178,
    "start_time": "2023-05-03T11:16:51.524Z"
   },
   {
    "duration": 181,
    "start_time": "2023-05-03T11:17:32.188Z"
   },
   {
    "duration": 175,
    "start_time": "2023-05-03T11:17:45.234Z"
   },
   {
    "duration": 11,
    "start_time": "2023-05-03T11:21:14.413Z"
   },
   {
    "duration": 8,
    "start_time": "2023-05-03T11:21:42.719Z"
   },
   {
    "duration": 9,
    "start_time": "2023-05-03T11:21:53.187Z"
   },
   {
    "duration": 12,
    "start_time": "2023-05-03T11:21:58.462Z"
   },
   {
    "duration": 98,
    "start_time": "2023-05-03T11:23:51.498Z"
   },
   {
    "duration": 21,
    "start_time": "2023-05-03T11:24:03.108Z"
   },
   {
    "duration": 20,
    "start_time": "2023-05-03T11:25:43.205Z"
   },
   {
    "duration": 1319,
    "start_time": "2023-05-03T11:25:50.142Z"
   },
   {
    "duration": 1165,
    "start_time": "2023-05-03T11:27:13.692Z"
   },
   {
    "duration": 1208,
    "start_time": "2023-05-03T11:27:32.428Z"
   },
   {
    "duration": 11,
    "start_time": "2023-05-03T11:28:42.015Z"
   },
   {
    "duration": 11,
    "start_time": "2023-05-03T11:29:05.420Z"
   },
   {
    "duration": 14,
    "start_time": "2023-05-03T11:29:16.427Z"
   },
   {
    "duration": 20,
    "start_time": "2023-05-03T11:29:53.019Z"
   },
   {
    "duration": 17,
    "start_time": "2023-05-03T11:30:37.023Z"
   },
   {
    "duration": 12,
    "start_time": "2023-05-03T11:30:47.133Z"
   },
   {
    "duration": 13,
    "start_time": "2023-05-03T11:31:10.187Z"
   },
   {
    "duration": 85,
    "start_time": "2023-05-03T11:32:50.033Z"
   },
   {
    "duration": 16,
    "start_time": "2023-05-03T11:33:11.100Z"
   },
   {
    "duration": 75,
    "start_time": "2023-05-03T11:37:58.050Z"
   },
   {
    "duration": 150,
    "start_time": "2023-05-03T11:38:27.526Z"
   },
   {
    "duration": 16,
    "start_time": "2023-05-03T11:40:39.824Z"
   },
   {
    "duration": 3859,
    "start_time": "2023-05-03T11:41:01.319Z"
   },
   {
    "duration": 10,
    "start_time": "2023-05-03T11:41:57.033Z"
   },
   {
    "duration": 12,
    "start_time": "2023-05-03T11:42:05.360Z"
   },
   {
    "duration": 3970,
    "start_time": "2023-05-03T11:42:12.218Z"
   },
   {
    "duration": 14,
    "start_time": "2023-05-03T11:47:03.145Z"
   },
   {
    "duration": 146,
    "start_time": "2023-05-03T11:50:06.522Z"
   },
   {
    "duration": 178,
    "start_time": "2023-05-03T11:50:23.232Z"
   },
   {
    "duration": 197,
    "start_time": "2023-05-03T11:54:21.310Z"
   },
   {
    "duration": 179,
    "start_time": "2023-05-03T11:54:54.713Z"
   },
   {
    "duration": 186,
    "start_time": "2023-05-03T11:59:02.207Z"
   },
   {
    "duration": 187,
    "start_time": "2023-05-03T11:59:31.943Z"
   },
   {
    "duration": 191,
    "start_time": "2023-05-03T11:59:42.314Z"
   },
   {
    "duration": 13,
    "start_time": "2023-05-03T12:00:17.631Z"
   },
   {
    "duration": 13,
    "start_time": "2023-05-03T12:00:47.314Z"
   },
   {
    "duration": 113,
    "start_time": "2023-05-03T12:03:10.514Z"
   },
   {
    "duration": 20,
    "start_time": "2023-05-03T12:03:21.518Z"
   },
   {
    "duration": 255,
    "start_time": "2023-05-03T12:04:10.207Z"
   },
   {
    "duration": 1371,
    "start_time": "2023-05-03T12:05:17.132Z"
   },
   {
    "duration": 1238,
    "start_time": "2023-05-03T12:05:41.033Z"
   },
   {
    "duration": 160,
    "start_time": "2023-05-03T12:06:42.165Z"
   },
   {
    "duration": 17,
    "start_time": "2023-05-03T13:09:52.396Z"
   },
   {
    "duration": 34,
    "start_time": "2023-05-03T13:10:54.109Z"
   },
   {
    "duration": 24,
    "start_time": "2023-05-03T13:11:08.540Z"
   },
   {
    "duration": 23,
    "start_time": "2023-05-03T13:11:59.399Z"
   },
   {
    "duration": 20,
    "start_time": "2023-05-03T13:12:09.735Z"
   },
   {
    "duration": 18,
    "start_time": "2023-05-03T13:12:35.212Z"
   },
   {
    "duration": 14,
    "start_time": "2023-05-03T13:12:44.356Z"
   },
   {
    "duration": 20,
    "start_time": "2023-05-03T14:00:20.033Z"
   },
   {
    "duration": 1214,
    "start_time": "2023-05-03T14:03:02.405Z"
   },
   {
    "duration": 18,
    "start_time": "2023-05-03T14:03:33.070Z"
   },
   {
    "duration": 29,
    "start_time": "2023-05-03T14:06:24.944Z"
   },
   {
    "duration": 19,
    "start_time": "2023-05-03T14:06:54.926Z"
   },
   {
    "duration": 24,
    "start_time": "2023-05-03T14:07:10.442Z"
   },
   {
    "duration": 18,
    "start_time": "2023-05-03T14:08:44.214Z"
   },
   {
    "duration": 19,
    "start_time": "2023-05-03T14:09:03.619Z"
   },
   {
    "duration": 20,
    "start_time": "2023-05-03T14:11:13.893Z"
   },
   {
    "duration": 21,
    "start_time": "2023-05-03T14:11:20.149Z"
   },
   {
    "duration": 30,
    "start_time": "2023-05-03T14:12:24.981Z"
   },
   {
    "duration": 48,
    "start_time": "2023-05-03T14:12:55.463Z"
   },
   {
    "duration": 102,
    "start_time": "2023-05-03T14:13:34.095Z"
   },
   {
    "duration": 60,
    "start_time": "2023-05-03T14:13:52.563Z"
   },
   {
    "duration": 14,
    "start_time": "2023-05-03T14:14:54.709Z"
   },
   {
    "duration": 1077,
    "start_time": "2023-05-03T18:34:14.251Z"
   },
   {
    "duration": 88,
    "start_time": "2023-05-03T18:34:15.330Z"
   },
   {
    "duration": 25,
    "start_time": "2023-05-03T18:34:15.420Z"
   },
   {
    "duration": 12,
    "start_time": "2023-05-03T18:34:15.447Z"
   },
   {
    "duration": 11,
    "start_time": "2023-05-03T18:34:15.461Z"
   },
   {
    "duration": 22,
    "start_time": "2023-05-03T18:34:15.473Z"
   },
   {
    "duration": 7,
    "start_time": "2023-05-03T18:34:15.497Z"
   },
   {
    "duration": 14,
    "start_time": "2023-05-03T18:34:15.506Z"
   },
   {
    "duration": 15,
    "start_time": "2023-05-03T18:34:15.522Z"
   },
   {
    "duration": 14,
    "start_time": "2023-05-03T18:34:15.539Z"
   },
   {
    "duration": 196,
    "start_time": "2023-05-03T18:34:15.555Z"
   },
   {
    "duration": 12,
    "start_time": "2023-05-03T18:34:15.753Z"
   },
   {
    "duration": 714,
    "start_time": "2023-05-03T18:37:18.723Z"
   },
   {
    "duration": 738,
    "start_time": "2023-05-03T18:39:13.856Z"
   },
   {
    "duration": 16622,
    "start_time": "2023-05-03T18:40:15.743Z"
   },
   {
    "duration": 1200,
    "start_time": "2023-05-03T18:41:11.943Z"
   },
   {
    "duration": 56,
    "start_time": "2023-05-03T18:42:33.767Z"
   },
   {
    "duration": 967,
    "start_time": "2023-05-03T18:43:47.560Z"
   },
   {
    "duration": 32,
    "start_time": "2023-05-03T18:45:37.907Z"
   },
   {
    "duration": 35,
    "start_time": "2023-05-03T18:45:57.381Z"
   },
   {
    "duration": 1502,
    "start_time": "2023-05-03T18:46:18.464Z"
   },
   {
    "duration": 1213,
    "start_time": "2023-05-03T18:46:34.309Z"
   },
   {
    "duration": 128627,
    "start_time": "2023-05-03T18:49:10.579Z"
   },
   {
    "duration": 22,
    "start_time": "2023-05-03T18:52:01.372Z"
   },
   {
    "duration": 19,
    "start_time": "2023-05-03T18:52:33.779Z"
   },
   {
    "duration": 21,
    "start_time": "2023-05-03T18:53:32.885Z"
   },
   {
    "duration": 78,
    "start_time": "2023-05-03T18:56:34.561Z"
   },
   {
    "duration": 786,
    "start_time": "2023-05-03T18:56:44.710Z"
   },
   {
    "duration": 492,
    "start_time": "2023-05-03T18:57:41.907Z"
   },
   {
    "duration": 927,
    "start_time": "2023-05-03T18:59:55.986Z"
   },
   {
    "duration": 813,
    "start_time": "2023-05-03T19:00:36.611Z"
   },
   {
    "duration": 703,
    "start_time": "2023-05-03T19:01:45.062Z"
   },
   {
    "duration": 27,
    "start_time": "2023-05-03T19:05:19.010Z"
   },
   {
    "duration": 256,
    "start_time": "2023-05-03T19:05:29.938Z"
   },
   {
    "duration": 247,
    "start_time": "2023-05-03T19:06:01.632Z"
   },
   {
    "duration": 30,
    "start_time": "2023-05-03T19:06:25.125Z"
   },
   {
    "duration": 246,
    "start_time": "2023-05-03T19:06:46.072Z"
   },
   {
    "duration": 245,
    "start_time": "2023-05-03T19:06:59.143Z"
   },
   {
    "duration": 505,
    "start_time": "2023-05-03T19:08:12.525Z"
   },
   {
    "duration": 623,
    "start_time": "2023-05-03T19:08:41.889Z"
   },
   {
    "duration": 711,
    "start_time": "2023-05-03T19:08:59.887Z"
   },
   {
    "duration": 101638,
    "start_time": "2023-05-03T19:09:17.917Z"
   },
   {
    "duration": 33,
    "start_time": "2023-05-03T19:11:59.380Z"
   },
   {
    "duration": 32,
    "start_time": "2023-05-03T19:12:27.301Z"
   },
   {
    "duration": 100307,
    "start_time": "2023-05-03T19:12:37.122Z"
   },
   {
    "duration": 55,
    "start_time": "2023-05-03T19:14:55.111Z"
   },
   {
    "duration": 759,
    "start_time": "2023-05-03T19:15:44.053Z"
   },
   {
    "duration": 37,
    "start_time": "2023-05-03T19:16:03.879Z"
   },
   {
    "duration": 1391,
    "start_time": "2023-05-03T19:17:03.783Z"
   },
   {
    "duration": 683,
    "start_time": "2023-05-03T19:17:25.015Z"
   },
   {
    "duration": 108,
    "start_time": "2023-05-03T19:18:39.334Z"
   },
   {
    "duration": 623,
    "start_time": "2023-05-03T19:18:58.810Z"
   },
   {
    "duration": 1321,
    "start_time": "2023-05-04T13:09:04.953Z"
   },
   {
    "duration": 110,
    "start_time": "2023-05-04T13:09:06.276Z"
   },
   {
    "duration": 29,
    "start_time": "2023-05-04T13:09:06.388Z"
   },
   {
    "duration": 25,
    "start_time": "2023-05-04T13:09:06.419Z"
   },
   {
    "duration": 26,
    "start_time": "2023-05-04T13:09:06.447Z"
   },
   {
    "duration": 47,
    "start_time": "2023-05-04T13:09:06.476Z"
   },
   {
    "duration": 10,
    "start_time": "2023-05-04T13:09:06.525Z"
   },
   {
    "duration": 34,
    "start_time": "2023-05-04T13:09:06.537Z"
   },
   {
    "duration": 30,
    "start_time": "2023-05-04T13:09:06.574Z"
   },
   {
    "duration": 32,
    "start_time": "2023-05-04T13:09:06.613Z"
   },
   {
    "duration": 254,
    "start_time": "2023-05-04T13:09:06.647Z"
   },
   {
    "duration": 828,
    "start_time": "2023-05-04T13:09:06.903Z"
   },
   {
    "duration": 128711,
    "start_time": "2023-05-04T13:09:58.314Z"
   },
   {
    "duration": 1727,
    "start_time": "2023-05-04T13:15:32.208Z"
   },
   {
    "duration": 1606,
    "start_time": "2023-05-04T13:16:30.747Z"
   },
   {
    "duration": 2234,
    "start_time": "2023-05-04T13:16:38.210Z"
   },
   {
    "duration": 1146,
    "start_time": "2023-05-04T13:17:45.105Z"
   },
   {
    "duration": 1206,
    "start_time": "2023-05-04T13:19:20.707Z"
   },
   {
    "duration": 1192,
    "start_time": "2023-05-04T18:16:53.006Z"
   },
   {
    "duration": 209,
    "start_time": "2023-05-04T18:16:54.200Z"
   },
   {
    "duration": 17,
    "start_time": "2023-05-04T18:16:54.410Z"
   },
   {
    "duration": 13,
    "start_time": "2023-05-04T18:16:54.429Z"
   },
   {
    "duration": 14,
    "start_time": "2023-05-04T18:16:54.444Z"
   },
   {
    "duration": 15,
    "start_time": "2023-05-04T18:16:54.460Z"
   },
   {
    "duration": 8,
    "start_time": "2023-05-04T18:16:54.476Z"
   },
   {
    "duration": 25,
    "start_time": "2023-05-04T18:16:54.485Z"
   },
   {
    "duration": 18,
    "start_time": "2023-05-04T18:16:54.511Z"
   },
   {
    "duration": 14,
    "start_time": "2023-05-04T18:16:54.530Z"
   },
   {
    "duration": 176,
    "start_time": "2023-05-04T18:16:54.546Z"
   },
   {
    "duration": 801,
    "start_time": "2023-05-04T18:16:54.723Z"
   },
   {
    "duration": 141,
    "start_time": "2023-05-04T18:26:38.594Z"
   },
   {
    "duration": 20,
    "start_time": "2023-05-04T18:28:31.341Z"
   },
   {
    "duration": 7,
    "start_time": "2023-05-04T18:28:55.340Z"
   },
   {
    "duration": 6,
    "start_time": "2023-05-04T18:29:22.329Z"
   },
   {
    "duration": 7,
    "start_time": "2023-05-04T18:29:39.612Z"
   },
   {
    "duration": 5,
    "start_time": "2023-05-04T18:29:50.174Z"
   },
   {
    "duration": 13,
    "start_time": "2023-05-04T18:29:59.801Z"
   },
   {
    "duration": 19,
    "start_time": "2023-05-04T18:30:06.334Z"
   },
   {
    "duration": 743,
    "start_time": "2023-05-04T18:34:48.051Z"
   },
   {
    "duration": 8,
    "start_time": "2023-05-04T18:35:12.461Z"
   },
   {
    "duration": 9,
    "start_time": "2023-05-04T18:35:21.337Z"
   },
   {
    "duration": 8,
    "start_time": "2023-05-04T18:35:27.751Z"
   },
   {
    "duration": 4,
    "start_time": "2023-05-04T18:35:39.498Z"
   },
   {
    "duration": 3,
    "start_time": "2023-05-04T18:35:48.659Z"
   },
   {
    "duration": 3,
    "start_time": "2023-05-04T18:36:40.210Z"
   },
   {
    "duration": 3,
    "start_time": "2023-05-04T18:38:58.232Z"
   },
   {
    "duration": 4,
    "start_time": "2023-05-04T18:39:10.556Z"
   },
   {
    "duration": 6,
    "start_time": "2023-05-04T18:40:53.028Z"
   },
   {
    "duration": 4,
    "start_time": "2023-05-04T18:41:17.468Z"
   },
   {
    "duration": 598,
    "start_time": "2023-05-04T18:42:50.051Z"
   },
   {
    "duration": 676,
    "start_time": "2023-05-04T18:44:19.178Z"
   },
   {
    "duration": 658,
    "start_time": "2023-05-04T18:45:05.490Z"
   },
   {
    "duration": 648,
    "start_time": "2023-05-04T18:45:27.419Z"
   },
   {
    "duration": 10,
    "start_time": "2023-05-04T18:46:35.244Z"
   },
   {
    "duration": 21,
    "start_time": "2023-05-04T18:46:41.594Z"
   },
   {
    "duration": 618,
    "start_time": "2023-05-04T18:46:44.155Z"
   },
   {
    "duration": 714,
    "start_time": "2023-05-04T18:47:18.942Z"
   },
   {
    "duration": 22,
    "start_time": "2023-05-04T18:48:51.321Z"
   },
   {
    "duration": 552,
    "start_time": "2023-05-04T18:49:07.192Z"
   },
   {
    "duration": 555,
    "start_time": "2023-05-04T18:49:39.532Z"
   },
   {
    "duration": 618,
    "start_time": "2023-05-04T18:55:41.937Z"
   },
   {
    "duration": 541,
    "start_time": "2023-05-04T18:56:07.903Z"
   },
   {
    "duration": 566,
    "start_time": "2023-05-04T18:57:40.017Z"
   },
   {
    "duration": 551,
    "start_time": "2023-05-04T18:57:54.741Z"
   },
   {
    "duration": 645,
    "start_time": "2023-05-04T18:58:07.355Z"
   },
   {
    "duration": 8,
    "start_time": "2023-05-04T19:02:38.211Z"
   },
   {
    "duration": 145,
    "start_time": "2023-05-04T19:03:35.142Z"
   },
   {
    "duration": 8,
    "start_time": "2023-05-04T19:04:32.030Z"
   },
   {
    "duration": 176,
    "start_time": "2023-05-04T19:05:52.179Z"
   },
   {
    "duration": 156,
    "start_time": "2023-05-04T19:06:10.778Z"
   },
   {
    "duration": 21,
    "start_time": "2023-05-04T19:08:52.122Z"
   },
   {
    "duration": 88,
    "start_time": "2023-05-04T19:09:21.552Z"
   },
   {
    "duration": 3,
    "start_time": "2023-05-04T19:11:08.124Z"
   },
   {
    "duration": 153,
    "start_time": "2023-05-04T19:12:28.593Z"
   },
   {
    "duration": 9,
    "start_time": "2023-05-04T19:12:53.769Z"
   },
   {
    "duration": 122,
    "start_time": "2023-05-04T19:13:02.358Z"
   },
   {
    "duration": 88,
    "start_time": "2023-05-04T19:13:16.386Z"
   },
   {
    "duration": 148,
    "start_time": "2023-05-04T19:14:02.116Z"
   },
   {
    "duration": 154,
    "start_time": "2023-05-04T19:14:39.056Z"
   },
   {
    "duration": 174,
    "start_time": "2023-05-04T19:15:36.467Z"
   },
   {
    "duration": 85,
    "start_time": "2023-05-04T19:15:44.691Z"
   },
   {
    "duration": 139,
    "start_time": "2023-05-04T19:16:14.300Z"
   },
   {
    "duration": 85,
    "start_time": "2023-05-04T19:16:22.068Z"
   },
   {
    "duration": 74,
    "start_time": "2023-05-04T19:16:23.782Z"
   },
   {
    "duration": 86,
    "start_time": "2023-05-04T19:16:25.111Z"
   },
   {
    "duration": 88,
    "start_time": "2023-05-04T19:16:25.801Z"
   },
   {
    "duration": 94,
    "start_time": "2023-05-04T19:16:26.513Z"
   },
   {
    "duration": 87,
    "start_time": "2023-05-04T19:17:25.213Z"
   },
   {
    "duration": 102,
    "start_time": "2023-05-04T19:17:26.162Z"
   },
   {
    "duration": 87,
    "start_time": "2023-05-04T19:17:26.920Z"
   },
   {
    "duration": 145,
    "start_time": "2023-05-04T19:17:27.533Z"
   },
   {
    "duration": 82,
    "start_time": "2023-05-04T19:17:28.393Z"
   },
   {
    "duration": 594,
    "start_time": "2023-05-04T19:18:22.758Z"
   },
   {
    "duration": 95,
    "start_time": "2023-05-04T19:18:33.316Z"
   },
   {
    "duration": 84,
    "start_time": "2023-05-04T19:18:34.092Z"
   },
   {
    "duration": 94,
    "start_time": "2023-05-04T19:18:34.934Z"
   },
   {
    "duration": 90,
    "start_time": "2023-05-04T19:18:37.199Z"
   },
   {
    "duration": 88,
    "start_time": "2023-05-04T19:18:38.183Z"
   },
   {
    "duration": 98,
    "start_time": "2023-05-04T19:21:10.363Z"
   },
   {
    "duration": 13,
    "start_time": "2023-05-04T19:23:31.745Z"
   },
   {
    "duration": 12,
    "start_time": "2023-05-04T19:23:40.406Z"
   },
   {
    "duration": 149,
    "start_time": "2023-05-04T19:25:35.817Z"
   },
   {
    "duration": 1244,
    "start_time": "2023-05-05T13:55:24.341Z"
   },
   {
    "duration": 100,
    "start_time": "2023-05-05T13:55:25.588Z"
   },
   {
    "duration": 19,
    "start_time": "2023-05-05T13:55:25.689Z"
   },
   {
    "duration": 14,
    "start_time": "2023-05-05T13:55:25.710Z"
   },
   {
    "duration": 13,
    "start_time": "2023-05-05T13:55:25.726Z"
   },
   {
    "duration": 18,
    "start_time": "2023-05-05T13:55:25.740Z"
   },
   {
    "duration": 9,
    "start_time": "2023-05-05T13:55:25.759Z"
   },
   {
    "duration": 43,
    "start_time": "2023-05-05T13:55:25.769Z"
   },
   {
    "duration": 17,
    "start_time": "2023-05-05T13:55:25.814Z"
   },
   {
    "duration": 18,
    "start_time": "2023-05-05T13:55:25.833Z"
   },
   {
    "duration": 240,
    "start_time": "2023-05-05T13:55:25.853Z"
   },
   {
    "duration": 958,
    "start_time": "2023-05-05T13:55:26.095Z"
   },
   {
    "duration": 26,
    "start_time": "2023-05-05T13:55:27.054Z"
   },
   {
    "duration": 118,
    "start_time": "2023-05-05T13:55:27.082Z"
   },
   {
    "duration": 0,
    "start_time": "2023-05-05T13:55:27.202Z"
   },
   {
    "duration": 0,
    "start_time": "2023-05-05T13:55:27.204Z"
   },
   {
    "duration": 0,
    "start_time": "2023-05-05T13:55:27.205Z"
   },
   {
    "duration": 0,
    "start_time": "2023-05-05T13:55:27.206Z"
   },
   {
    "duration": 0,
    "start_time": "2023-05-05T13:55:27.212Z"
   },
   {
    "duration": 26,
    "start_time": "2023-05-05T13:55:46.076Z"
   },
   {
    "duration": 11,
    "start_time": "2023-05-05T13:55:47.170Z"
   },
   {
    "duration": 1168,
    "start_time": "2023-05-05T13:56:00.519Z"
   },
   {
    "duration": 53,
    "start_time": "2023-05-05T13:56:01.689Z"
   },
   {
    "duration": 21,
    "start_time": "2023-05-05T13:56:01.743Z"
   },
   {
    "duration": 21,
    "start_time": "2023-05-05T13:56:01.766Z"
   },
   {
    "duration": 28,
    "start_time": "2023-05-05T13:56:01.788Z"
   },
   {
    "duration": 35,
    "start_time": "2023-05-05T13:56:01.818Z"
   },
   {
    "duration": 16,
    "start_time": "2023-05-05T13:56:01.855Z"
   },
   {
    "duration": 28,
    "start_time": "2023-05-05T13:56:01.873Z"
   },
   {
    "duration": 24,
    "start_time": "2023-05-05T13:56:01.903Z"
   },
   {
    "duration": 37,
    "start_time": "2023-05-05T13:56:01.929Z"
   },
   {
    "duration": 213,
    "start_time": "2023-05-05T13:56:01.967Z"
   },
   {
    "duration": 960,
    "start_time": "2023-05-05T13:56:02.182Z"
   },
   {
    "duration": 31,
    "start_time": "2023-05-05T13:56:03.144Z"
   },
   {
    "duration": 123,
    "start_time": "2023-05-05T13:56:03.177Z"
   },
   {
    "duration": 0,
    "start_time": "2023-05-05T13:56:03.302Z"
   },
   {
    "duration": 0,
    "start_time": "2023-05-05T13:56:03.303Z"
   },
   {
    "duration": 0,
    "start_time": "2023-05-05T13:56:03.312Z"
   },
   {
    "duration": 0,
    "start_time": "2023-05-05T13:56:03.313Z"
   },
   {
    "duration": 0,
    "start_time": "2023-05-05T13:56:03.314Z"
   },
   {
    "duration": 691,
    "start_time": "2023-05-05T13:56:55.630Z"
   },
   {
    "duration": 759,
    "start_time": "2023-05-05T13:57:17.254Z"
   },
   {
    "duration": 128,
    "start_time": "2023-05-05T13:57:38.614Z"
   },
   {
    "duration": 91,
    "start_time": "2023-05-05T13:57:39.511Z"
   },
   {
    "duration": 115,
    "start_time": "2023-05-05T13:57:39.612Z"
   },
   {
    "duration": 102,
    "start_time": "2023-05-05T13:57:39.966Z"
   },
   {
    "duration": 99,
    "start_time": "2023-05-05T13:57:42.288Z"
   },
   {
    "duration": 683,
    "start_time": "2023-05-05T14:59:59.607Z"
   },
   {
    "duration": 834,
    "start_time": "2023-05-05T15:00:10.605Z"
   },
   {
    "duration": 1592,
    "start_time": "2023-05-05T15:13:29.801Z"
   },
   {
    "duration": 148,
    "start_time": "2023-05-05T15:13:40.036Z"
   },
   {
    "duration": 145,
    "start_time": "2023-05-05T15:13:46.444Z"
   },
   {
    "duration": 179,
    "start_time": "2023-05-05T15:13:52.967Z"
   },
   {
    "duration": 141,
    "start_time": "2023-05-05T15:13:59.952Z"
   },
   {
    "duration": 179,
    "start_time": "2023-05-05T15:14:28.852Z"
   },
   {
    "duration": 135,
    "start_time": "2023-05-05T15:16:41.377Z"
   },
   {
    "duration": 2,
    "start_time": "2023-05-05T15:17:39.191Z"
   },
   {
    "duration": 16,
    "start_time": "2023-05-05T15:19:42.047Z"
   },
   {
    "duration": 1614,
    "start_time": "2023-05-05T15:19:49.252Z"
   },
   {
    "duration": 104,
    "start_time": "2023-05-05T15:30:35.441Z"
   },
   {
    "duration": 18,
    "start_time": "2023-05-05T15:30:46.904Z"
   },
   {
    "duration": 81,
    "start_time": "2023-05-05T15:30:52.477Z"
   },
   {
    "duration": 1120,
    "start_time": "2023-05-05T15:32:01.061Z"
   },
   {
    "duration": 53,
    "start_time": "2023-05-05T15:32:02.183Z"
   },
   {
    "duration": 19,
    "start_time": "2023-05-05T15:32:02.238Z"
   },
   {
    "duration": 32,
    "start_time": "2023-05-05T15:32:02.259Z"
   },
   {
    "duration": 51,
    "start_time": "2023-05-05T15:32:02.294Z"
   },
   {
    "duration": 24,
    "start_time": "2023-05-05T15:32:02.346Z"
   },
   {
    "duration": 28,
    "start_time": "2023-05-05T15:32:02.372Z"
   },
   {
    "duration": 42,
    "start_time": "2023-05-05T15:32:02.402Z"
   },
   {
    "duration": 39754,
    "start_time": "2023-05-05T15:32:02.445Z"
   },
   {
    "duration": 27,
    "start_time": "2023-05-05T15:32:42.200Z"
   },
   {
    "duration": 247,
    "start_time": "2023-05-05T15:32:42.228Z"
   },
   {
    "duration": 1039,
    "start_time": "2023-05-05T15:32:42.477Z"
   },
   {
    "duration": 28,
    "start_time": "2023-05-05T15:32:43.519Z"
   },
   {
    "duration": 745,
    "start_time": "2023-05-05T15:32:43.551Z"
   },
   {
    "duration": 132,
    "start_time": "2023-05-05T15:32:44.298Z"
   },
   {
    "duration": 194,
    "start_time": "2023-05-05T15:32:44.432Z"
   },
   {
    "duration": 127,
    "start_time": "2023-05-05T15:32:44.627Z"
   },
   {
    "duration": 109,
    "start_time": "2023-05-05T15:32:44.756Z"
   },
   {
    "duration": 109,
    "start_time": "2023-05-05T15:32:44.866Z"
   },
   {
    "duration": 1499,
    "start_time": "2023-05-05T15:32:44.976Z"
   },
   {
    "duration": 17,
    "start_time": "2023-05-05T15:34:32.817Z"
   },
   {
    "duration": 1662,
    "start_time": "2023-05-05T15:35:55.657Z"
   },
   {
    "duration": 1588,
    "start_time": "2023-05-05T15:36:38.629Z"
   },
   {
    "duration": 1648,
    "start_time": "2023-05-05T15:40:09.069Z"
   },
   {
    "duration": 1533,
    "start_time": "2023-05-05T15:40:24.743Z"
   },
   {
    "duration": 1683,
    "start_time": "2023-05-05T15:41:21.794Z"
   },
   {
    "duration": 1602,
    "start_time": "2023-05-05T15:41:52.194Z"
   },
   {
    "duration": 1489,
    "start_time": "2023-05-05T15:42:05.203Z"
   },
   {
    "duration": 1676,
    "start_time": "2023-05-05T15:42:18.487Z"
   },
   {
    "duration": 1542,
    "start_time": "2023-05-05T15:43:14.169Z"
   },
   {
    "duration": 1623,
    "start_time": "2023-05-05T15:43:40.045Z"
   },
   {
    "duration": 1538,
    "start_time": "2023-05-05T15:44:56.460Z"
   },
   {
    "duration": 3178,
    "start_time": "2023-05-05T15:46:24.340Z"
   },
   {
    "duration": 244,
    "start_time": "2023-05-05T15:46:48.394Z"
   },
   {
    "duration": 3185,
    "start_time": "2023-05-05T15:47:03.078Z"
   },
   {
    "duration": 3128,
    "start_time": "2023-05-05T15:50:22.321Z"
   },
   {
    "duration": 3092,
    "start_time": "2023-05-05T15:50:42.041Z"
   },
   {
    "duration": 2912,
    "start_time": "2023-05-05T15:51:05.040Z"
   },
   {
    "duration": 3243,
    "start_time": "2023-05-05T15:52:11.120Z"
   },
   {
    "duration": 3280,
    "start_time": "2023-05-05T15:52:48.731Z"
   },
   {
    "duration": 2249,
    "start_time": "2023-05-05T15:58:43.691Z"
   },
   {
    "duration": 65,
    "start_time": "2023-05-05T15:59:11.634Z"
   },
   {
    "duration": 2539,
    "start_time": "2023-05-05T15:59:17.615Z"
   },
   {
    "duration": 1954,
    "start_time": "2023-05-05T15:59:32.810Z"
   },
   {
    "duration": 2070,
    "start_time": "2023-05-05T16:00:14.100Z"
   },
   {
    "duration": 1864,
    "start_time": "2023-05-05T16:00:21.991Z"
   },
   {
    "duration": 2369,
    "start_time": "2023-05-05T16:00:28.968Z"
   },
   {
    "duration": 2244,
    "start_time": "2023-05-05T16:02:16.584Z"
   },
   {
    "duration": 3229,
    "start_time": "2023-05-05T16:07:55.697Z"
   },
   {
    "duration": 3119,
    "start_time": "2023-05-05T16:08:14.938Z"
   },
   {
    "duration": 2939,
    "start_time": "2023-05-05T16:09:14.493Z"
   },
   {
    "duration": 3282,
    "start_time": "2023-05-05T16:09:37.544Z"
   },
   {
    "duration": 3448,
    "start_time": "2023-05-05T16:18:50.826Z"
   },
   {
    "duration": 3272,
    "start_time": "2023-05-05T16:19:13.800Z"
   },
   {
    "duration": 3856,
    "start_time": "2023-05-05T16:20:49.115Z"
   },
   {
    "duration": 4056,
    "start_time": "2023-05-05T16:21:03.271Z"
   },
   {
    "duration": 4016,
    "start_time": "2023-05-05T16:23:16.152Z"
   },
   {
    "duration": 3699,
    "start_time": "2023-05-05T16:24:02.848Z"
   },
   {
    "duration": 3806,
    "start_time": "2023-05-05T16:25:27.069Z"
   },
   {
    "duration": 3819,
    "start_time": "2023-05-05T16:25:49.159Z"
   },
   {
    "duration": 297,
    "start_time": "2023-05-05T16:26:58.331Z"
   },
   {
    "duration": 18,
    "start_time": "2023-05-05T16:31:06.785Z"
   },
   {
    "duration": 1201,
    "start_time": "2023-05-05T16:31:25.088Z"
   },
   {
    "duration": 55,
    "start_time": "2023-05-05T16:31:26.291Z"
   },
   {
    "duration": 22,
    "start_time": "2023-05-05T16:31:26.348Z"
   },
   {
    "duration": 15,
    "start_time": "2023-05-05T16:31:26.373Z"
   },
   {
    "duration": 29,
    "start_time": "2023-05-05T16:31:26.390Z"
   },
   {
    "duration": 19,
    "start_time": "2023-05-05T16:31:26.421Z"
   },
   {
    "duration": 10,
    "start_time": "2023-05-05T16:31:26.442Z"
   },
   {
    "duration": 16,
    "start_time": "2023-05-05T16:31:26.454Z"
   },
   {
    "duration": 53,
    "start_time": "2023-05-05T16:31:26.471Z"
   },
   {
    "duration": 18,
    "start_time": "2023-05-05T16:31:26.526Z"
   },
   {
    "duration": 228,
    "start_time": "2023-05-05T16:31:26.546Z"
   },
   {
    "duration": 1013,
    "start_time": "2023-05-05T16:31:26.776Z"
   },
   {
    "duration": 37,
    "start_time": "2023-05-05T16:31:27.792Z"
   },
   {
    "duration": 735,
    "start_time": "2023-05-05T16:31:27.831Z"
   },
   {
    "duration": 128,
    "start_time": "2023-05-05T16:31:28.567Z"
   },
   {
    "duration": 229,
    "start_time": "2023-05-05T16:31:28.697Z"
   },
   {
    "duration": 155,
    "start_time": "2023-05-05T16:31:28.928Z"
   },
   {
    "duration": 132,
    "start_time": "2023-05-05T16:31:29.085Z"
   },
   {
    "duration": 122,
    "start_time": "2023-05-05T16:31:29.219Z"
   },
   {
    "duration": 3769,
    "start_time": "2023-05-05T16:31:29.344Z"
   },
   {
    "duration": 2126,
    "start_time": "2023-05-05T16:31:33.116Z"
   },
   {
    "duration": 3664,
    "start_time": "2023-05-05T16:32:10.408Z"
   },
   {
    "duration": 1730,
    "start_time": "2023-05-05T16:34:26.828Z"
   },
   {
    "duration": 44,
    "start_time": "2023-05-05T19:31:09.703Z"
   },
   {
    "duration": 1370,
    "start_time": "2023-05-05T19:31:15.394Z"
   },
   {
    "duration": 264,
    "start_time": "2023-05-05T19:31:16.766Z"
   },
   {
    "duration": 17,
    "start_time": "2023-05-05T19:31:17.031Z"
   },
   {
    "duration": 18,
    "start_time": "2023-05-05T19:31:17.049Z"
   },
   {
    "duration": 35,
    "start_time": "2023-05-05T19:31:17.069Z"
   },
   {
    "duration": 20,
    "start_time": "2023-05-05T19:31:17.107Z"
   },
   {
    "duration": 17,
    "start_time": "2023-05-05T19:31:17.129Z"
   },
   {
    "duration": 21,
    "start_time": "2023-05-05T19:31:17.148Z"
   },
   {
    "duration": 135,
    "start_time": "2023-05-05T19:31:17.170Z"
   },
   {
    "duration": 0,
    "start_time": "2023-05-05T19:31:17.306Z"
   },
   {
    "duration": 0,
    "start_time": "2023-05-05T19:31:17.307Z"
   },
   {
    "duration": 0,
    "start_time": "2023-05-05T19:31:17.309Z"
   },
   {
    "duration": 0,
    "start_time": "2023-05-05T19:31:17.310Z"
   },
   {
    "duration": 0,
    "start_time": "2023-05-05T19:31:17.311Z"
   },
   {
    "duration": 0,
    "start_time": "2023-05-05T19:31:17.312Z"
   },
   {
    "duration": 0,
    "start_time": "2023-05-05T19:31:17.313Z"
   },
   {
    "duration": 0,
    "start_time": "2023-05-05T19:31:17.314Z"
   },
   {
    "duration": 0,
    "start_time": "2023-05-05T19:31:17.315Z"
   },
   {
    "duration": 0,
    "start_time": "2023-05-05T19:31:17.316Z"
   },
   {
    "duration": 0,
    "start_time": "2023-05-05T19:31:17.318Z"
   },
   {
    "duration": 0,
    "start_time": "2023-05-05T19:31:17.318Z"
   },
   {
    "duration": 20,
    "start_time": "2023-05-05T19:33:46.716Z"
   },
   {
    "duration": 17,
    "start_time": "2023-05-05T19:33:52.415Z"
   },
   {
    "duration": 13,
    "start_time": "2023-05-05T19:34:23.846Z"
   },
   {
    "duration": 956,
    "start_time": "2023-05-05T19:34:53.433Z"
   },
   {
    "duration": 52,
    "start_time": "2023-05-05T19:34:54.391Z"
   },
   {
    "duration": 17,
    "start_time": "2023-05-05T19:34:54.444Z"
   },
   {
    "duration": 32,
    "start_time": "2023-05-05T19:34:54.463Z"
   },
   {
    "duration": 44,
    "start_time": "2023-05-05T19:34:54.498Z"
   },
   {
    "duration": 37,
    "start_time": "2023-05-05T19:34:54.544Z"
   },
   {
    "duration": 38,
    "start_time": "2023-05-05T19:34:54.590Z"
   },
   {
    "duration": 47,
    "start_time": "2023-05-05T19:34:54.630Z"
   },
   {
    "duration": 35,
    "start_time": "2023-05-05T19:34:54.679Z"
   },
   {
    "duration": 20,
    "start_time": "2023-05-05T19:34:54.715Z"
   },
   {
    "duration": 171,
    "start_time": "2023-05-05T19:34:54.736Z"
   },
   {
    "duration": 813,
    "start_time": "2023-05-05T19:34:54.909Z"
   },
   {
    "duration": 23,
    "start_time": "2023-05-05T19:34:55.724Z"
   },
   {
    "duration": 784,
    "start_time": "2023-05-05T19:34:55.752Z"
   },
   {
    "duration": 153,
    "start_time": "2023-05-05T19:34:56.539Z"
   },
   {
    "duration": 149,
    "start_time": "2023-05-05T19:34:56.693Z"
   },
   {
    "duration": 97,
    "start_time": "2023-05-05T19:34:56.843Z"
   },
   {
    "duration": 114,
    "start_time": "2023-05-05T19:34:56.941Z"
   },
   {
    "duration": 96,
    "start_time": "2023-05-05T19:34:57.056Z"
   },
   {
    "duration": 1505,
    "start_time": "2023-05-05T19:34:57.154Z"
   },
   {
    "duration": 2083,
    "start_time": "2023-05-05T19:34:58.661Z"
   },
   {
    "duration": 51,
    "start_time": "2023-05-05T22:04:11.550Z"
   },
   {
    "duration": 1442,
    "start_time": "2023-05-05T22:04:17.004Z"
   },
   {
    "duration": 99,
    "start_time": "2023-05-05T22:04:18.449Z"
   },
   {
    "duration": 19,
    "start_time": "2023-05-05T22:04:18.549Z"
   },
   {
    "duration": 14,
    "start_time": "2023-05-05T22:04:18.570Z"
   },
   {
    "duration": 21,
    "start_time": "2023-05-05T22:04:18.586Z"
   },
   {
    "duration": 19,
    "start_time": "2023-05-05T22:04:18.611Z"
   },
   {
    "duration": 8,
    "start_time": "2023-05-05T22:04:18.631Z"
   },
   {
    "duration": 15,
    "start_time": "2023-05-05T22:04:18.641Z"
   },
   {
    "duration": 48,
    "start_time": "2023-05-05T22:04:18.657Z"
   },
   {
    "duration": 21,
    "start_time": "2023-05-05T22:04:18.707Z"
   },
   {
    "duration": 257,
    "start_time": "2023-05-05T22:04:18.730Z"
   },
   {
    "duration": 1041,
    "start_time": "2023-05-05T22:04:18.989Z"
   },
   {
    "duration": 32,
    "start_time": "2023-05-05T22:04:20.032Z"
   },
   {
    "duration": 703,
    "start_time": "2023-05-05T22:04:20.068Z"
   },
   {
    "duration": 124,
    "start_time": "2023-05-05T22:04:20.772Z"
   },
   {
    "duration": 200,
    "start_time": "2023-05-05T22:04:20.898Z"
   },
   {
    "duration": 126,
    "start_time": "2023-05-05T22:04:21.101Z"
   },
   {
    "duration": 108,
    "start_time": "2023-05-05T22:04:21.228Z"
   },
   {
    "duration": 107,
    "start_time": "2023-05-05T22:04:21.338Z"
   },
   {
    "duration": 1553,
    "start_time": "2023-05-05T22:04:21.447Z"
   },
   {
    "duration": 2565,
    "start_time": "2023-05-05T22:04:23.003Z"
   },
   {
    "duration": 132,
    "start_time": "2023-05-05T22:04:25.570Z"
   },
   {
    "duration": 9,
    "start_time": "2023-05-05T22:04:55.364Z"
   },
   {
    "duration": 24,
    "start_time": "2023-05-05T22:06:44.911Z"
   },
   {
    "duration": 18,
    "start_time": "2023-05-05T22:07:12.642Z"
   },
   {
    "duration": 23,
    "start_time": "2023-05-05T22:07:35.923Z"
   },
   {
    "duration": 19,
    "start_time": "2023-05-05T22:08:04.578Z"
   },
   {
    "duration": 14,
    "start_time": "2023-05-05T22:09:09.275Z"
   },
   {
    "duration": 36,
    "start_time": "2023-05-05T22:11:32.006Z"
   },
   {
    "duration": 37,
    "start_time": "2023-05-05T22:11:47.349Z"
   },
   {
    "duration": 74,
    "start_time": "2023-05-05T22:12:29.612Z"
   },
   {
    "duration": 21,
    "start_time": "2023-05-05T22:12:38.953Z"
   },
   {
    "duration": 26,
    "start_time": "2023-05-05T22:13:11.420Z"
   },
   {
    "duration": 46,
    "start_time": "2023-05-05T22:13:28.584Z"
   },
   {
    "duration": 42,
    "start_time": "2023-05-05T22:15:14.153Z"
   },
   {
    "duration": 54,
    "start_time": "2023-05-05T22:18:21.693Z"
   },
   {
    "duration": 61,
    "start_time": "2023-05-05T22:18:39.997Z"
   },
   {
    "duration": 192,
    "start_time": "2023-05-05T22:22:00.153Z"
   },
   {
    "duration": 175,
    "start_time": "2023-05-05T22:22:26.386Z"
   },
   {
    "duration": 164,
    "start_time": "2023-05-05T22:23:11.358Z"
   },
   {
    "duration": 447,
    "start_time": "2023-05-05T22:23:40.465Z"
   },
   {
    "duration": 606,
    "start_time": "2023-05-05T22:26:33.657Z"
   },
   {
    "duration": 52,
    "start_time": "2023-05-05T22:26:55.139Z"
   },
   {
    "duration": 55,
    "start_time": "2023-05-05T22:27:29.039Z"
   },
   {
    "duration": 446,
    "start_time": "2023-05-05T22:27:48.930Z"
   },
   {
    "duration": 505,
    "start_time": "2023-05-05T22:28:31.877Z"
   },
   {
    "duration": 457,
    "start_time": "2023-05-05T22:29:19.592Z"
   },
   {
    "duration": 476,
    "start_time": "2023-05-05T22:30:00.704Z"
   },
   {
    "duration": 546,
    "start_time": "2023-05-05T22:30:35.027Z"
   },
   {
    "duration": 491,
    "start_time": "2023-05-05T22:30:44.307Z"
   },
   {
    "duration": 437,
    "start_time": "2023-05-05T22:31:11.473Z"
   },
   {
    "duration": 480,
    "start_time": "2023-05-05T22:33:26.678Z"
   },
   {
    "duration": 502,
    "start_time": "2023-05-05T22:35:27.172Z"
   },
   {
    "duration": 1165,
    "start_time": "2023-05-05T22:35:36.534Z"
   },
   {
    "duration": 52,
    "start_time": "2023-05-05T22:35:37.701Z"
   },
   {
    "duration": 21,
    "start_time": "2023-05-05T22:35:37.754Z"
   },
   {
    "duration": 15,
    "start_time": "2023-05-05T22:35:37.777Z"
   },
   {
    "duration": 14,
    "start_time": "2023-05-05T22:35:37.794Z"
   },
   {
    "duration": 18,
    "start_time": "2023-05-05T22:35:37.810Z"
   },
   {
    "duration": 9,
    "start_time": "2023-05-05T22:35:37.829Z"
   },
   {
    "duration": 18,
    "start_time": "2023-05-05T22:35:37.839Z"
   },
   {
    "duration": 46,
    "start_time": "2023-05-05T22:35:37.858Z"
   },
   {
    "duration": 18,
    "start_time": "2023-05-05T22:35:37.907Z"
   },
   {
    "duration": 224,
    "start_time": "2023-05-05T22:35:37.926Z"
   },
   {
    "duration": 917,
    "start_time": "2023-05-05T22:35:38.152Z"
   },
   {
    "duration": 31,
    "start_time": "2023-05-05T22:35:39.071Z"
   },
   {
    "duration": 655,
    "start_time": "2023-05-05T22:35:39.104Z"
   },
   {
    "duration": 110,
    "start_time": "2023-05-05T22:35:39.761Z"
   },
   {
    "duration": 183,
    "start_time": "2023-05-05T22:35:39.873Z"
   },
   {
    "duration": 108,
    "start_time": "2023-05-05T22:35:40.057Z"
   },
   {
    "duration": 108,
    "start_time": "2023-05-05T22:35:40.166Z"
   },
   {
    "duration": 103,
    "start_time": "2023-05-05T22:35:40.275Z"
   },
   {
    "duration": 1542,
    "start_time": "2023-05-05T22:35:40.379Z"
   },
   {
    "duration": 2151,
    "start_time": "2023-05-05T22:35:41.923Z"
   },
   {
    "duration": 460,
    "start_time": "2023-05-05T22:35:44.076Z"
   },
   {
    "duration": 1401,
    "start_time": "2023-05-06T12:18:55.188Z"
   },
   {
    "duration": 213,
    "start_time": "2023-05-06T12:18:56.591Z"
   },
   {
    "duration": 19,
    "start_time": "2023-05-06T12:18:56.806Z"
   },
   {
    "duration": 27,
    "start_time": "2023-05-06T12:18:56.827Z"
   },
   {
    "duration": 30,
    "start_time": "2023-05-06T12:18:56.860Z"
   },
   {
    "duration": 19,
    "start_time": "2023-05-06T12:18:56.892Z"
   },
   {
    "duration": 10,
    "start_time": "2023-05-06T12:18:56.913Z"
   },
   {
    "duration": 44,
    "start_time": "2023-05-06T12:18:56.925Z"
   },
   {
    "duration": 19,
    "start_time": "2023-05-06T12:18:56.972Z"
   },
   {
    "duration": 20,
    "start_time": "2023-05-06T12:18:56.993Z"
   },
   {
    "duration": 235,
    "start_time": "2023-05-06T12:18:57.014Z"
   },
   {
    "duration": 1066,
    "start_time": "2023-05-06T12:18:57.251Z"
   },
   {
    "duration": 41,
    "start_time": "2023-05-06T12:18:58.319Z"
   },
   {
    "duration": 782,
    "start_time": "2023-05-06T12:18:58.362Z"
   },
   {
    "duration": 126,
    "start_time": "2023-05-06T12:18:59.149Z"
   },
   {
    "duration": 186,
    "start_time": "2023-05-06T12:18:59.279Z"
   },
   {
    "duration": 139,
    "start_time": "2023-05-06T12:18:59.467Z"
   },
   {
    "duration": 124,
    "start_time": "2023-05-06T12:18:59.607Z"
   },
   {
    "duration": 143,
    "start_time": "2023-05-06T12:18:59.732Z"
   },
   {
    "duration": 1806,
    "start_time": "2023-05-06T12:18:59.877Z"
   },
   {
    "duration": 2299,
    "start_time": "2023-05-06T12:19:01.684Z"
   },
   {
    "duration": 69,
    "start_time": "2023-05-06T12:19:03.984Z"
   },
   {
    "duration": 458,
    "start_time": "2023-05-06T12:19:15.491Z"
   },
   {
    "duration": 8,
    "start_time": "2023-05-06T12:24:57.353Z"
   },
   {
    "duration": 20,
    "start_time": "2023-05-06T12:25:10.141Z"
   },
   {
    "duration": 12,
    "start_time": "2023-05-06T12:27:21.893Z"
   },
   {
    "duration": 20,
    "start_time": "2023-05-06T12:28:09.697Z"
   },
   {
    "duration": 38,
    "start_time": "2023-05-06T12:28:16.463Z"
   },
   {
    "duration": 30,
    "start_time": "2023-05-06T12:29:31.679Z"
   },
   {
    "duration": 38,
    "start_time": "2023-05-06T12:29:43.334Z"
   },
   {
    "duration": 13,
    "start_time": "2023-05-06T12:30:17.255Z"
   },
   {
    "duration": 127,
    "start_time": "2023-05-06T12:34:49.905Z"
   },
   {
    "duration": 24,
    "start_time": "2023-05-06T12:35:40.373Z"
   },
   {
    "duration": 17,
    "start_time": "2023-05-06T12:37:57.460Z"
   },
   {
    "duration": 116,
    "start_time": "2023-05-06T12:39:11.258Z"
   },
   {
    "duration": 27,
    "start_time": "2023-05-06T12:39:25.555Z"
   },
   {
    "duration": 38,
    "start_time": "2023-05-06T12:39:32.122Z"
   },
   {
    "duration": 36,
    "start_time": "2023-05-06T12:40:16.787Z"
   },
   {
    "duration": 15,
    "start_time": "2023-05-06T12:41:21.559Z"
   },
   {
    "duration": 19,
    "start_time": "2023-05-06T12:41:33.267Z"
   },
   {
    "duration": 9,
    "start_time": "2023-05-06T12:43:03.958Z"
   },
   {
    "duration": 48,
    "start_time": "2023-05-06T12:43:57.764Z"
   },
   {
    "duration": 22,
    "start_time": "2023-05-06T12:44:04.036Z"
   },
   {
    "duration": 1082,
    "start_time": "2023-05-06T12:44:20.030Z"
   },
   {
    "duration": 85,
    "start_time": "2023-05-06T12:44:21.113Z"
   },
   {
    "duration": 18,
    "start_time": "2023-05-06T12:44:21.199Z"
   },
   {
    "duration": 12,
    "start_time": "2023-05-06T12:44:21.219Z"
   },
   {
    "duration": 52,
    "start_time": "2023-05-06T12:44:21.232Z"
   },
   {
    "duration": 27,
    "start_time": "2023-05-06T12:44:21.285Z"
   },
   {
    "duration": 10,
    "start_time": "2023-05-06T12:44:21.314Z"
   },
   {
    "duration": 30,
    "start_time": "2023-05-06T12:44:21.325Z"
   },
   {
    "duration": 38,
    "start_time": "2023-05-06T12:44:21.360Z"
   },
   {
    "duration": 24,
    "start_time": "2023-05-06T12:44:21.400Z"
   },
   {
    "duration": 230,
    "start_time": "2023-05-06T12:44:21.426Z"
   },
   {
    "duration": 1054,
    "start_time": "2023-05-06T12:44:21.658Z"
   },
   {
    "duration": 52,
    "start_time": "2023-05-06T12:44:22.713Z"
   },
   {
    "duration": 725,
    "start_time": "2023-05-06T12:44:22.768Z"
   },
   {
    "duration": 123,
    "start_time": "2023-05-06T12:44:23.495Z"
   },
   {
    "duration": 190,
    "start_time": "2023-05-06T12:44:23.619Z"
   },
   {
    "duration": 137,
    "start_time": "2023-05-06T12:44:23.811Z"
   },
   {
    "duration": 123,
    "start_time": "2023-05-06T12:44:23.949Z"
   },
   {
    "duration": 116,
    "start_time": "2023-05-06T12:44:24.074Z"
   },
   {
    "duration": 1873,
    "start_time": "2023-05-06T12:44:24.191Z"
   },
   {
    "duration": 2385,
    "start_time": "2023-05-06T12:44:26.066Z"
   },
   {
    "duration": 466,
    "start_time": "2023-05-06T12:44:28.455Z"
   },
   {
    "duration": 129,
    "start_time": "2023-05-06T12:44:28.922Z"
   },
   {
    "duration": 20,
    "start_time": "2023-05-06T12:44:35.882Z"
   },
   {
    "duration": 19,
    "start_time": "2023-05-06T12:44:48.756Z"
   },
   {
    "duration": 9,
    "start_time": "2023-05-06T12:46:28.694Z"
   },
   {
    "duration": 10,
    "start_time": "2023-05-06T12:49:50.911Z"
   },
   {
    "duration": 17,
    "start_time": "2023-05-06T12:50:00.362Z"
   },
   {
    "duration": 1125,
    "start_time": "2023-05-06T12:52:22.167Z"
   },
   {
    "duration": 62,
    "start_time": "2023-05-06T12:52:23.295Z"
   },
   {
    "duration": 23,
    "start_time": "2023-05-06T12:52:23.360Z"
   },
   {
    "duration": 19,
    "start_time": "2023-05-06T12:52:23.385Z"
   },
   {
    "duration": 14,
    "start_time": "2023-05-06T12:52:23.405Z"
   },
   {
    "duration": 33,
    "start_time": "2023-05-06T12:52:23.421Z"
   },
   {
    "duration": 38,
    "start_time": "2023-05-06T12:52:23.456Z"
   },
   {
    "duration": 15,
    "start_time": "2023-05-06T12:52:23.495Z"
   },
   {
    "duration": 26,
    "start_time": "2023-05-06T12:52:23.512Z"
   },
   {
    "duration": 40,
    "start_time": "2023-05-06T12:52:23.540Z"
   },
   {
    "duration": 229,
    "start_time": "2023-05-06T12:52:23.581Z"
   },
   {
    "duration": 969,
    "start_time": "2023-05-06T12:52:23.812Z"
   },
   {
    "duration": 38,
    "start_time": "2023-05-06T12:52:24.783Z"
   },
   {
    "duration": 801,
    "start_time": "2023-05-06T12:52:24.835Z"
   },
   {
    "duration": 122,
    "start_time": "2023-05-06T12:52:25.641Z"
   },
   {
    "duration": 198,
    "start_time": "2023-05-06T12:52:25.765Z"
   },
   {
    "duration": 129,
    "start_time": "2023-05-06T12:52:25.965Z"
   },
   {
    "duration": 139,
    "start_time": "2023-05-06T12:52:26.095Z"
   },
   {
    "duration": 127,
    "start_time": "2023-05-06T12:52:26.240Z"
   },
   {
    "duration": 1682,
    "start_time": "2023-05-06T12:52:26.368Z"
   },
   {
    "duration": 2356,
    "start_time": "2023-05-06T12:52:28.054Z"
   },
   {
    "duration": 512,
    "start_time": "2023-05-06T12:52:30.412Z"
   },
   {
    "duration": 23,
    "start_time": "2023-05-06T12:52:30.925Z"
   },
   {
    "duration": 1757,
    "start_time": "2023-05-06T21:06:45.367Z"
   },
   {
    "duration": 238,
    "start_time": "2023-05-06T21:06:47.127Z"
   },
   {
    "duration": 33,
    "start_time": "2023-05-06T21:06:47.367Z"
   },
   {
    "duration": 27,
    "start_time": "2023-05-06T21:06:47.403Z"
   },
   {
    "duration": 39,
    "start_time": "2023-05-06T21:06:47.434Z"
   },
   {
    "duration": 52,
    "start_time": "2023-05-06T21:06:47.477Z"
   },
   {
    "duration": 22,
    "start_time": "2023-05-06T21:06:47.532Z"
   },
   {
    "duration": 41,
    "start_time": "2023-05-06T21:06:47.558Z"
   },
   {
    "duration": 36,
    "start_time": "2023-05-06T21:06:47.601Z"
   },
   {
    "duration": 47,
    "start_time": "2023-05-06T21:06:47.639Z"
   },
   {
    "duration": 336,
    "start_time": "2023-05-06T21:06:47.688Z"
   },
   {
    "duration": 1536,
    "start_time": "2023-05-06T21:06:48.026Z"
   },
   {
    "duration": 42,
    "start_time": "2023-05-06T21:06:49.565Z"
   },
   {
    "duration": 1122,
    "start_time": "2023-05-06T21:06:49.611Z"
   },
   {
    "duration": 182,
    "start_time": "2023-05-06T21:06:50.735Z"
   },
   {
    "duration": 270,
    "start_time": "2023-05-06T21:06:50.920Z"
   },
   {
    "duration": 185,
    "start_time": "2023-05-06T21:06:51.193Z"
   },
   {
    "duration": 184,
    "start_time": "2023-05-06T21:06:51.380Z"
   },
   {
    "duration": 188,
    "start_time": "2023-05-06T21:06:51.567Z"
   },
   {
    "duration": 2336,
    "start_time": "2023-05-06T21:06:51.759Z"
   },
   {
    "duration": 3412,
    "start_time": "2023-05-06T21:06:54.097Z"
   },
   {
    "duration": 763,
    "start_time": "2023-05-06T21:06:57.512Z"
   },
   {
    "duration": 15,
    "start_time": "2023-05-06T21:06:58.277Z"
   },
   {
    "duration": 120,
    "start_time": "2023-05-06T21:11:27.090Z"
   },
   {
    "duration": 33,
    "start_time": "2023-05-06T21:11:37.690Z"
   },
   {
    "duration": 16,
    "start_time": "2023-05-06T21:16:18.601Z"
   },
   {
    "duration": 18,
    "start_time": "2023-05-06T21:22:33.541Z"
   },
   {
    "duration": 13,
    "start_time": "2023-05-06T21:25:33.532Z"
   },
   {
    "duration": 14,
    "start_time": "2023-05-06T21:28:02.161Z"
   },
   {
    "duration": 13,
    "start_time": "2023-05-06T21:30:12.446Z"
   },
   {
    "duration": 34,
    "start_time": "2023-05-06T21:31:51.169Z"
   },
   {
    "duration": 13,
    "start_time": "2023-05-06T21:33:23.466Z"
   },
   {
    "duration": 59,
    "start_time": "2023-05-06T21:44:59.438Z"
   },
   {
    "duration": 68,
    "start_time": "2023-05-06T21:45:11.982Z"
   },
   {
    "duration": 571,
    "start_time": "2023-05-06T21:45:17.267Z"
   },
   {
    "duration": 1319,
    "start_time": "2023-05-07T08:45:22.466Z"
   },
   {
    "duration": 101,
    "start_time": "2023-05-07T08:45:23.787Z"
   },
   {
    "duration": 22,
    "start_time": "2023-05-07T08:45:23.890Z"
   },
   {
    "duration": 21,
    "start_time": "2023-05-07T08:45:23.914Z"
   },
   {
    "duration": 13,
    "start_time": "2023-05-07T08:45:23.937Z"
   },
   {
    "duration": 20,
    "start_time": "2023-05-07T08:45:23.951Z"
   },
   {
    "duration": 11,
    "start_time": "2023-05-07T08:45:23.992Z"
   },
   {
    "duration": 24,
    "start_time": "2023-05-07T08:45:24.006Z"
   },
   {
    "duration": 17,
    "start_time": "2023-05-07T08:45:24.032Z"
   },
   {
    "duration": 44,
    "start_time": "2023-05-07T08:45:24.051Z"
   },
   {
    "duration": 218,
    "start_time": "2023-05-07T08:45:24.101Z"
   },
   {
    "duration": 1031,
    "start_time": "2023-05-07T08:45:24.321Z"
   },
   {
    "duration": 25,
    "start_time": "2023-05-07T08:45:25.354Z"
   },
   {
    "duration": 688,
    "start_time": "2023-05-07T08:45:25.391Z"
   },
   {
    "duration": 125,
    "start_time": "2023-05-07T08:45:26.080Z"
   },
   {
    "duration": 174,
    "start_time": "2023-05-07T08:45:26.206Z"
   },
   {
    "duration": 135,
    "start_time": "2023-05-07T08:45:26.381Z"
   },
   {
    "duration": 110,
    "start_time": "2023-05-07T08:45:26.517Z"
   },
   {
    "duration": 125,
    "start_time": "2023-05-07T08:45:26.629Z"
   },
   {
    "duration": 1643,
    "start_time": "2023-05-07T08:45:26.756Z"
   },
   {
    "duration": 2227,
    "start_time": "2023-05-07T08:45:28.404Z"
   },
   {
    "duration": 32,
    "start_time": "2023-05-07T08:45:30.633Z"
   },
   {
    "duration": 53,
    "start_time": "2023-05-07T08:45:30.667Z"
   },
   {
    "duration": 486,
    "start_time": "2023-05-07T08:45:30.722Z"
   },
   {
    "duration": 8,
    "start_time": "2023-05-07T08:45:31.210Z"
   },
   {
    "duration": 46,
    "start_time": "2023-05-07T08:45:31.219Z"
   },
   {
    "duration": 4,
    "start_time": "2023-05-07T09:12:46.372Z"
   },
   {
    "duration": 128,
    "start_time": "2023-05-07T09:12:47.457Z"
   },
   {
    "duration": 146,
    "start_time": "2023-05-07T09:12:51.024Z"
   },
   {
    "duration": 1878,
    "start_time": "2023-05-07T09:15:00.457Z"
   },
   {
    "duration": 6,
    "start_time": "2023-05-07T09:15:27.455Z"
   },
   {
    "duration": 1571,
    "start_time": "2023-05-07T09:15:35.143Z"
   },
   {
    "duration": 1151,
    "start_time": "2023-05-07T10:14:54.399Z"
   },
   {
    "duration": 52,
    "start_time": "2023-05-07T10:14:55.555Z"
   },
   {
    "duration": 21,
    "start_time": "2023-05-07T10:14:55.610Z"
   },
   {
    "duration": 14,
    "start_time": "2023-05-07T10:14:55.633Z"
   },
   {
    "duration": 19,
    "start_time": "2023-05-07T10:14:55.649Z"
   },
   {
    "duration": 34,
    "start_time": "2023-05-07T10:14:55.670Z"
   },
   {
    "duration": 9,
    "start_time": "2023-05-07T10:14:55.706Z"
   },
   {
    "duration": 23,
    "start_time": "2023-05-07T10:14:55.717Z"
   },
   {
    "duration": 16,
    "start_time": "2023-05-07T10:14:55.741Z"
   },
   {
    "duration": 38,
    "start_time": "2023-05-07T10:14:55.760Z"
   },
   {
    "duration": 208,
    "start_time": "2023-05-07T10:14:55.800Z"
   },
   {
    "duration": 974,
    "start_time": "2023-05-07T10:14:56.011Z"
   },
   {
    "duration": 38,
    "start_time": "2023-05-07T10:14:56.991Z"
   },
   {
    "duration": 808,
    "start_time": "2023-05-07T10:14:57.031Z"
   },
   {
    "duration": 2,
    "start_time": "2023-05-07T10:14:57.841Z"
   },
   {
    "duration": 117,
    "start_time": "2023-05-07T10:14:57.845Z"
   },
   {
    "duration": 192,
    "start_time": "2023-05-07T10:14:57.964Z"
   },
   {
    "duration": 110,
    "start_time": "2023-05-07T10:14:58.157Z"
   },
   {
    "duration": 109,
    "start_time": "2023-05-07T10:14:58.269Z"
   },
   {
    "duration": 127,
    "start_time": "2023-05-07T10:14:58.380Z"
   },
   {
    "duration": 6,
    "start_time": "2023-05-07T10:14:58.509Z"
   },
   {
    "duration": 1652,
    "start_time": "2023-05-07T10:14:58.516Z"
   },
   {
    "duration": 2419,
    "start_time": "2023-05-07T10:15:00.170Z"
   },
   {
    "duration": 42,
    "start_time": "2023-05-07T10:15:02.591Z"
   },
   {
    "duration": 53,
    "start_time": "2023-05-07T10:15:02.643Z"
   },
   {
    "duration": 454,
    "start_time": "2023-05-07T10:15:02.698Z"
   },
   {
    "duration": 8,
    "start_time": "2023-05-07T10:15:03.154Z"
   },
   {
    "duration": 18,
    "start_time": "2023-05-07T10:15:03.165Z"
   },
   {
    "duration": 35,
    "start_time": "2023-05-07T10:35:26.828Z"
   },
   {
    "duration": 1163,
    "start_time": "2023-05-07T11:06:15.207Z"
   },
   {
    "duration": 57,
    "start_time": "2023-05-07T11:06:16.372Z"
   },
   {
    "duration": 21,
    "start_time": "2023-05-07T11:06:16.431Z"
   },
   {
    "duration": 16,
    "start_time": "2023-05-07T11:06:16.454Z"
   },
   {
    "duration": 32,
    "start_time": "2023-05-07T11:06:16.473Z"
   },
   {
    "duration": 18,
    "start_time": "2023-05-07T11:06:16.507Z"
   },
   {
    "duration": 15,
    "start_time": "2023-05-07T11:06:16.526Z"
   },
   {
    "duration": 42,
    "start_time": "2023-05-07T11:06:16.542Z"
   },
   {
    "duration": 23,
    "start_time": "2023-05-07T11:06:16.585Z"
   },
   {
    "duration": 19,
    "start_time": "2023-05-07T11:06:16.610Z"
   },
   {
    "duration": 234,
    "start_time": "2023-05-07T11:06:16.631Z"
   },
   {
    "duration": 1067,
    "start_time": "2023-05-07T11:06:16.866Z"
   },
   {
    "duration": 23,
    "start_time": "2023-05-07T11:06:17.934Z"
   },
   {
    "duration": 694,
    "start_time": "2023-05-07T11:06:17.959Z"
   },
   {
    "duration": 3,
    "start_time": "2023-05-07T11:06:18.655Z"
   },
   {
    "duration": 125,
    "start_time": "2023-05-07T11:06:18.659Z"
   },
   {
    "duration": 187,
    "start_time": "2023-05-07T11:06:18.786Z"
   },
   {
    "duration": 118,
    "start_time": "2023-05-07T11:06:18.975Z"
   },
   {
    "duration": 119,
    "start_time": "2023-05-07T11:06:19.098Z"
   },
   {
    "duration": 122,
    "start_time": "2023-05-07T11:06:19.219Z"
   },
   {
    "duration": 6,
    "start_time": "2023-05-07T11:06:19.343Z"
   },
   {
    "duration": 1606,
    "start_time": "2023-05-07T11:06:19.351Z"
   },
   {
    "duration": 2240,
    "start_time": "2023-05-07T11:06:20.959Z"
   },
   {
    "duration": 35,
    "start_time": "2023-05-07T11:06:23.206Z"
   },
   {
    "duration": 61,
    "start_time": "2023-05-07T11:06:23.243Z"
   },
   {
    "duration": 455,
    "start_time": "2023-05-07T11:06:23.307Z"
   },
   {
    "duration": 8,
    "start_time": "2023-05-07T11:06:23.764Z"
   },
   {
    "duration": 23,
    "start_time": "2023-05-07T11:06:23.774Z"
   },
   {
    "duration": 950,
    "start_time": "2023-05-07T11:22:18.934Z"
   },
   {
    "duration": 49,
    "start_time": "2023-05-07T11:22:19.885Z"
   },
   {
    "duration": 16,
    "start_time": "2023-05-07T11:22:19.935Z"
   },
   {
    "duration": 11,
    "start_time": "2023-05-07T11:22:19.953Z"
   },
   {
    "duration": 10,
    "start_time": "2023-05-07T11:22:19.965Z"
   },
   {
    "duration": 15,
    "start_time": "2023-05-07T11:22:19.976Z"
   },
   {
    "duration": 7,
    "start_time": "2023-05-07T11:22:19.992Z"
   },
   {
    "duration": 13,
    "start_time": "2023-05-07T11:22:20.000Z"
   },
   {
    "duration": 14,
    "start_time": "2023-05-07T11:22:20.014Z"
   },
   {
    "duration": 13,
    "start_time": "2023-05-07T11:22:20.030Z"
   },
   {
    "duration": 183,
    "start_time": "2023-05-07T11:22:20.044Z"
   },
   {
    "duration": 730,
    "start_time": "2023-05-07T11:22:20.228Z"
   },
   {
    "duration": 27,
    "start_time": "2023-05-07T11:22:20.959Z"
   },
   {
    "duration": 531,
    "start_time": "2023-05-07T11:22:20.987Z"
   },
   {
    "duration": 2,
    "start_time": "2023-05-07T11:22:21.520Z"
   },
   {
    "duration": 101,
    "start_time": "2023-05-07T11:22:21.523Z"
   },
   {
    "duration": 131,
    "start_time": "2023-05-07T11:22:21.626Z"
   },
   {
    "duration": 86,
    "start_time": "2023-05-07T11:22:21.759Z"
   },
   {
    "duration": 90,
    "start_time": "2023-05-07T11:22:21.846Z"
   },
   {
    "duration": 86,
    "start_time": "2023-05-07T11:22:21.938Z"
   },
   {
    "duration": 4,
    "start_time": "2023-05-07T11:22:22.025Z"
   },
   {
    "duration": 1277,
    "start_time": "2023-05-07T11:22:22.030Z"
   },
   {
    "duration": 1745,
    "start_time": "2023-05-07T11:22:23.308Z"
   },
   {
    "duration": 39,
    "start_time": "2023-05-07T11:22:25.054Z"
   },
   {
    "duration": 33,
    "start_time": "2023-05-07T11:22:25.095Z"
   },
   {
    "duration": 376,
    "start_time": "2023-05-07T11:22:25.130Z"
   },
   {
    "duration": 7,
    "start_time": "2023-05-07T11:22:25.507Z"
   },
   {
    "duration": 10,
    "start_time": "2023-05-07T11:22:25.516Z"
   },
   {
    "duration": 73,
    "start_time": "2023-05-07T11:33:33.672Z"
   },
   {
    "duration": 28,
    "start_time": "2023-05-07T11:36:52.659Z"
   },
   {
    "duration": 30,
    "start_time": "2023-05-07T11:50:32.367Z"
   },
   {
    "duration": 51,
    "start_time": "2023-05-07T16:36:29.475Z"
   },
   {
    "duration": 1423,
    "start_time": "2023-05-07T16:36:36.097Z"
   },
   {
    "duration": 475,
    "start_time": "2023-05-07T16:36:37.522Z"
   },
   {
    "duration": 19,
    "start_time": "2023-05-07T16:36:37.999Z"
   },
   {
    "duration": 35,
    "start_time": "2023-05-07T16:36:38.019Z"
   },
   {
    "duration": 25,
    "start_time": "2023-05-07T16:36:38.056Z"
   },
   {
    "duration": 31,
    "start_time": "2023-05-07T16:36:38.083Z"
   },
   {
    "duration": 12,
    "start_time": "2023-05-07T16:36:38.116Z"
   },
   {
    "duration": 33,
    "start_time": "2023-05-07T16:36:38.130Z"
   },
   {
    "duration": 31,
    "start_time": "2023-05-07T16:36:38.164Z"
   },
   {
    "duration": 32,
    "start_time": "2023-05-07T16:36:38.196Z"
   },
   {
    "duration": 96,
    "start_time": "2023-05-07T16:36:38.230Z"
   },
   {
    "duration": 215,
    "start_time": "2023-05-07T16:36:38.328Z"
   },
   {
    "duration": 958,
    "start_time": "2023-05-07T16:36:38.545Z"
   },
   {
    "duration": 32,
    "start_time": "2023-05-07T16:36:39.506Z"
   },
   {
    "duration": 24,
    "start_time": "2023-05-07T16:36:39.540Z"
   },
   {
    "duration": 693,
    "start_time": "2023-05-07T16:36:39.566Z"
   },
   {
    "duration": 3,
    "start_time": "2023-05-07T16:36:40.261Z"
   },
   {
    "duration": 119,
    "start_time": "2023-05-07T16:36:40.266Z"
   },
   {
    "duration": 177,
    "start_time": "2023-05-07T16:36:40.387Z"
   },
   {
    "duration": 118,
    "start_time": "2023-05-07T16:36:40.566Z"
   },
   {
    "duration": 108,
    "start_time": "2023-05-07T16:36:40.686Z"
   },
   {
    "duration": 117,
    "start_time": "2023-05-07T16:36:40.796Z"
   },
   {
    "duration": 6,
    "start_time": "2023-05-07T16:36:40.918Z"
   },
   {
    "duration": 1672,
    "start_time": "2023-05-07T16:36:40.925Z"
   },
   {
    "duration": 2200,
    "start_time": "2023-05-07T16:36:42.600Z"
   },
   {
    "duration": 42,
    "start_time": "2023-05-07T16:36:44.802Z"
   },
   {
    "duration": 32,
    "start_time": "2023-05-07T16:36:44.846Z"
   },
   {
    "duration": 460,
    "start_time": "2023-05-07T16:36:44.880Z"
   },
   {
    "duration": 8,
    "start_time": "2023-05-07T16:36:45.342Z"
   },
   {
    "duration": 65,
    "start_time": "2023-05-07T16:36:45.351Z"
   },
   {
    "duration": 26,
    "start_time": "2023-05-07T16:36:45.418Z"
   },
   {
    "duration": 1197,
    "start_time": "2023-05-07T19:26:38.952Z"
   },
   {
    "duration": 3,
    "start_time": "2023-05-07T19:26:58.279Z"
   },
   {
    "duration": 3,
    "start_time": "2023-05-07T19:26:58.667Z"
   },
   {
    "duration": 2,
    "start_time": "2023-05-07T19:26:59.074Z"
   },
   {
    "duration": 2,
    "start_time": "2023-05-07T19:26:59.459Z"
   },
   {
    "duration": 2,
    "start_time": "2023-05-07T19:26:59.819Z"
   },
   {
    "duration": 3,
    "start_time": "2023-05-07T19:27:00.426Z"
   },
   {
    "duration": 90,
    "start_time": "2023-05-07T19:27:06.839Z"
   },
   {
    "duration": 1085,
    "start_time": "2023-05-07T19:27:13.544Z"
   },
   {
    "duration": 202,
    "start_time": "2023-05-07T19:27:14.632Z"
   },
   {
    "duration": 16,
    "start_time": "2023-05-07T19:27:14.835Z"
   },
   {
    "duration": 20,
    "start_time": "2023-05-07T19:27:14.853Z"
   },
   {
    "duration": 12,
    "start_time": "2023-05-07T19:27:14.875Z"
   },
   {
    "duration": 16,
    "start_time": "2023-05-07T19:27:14.889Z"
   },
   {
    "duration": 29,
    "start_time": "2023-05-07T19:27:14.906Z"
   },
   {
    "duration": 13,
    "start_time": "2023-05-07T19:27:14.936Z"
   },
   {
    "duration": 15,
    "start_time": "2023-05-07T19:27:14.951Z"
   },
   {
    "duration": 15,
    "start_time": "2023-05-07T19:27:14.969Z"
   },
   {
    "duration": 92,
    "start_time": "2023-05-07T19:27:14.986Z"
   },
   {
    "duration": 187,
    "start_time": "2023-05-07T19:27:15.079Z"
   },
   {
    "duration": 810,
    "start_time": "2023-05-07T19:27:15.268Z"
   },
   {
    "duration": 23,
    "start_time": "2023-05-07T19:27:16.080Z"
   },
   {
    "duration": 34,
    "start_time": "2023-05-07T19:27:16.104Z"
   },
   {
    "duration": 609,
    "start_time": "2023-05-07T19:27:16.140Z"
   },
   {
    "duration": 2,
    "start_time": "2023-05-07T19:27:16.751Z"
   },
   {
    "duration": 5,
    "start_time": "2023-05-07T19:27:16.755Z"
   },
   {
    "duration": 5,
    "start_time": "2023-05-07T19:27:16.762Z"
   },
   {
    "duration": 7,
    "start_time": "2023-05-07T19:27:16.769Z"
   },
   {
    "duration": 19,
    "start_time": "2023-05-07T19:27:16.777Z"
   },
   {
    "duration": 24,
    "start_time": "2023-05-07T19:27:16.797Z"
   },
   {
    "duration": 310,
    "start_time": "2023-05-07T19:27:16.822Z"
   },
   {
    "duration": 4,
    "start_time": "2023-05-07T19:27:17.135Z"
   },
   {
    "duration": 1356,
    "start_time": "2023-05-07T19:27:17.141Z"
   },
   {
    "duration": 1822,
    "start_time": "2023-05-07T19:27:18.498Z"
   },
   {
    "duration": 34,
    "start_time": "2023-05-07T19:27:20.322Z"
   },
   {
    "duration": 27,
    "start_time": "2023-05-07T19:27:20.359Z"
   },
   {
    "duration": 399,
    "start_time": "2023-05-07T19:27:20.387Z"
   },
   {
    "duration": 7,
    "start_time": "2023-05-07T19:27:20.788Z"
   },
   {
    "duration": 17,
    "start_time": "2023-05-07T19:27:20.796Z"
   },
   {
    "duration": 27,
    "start_time": "2023-05-07T19:27:20.815Z"
   },
   {
    "duration": 218,
    "start_time": "2023-05-07T19:28:50.436Z"
   },
   {
    "duration": 227,
    "start_time": "2023-05-07T19:29:05.675Z"
   },
   {
    "duration": 391,
    "start_time": "2023-05-07T19:29:21.190Z"
   },
   {
    "duration": 457,
    "start_time": "2023-05-07T19:29:31.349Z"
   },
   {
    "duration": 190,
    "start_time": "2023-05-07T19:30:49.168Z"
   },
   {
    "duration": 524,
    "start_time": "2023-05-07T19:31:14.394Z"
   },
   {
    "duration": 207,
    "start_time": "2023-05-07T19:31:40.165Z"
   },
   {
    "duration": 208,
    "start_time": "2023-05-07T19:32:40.999Z"
   },
   {
    "duration": 231,
    "start_time": "2023-05-07T19:32:45.044Z"
   },
   {
    "duration": 214,
    "start_time": "2023-05-07T19:32:52.100Z"
   },
   {
    "duration": 236,
    "start_time": "2023-05-07T19:32:57.327Z"
   },
   {
    "duration": 311,
    "start_time": "2023-05-07T19:33:30.690Z"
   },
   {
    "duration": 212,
    "start_time": "2023-05-07T19:33:38.268Z"
   },
   {
    "duration": 207,
    "start_time": "2023-05-07T19:34:08.777Z"
   },
   {
    "duration": 207,
    "start_time": "2023-05-07T19:34:23.503Z"
   },
   {
    "duration": 202,
    "start_time": "2023-05-07T19:34:34.082Z"
   },
   {
    "duration": 309,
    "start_time": "2023-05-07T19:35:07.002Z"
   },
   {
    "duration": 250,
    "start_time": "2023-05-07T19:35:29.506Z"
   },
   {
    "duration": 204,
    "start_time": "2023-05-07T19:35:35.810Z"
   },
   {
    "duration": 218,
    "start_time": "2023-05-07T19:35:52.016Z"
   },
   {
    "duration": 12,
    "start_time": "2023-05-07T19:38:08.698Z"
   },
   {
    "duration": 11,
    "start_time": "2023-05-07T19:38:26.576Z"
   },
   {
    "duration": 198,
    "start_time": "2023-05-07T19:38:33.961Z"
   },
   {
    "duration": 263,
    "start_time": "2023-05-07T19:41:04.638Z"
   },
   {
    "duration": 203,
    "start_time": "2023-05-07T19:43:16.170Z"
   },
   {
    "duration": 264,
    "start_time": "2023-05-07T19:43:28.660Z"
   },
   {
    "duration": 204,
    "start_time": "2023-05-07T19:45:11.884Z"
   },
   {
    "duration": 218,
    "start_time": "2023-05-07T19:45:34.998Z"
   },
   {
    "duration": 241,
    "start_time": "2023-05-07T19:45:53.967Z"
   },
   {
    "duration": 222,
    "start_time": "2023-05-07T19:45:56.779Z"
   },
   {
    "duration": 351,
    "start_time": "2023-05-07T19:46:19.698Z"
   },
   {
    "duration": 216,
    "start_time": "2023-05-07T19:46:31.389Z"
   },
   {
    "duration": 230,
    "start_time": "2023-05-07T19:46:37.938Z"
   },
   {
    "duration": 210,
    "start_time": "2023-05-07T19:48:53.014Z"
   },
   {
    "duration": 212,
    "start_time": "2023-05-07T19:50:08.081Z"
   },
   {
    "duration": 1118,
    "start_time": "2023-05-07T19:50:13.740Z"
   },
   {
    "duration": 52,
    "start_time": "2023-05-07T19:50:14.860Z"
   },
   {
    "duration": 16,
    "start_time": "2023-05-07T19:50:14.914Z"
   },
   {
    "duration": 15,
    "start_time": "2023-05-07T19:50:14.932Z"
   },
   {
    "duration": 12,
    "start_time": "2023-05-07T19:50:14.948Z"
   },
   {
    "duration": 16,
    "start_time": "2023-05-07T19:50:14.961Z"
   },
   {
    "duration": 16,
    "start_time": "2023-05-07T19:50:14.978Z"
   },
   {
    "duration": 15,
    "start_time": "2023-05-07T19:50:14.996Z"
   },
   {
    "duration": 40,
    "start_time": "2023-05-07T19:50:15.013Z"
   },
   {
    "duration": 23,
    "start_time": "2023-05-07T19:50:15.055Z"
   },
   {
    "duration": 77,
    "start_time": "2023-05-07T19:50:15.080Z"
   },
   {
    "duration": 203,
    "start_time": "2023-05-07T19:50:15.159Z"
   },
   {
    "duration": 822,
    "start_time": "2023-05-07T19:50:15.364Z"
   },
   {
    "duration": 34,
    "start_time": "2023-05-07T19:50:16.188Z"
   },
   {
    "duration": 31,
    "start_time": "2023-05-07T19:50:16.224Z"
   },
   {
    "duration": 589,
    "start_time": "2023-05-07T19:50:16.257Z"
   },
   {
    "duration": 3,
    "start_time": "2023-05-07T19:50:16.848Z"
   },
   {
    "duration": 6,
    "start_time": "2023-05-07T19:50:16.852Z"
   },
   {
    "duration": 11,
    "start_time": "2023-05-07T19:50:16.859Z"
   },
   {
    "duration": 5,
    "start_time": "2023-05-07T19:50:16.871Z"
   },
   {
    "duration": 17,
    "start_time": "2023-05-07T19:50:16.878Z"
   },
   {
    "duration": 9,
    "start_time": "2023-05-07T19:50:16.896Z"
   },
   {
    "duration": 275,
    "start_time": "2023-05-07T19:50:16.906Z"
   },
   {
    "duration": 226,
    "start_time": "2023-05-07T19:50:17.182Z"
   },
   {
    "duration": 6,
    "start_time": "2023-05-07T19:50:17.409Z"
   },
   {
    "duration": 1355,
    "start_time": "2023-05-07T19:50:17.416Z"
   },
   {
    "duration": 1856,
    "start_time": "2023-05-07T19:50:18.773Z"
   },
   {
    "duration": 28,
    "start_time": "2023-05-07T19:50:20.634Z"
   },
   {
    "duration": 29,
    "start_time": "2023-05-07T19:50:20.663Z"
   },
   {
    "duration": 397,
    "start_time": "2023-05-07T19:50:20.694Z"
   },
   {
    "duration": 8,
    "start_time": "2023-05-07T19:50:21.092Z"
   },
   {
    "duration": 15,
    "start_time": "2023-05-07T19:50:21.101Z"
   },
   {
    "duration": 19,
    "start_time": "2023-05-07T19:50:21.118Z"
   },
   {
    "duration": 200,
    "start_time": "2023-05-07T19:50:32.012Z"
   },
   {
    "duration": 326,
    "start_time": "2023-05-07T19:50:44.797Z"
   },
   {
    "duration": 234,
    "start_time": "2023-05-07T19:51:10.290Z"
   },
   {
    "duration": 48,
    "start_time": "2023-05-07T21:18:51.550Z"
   },
   {
    "duration": 1441,
    "start_time": "2023-05-07T21:18:55.947Z"
   },
   {
    "duration": 206,
    "start_time": "2023-05-07T21:18:57.391Z"
   },
   {
    "duration": 20,
    "start_time": "2023-05-07T21:18:57.599Z"
   },
   {
    "duration": 15,
    "start_time": "2023-05-07T21:18:57.621Z"
   },
   {
    "duration": 35,
    "start_time": "2023-05-07T21:18:57.638Z"
   },
   {
    "duration": 18,
    "start_time": "2023-05-07T21:18:57.675Z"
   },
   {
    "duration": 9,
    "start_time": "2023-05-07T21:18:57.694Z"
   },
   {
    "duration": 16,
    "start_time": "2023-05-07T21:18:57.704Z"
   },
   {
    "duration": 112,
    "start_time": "2023-05-07T21:18:57.722Z"
   },
   {
    "duration": 0,
    "start_time": "2023-05-07T21:18:57.836Z"
   },
   {
    "duration": 0,
    "start_time": "2023-05-07T21:18:57.841Z"
   },
   {
    "duration": 0,
    "start_time": "2023-05-07T21:18:57.842Z"
   },
   {
    "duration": 0,
    "start_time": "2023-05-07T21:18:57.843Z"
   },
   {
    "duration": 0,
    "start_time": "2023-05-07T21:18:57.845Z"
   },
   {
    "duration": 0,
    "start_time": "2023-05-07T21:18:57.846Z"
   },
   {
    "duration": 0,
    "start_time": "2023-05-07T21:18:57.847Z"
   },
   {
    "duration": 0,
    "start_time": "2023-05-07T21:18:57.848Z"
   },
   {
    "duration": 0,
    "start_time": "2023-05-07T21:18:57.849Z"
   },
   {
    "duration": 0,
    "start_time": "2023-05-07T21:18:57.850Z"
   },
   {
    "duration": 0,
    "start_time": "2023-05-07T21:18:57.851Z"
   },
   {
    "duration": 0,
    "start_time": "2023-05-07T21:18:57.852Z"
   },
   {
    "duration": 0,
    "start_time": "2023-05-07T21:18:57.853Z"
   },
   {
    "duration": 0,
    "start_time": "2023-05-07T21:18:57.854Z"
   },
   {
    "duration": 1,
    "start_time": "2023-05-07T21:18:57.855Z"
   },
   {
    "duration": 0,
    "start_time": "2023-05-07T21:18:57.857Z"
   },
   {
    "duration": 0,
    "start_time": "2023-05-07T21:18:57.858Z"
   },
   {
    "duration": 0,
    "start_time": "2023-05-07T21:18:57.859Z"
   },
   {
    "duration": 0,
    "start_time": "2023-05-07T21:18:57.861Z"
   },
   {
    "duration": 0,
    "start_time": "2023-05-07T21:18:57.862Z"
   },
   {
    "duration": 0,
    "start_time": "2023-05-07T21:18:57.863Z"
   },
   {
    "duration": 0,
    "start_time": "2023-05-07T21:18:57.864Z"
   },
   {
    "duration": 0,
    "start_time": "2023-05-07T21:18:57.865Z"
   },
   {
    "duration": 0,
    "start_time": "2023-05-07T21:18:57.866Z"
   },
   {
    "duration": 0,
    "start_time": "2023-05-07T21:18:57.867Z"
   },
   {
    "duration": 11,
    "start_time": "2023-05-07T21:19:10.580Z"
   },
   {
    "duration": 15,
    "start_time": "2023-05-07T21:19:22.494Z"
   },
   {
    "duration": 19,
    "start_time": "2023-05-07T21:20:26.361Z"
   },
   {
    "duration": 31,
    "start_time": "2023-05-07T21:20:46.394Z"
   },
   {
    "duration": 31,
    "start_time": "2023-05-07T21:21:49.948Z"
   },
   {
    "duration": 20,
    "start_time": "2023-05-07T21:22:06.298Z"
   },
   {
    "duration": 26,
    "start_time": "2023-05-07T21:22:41.213Z"
   },
   {
    "duration": 11,
    "start_time": "2023-05-07T21:22:51.549Z"
   },
   {
    "duration": 1229,
    "start_time": "2023-05-07T21:23:35.148Z"
   },
   {
    "duration": 54,
    "start_time": "2023-05-07T21:23:36.379Z"
   },
   {
    "duration": 18,
    "start_time": "2023-05-07T21:23:36.435Z"
   },
   {
    "duration": 14,
    "start_time": "2023-05-07T21:23:36.455Z"
   },
   {
    "duration": 13,
    "start_time": "2023-05-07T21:23:36.471Z"
   },
   {
    "duration": 17,
    "start_time": "2023-05-07T21:23:36.486Z"
   },
   {
    "duration": 11,
    "start_time": "2023-05-07T21:23:36.505Z"
   },
   {
    "duration": 17,
    "start_time": "2023-05-07T21:23:36.541Z"
   },
   {
    "duration": 22,
    "start_time": "2023-05-07T21:23:36.559Z"
   },
   {
    "duration": 14,
    "start_time": "2023-05-07T21:23:36.585Z"
   },
   {
    "duration": 52,
    "start_time": "2023-05-07T21:23:36.600Z"
   },
   {
    "duration": 38,
    "start_time": "2023-05-07T21:23:36.655Z"
   },
   {
    "duration": 190,
    "start_time": "2023-05-07T21:23:36.698Z"
   },
   {
    "duration": 130,
    "start_time": "2023-05-07T21:23:36.890Z"
   },
   {
    "duration": 0,
    "start_time": "2023-05-07T21:23:37.022Z"
   },
   {
    "duration": 0,
    "start_time": "2023-05-07T21:23:37.023Z"
   },
   {
    "duration": 0,
    "start_time": "2023-05-07T21:23:37.024Z"
   },
   {
    "duration": 0,
    "start_time": "2023-05-07T21:23:37.025Z"
   },
   {
    "duration": 0,
    "start_time": "2023-05-07T21:23:37.041Z"
   },
   {
    "duration": 0,
    "start_time": "2023-05-07T21:23:37.043Z"
   },
   {
    "duration": 0,
    "start_time": "2023-05-07T21:23:37.044Z"
   },
   {
    "duration": 0,
    "start_time": "2023-05-07T21:23:37.045Z"
   },
   {
    "duration": 0,
    "start_time": "2023-05-07T21:23:37.046Z"
   },
   {
    "duration": 0,
    "start_time": "2023-05-07T21:23:37.047Z"
   },
   {
    "duration": 0,
    "start_time": "2023-05-07T21:23:37.048Z"
   },
   {
    "duration": 0,
    "start_time": "2023-05-07T21:23:37.049Z"
   },
   {
    "duration": 0,
    "start_time": "2023-05-07T21:23:37.050Z"
   },
   {
    "duration": 0,
    "start_time": "2023-05-07T21:23:37.052Z"
   },
   {
    "duration": 0,
    "start_time": "2023-05-07T21:23:37.052Z"
   },
   {
    "duration": 0,
    "start_time": "2023-05-07T21:23:37.053Z"
   },
   {
    "duration": 0,
    "start_time": "2023-05-07T21:23:37.054Z"
   },
   {
    "duration": 0,
    "start_time": "2023-05-07T21:23:37.055Z"
   },
   {
    "duration": 0,
    "start_time": "2023-05-07T21:23:37.057Z"
   },
   {
    "duration": 0,
    "start_time": "2023-05-07T21:23:37.058Z"
   },
   {
    "duration": 14,
    "start_time": "2023-05-07T21:25:18.925Z"
   },
   {
    "duration": 12,
    "start_time": "2023-05-07T21:25:21.233Z"
   },
   {
    "duration": 1253,
    "start_time": "2023-05-07T21:25:26.632Z"
   },
   {
    "duration": 57,
    "start_time": "2023-05-07T21:25:27.888Z"
   },
   {
    "duration": 20,
    "start_time": "2023-05-07T21:25:27.947Z"
   },
   {
    "duration": 31,
    "start_time": "2023-05-07T21:25:27.969Z"
   },
   {
    "duration": 16,
    "start_time": "2023-05-07T21:25:28.001Z"
   },
   {
    "duration": 22,
    "start_time": "2023-05-07T21:25:28.019Z"
   },
   {
    "duration": 33,
    "start_time": "2023-05-07T21:25:28.043Z"
   },
   {
    "duration": 39,
    "start_time": "2023-05-07T21:25:28.078Z"
   },
   {
    "duration": 53,
    "start_time": "2023-05-07T21:25:28.119Z"
   },
   {
    "duration": 16,
    "start_time": "2023-05-07T21:25:28.175Z"
   },
   {
    "duration": 25,
    "start_time": "2023-05-07T21:25:28.193Z"
   },
   {
    "duration": 89,
    "start_time": "2023-05-07T21:25:28.219Z"
   },
   {
    "duration": 209,
    "start_time": "2023-05-07T21:25:28.310Z"
   },
   {
    "duration": 994,
    "start_time": "2023-05-07T21:25:28.520Z"
   },
   {
    "duration": 35,
    "start_time": "2023-05-07T21:25:29.516Z"
   },
   {
    "duration": 26,
    "start_time": "2023-05-07T21:25:29.553Z"
   },
   {
    "duration": 717,
    "start_time": "2023-05-07T21:25:29.581Z"
   },
   {
    "duration": 3,
    "start_time": "2023-05-07T21:25:30.299Z"
   },
   {
    "duration": 94,
    "start_time": "2023-05-07T21:25:30.303Z"
   },
   {
    "duration": 117,
    "start_time": "2023-05-07T21:25:30.399Z"
   },
   {
    "duration": 183,
    "start_time": "2023-05-07T21:25:30.518Z"
   },
   {
    "duration": 120,
    "start_time": "2023-05-07T21:25:30.703Z"
   },
   {
    "duration": 68,
    "start_time": "2023-05-07T21:25:30.825Z"
   },
   {
    "duration": 425,
    "start_time": "2023-05-07T21:25:30.895Z"
   },
   {
    "duration": 243,
    "start_time": "2023-05-07T21:25:31.321Z"
   },
   {
    "duration": 5,
    "start_time": "2023-05-07T21:25:31.566Z"
   },
   {
    "duration": 1612,
    "start_time": "2023-05-07T21:25:31.572Z"
   },
   {
    "duration": 2201,
    "start_time": "2023-05-07T21:25:33.187Z"
   },
   {
    "duration": 33,
    "start_time": "2023-05-07T21:25:35.389Z"
   },
   {
    "duration": 47,
    "start_time": "2023-05-07T21:25:35.424Z"
   },
   {
    "duration": 474,
    "start_time": "2023-05-07T21:25:35.473Z"
   },
   {
    "duration": 11,
    "start_time": "2023-05-07T21:25:35.952Z"
   },
   {
    "duration": 64,
    "start_time": "2023-05-07T21:25:35.965Z"
   },
   {
    "duration": 91,
    "start_time": "2023-05-07T21:25:36.033Z"
   },
   {
    "duration": 21,
    "start_time": "2023-05-07T21:25:51.297Z"
   },
   {
    "duration": 1223,
    "start_time": "2023-05-07T21:26:42.731Z"
   },
   {
    "duration": 51,
    "start_time": "2023-05-07T21:26:43.956Z"
   },
   {
    "duration": 19,
    "start_time": "2023-05-07T21:26:44.009Z"
   },
   {
    "duration": 14,
    "start_time": "2023-05-07T21:26:44.029Z"
   },
   {
    "duration": 13,
    "start_time": "2023-05-07T21:26:44.044Z"
   },
   {
    "duration": 17,
    "start_time": "2023-05-07T21:26:44.059Z"
   },
   {
    "duration": 7,
    "start_time": "2023-05-07T21:26:44.078Z"
   },
   {
    "duration": 16,
    "start_time": "2023-05-07T21:26:44.087Z"
   },
   {
    "duration": 60,
    "start_time": "2023-05-07T21:26:44.105Z"
   },
   {
    "duration": 17,
    "start_time": "2023-05-07T21:26:44.168Z"
   },
   {
    "duration": 17,
    "start_time": "2023-05-07T21:26:44.187Z"
   },
   {
    "duration": 46,
    "start_time": "2023-05-07T21:26:44.206Z"
   },
   {
    "duration": 91,
    "start_time": "2023-05-07T21:26:44.254Z"
   },
   {
    "duration": 200,
    "start_time": "2023-05-07T21:26:44.347Z"
   },
   {
    "duration": 922,
    "start_time": "2023-05-07T21:26:44.548Z"
   },
   {
    "duration": 27,
    "start_time": "2023-05-07T21:26:45.471Z"
   },
   {
    "duration": 53,
    "start_time": "2023-05-07T21:26:45.499Z"
   },
   {
    "duration": 736,
    "start_time": "2023-05-07T21:26:45.554Z"
   },
   {
    "duration": 2,
    "start_time": "2023-05-07T21:26:46.292Z"
   },
   {
    "duration": 9,
    "start_time": "2023-05-07T21:26:46.296Z"
   },
   {
    "duration": 11,
    "start_time": "2023-05-07T21:26:46.306Z"
   },
   {
    "duration": 8,
    "start_time": "2023-05-07T21:26:46.319Z"
   },
   {
    "duration": 20,
    "start_time": "2023-05-07T21:26:46.328Z"
   },
   {
    "duration": 15,
    "start_time": "2023-05-07T21:26:46.350Z"
   },
   {
    "duration": 345,
    "start_time": "2023-05-07T21:26:46.367Z"
   },
   {
    "duration": 243,
    "start_time": "2023-05-07T21:26:46.714Z"
   },
   {
    "duration": 4,
    "start_time": "2023-05-07T21:26:46.959Z"
   },
   {
    "duration": 1495,
    "start_time": "2023-05-07T21:26:46.966Z"
   },
   {
    "duration": 2131,
    "start_time": "2023-05-07T21:26:48.463Z"
   },
   {
    "duration": 45,
    "start_time": "2023-05-07T21:26:50.596Z"
   },
   {
    "duration": 33,
    "start_time": "2023-05-07T21:26:50.642Z"
   },
   {
    "duration": 427,
    "start_time": "2023-05-07T21:26:50.676Z"
   },
   {
    "duration": 8,
    "start_time": "2023-05-07T21:26:51.105Z"
   },
   {
    "duration": 44,
    "start_time": "2023-05-07T21:26:51.115Z"
   },
   {
    "duration": 14,
    "start_time": "2023-05-07T21:26:51.161Z"
   },
   {
    "duration": 21,
    "start_time": "2023-05-07T21:28:23.004Z"
   },
   {
    "duration": 20,
    "start_time": "2023-05-07T21:28:24.693Z"
   },
   {
    "duration": 16,
    "start_time": "2023-05-07T21:29:52.398Z"
   },
   {
    "duration": 15,
    "start_time": "2023-05-07T21:29:53.312Z"
   },
   {
    "duration": 65,
    "start_time": "2023-05-07T21:37:43.193Z"
   },
   {
    "duration": 1183,
    "start_time": "2023-05-07T21:38:33.568Z"
   },
   {
    "duration": 55,
    "start_time": "2023-05-07T21:38:34.753Z"
   },
   {
    "duration": 19,
    "start_time": "2023-05-07T21:38:34.810Z"
   },
   {
    "duration": 37,
    "start_time": "2023-05-07T21:38:34.831Z"
   },
   {
    "duration": 26,
    "start_time": "2023-05-07T21:38:34.871Z"
   },
   {
    "duration": 32,
    "start_time": "2023-05-07T21:38:34.899Z"
   },
   {
    "duration": 20,
    "start_time": "2023-05-07T21:38:34.933Z"
   },
   {
    "duration": 27,
    "start_time": "2023-05-07T21:38:34.955Z"
   },
   {
    "duration": 17,
    "start_time": "2023-05-07T21:38:34.984Z"
   },
   {
    "duration": 15,
    "start_time": "2023-05-07T21:38:35.003Z"
   },
   {
    "duration": 31,
    "start_time": "2023-05-07T21:38:35.020Z"
   },
   {
    "duration": 19,
    "start_time": "2023-05-07T21:38:35.053Z"
   },
   {
    "duration": 114,
    "start_time": "2023-05-07T21:38:35.074Z"
   },
   {
    "duration": 1149,
    "start_time": "2023-05-07T21:39:43.343Z"
   },
   {
    "duration": 56,
    "start_time": "2023-05-07T21:39:44.494Z"
   },
   {
    "duration": 26,
    "start_time": "2023-05-07T21:39:44.552Z"
   },
   {
    "duration": 15,
    "start_time": "2023-05-07T21:39:44.581Z"
   },
   {
    "duration": 43,
    "start_time": "2023-05-07T21:39:44.598Z"
   },
   {
    "duration": 19,
    "start_time": "2023-05-07T21:39:44.644Z"
   },
   {
    "duration": 11,
    "start_time": "2023-05-07T21:39:44.665Z"
   },
   {
    "duration": 21,
    "start_time": "2023-05-07T21:39:44.677Z"
   },
   {
    "duration": 49,
    "start_time": "2023-05-07T21:39:44.700Z"
   },
   {
    "duration": 14,
    "start_time": "2023-05-07T21:39:44.752Z"
   },
   {
    "duration": 17,
    "start_time": "2023-05-07T21:39:44.768Z"
   },
   {
    "duration": 18,
    "start_time": "2023-05-07T21:39:44.787Z"
   },
   {
    "duration": 100,
    "start_time": "2023-05-07T21:39:44.806Z"
   },
   {
    "duration": 1160,
    "start_time": "2023-05-07T21:40:51.055Z"
   },
   {
    "duration": 57,
    "start_time": "2023-05-07T21:40:52.217Z"
   },
   {
    "duration": 19,
    "start_time": "2023-05-07T21:40:52.276Z"
   },
   {
    "duration": 32,
    "start_time": "2023-05-07T21:40:52.297Z"
   },
   {
    "duration": 46,
    "start_time": "2023-05-07T21:40:52.331Z"
   },
   {
    "duration": 19,
    "start_time": "2023-05-07T21:40:52.379Z"
   },
   {
    "duration": 12,
    "start_time": "2023-05-07T21:40:52.399Z"
   },
   {
    "duration": 23,
    "start_time": "2023-05-07T21:40:52.413Z"
   },
   {
    "duration": 17,
    "start_time": "2023-05-07T21:40:52.438Z"
   },
   {
    "duration": 24,
    "start_time": "2023-05-07T21:40:52.457Z"
   },
   {
    "duration": 25,
    "start_time": "2023-05-07T21:40:52.483Z"
   },
   {
    "duration": 19,
    "start_time": "2023-05-07T21:40:52.510Z"
   },
   {
    "duration": 78,
    "start_time": "2023-05-07T21:40:52.531Z"
   },
   {
    "duration": 947,
    "start_time": "2023-05-07T21:44:39.262Z"
   },
   {
    "duration": 36,
    "start_time": "2023-05-07T21:44:40.211Z"
   },
   {
    "duration": 28,
    "start_time": "2023-05-07T21:44:40.249Z"
   },
   {
    "duration": 708,
    "start_time": "2023-05-07T21:44:40.279Z"
   },
   {
    "duration": 3,
    "start_time": "2023-05-07T21:44:40.989Z"
   },
   {
    "duration": 15,
    "start_time": "2023-05-07T21:44:40.993Z"
   },
   {
    "duration": 9,
    "start_time": "2023-05-07T21:44:41.011Z"
   },
   {
    "duration": 8,
    "start_time": "2023-05-07T21:44:41.021Z"
   },
   {
    "duration": 12,
    "start_time": "2023-05-07T21:44:41.031Z"
   },
   {
    "duration": 24,
    "start_time": "2023-05-07T21:44:41.046Z"
   },
   {
    "duration": 247,
    "start_time": "2023-05-07T21:44:41.071Z"
   },
   {
    "duration": 269,
    "start_time": "2023-05-07T21:44:41.320Z"
   },
   {
    "duration": 5,
    "start_time": "2023-05-07T21:44:41.591Z"
   },
   {
    "duration": 1595,
    "start_time": "2023-05-07T21:44:41.597Z"
   },
   {
    "duration": 2246,
    "start_time": "2023-05-07T21:44:43.195Z"
   },
   {
    "duration": 33,
    "start_time": "2023-05-07T21:44:45.442Z"
   },
   {
    "duration": 34,
    "start_time": "2023-05-07T21:44:45.476Z"
   },
   {
    "duration": 549,
    "start_time": "2023-05-07T21:44:45.512Z"
   },
   {
    "duration": 9,
    "start_time": "2023-05-07T21:44:46.063Z"
   },
   {
    "duration": 28,
    "start_time": "2023-05-07T21:44:46.074Z"
   },
   {
    "duration": 39,
    "start_time": "2023-05-07T21:44:46.104Z"
   },
   {
    "duration": 1678,
    "start_time": "2023-05-08T09:31:28.993Z"
   },
   {
    "duration": 295,
    "start_time": "2023-05-08T09:31:30.674Z"
   },
   {
    "duration": 22,
    "start_time": "2023-05-08T09:31:30.971Z"
   },
   {
    "duration": 74,
    "start_time": "2023-05-08T09:31:30.996Z"
   },
   {
    "duration": 77,
    "start_time": "2023-05-08T09:31:31.073Z"
   },
   {
    "duration": 70,
    "start_time": "2023-05-08T09:31:31.154Z"
   },
   {
    "duration": 73,
    "start_time": "2023-05-08T09:31:31.228Z"
   },
   {
    "duration": 86,
    "start_time": "2023-05-08T09:31:31.303Z"
   },
   {
    "duration": 47,
    "start_time": "2023-05-08T09:31:31.391Z"
   },
   {
    "duration": 73,
    "start_time": "2023-05-08T09:31:31.450Z"
   },
   {
    "duration": 72,
    "start_time": "2023-05-08T09:31:31.525Z"
   },
   {
    "duration": 91,
    "start_time": "2023-05-08T09:31:31.599Z"
   },
   {
    "duration": 181,
    "start_time": "2023-05-08T09:31:31.692Z"
   },
   {
    "duration": 1516,
    "start_time": "2023-05-08T09:31:56.874Z"
   },
   {
    "duration": 78,
    "start_time": "2023-05-08T09:31:58.392Z"
   },
   {
    "duration": 27,
    "start_time": "2023-05-08T09:31:58.472Z"
   },
   {
    "duration": 22,
    "start_time": "2023-05-08T09:31:58.501Z"
   },
   {
    "duration": 67,
    "start_time": "2023-05-08T09:31:58.526Z"
   },
   {
    "duration": 43,
    "start_time": "2023-05-08T09:31:58.595Z"
   },
   {
    "duration": 42,
    "start_time": "2023-05-08T09:31:58.640Z"
   },
   {
    "duration": 17,
    "start_time": "2023-05-08T09:31:58.684Z"
   },
   {
    "duration": 23,
    "start_time": "2023-05-08T09:31:58.703Z"
   },
   {
    "duration": 44,
    "start_time": "2023-05-08T09:31:58.728Z"
   },
   {
    "duration": 21,
    "start_time": "2023-05-08T09:31:58.773Z"
   },
   {
    "duration": 21,
    "start_time": "2023-05-08T09:31:58.795Z"
   },
   {
    "duration": 172,
    "start_time": "2023-05-08T09:31:58.817Z"
   },
   {
    "duration": 2,
    "start_time": "2023-05-08T09:31:58.993Z"
   },
   {
    "duration": 1316,
    "start_time": "2023-05-08T09:31:58.997Z"
   },
   {
    "duration": 43,
    "start_time": "2023-05-08T09:32:00.318Z"
   },
   {
    "duration": 80,
    "start_time": "2023-05-08T09:32:00.363Z"
   },
   {
    "duration": 1012,
    "start_time": "2023-05-08T09:32:00.444Z"
   },
   {
    "duration": 2,
    "start_time": "2023-05-08T09:32:01.459Z"
   },
   {
    "duration": 41,
    "start_time": "2023-05-08T09:32:01.463Z"
   },
   {
    "duration": 99,
    "start_time": "2023-05-08T09:32:01.506Z"
   },
   {
    "duration": 90,
    "start_time": "2023-05-08T09:32:01.607Z"
   },
   {
    "duration": 111,
    "start_time": "2023-05-08T09:32:01.699Z"
   },
   {
    "duration": 90,
    "start_time": "2023-05-08T09:32:01.812Z"
   },
   {
    "duration": 507,
    "start_time": "2023-05-08T09:32:01.904Z"
   },
   {
    "duration": 367,
    "start_time": "2023-05-08T09:32:02.418Z"
   },
   {
    "duration": 6,
    "start_time": "2023-05-08T09:32:02.787Z"
   },
   {
    "duration": 3476,
    "start_time": "2023-05-08T09:32:02.795Z"
   },
   {
    "duration": 2969,
    "start_time": "2023-05-08T09:32:06.318Z"
   },
   {
    "duration": 74,
    "start_time": "2023-05-08T09:32:09.288Z"
   },
   {
    "duration": 45,
    "start_time": "2023-05-08T09:32:09.364Z"
   },
   {
    "duration": 645,
    "start_time": "2023-05-08T09:32:09.417Z"
   },
   {
    "duration": 13,
    "start_time": "2023-05-08T09:32:10.064Z"
   },
   {
    "duration": 24,
    "start_time": "2023-05-08T09:32:10.079Z"
   },
   {
    "duration": 22,
    "start_time": "2023-05-08T09:32:10.105Z"
   },
   {
    "duration": 1467,
    "start_time": "2023-05-08T09:34:46.104Z"
   },
   {
    "duration": 63,
    "start_time": "2023-05-08T09:34:47.574Z"
   },
   {
    "duration": 34,
    "start_time": "2023-05-08T09:34:47.639Z"
   },
   {
    "duration": 41,
    "start_time": "2023-05-08T09:34:47.676Z"
   },
   {
    "duration": 38,
    "start_time": "2023-05-08T09:34:47.728Z"
   },
   {
    "duration": 35,
    "start_time": "2023-05-08T09:34:47.768Z"
   },
   {
    "duration": 39,
    "start_time": "2023-05-08T09:34:47.805Z"
   },
   {
    "duration": 45,
    "start_time": "2023-05-08T09:34:47.846Z"
   },
   {
    "duration": 64,
    "start_time": "2023-05-08T09:34:47.893Z"
   },
   {
    "duration": 56,
    "start_time": "2023-05-08T09:34:47.960Z"
   },
   {
    "duration": 64,
    "start_time": "2023-05-08T09:34:48.018Z"
   },
   {
    "duration": 38,
    "start_time": "2023-05-08T09:34:48.084Z"
   },
   {
    "duration": 149,
    "start_time": "2023-05-08T09:34:48.124Z"
   },
   {
    "duration": 1480,
    "start_time": "2023-05-08T09:35:29.720Z"
   },
   {
    "duration": 104,
    "start_time": "2023-05-08T09:35:31.202Z"
   },
   {
    "duration": 34,
    "start_time": "2023-05-08T09:35:31.308Z"
   },
   {
    "duration": 47,
    "start_time": "2023-05-08T09:35:31.344Z"
   },
   {
    "duration": 48,
    "start_time": "2023-05-08T09:35:31.394Z"
   },
   {
    "duration": 69,
    "start_time": "2023-05-08T09:35:31.445Z"
   },
   {
    "duration": 60,
    "start_time": "2023-05-08T09:35:31.515Z"
   },
   {
    "duration": 24,
    "start_time": "2023-05-08T09:35:31.576Z"
   },
   {
    "duration": 31,
    "start_time": "2023-05-08T09:35:31.602Z"
   },
   {
    "duration": 54,
    "start_time": "2023-05-08T09:35:31.637Z"
   },
   {
    "duration": 51,
    "start_time": "2023-05-08T09:35:31.693Z"
   },
   {
    "duration": 44,
    "start_time": "2023-05-08T09:35:31.747Z"
   },
   {
    "duration": 128,
    "start_time": "2023-05-08T09:35:31.793Z"
   },
   {
    "duration": 7,
    "start_time": "2023-05-08T09:35:31.928Z"
   },
   {
    "duration": 1334,
    "start_time": "2023-05-08T09:35:31.942Z"
   },
   {
    "duration": 46,
    "start_time": "2023-05-08T09:35:33.278Z"
   },
   {
    "duration": 48,
    "start_time": "2023-05-08T09:35:33.326Z"
   },
   {
    "duration": 880,
    "start_time": "2023-05-08T09:35:33.376Z"
   },
   {
    "duration": 6,
    "start_time": "2023-05-08T09:35:34.258Z"
   },
   {
    "duration": 12,
    "start_time": "2023-05-08T09:35:34.266Z"
   },
   {
    "duration": 8,
    "start_time": "2023-05-08T09:35:34.280Z"
   },
   {
    "duration": 11,
    "start_time": "2023-05-08T09:35:34.289Z"
   },
   {
    "duration": 14,
    "start_time": "2023-05-08T09:35:34.302Z"
   },
   {
    "duration": 48,
    "start_time": "2023-05-08T09:35:34.330Z"
   },
   {
    "duration": 430,
    "start_time": "2023-05-08T09:35:34.380Z"
   },
   {
    "duration": 356,
    "start_time": "2023-05-08T09:35:34.812Z"
   },
   {
    "duration": 7,
    "start_time": "2023-05-08T09:35:35.171Z"
   },
   {
    "duration": 2094,
    "start_time": "2023-05-08T09:35:35.181Z"
   },
   {
    "duration": 2810,
    "start_time": "2023-05-08T09:35:37.278Z"
   },
   {
    "duration": 51,
    "start_time": "2023-05-08T09:35:40.090Z"
   },
   {
    "duration": 50,
    "start_time": "2023-05-08T09:35:40.144Z"
   },
   {
    "duration": 604,
    "start_time": "2023-05-08T09:35:40.196Z"
   },
   {
    "duration": 23,
    "start_time": "2023-05-08T09:35:40.802Z"
   },
   {
    "duration": 37,
    "start_time": "2023-05-08T09:35:40.827Z"
   },
   {
    "duration": 18,
    "start_time": "2023-05-08T09:35:40.867Z"
   },
   {
    "duration": 1390,
    "start_time": "2023-05-08T09:35:57.575Z"
   },
   {
    "duration": 66,
    "start_time": "2023-05-08T09:35:58.968Z"
   },
   {
    "duration": 26,
    "start_time": "2023-05-08T09:35:59.036Z"
   },
   {
    "duration": 29,
    "start_time": "2023-05-08T09:35:59.065Z"
   },
   {
    "duration": 26,
    "start_time": "2023-05-08T09:35:59.096Z"
   },
   {
    "duration": 55,
    "start_time": "2023-05-08T09:35:59.129Z"
   },
   {
    "duration": 12,
    "start_time": "2023-05-08T09:35:59.187Z"
   },
   {
    "duration": 29,
    "start_time": "2023-05-08T09:35:59.202Z"
   },
   {
    "duration": 40,
    "start_time": "2023-05-08T09:35:59.235Z"
   },
   {
    "duration": 15,
    "start_time": "2023-05-08T09:35:59.277Z"
   },
   {
    "duration": 23,
    "start_time": "2023-05-08T09:35:59.294Z"
   },
   {
    "duration": 59,
    "start_time": "2023-05-08T09:35:59.320Z"
   },
   {
    "duration": 111,
    "start_time": "2023-05-08T09:35:59.382Z"
   },
   {
    "duration": 4,
    "start_time": "2023-05-08T09:35:59.496Z"
   },
   {
    "duration": 1286,
    "start_time": "2023-05-08T09:35:59.501Z"
   },
   {
    "duration": 44,
    "start_time": "2023-05-08T09:36:00.789Z"
   },
   {
    "duration": 74,
    "start_time": "2023-05-08T09:36:00.835Z"
   },
   {
    "duration": 966,
    "start_time": "2023-05-08T09:36:00.911Z"
   },
   {
    "duration": 3,
    "start_time": "2023-05-08T09:36:01.879Z"
   },
   {
    "duration": 106,
    "start_time": "2023-05-08T09:36:01.885Z"
   },
   {
    "duration": 51,
    "start_time": "2023-05-08T09:36:01.994Z"
   },
   {
    "duration": 47,
    "start_time": "2023-05-08T09:36:02.047Z"
   },
   {
    "duration": 87,
    "start_time": "2023-05-08T09:36:02.096Z"
   },
   {
    "duration": 24,
    "start_time": "2023-05-08T09:36:02.185Z"
   },
   {
    "duration": 484,
    "start_time": "2023-05-08T09:36:02.211Z"
   },
   {
    "duration": 382,
    "start_time": "2023-05-08T09:36:02.697Z"
   },
   {
    "duration": 7,
    "start_time": "2023-05-08T09:36:03.081Z"
   },
   {
    "duration": 2022,
    "start_time": "2023-05-08T09:36:03.090Z"
   },
   {
    "duration": 2897,
    "start_time": "2023-05-08T09:36:05.117Z"
   },
   {
    "duration": 51,
    "start_time": "2023-05-08T09:36:08.018Z"
   },
   {
    "duration": 92,
    "start_time": "2023-05-08T09:36:08.071Z"
   },
   {
    "duration": 554,
    "start_time": "2023-05-08T09:36:08.171Z"
   },
   {
    "duration": 20,
    "start_time": "2023-05-08T09:36:08.727Z"
   },
   {
    "duration": 42,
    "start_time": "2023-05-08T09:36:08.750Z"
   },
   {
    "duration": 12,
    "start_time": "2023-05-08T09:36:08.796Z"
   },
   {
    "duration": 1541,
    "start_time": "2023-05-08T09:36:42.356Z"
   },
   {
    "duration": 81,
    "start_time": "2023-05-08T09:36:43.901Z"
   },
   {
    "duration": 21,
    "start_time": "2023-05-08T09:36:43.984Z"
   },
   {
    "duration": 37,
    "start_time": "2023-05-08T09:36:44.007Z"
   },
   {
    "duration": 41,
    "start_time": "2023-05-08T09:36:44.048Z"
   },
   {
    "duration": 36,
    "start_time": "2023-05-08T09:36:44.091Z"
   },
   {
    "duration": 36,
    "start_time": "2023-05-08T09:36:44.129Z"
   },
   {
    "duration": 46,
    "start_time": "2023-05-08T09:36:44.167Z"
   },
   {
    "duration": 68,
    "start_time": "2023-05-08T09:36:44.216Z"
   },
   {
    "duration": 22,
    "start_time": "2023-05-08T09:36:44.286Z"
   },
   {
    "duration": 64,
    "start_time": "2023-05-08T09:36:44.311Z"
   },
   {
    "duration": 23,
    "start_time": "2023-05-08T09:36:44.377Z"
   },
   {
    "duration": 110,
    "start_time": "2023-05-08T09:36:44.401Z"
   },
   {
    "duration": 1559,
    "start_time": "2023-05-08T09:38:23.947Z"
   },
   {
    "duration": 87,
    "start_time": "2023-05-08T09:38:25.508Z"
   },
   {
    "duration": 20,
    "start_time": "2023-05-08T09:38:25.596Z"
   },
   {
    "duration": 56,
    "start_time": "2023-05-08T09:38:25.618Z"
   },
   {
    "duration": 16,
    "start_time": "2023-05-08T09:38:25.677Z"
   },
   {
    "duration": 19,
    "start_time": "2023-05-08T09:38:25.695Z"
   },
   {
    "duration": 38,
    "start_time": "2023-05-08T09:38:25.716Z"
   },
   {
    "duration": 28,
    "start_time": "2023-05-08T09:38:25.756Z"
   },
   {
    "duration": 17,
    "start_time": "2023-05-08T09:38:25.785Z"
   },
   {
    "duration": 19,
    "start_time": "2023-05-08T09:38:25.804Z"
   },
   {
    "duration": 43,
    "start_time": "2023-05-08T09:38:25.827Z"
   },
   {
    "duration": 18,
    "start_time": "2023-05-08T09:38:25.872Z"
   },
   {
    "duration": 114,
    "start_time": "2023-05-08T09:38:25.892Z"
   },
   {
    "duration": 1302,
    "start_time": "2023-05-08T09:41:29.152Z"
   },
   {
    "duration": 57,
    "start_time": "2023-05-08T09:41:30.457Z"
   },
   {
    "duration": 133,
    "start_time": "2023-05-08T09:41:30.516Z"
   },
   {
    "duration": 86,
    "start_time": "2023-05-08T09:41:30.652Z"
   },
   {
    "duration": 54,
    "start_time": "2023-05-08T09:41:30.740Z"
   },
   {
    "duration": 73,
    "start_time": "2023-05-08T09:41:30.796Z"
   },
   {
    "duration": 48,
    "start_time": "2023-05-08T09:41:30.872Z"
   },
   {
    "duration": 72,
    "start_time": "2023-05-08T09:41:30.927Z"
   },
   {
    "duration": 75,
    "start_time": "2023-05-08T09:41:31.001Z"
   },
   {
    "duration": 56,
    "start_time": "2023-05-08T09:41:31.080Z"
   },
   {
    "duration": 73,
    "start_time": "2023-05-08T09:41:31.138Z"
   },
   {
    "duration": 57,
    "start_time": "2023-05-08T09:41:31.213Z"
   },
   {
    "duration": 127,
    "start_time": "2023-05-08T09:41:31.272Z"
   },
   {
    "duration": 1537,
    "start_time": "2023-05-08T09:43:30.377Z"
   },
   {
    "duration": 106,
    "start_time": "2023-05-08T09:43:31.917Z"
   },
   {
    "duration": 153,
    "start_time": "2023-05-08T09:43:32.031Z"
   },
   {
    "duration": 25,
    "start_time": "2023-05-08T09:43:32.187Z"
   },
   {
    "duration": 34,
    "start_time": "2023-05-08T09:43:32.214Z"
   },
   {
    "duration": 35,
    "start_time": "2023-05-08T09:43:32.250Z"
   },
   {
    "duration": 11,
    "start_time": "2023-05-08T09:43:32.287Z"
   },
   {
    "duration": 34,
    "start_time": "2023-05-08T09:43:32.300Z"
   },
   {
    "duration": 33,
    "start_time": "2023-05-08T09:43:32.337Z"
   },
   {
    "duration": 16,
    "start_time": "2023-05-08T09:43:32.373Z"
   },
   {
    "duration": 18,
    "start_time": "2023-05-08T09:43:32.391Z"
   },
   {
    "duration": 45,
    "start_time": "2023-05-08T09:43:32.410Z"
   },
   {
    "duration": 138,
    "start_time": "2023-05-08T09:43:32.459Z"
   },
   {
    "duration": 271,
    "start_time": "2023-05-08T09:43:32.600Z"
   },
   {
    "duration": 1089,
    "start_time": "2023-05-08T09:43:32.874Z"
   },
   {
    "duration": 27,
    "start_time": "2023-05-08T09:43:33.966Z"
   },
   {
    "duration": 79,
    "start_time": "2023-05-08T09:43:33.995Z"
   },
   {
    "duration": 795,
    "start_time": "2023-05-08T09:43:34.076Z"
   },
   {
    "duration": 3,
    "start_time": "2023-05-08T09:43:34.874Z"
   },
   {
    "duration": 5,
    "start_time": "2023-05-08T09:43:34.879Z"
   },
   {
    "duration": 7,
    "start_time": "2023-05-08T09:43:34.886Z"
   },
   {
    "duration": 5,
    "start_time": "2023-05-08T09:43:34.895Z"
   },
   {
    "duration": 9,
    "start_time": "2023-05-08T09:43:34.902Z"
   },
   {
    "duration": 43,
    "start_time": "2023-05-08T09:43:34.920Z"
   },
   {
    "duration": 400,
    "start_time": "2023-05-08T09:43:34.965Z"
   },
   {
    "duration": 303,
    "start_time": "2023-05-08T09:43:35.367Z"
   },
   {
    "duration": 6,
    "start_time": "2023-05-08T09:43:35.671Z"
   },
   {
    "duration": 1934,
    "start_time": "2023-05-08T09:43:35.681Z"
   },
   {
    "duration": 3531,
    "start_time": "2023-05-08T09:43:37.617Z"
   },
   {
    "duration": 106,
    "start_time": "2023-05-08T09:43:41.152Z"
   },
   {
    "duration": 100,
    "start_time": "2023-05-08T09:43:41.260Z"
   },
   {
    "duration": 719,
    "start_time": "2023-05-08T09:43:41.362Z"
   },
   {
    "duration": 9,
    "start_time": "2023-05-08T09:43:42.082Z"
   },
   {
    "duration": 29,
    "start_time": "2023-05-08T09:43:42.093Z"
   },
   {
    "duration": 46,
    "start_time": "2023-05-08T09:43:42.133Z"
   },
   {
    "duration": 1488,
    "start_time": "2023-05-08T09:45:16.543Z"
   },
   {
    "duration": 63,
    "start_time": "2023-05-08T09:45:18.036Z"
   },
   {
    "duration": 24,
    "start_time": "2023-05-08T09:45:18.101Z"
   },
   {
    "duration": 43,
    "start_time": "2023-05-08T09:45:18.128Z"
   },
   {
    "duration": 19,
    "start_time": "2023-05-08T09:45:18.173Z"
   },
   {
    "duration": 30,
    "start_time": "2023-05-08T09:45:18.194Z"
   },
   {
    "duration": 43,
    "start_time": "2023-05-08T09:45:18.225Z"
   },
   {
    "duration": 34,
    "start_time": "2023-05-08T09:45:18.272Z"
   },
   {
    "duration": 27,
    "start_time": "2023-05-08T09:45:18.308Z"
   },
   {
    "duration": 38,
    "start_time": "2023-05-08T09:45:18.337Z"
   },
   {
    "duration": 21,
    "start_time": "2023-05-08T09:45:18.378Z"
   },
   {
    "duration": 27,
    "start_time": "2023-05-08T09:45:18.402Z"
   },
   {
    "duration": 127,
    "start_time": "2023-05-08T09:45:18.432Z"
   },
   {
    "duration": 316,
    "start_time": "2023-05-08T09:45:18.563Z"
   },
   {
    "duration": 1378,
    "start_time": "2023-05-08T09:45:49.078Z"
   },
   {
    "duration": 62,
    "start_time": "2023-05-08T09:45:50.460Z"
   },
   {
    "duration": 33,
    "start_time": "2023-05-08T09:45:50.524Z"
   },
   {
    "duration": 55,
    "start_time": "2023-05-08T09:45:50.559Z"
   },
   {
    "duration": 44,
    "start_time": "2023-05-08T09:45:50.616Z"
   },
   {
    "duration": 50,
    "start_time": "2023-05-08T09:45:50.664Z"
   },
   {
    "duration": 18,
    "start_time": "2023-05-08T09:45:50.716Z"
   },
   {
    "duration": 70,
    "start_time": "2023-05-08T09:45:50.736Z"
   },
   {
    "duration": 81,
    "start_time": "2023-05-08T09:45:50.808Z"
   },
   {
    "duration": 17,
    "start_time": "2023-05-08T09:45:50.891Z"
   },
   {
    "duration": 65,
    "start_time": "2023-05-08T09:45:50.910Z"
   },
   {
    "duration": 28,
    "start_time": "2023-05-08T09:45:50.977Z"
   },
   {
    "duration": 123,
    "start_time": "2023-05-08T09:45:51.007Z"
   },
   {
    "duration": 292,
    "start_time": "2023-05-08T09:45:51.135Z"
   },
   {
    "duration": 1349,
    "start_time": "2023-05-08T09:45:51.431Z"
   },
   {
    "duration": 57,
    "start_time": "2023-05-08T09:45:52.782Z"
   },
   {
    "duration": 43,
    "start_time": "2023-05-08T09:45:52.843Z"
   },
   {
    "duration": 896,
    "start_time": "2023-05-08T09:45:52.888Z"
   },
   {
    "duration": 3,
    "start_time": "2023-05-08T09:45:53.786Z"
   },
   {
    "duration": 24,
    "start_time": "2023-05-08T09:45:53.791Z"
   },
   {
    "duration": 40,
    "start_time": "2023-05-08T09:45:53.817Z"
   },
   {
    "duration": 15,
    "start_time": "2023-05-08T09:45:53.859Z"
   },
   {
    "duration": 30,
    "start_time": "2023-05-08T09:45:53.876Z"
   },
   {
    "duration": 33,
    "start_time": "2023-05-08T09:45:53.908Z"
   },
   {
    "duration": 402,
    "start_time": "2023-05-08T09:45:53.943Z"
   },
   {
    "duration": 360,
    "start_time": "2023-05-08T09:45:54.349Z"
   },
   {
    "duration": 8,
    "start_time": "2023-05-08T09:45:54.718Z"
   },
   {
    "duration": 2069,
    "start_time": "2023-05-08T09:45:54.730Z"
   },
   {
    "duration": 2831,
    "start_time": "2023-05-08T09:45:56.802Z"
   },
   {
    "duration": 40,
    "start_time": "2023-05-08T09:45:59.636Z"
   },
   {
    "duration": 57,
    "start_time": "2023-05-08T09:45:59.677Z"
   },
   {
    "duration": 511,
    "start_time": "2023-05-08T09:45:59.735Z"
   },
   {
    "duration": 12,
    "start_time": "2023-05-08T09:46:00.251Z"
   },
   {
    "duration": 58,
    "start_time": "2023-05-08T09:46:00.265Z"
   },
   {
    "duration": 60,
    "start_time": "2023-05-08T09:46:00.325Z"
   },
   {
    "duration": 274,
    "start_time": "2023-05-08T09:47:58.276Z"
   },
   {
    "duration": 5,
    "start_time": "2023-05-08T09:48:28.346Z"
   },
   {
    "duration": 250,
    "start_time": "2023-05-08T09:48:33.956Z"
   },
   {
    "duration": 490,
    "start_time": "2023-05-08T09:49:16.378Z"
   },
   {
    "duration": 271,
    "start_time": "2023-05-08T09:49:45.028Z"
   },
   {
    "duration": 297,
    "start_time": "2023-05-08T09:49:50.190Z"
   },
   {
    "duration": 267,
    "start_time": "2023-05-08T09:50:08.838Z"
   },
   {
    "duration": 286,
    "start_time": "2023-05-08T09:50:25.859Z"
   },
   {
    "duration": 254,
    "start_time": "2023-05-08T09:51:09.389Z"
   },
   {
    "duration": 1147,
    "start_time": "2023-05-08T09:53:28.813Z"
   },
   {
    "duration": 1139,
    "start_time": "2023-05-08T09:54:10.616Z"
   },
   {
    "duration": 745,
    "start_time": "2023-05-08T09:56:48.914Z"
   },
   {
    "duration": 313,
    "start_time": "2023-05-08T09:57:31.821Z"
   },
   {
    "duration": 186,
    "start_time": "2023-05-08T09:57:56.418Z"
   },
   {
    "duration": 1427,
    "start_time": "2023-05-08T09:58:20.466Z"
   },
   {
    "duration": 83,
    "start_time": "2023-05-08T09:58:21.895Z"
   },
   {
    "duration": 19,
    "start_time": "2023-05-08T09:58:21.988Z"
   },
   {
    "duration": 48,
    "start_time": "2023-05-08T09:58:22.010Z"
   },
   {
    "duration": 14,
    "start_time": "2023-05-08T09:58:22.061Z"
   },
   {
    "duration": 19,
    "start_time": "2023-05-08T09:58:22.077Z"
   },
   {
    "duration": 9,
    "start_time": "2023-05-08T09:58:22.097Z"
   },
   {
    "duration": 31,
    "start_time": "2023-05-08T09:58:22.108Z"
   },
   {
    "duration": 49,
    "start_time": "2023-05-08T09:58:22.140Z"
   },
   {
    "duration": 16,
    "start_time": "2023-05-08T09:58:22.191Z"
   },
   {
    "duration": 32,
    "start_time": "2023-05-08T09:58:22.209Z"
   },
   {
    "duration": 29,
    "start_time": "2023-05-08T09:58:22.242Z"
   },
   {
    "duration": 90,
    "start_time": "2023-05-08T09:58:22.273Z"
   },
   {
    "duration": 4,
    "start_time": "2023-05-08T09:58:22.366Z"
   },
   {
    "duration": 312,
    "start_time": "2023-05-08T09:58:22.373Z"
   },
   {
    "duration": 1031,
    "start_time": "2023-05-08T09:58:22.688Z"
   },
   {
    "duration": 33,
    "start_time": "2023-05-08T09:58:23.730Z"
   },
   {
    "duration": 38,
    "start_time": "2023-05-08T09:58:23.764Z"
   },
   {
    "duration": 794,
    "start_time": "2023-05-08T09:58:23.804Z"
   },
   {
    "duration": 159,
    "start_time": "2023-05-08T09:58:24.600Z"
   },
   {
    "duration": 0,
    "start_time": "2023-05-08T09:58:24.761Z"
   },
   {
    "duration": 0,
    "start_time": "2023-05-08T09:58:24.763Z"
   },
   {
    "duration": 0,
    "start_time": "2023-05-08T09:58:24.765Z"
   },
   {
    "duration": 0,
    "start_time": "2023-05-08T09:58:24.766Z"
   },
   {
    "duration": 0,
    "start_time": "2023-05-08T09:58:24.768Z"
   },
   {
    "duration": 0,
    "start_time": "2023-05-08T09:58:24.770Z"
   },
   {
    "duration": 0,
    "start_time": "2023-05-08T09:58:24.771Z"
   },
   {
    "duration": 0,
    "start_time": "2023-05-08T09:58:24.772Z"
   },
   {
    "duration": 0,
    "start_time": "2023-05-08T09:58:24.774Z"
   },
   {
    "duration": 0,
    "start_time": "2023-05-08T09:58:24.775Z"
   },
   {
    "duration": 291,
    "start_time": "2023-05-08T09:58:31.310Z"
   },
   {
    "duration": 260,
    "start_time": "2023-05-08T09:58:39.241Z"
   },
   {
    "duration": 294,
    "start_time": "2023-05-08T09:59:45.765Z"
   },
   {
    "duration": 309,
    "start_time": "2023-05-08T10:00:16.615Z"
   },
   {
    "duration": 300,
    "start_time": "2023-05-08T10:00:28.734Z"
   },
   {
    "duration": 362,
    "start_time": "2023-05-08T10:00:31.812Z"
   },
   {
    "duration": 380,
    "start_time": "2023-05-08T10:00:45.533Z"
   },
   {
    "duration": 3111,
    "start_time": "2023-05-08T10:01:35.115Z"
   },
   {
    "duration": 14,
    "start_time": "2023-05-08T10:01:52.116Z"
   },
   {
    "duration": 168,
    "start_time": "2023-05-08T10:02:02.537Z"
   },
   {
    "duration": 309,
    "start_time": "2023-05-08T10:03:08.364Z"
   },
   {
    "duration": 151,
    "start_time": "2023-05-08T10:03:48.609Z"
   },
   {
    "duration": 3366,
    "start_time": "2023-05-08T10:03:56.864Z"
   },
   {
    "duration": 3008,
    "start_time": "2023-05-08T10:04:08.441Z"
   },
   {
    "duration": 300,
    "start_time": "2023-05-08T10:04:19.793Z"
   },
   {
    "duration": 270,
    "start_time": "2023-05-08T10:04:46.446Z"
   },
   {
    "duration": 294,
    "start_time": "2023-05-08T10:05:42.270Z"
   },
   {
    "duration": 399,
    "start_time": "2023-05-08T10:05:58.953Z"
   },
   {
    "duration": 262,
    "start_time": "2023-05-08T10:11:03.690Z"
   },
   {
    "duration": 303,
    "start_time": "2023-05-08T10:11:04.980Z"
   },
   {
    "duration": 1293,
    "start_time": "2023-05-08T10:11:58.194Z"
   },
   {
    "duration": 66,
    "start_time": "2023-05-08T10:11:59.489Z"
   },
   {
    "duration": 19,
    "start_time": "2023-05-08T10:11:59.556Z"
   },
   {
    "duration": 16,
    "start_time": "2023-05-08T10:11:59.577Z"
   },
   {
    "duration": 28,
    "start_time": "2023-05-08T10:11:59.595Z"
   },
   {
    "duration": 39,
    "start_time": "2023-05-08T10:11:59.625Z"
   },
   {
    "duration": 17,
    "start_time": "2023-05-08T10:11:59.665Z"
   },
   {
    "duration": 20,
    "start_time": "2023-05-08T10:11:59.684Z"
   },
   {
    "duration": 24,
    "start_time": "2023-05-08T10:11:59.706Z"
   },
   {
    "duration": 35,
    "start_time": "2023-05-08T10:11:59.734Z"
   },
   {
    "duration": 16,
    "start_time": "2023-05-08T10:11:59.770Z"
   },
   {
    "duration": 18,
    "start_time": "2023-05-08T10:11:59.788Z"
   },
   {
    "duration": 138,
    "start_time": "2023-05-08T10:11:59.808Z"
   },
   {
    "duration": 4,
    "start_time": "2023-05-08T10:11:59.950Z"
   },
   {
    "duration": 256,
    "start_time": "2023-05-08T10:11:59.956Z"
   },
   {
    "duration": 1053,
    "start_time": "2023-05-08T10:12:00.213Z"
   },
   {
    "duration": 29,
    "start_time": "2023-05-08T10:12:01.268Z"
   },
   {
    "duration": 71,
    "start_time": "2023-05-08T10:12:01.299Z"
   },
   {
    "duration": 865,
    "start_time": "2023-05-08T10:12:01.371Z"
   },
   {
    "duration": 301,
    "start_time": "2023-05-08T10:12:02.238Z"
   },
   {
    "duration": 364,
    "start_time": "2023-05-08T10:12:02.543Z"
   },
   {
    "duration": 10,
    "start_time": "2023-05-08T10:12:02.909Z"
   },
   {
    "duration": 1861,
    "start_time": "2023-05-08T10:12:02.921Z"
   },
   {
    "duration": 2671,
    "start_time": "2023-05-08T10:12:04.784Z"
   },
   {
    "duration": 74,
    "start_time": "2023-05-08T10:12:07.457Z"
   },
   {
    "duration": 41,
    "start_time": "2023-05-08T10:12:07.543Z"
   },
   {
    "duration": 531,
    "start_time": "2023-05-08T10:12:07.586Z"
   },
   {
    "duration": 20,
    "start_time": "2023-05-08T10:12:08.121Z"
   },
   {
    "duration": 35,
    "start_time": "2023-05-08T10:12:08.144Z"
   },
   {
    "duration": 27,
    "start_time": "2023-05-08T10:12:08.180Z"
   },
   {
    "duration": 23,
    "start_time": "2023-05-08T10:40:54.107Z"
   },
   {
    "duration": 209,
    "start_time": "2023-05-08T10:41:47.321Z"
   },
   {
    "duration": 216,
    "start_time": "2023-05-08T10:42:40.999Z"
   },
   {
    "duration": 365,
    "start_time": "2023-05-08T10:44:22.077Z"
   },
   {
    "duration": 132,
    "start_time": "2023-05-08T10:44:36.080Z"
   },
   {
    "duration": 206,
    "start_time": "2023-05-08T10:44:41.997Z"
   },
   {
    "duration": 232,
    "start_time": "2023-05-08T10:46:07.596Z"
   },
   {
    "duration": 206,
    "start_time": "2023-05-08T10:46:23.792Z"
   },
   {
    "duration": 233,
    "start_time": "2023-05-08T10:47:40.803Z"
   },
   {
    "duration": 205,
    "start_time": "2023-05-08T10:47:50.975Z"
   },
   {
    "duration": 215,
    "start_time": "2023-05-08T10:48:42.867Z"
   },
   {
    "duration": 234,
    "start_time": "2023-05-08T10:49:24.939Z"
   },
   {
    "duration": 219,
    "start_time": "2023-05-08T10:50:44.352Z"
   },
   {
    "duration": 236,
    "start_time": "2023-05-08T10:50:58.609Z"
   },
   {
    "duration": 216,
    "start_time": "2023-05-08T10:51:29.836Z"
   },
   {
    "duration": 321,
    "start_time": "2023-05-08T10:51:40.640Z"
   },
   {
    "duration": 241,
    "start_time": "2023-05-08T10:53:13.608Z"
   },
   {
    "duration": 244,
    "start_time": "2023-05-08T10:53:36.800Z"
   },
   {
    "duration": 242,
    "start_time": "2023-05-08T10:54:31.947Z"
   },
   {
    "duration": 221,
    "start_time": "2023-05-08T10:54:55.853Z"
   },
   {
    "duration": 218,
    "start_time": "2023-05-08T10:55:05.275Z"
   },
   {
    "duration": 235,
    "start_time": "2023-05-08T10:55:26.478Z"
   },
   {
    "duration": 233,
    "start_time": "2023-05-08T10:55:38.763Z"
   },
   {
    "duration": 216,
    "start_time": "2023-05-08T10:55:51.747Z"
   },
   {
    "duration": 241,
    "start_time": "2023-05-08T11:01:02.919Z"
   },
   {
    "duration": 285,
    "start_time": "2023-05-08T11:02:22.411Z"
   },
   {
    "duration": 464,
    "start_time": "2023-05-08T11:02:51.251Z"
   },
   {
    "duration": 635,
    "start_time": "2023-05-08T11:03:37.232Z"
   },
   {
    "duration": 49,
    "start_time": "2023-05-08T11:06:48.438Z"
   },
   {
    "duration": 72,
    "start_time": "2023-05-08T11:07:19.845Z"
   },
   {
    "duration": 265,
    "start_time": "2023-05-08T11:07:38.644Z"
   },
   {
    "duration": 663,
    "start_time": "2023-05-08T11:08:43.501Z"
   },
   {
    "duration": 841,
    "start_time": "2023-05-08T11:10:13.206Z"
   },
   {
    "duration": 664,
    "start_time": "2023-05-08T11:10:40.004Z"
   },
   {
    "duration": 799,
    "start_time": "2023-05-08T11:10:50.553Z"
   },
   {
    "duration": 649,
    "start_time": "2023-05-08T11:11:04.010Z"
   },
   {
    "duration": 345,
    "start_time": "2023-05-08T11:11:34.135Z"
   },
   {
    "duration": 175,
    "start_time": "2023-05-08T11:12:02.012Z"
   },
   {
    "duration": 329,
    "start_time": "2023-05-08T11:12:15.773Z"
   },
   {
    "duration": 546,
    "start_time": "2023-05-08T11:12:43.997Z"
   },
   {
    "duration": 4335,
    "start_time": "2023-05-08T11:15:04.111Z"
   },
   {
    "duration": 517,
    "start_time": "2023-05-08T11:15:17.356Z"
   },
   {
    "duration": 437,
    "start_time": "2023-05-08T11:15:42.411Z"
   },
   {
    "duration": 584,
    "start_time": "2023-05-08T11:16:30.424Z"
   },
   {
    "duration": 383,
    "start_time": "2023-05-08T11:16:39.756Z"
   },
   {
    "duration": 485,
    "start_time": "2023-05-08T11:17:54.097Z"
   },
   {
    "duration": 12,
    "start_time": "2023-05-08T12:23:57.816Z"
   },
   {
    "duration": 418,
    "start_time": "2023-05-08T12:24:03.390Z"
   },
   {
    "duration": 516,
    "start_time": "2023-05-08T12:24:23.604Z"
   },
   {
    "duration": 449,
    "start_time": "2023-05-08T12:24:46.004Z"
   },
   {
    "duration": 1185,
    "start_time": "2023-05-08T12:24:53.668Z"
   },
   {
    "duration": 59,
    "start_time": "2023-05-08T12:24:54.855Z"
   },
   {
    "duration": 20,
    "start_time": "2023-05-08T12:24:54.915Z"
   },
   {
    "duration": 17,
    "start_time": "2023-05-08T12:24:54.937Z"
   },
   {
    "duration": 27,
    "start_time": "2023-05-08T12:24:54.957Z"
   },
   {
    "duration": 37,
    "start_time": "2023-05-08T12:24:54.986Z"
   },
   {
    "duration": 15,
    "start_time": "2023-05-08T12:24:55.025Z"
   },
   {
    "duration": 44,
    "start_time": "2023-05-08T12:24:55.042Z"
   },
   {
    "duration": 35,
    "start_time": "2023-05-08T12:24:55.089Z"
   },
   {
    "duration": 58,
    "start_time": "2023-05-08T12:24:55.126Z"
   },
   {
    "duration": 35,
    "start_time": "2023-05-08T12:24:55.187Z"
   },
   {
    "duration": 21,
    "start_time": "2023-05-08T12:24:55.224Z"
   },
   {
    "duration": 96,
    "start_time": "2023-05-08T12:24:55.247Z"
   },
   {
    "duration": 6,
    "start_time": "2023-05-08T12:24:55.345Z"
   },
   {
    "duration": 258,
    "start_time": "2023-05-08T12:24:55.352Z"
   },
   {
    "duration": 915,
    "start_time": "2023-05-08T12:24:55.611Z"
   },
   {
    "duration": 28,
    "start_time": "2023-05-08T12:24:56.528Z"
   },
   {
    "duration": 36,
    "start_time": "2023-05-08T12:24:56.557Z"
   },
   {
    "duration": 782,
    "start_time": "2023-05-08T12:24:56.595Z"
   },
   {
    "duration": 241,
    "start_time": "2023-05-08T12:24:57.379Z"
   },
   {
    "duration": 254,
    "start_time": "2023-05-08T12:24:57.622Z"
   },
   {
    "duration": 5,
    "start_time": "2023-05-08T12:24:57.877Z"
   },
   {
    "duration": 1669,
    "start_time": "2023-05-08T12:24:57.884Z"
   },
   {
    "duration": 210,
    "start_time": "2023-05-08T12:24:59.554Z"
   },
   {
    "duration": 586,
    "start_time": "2023-05-08T12:24:59.767Z"
   },
   {
    "duration": 356,
    "start_time": "2023-05-08T12:25:00.354Z"
   },
   {
    "duration": 466,
    "start_time": "2023-05-08T12:25:00.721Z"
   },
   {
    "duration": 11,
    "start_time": "2023-05-08T12:25:01.189Z"
   },
   {
    "duration": 51,
    "start_time": "2023-05-08T12:25:01.202Z"
   },
   {
    "duration": 79,
    "start_time": "2023-05-08T12:25:01.255Z"
   },
   {
    "duration": 105,
    "start_time": "2023-05-08T12:25:18.280Z"
   },
   {
    "duration": 442,
    "start_time": "2023-05-08T12:25:31.217Z"
   },
   {
    "duration": 469,
    "start_time": "2023-05-08T12:25:40.210Z"
   },
   {
    "duration": 542,
    "start_time": "2023-05-08T12:27:55.436Z"
   },
   {
    "duration": 16,
    "start_time": "2023-05-08T12:28:08.155Z"
   },
   {
    "duration": 1256,
    "start_time": "2023-05-08T12:28:40.703Z"
   },
   {
    "duration": 589,
    "start_time": "2023-05-08T12:28:52.776Z"
   },
   {
    "duration": 1210,
    "start_time": "2023-05-08T12:29:40.050Z"
   },
   {
    "duration": 56,
    "start_time": "2023-05-08T12:29:41.263Z"
   },
   {
    "duration": 18,
    "start_time": "2023-05-08T12:29:41.321Z"
   },
   {
    "duration": 14,
    "start_time": "2023-05-08T12:29:41.341Z"
   },
   {
    "duration": 14,
    "start_time": "2023-05-08T12:29:41.357Z"
   },
   {
    "duration": 49,
    "start_time": "2023-05-08T12:29:41.373Z"
   },
   {
    "duration": 9,
    "start_time": "2023-05-08T12:29:41.424Z"
   },
   {
    "duration": 21,
    "start_time": "2023-05-08T12:29:41.434Z"
   },
   {
    "duration": 15,
    "start_time": "2023-05-08T12:29:41.457Z"
   },
   {
    "duration": 17,
    "start_time": "2023-05-08T12:29:41.475Z"
   },
   {
    "duration": 17,
    "start_time": "2023-05-08T12:29:41.518Z"
   },
   {
    "duration": 16,
    "start_time": "2023-05-08T12:29:41.537Z"
   },
   {
    "duration": 105,
    "start_time": "2023-05-08T12:29:41.555Z"
   },
   {
    "duration": 5,
    "start_time": "2023-05-08T12:29:41.661Z"
   },
   {
    "duration": 271,
    "start_time": "2023-05-08T12:29:41.667Z"
   },
   {
    "duration": 987,
    "start_time": "2023-05-08T12:29:41.940Z"
   },
   {
    "duration": 29,
    "start_time": "2023-05-08T12:29:42.929Z"
   },
   {
    "duration": 26,
    "start_time": "2023-05-08T12:29:42.960Z"
   },
   {
    "duration": 767,
    "start_time": "2023-05-08T12:29:42.988Z"
   },
   {
    "duration": 245,
    "start_time": "2023-05-08T12:29:43.757Z"
   },
   {
    "duration": 264,
    "start_time": "2023-05-08T12:29:44.003Z"
   },
   {
    "duration": 5,
    "start_time": "2023-05-08T12:29:44.269Z"
   },
   {
    "duration": 1745,
    "start_time": "2023-05-08T12:29:44.276Z"
   },
   {
    "duration": 197,
    "start_time": "2023-05-08T12:29:46.023Z"
   },
   {
    "duration": 561,
    "start_time": "2023-05-08T12:29:46.221Z"
   },
   {
    "duration": 345,
    "start_time": "2023-05-08T12:29:46.783Z"
   },
   {
    "duration": 930,
    "start_time": "2023-05-08T12:29:47.135Z"
   },
   {
    "duration": 9,
    "start_time": "2023-05-08T12:29:48.119Z"
   },
   {
    "duration": 20,
    "start_time": "2023-05-08T12:29:48.129Z"
   },
   {
    "duration": 67,
    "start_time": "2023-05-08T12:29:48.151Z"
   },
   {
    "duration": 453,
    "start_time": "2023-05-08T12:32:18.248Z"
   },
   {
    "duration": 1275,
    "start_time": "2023-05-08T12:32:30.393Z"
   },
   {
    "duration": 61,
    "start_time": "2023-05-08T12:32:31.671Z"
   },
   {
    "duration": 20,
    "start_time": "2023-05-08T12:32:31.734Z"
   },
   {
    "duration": 25,
    "start_time": "2023-05-08T12:32:31.756Z"
   },
   {
    "duration": 29,
    "start_time": "2023-05-08T12:32:31.783Z"
   },
   {
    "duration": 42,
    "start_time": "2023-05-08T12:32:31.814Z"
   },
   {
    "duration": 13,
    "start_time": "2023-05-08T12:32:31.858Z"
   },
   {
    "duration": 31,
    "start_time": "2023-05-08T12:32:31.873Z"
   },
   {
    "duration": 40,
    "start_time": "2023-05-08T12:32:31.906Z"
   },
   {
    "duration": 36,
    "start_time": "2023-05-08T12:32:31.950Z"
   },
   {
    "duration": 38,
    "start_time": "2023-05-08T12:32:31.988Z"
   },
   {
    "duration": 48,
    "start_time": "2023-05-08T12:32:32.028Z"
   },
   {
    "duration": 82,
    "start_time": "2023-05-08T12:32:32.078Z"
   },
   {
    "duration": 5,
    "start_time": "2023-05-08T12:32:32.162Z"
   },
   {
    "duration": 253,
    "start_time": "2023-05-08T12:32:32.169Z"
   },
   {
    "duration": 942,
    "start_time": "2023-05-08T12:32:32.425Z"
   },
   {
    "duration": 25,
    "start_time": "2023-05-08T12:32:33.369Z"
   },
   {
    "duration": 35,
    "start_time": "2023-05-08T12:32:33.396Z"
   },
   {
    "duration": 751,
    "start_time": "2023-05-08T12:32:33.432Z"
   },
   {
    "duration": 257,
    "start_time": "2023-05-08T12:32:34.185Z"
   },
   {
    "duration": 273,
    "start_time": "2023-05-08T12:32:34.444Z"
   },
   {
    "duration": 9,
    "start_time": "2023-05-08T12:32:34.720Z"
   },
   {
    "duration": 1686,
    "start_time": "2023-05-08T12:32:34.732Z"
   },
   {
    "duration": 216,
    "start_time": "2023-05-08T12:32:36.420Z"
   },
   {
    "duration": 573,
    "start_time": "2023-05-08T12:32:36.638Z"
   },
   {
    "duration": 342,
    "start_time": "2023-05-08T12:32:37.217Z"
   },
   {
    "duration": 478,
    "start_time": "2023-05-08T12:32:37.560Z"
   },
   {
    "duration": 8,
    "start_time": "2023-05-08T12:32:38.042Z"
   },
   {
    "duration": 9,
    "start_time": "2023-05-08T12:32:38.052Z"
   },
   {
    "duration": 15,
    "start_time": "2023-05-08T12:32:38.062Z"
   },
   {
    "duration": 456,
    "start_time": "2023-05-08T12:34:51.306Z"
   },
   {
    "duration": 1246,
    "start_time": "2023-05-08T12:34:58.595Z"
   },
   {
    "duration": 56,
    "start_time": "2023-05-08T12:34:59.843Z"
   },
   {
    "duration": 20,
    "start_time": "2023-05-08T12:34:59.900Z"
   },
   {
    "duration": 21,
    "start_time": "2023-05-08T12:34:59.922Z"
   },
   {
    "duration": 16,
    "start_time": "2023-05-08T12:34:59.946Z"
   },
   {
    "duration": 63,
    "start_time": "2023-05-08T12:34:59.964Z"
   },
   {
    "duration": 22,
    "start_time": "2023-05-08T12:35:00.029Z"
   },
   {
    "duration": 62,
    "start_time": "2023-05-08T12:35:00.053Z"
   },
   {
    "duration": 44,
    "start_time": "2023-05-08T12:35:00.117Z"
   },
   {
    "duration": 56,
    "start_time": "2023-05-08T12:35:00.163Z"
   },
   {
    "duration": 57,
    "start_time": "2023-05-08T12:35:00.221Z"
   },
   {
    "duration": 48,
    "start_time": "2023-05-08T12:35:00.280Z"
   },
   {
    "duration": 101,
    "start_time": "2023-05-08T12:35:00.330Z"
   },
   {
    "duration": 5,
    "start_time": "2023-05-08T12:35:00.435Z"
   },
   {
    "duration": 288,
    "start_time": "2023-05-08T12:35:00.442Z"
   },
   {
    "duration": 978,
    "start_time": "2023-05-08T12:35:00.732Z"
   },
   {
    "duration": 33,
    "start_time": "2023-05-08T12:35:01.712Z"
   },
   {
    "duration": 49,
    "start_time": "2023-05-08T12:35:01.746Z"
   },
   {
    "duration": 785,
    "start_time": "2023-05-08T12:35:01.797Z"
   },
   {
    "duration": 262,
    "start_time": "2023-05-08T12:35:02.584Z"
   },
   {
    "duration": 255,
    "start_time": "2023-05-08T12:35:02.848Z"
   },
   {
    "duration": 5,
    "start_time": "2023-05-08T12:35:03.105Z"
   },
   {
    "duration": 1591,
    "start_time": "2023-05-08T12:35:03.117Z"
   },
   {
    "duration": 201,
    "start_time": "2023-05-08T12:35:04.710Z"
   },
   {
    "duration": 607,
    "start_time": "2023-05-08T12:35:04.913Z"
   },
   {
    "duration": 347,
    "start_time": "2023-05-08T12:35:05.522Z"
   },
   {
    "duration": 450,
    "start_time": "2023-05-08T12:35:05.871Z"
   },
   {
    "duration": 9,
    "start_time": "2023-05-08T12:35:06.323Z"
   },
   {
    "duration": 18,
    "start_time": "2023-05-08T12:35:06.334Z"
   },
   {
    "duration": 18,
    "start_time": "2023-05-08T12:35:06.353Z"
   },
   {
    "duration": 469,
    "start_time": "2023-05-08T12:35:44.194Z"
   },
   {
    "duration": 13,
    "start_time": "2023-05-08T12:41:13.173Z"
   },
   {
    "duration": 12,
    "start_time": "2023-05-08T12:42:40.096Z"
   },
   {
    "duration": 178,
    "start_time": "2023-05-08T12:44:01.244Z"
   },
   {
    "duration": 535,
    "start_time": "2023-05-08T12:44:14.505Z"
   },
   {
    "duration": 10,
    "start_time": "2023-05-08T12:44:21.457Z"
   },
   {
    "duration": 11,
    "start_time": "2023-05-08T12:45:23.404Z"
   },
   {
    "duration": 47,
    "start_time": "2023-05-08T12:58:51.427Z"
   },
   {
    "duration": 528,
    "start_time": "2023-05-08T13:23:00.889Z"
   },
   {
    "duration": 527,
    "start_time": "2023-05-08T13:23:13.590Z"
   },
   {
    "duration": 14,
    "start_time": "2023-05-08T13:28:14.824Z"
   },
   {
    "duration": 9,
    "start_time": "2023-05-08T13:28:48.149Z"
   },
   {
    "duration": 50,
    "start_time": "2023-05-08T13:33:38.201Z"
   },
   {
    "duration": 220,
    "start_time": "2023-05-08T13:35:11.636Z"
   },
   {
    "duration": 347,
    "start_time": "2023-05-08T13:38:14.631Z"
   },
   {
    "duration": 88,
    "start_time": "2023-05-08T13:41:02.927Z"
   },
   {
    "duration": 426,
    "start_time": "2023-05-08T13:41:49.261Z"
   },
   {
    "duration": 419,
    "start_time": "2023-05-08T13:42:08.936Z"
   },
   {
    "duration": 414,
    "start_time": "2023-05-08T13:42:49.173Z"
   },
   {
    "duration": 524,
    "start_time": "2023-05-08T13:43:14.588Z"
   },
   {
    "duration": 1283,
    "start_time": "2023-05-08T13:44:01.921Z"
   },
   {
    "duration": 56,
    "start_time": "2023-05-08T13:44:03.207Z"
   },
   {
    "duration": 18,
    "start_time": "2023-05-08T13:44:03.265Z"
   },
   {
    "duration": 16,
    "start_time": "2023-05-08T13:44:03.285Z"
   },
   {
    "duration": 40,
    "start_time": "2023-05-08T13:44:03.303Z"
   },
   {
    "duration": 31,
    "start_time": "2023-05-08T13:44:03.345Z"
   },
   {
    "duration": 16,
    "start_time": "2023-05-08T13:44:03.378Z"
   },
   {
    "duration": 33,
    "start_time": "2023-05-08T13:44:03.396Z"
   },
   {
    "duration": 15,
    "start_time": "2023-05-08T13:44:03.431Z"
   },
   {
    "duration": 20,
    "start_time": "2023-05-08T13:44:03.449Z"
   },
   {
    "duration": 40,
    "start_time": "2023-05-08T13:44:03.471Z"
   },
   {
    "duration": 22,
    "start_time": "2023-05-08T13:44:03.513Z"
   },
   {
    "duration": 99,
    "start_time": "2023-05-08T13:44:03.537Z"
   },
   {
    "duration": 4,
    "start_time": "2023-05-08T13:44:03.638Z"
   },
   {
    "duration": 234,
    "start_time": "2023-05-08T13:44:03.643Z"
   },
   {
    "duration": 8,
    "start_time": "2023-05-08T13:44:03.879Z"
   },
   {
    "duration": 906,
    "start_time": "2023-05-08T13:44:03.889Z"
   },
   {
    "duration": 35,
    "start_time": "2023-05-08T13:44:04.797Z"
   },
   {
    "duration": 27,
    "start_time": "2023-05-08T13:44:04.835Z"
   },
   {
    "duration": 9,
    "start_time": "2023-05-08T13:44:04.864Z"
   },
   {
    "duration": 761,
    "start_time": "2023-05-08T13:44:04.875Z"
   },
   {
    "duration": 255,
    "start_time": "2023-05-08T13:44:05.640Z"
   },
   {
    "duration": 270,
    "start_time": "2023-05-08T13:44:05.897Z"
   },
   {
    "duration": 5,
    "start_time": "2023-05-08T13:44:06.169Z"
   },
   {
    "duration": 1694,
    "start_time": "2023-05-08T13:44:06.176Z"
   },
   {
    "duration": 219,
    "start_time": "2023-05-08T13:44:07.872Z"
   },
   {
    "duration": 565,
    "start_time": "2023-05-08T13:44:08.092Z"
   },
   {
    "duration": 351,
    "start_time": "2023-05-08T13:44:08.660Z"
   },
   {
    "duration": 454,
    "start_time": "2023-05-08T13:44:09.013Z"
   },
   {
    "duration": 9,
    "start_time": "2023-05-08T13:44:09.469Z"
   },
   {
    "duration": 24,
    "start_time": "2023-05-08T13:44:09.480Z"
   },
   {
    "duration": 34,
    "start_time": "2023-05-08T13:44:09.506Z"
   },
   {
    "duration": 212,
    "start_time": "2023-05-08T13:45:01.676Z"
   },
   {
    "duration": 1255,
    "start_time": "2023-05-08T19:03:31.246Z"
   },
   {
    "duration": 48,
    "start_time": "2023-05-08T19:03:32.503Z"
   },
   {
    "duration": 24,
    "start_time": "2023-05-08T19:03:32.553Z"
   },
   {
    "duration": 15,
    "start_time": "2023-05-08T19:03:32.579Z"
   },
   {
    "duration": 19,
    "start_time": "2023-05-08T19:03:32.597Z"
   },
   {
    "duration": 38,
    "start_time": "2023-05-08T19:03:32.618Z"
   },
   {
    "duration": 9,
    "start_time": "2023-05-08T19:03:32.658Z"
   },
   {
    "duration": 33,
    "start_time": "2023-05-08T19:03:32.668Z"
   },
   {
    "duration": 18,
    "start_time": "2023-05-08T19:03:32.703Z"
   },
   {
    "duration": 14,
    "start_time": "2023-05-08T19:03:32.723Z"
   },
   {
    "duration": 35,
    "start_time": "2023-05-08T19:03:32.739Z"
   },
   {
    "duration": 18,
    "start_time": "2023-05-08T19:03:32.776Z"
   },
   {
    "duration": 96,
    "start_time": "2023-05-08T19:03:32.795Z"
   },
   {
    "duration": 4,
    "start_time": "2023-05-08T19:03:32.894Z"
   },
   {
    "duration": 262,
    "start_time": "2023-05-08T19:03:32.900Z"
   },
   {
    "duration": 8,
    "start_time": "2023-05-08T19:03:33.164Z"
   },
   {
    "duration": 843,
    "start_time": "2023-05-08T19:03:33.173Z"
   },
   {
    "duration": 45,
    "start_time": "2023-05-08T19:03:34.018Z"
   },
   {
    "duration": 47,
    "start_time": "2023-05-08T19:03:34.065Z"
   },
   {
    "duration": 12,
    "start_time": "2023-05-08T19:03:34.114Z"
   },
   {
    "duration": 754,
    "start_time": "2023-05-08T19:03:34.128Z"
   },
   {
    "duration": 260,
    "start_time": "2023-05-08T19:03:34.884Z"
   },
   {
    "duration": 268,
    "start_time": "2023-05-08T19:03:35.146Z"
   },
   {
    "duration": 6,
    "start_time": "2023-05-08T19:03:35.416Z"
   },
   {
    "duration": 1707,
    "start_time": "2023-05-08T19:03:35.425Z"
   },
   {
    "duration": 301,
    "start_time": "2023-05-08T19:03:37.135Z"
   },
   {
    "duration": 454,
    "start_time": "2023-05-08T19:03:37.439Z"
   },
   {
    "duration": 350,
    "start_time": "2023-05-08T19:03:37.894Z"
   },
   {
    "duration": 415,
    "start_time": "2023-05-08T19:03:38.247Z"
   },
   {
    "duration": 8,
    "start_time": "2023-05-08T19:03:38.665Z"
   },
   {
    "duration": 21,
    "start_time": "2023-05-08T19:03:38.676Z"
   },
   {
    "duration": 21,
    "start_time": "2023-05-08T19:03:38.699Z"
   },
   {
    "duration": 46558,
    "start_time": "2023-05-08T19:24:14.706Z"
   },
   {
    "duration": 4,
    "start_time": "2023-05-08T19:26:57.256Z"
   },
   {
    "duration": 4,
    "start_time": "2023-05-08T19:27:03.061Z"
   },
   {
    "duration": 455,
    "start_time": "2023-05-08T19:27:09.645Z"
   },
   {
    "duration": 0,
    "start_time": "2023-05-08T19:32:30.212Z"
   },
   {
    "duration": 7767,
    "start_time": "2023-05-08T19:43:43.231Z"
   },
   {
    "duration": 292,
    "start_time": "2023-05-08T19:45:17.382Z"
   },
   {
    "duration": 46,
    "start_time": "2023-05-09T16:03:55.636Z"
   },
   {
    "duration": 1389,
    "start_time": "2023-05-09T16:04:00.400Z"
   },
   {
    "duration": 99,
    "start_time": "2023-05-09T16:04:01.793Z"
   },
   {
    "duration": 22,
    "start_time": "2023-05-09T16:04:01.894Z"
   },
   {
    "duration": 82,
    "start_time": "2023-05-09T16:04:01.918Z"
   },
   {
    "duration": 44,
    "start_time": "2023-05-09T16:04:02.003Z"
   },
   {
    "duration": 56,
    "start_time": "2023-05-09T16:04:02.049Z"
   },
   {
    "duration": 49,
    "start_time": "2023-05-09T16:04:02.108Z"
   },
   {
    "duration": 43,
    "start_time": "2023-05-09T16:04:02.159Z"
   },
   {
    "duration": 34,
    "start_time": "2023-05-09T16:04:02.205Z"
   },
   {
    "duration": 18,
    "start_time": "2023-05-09T16:04:02.241Z"
   },
   {
    "duration": 16,
    "start_time": "2023-05-09T16:04:02.261Z"
   },
   {
    "duration": 21,
    "start_time": "2023-05-09T16:04:02.279Z"
   },
   {
    "duration": 91,
    "start_time": "2023-05-09T16:04:02.302Z"
   },
   {
    "duration": 4,
    "start_time": "2023-05-09T16:04:02.396Z"
   },
   {
    "duration": 234,
    "start_time": "2023-05-09T16:04:02.402Z"
   },
   {
    "duration": 1231,
    "start_time": "2023-05-09T16:04:35.588Z"
   },
   {
    "duration": 47,
    "start_time": "2023-05-09T16:04:36.821Z"
   },
   {
    "duration": 17,
    "start_time": "2023-05-09T16:04:36.871Z"
   },
   {
    "duration": 15,
    "start_time": "2023-05-09T16:04:36.890Z"
   },
   {
    "duration": 13,
    "start_time": "2023-05-09T16:04:36.907Z"
   },
   {
    "duration": 16,
    "start_time": "2023-05-09T16:04:36.922Z"
   },
   {
    "duration": 9,
    "start_time": "2023-05-09T16:04:36.940Z"
   },
   {
    "duration": 46,
    "start_time": "2023-05-09T16:04:36.950Z"
   },
   {
    "duration": 17,
    "start_time": "2023-05-09T16:04:36.999Z"
   },
   {
    "duration": 13,
    "start_time": "2023-05-09T16:04:37.017Z"
   },
   {
    "duration": 17,
    "start_time": "2023-05-09T16:04:37.031Z"
   },
   {
    "duration": 43,
    "start_time": "2023-05-09T16:04:37.050Z"
   },
   {
    "duration": 79,
    "start_time": "2023-05-09T16:04:37.095Z"
   },
   {
    "duration": 4,
    "start_time": "2023-05-09T16:04:37.193Z"
   },
   {
    "duration": 231,
    "start_time": "2023-05-09T16:04:37.199Z"
   },
   {
    "duration": 11,
    "start_time": "2023-05-09T16:04:37.432Z"
   },
   {
    "duration": 978,
    "start_time": "2023-05-09T16:04:37.445Z"
   },
   {
    "duration": 38,
    "start_time": "2023-05-09T16:04:38.425Z"
   },
   {
    "duration": 43,
    "start_time": "2023-05-09T16:04:38.465Z"
   },
   {
    "duration": 10,
    "start_time": "2023-05-09T16:04:38.510Z"
   },
   {
    "duration": 725,
    "start_time": "2023-05-09T16:04:38.522Z"
   },
   {
    "duration": 235,
    "start_time": "2023-05-09T16:04:39.249Z"
   },
   {
    "duration": 250,
    "start_time": "2023-05-09T16:04:39.485Z"
   },
   {
    "duration": 5,
    "start_time": "2023-05-09T16:04:39.736Z"
   },
   {
    "duration": 1571,
    "start_time": "2023-05-09T16:04:39.743Z"
   },
   {
    "duration": 289,
    "start_time": "2023-05-09T16:04:41.316Z"
   },
   {
    "duration": 574,
    "start_time": "2023-05-09T16:04:41.608Z"
   },
   {
    "duration": 442,
    "start_time": "2023-05-09T16:04:42.192Z"
   },
   {
    "duration": 367,
    "start_time": "2023-05-09T16:04:42.636Z"
   },
   {
    "duration": 340,
    "start_time": "2023-05-09T16:04:43.005Z"
   },
   {
    "duration": 538,
    "start_time": "2023-05-09T16:04:43.346Z"
   },
   {
    "duration": 13,
    "start_time": "2023-05-09T16:04:43.885Z"
   },
   {
    "duration": 12,
    "start_time": "2023-05-09T16:04:43.900Z"
   },
   {
    "duration": 9,
    "start_time": "2023-05-09T16:04:43.914Z"
   },
   {
    "duration": 1639,
    "start_time": "2023-08-25T12:38:37.198Z"
   },
   {
    "duration": 110,
    "start_time": "2023-08-25T12:38:38.839Z"
   },
   {
    "duration": 19,
    "start_time": "2023-08-25T12:38:38.951Z"
   },
   {
    "duration": 22,
    "start_time": "2023-08-25T12:38:38.973Z"
   },
   {
    "duration": 15,
    "start_time": "2023-08-25T12:38:39.000Z"
   },
   {
    "duration": 19,
    "start_time": "2023-08-25T12:38:39.016Z"
   },
   {
    "duration": 9,
    "start_time": "2023-08-25T12:38:39.037Z"
   },
   {
    "duration": 46,
    "start_time": "2023-08-25T12:38:39.047Z"
   },
   {
    "duration": 17,
    "start_time": "2023-08-25T12:38:39.095Z"
   },
   {
    "duration": 14,
    "start_time": "2023-08-25T12:38:39.115Z"
   },
   {
    "duration": 59,
    "start_time": "2023-08-25T12:38:39.131Z"
   },
   {
    "duration": 29,
    "start_time": "2023-08-25T12:38:39.192Z"
   },
   {
    "duration": 94,
    "start_time": "2023-08-25T12:38:39.224Z"
   },
   {
    "duration": 5,
    "start_time": "2023-08-25T12:38:39.321Z"
   },
   {
    "duration": 281,
    "start_time": "2023-08-25T12:38:39.328Z"
   },
   {
    "duration": 8,
    "start_time": "2023-08-25T12:38:39.611Z"
   },
   {
    "duration": 1006,
    "start_time": "2023-08-25T12:38:39.621Z"
   },
   {
    "duration": 26,
    "start_time": "2023-08-25T12:38:40.629Z"
   },
   {
    "duration": 44,
    "start_time": "2023-08-25T12:38:40.657Z"
   },
   {
    "duration": 8,
    "start_time": "2023-08-25T12:38:40.703Z"
   },
   {
    "duration": 838,
    "start_time": "2023-08-25T12:38:40.713Z"
   },
   {
    "duration": 274,
    "start_time": "2023-08-25T12:38:41.552Z"
   },
   {
    "duration": 289,
    "start_time": "2023-08-25T12:38:41.828Z"
   },
   {
    "duration": 5,
    "start_time": "2023-08-25T12:38:42.119Z"
   },
   {
    "duration": 1719,
    "start_time": "2023-08-25T12:38:42.126Z"
   },
   {
    "duration": 319,
    "start_time": "2023-08-25T12:38:43.847Z"
   },
   {
    "duration": 631,
    "start_time": "2023-08-25T12:38:44.168Z"
   },
   {
    "duration": 535,
    "start_time": "2023-08-25T12:38:44.802Z"
   },
   {
    "duration": 387,
    "start_time": "2023-08-25T12:38:45.338Z"
   },
   {
    "duration": 338,
    "start_time": "2023-08-25T12:38:45.727Z"
   },
   {
    "duration": 589,
    "start_time": "2023-08-25T12:38:46.067Z"
   },
   {
    "duration": 8,
    "start_time": "2023-08-25T12:38:46.658Z"
   },
   {
    "duration": 22,
    "start_time": "2023-08-25T12:38:46.668Z"
   },
   {
    "duration": 25,
    "start_time": "2023-08-25T12:38:46.697Z"
   },
   {
    "duration": 35,
    "start_time": "2023-08-25T12:51:38.899Z"
   },
   {
    "duration": 137,
    "start_time": "2023-08-25T12:52:39.626Z"
   },
   {
    "duration": 9,
    "start_time": "2023-08-25T12:52:56.545Z"
   },
   {
    "duration": 74,
    "start_time": "2023-08-25T12:57:31.498Z"
   },
   {
    "duration": 626,
    "start_time": "2023-08-25T13:06:17.769Z"
   },
   {
    "duration": 371,
    "start_time": "2023-08-25T13:07:58.944Z"
   },
   {
    "duration": 376,
    "start_time": "2023-08-25T13:08:23.745Z"
   },
   {
    "duration": 521,
    "start_time": "2023-08-25T13:08:29.396Z"
   },
   {
    "duration": 511,
    "start_time": "2023-08-25T13:09:34.256Z"
   },
   {
    "duration": 375,
    "start_time": "2023-08-25T13:09:46.223Z"
   },
   {
    "duration": 829,
    "start_time": "2023-08-25T13:12:57.325Z"
   },
   {
    "duration": 343,
    "start_time": "2023-08-25T13:13:45.522Z"
   },
   {
    "duration": 544,
    "start_time": "2023-08-25T13:14:17.029Z"
   },
   {
    "duration": 380,
    "start_time": "2023-08-25T13:14:27.594Z"
   },
   {
    "duration": 388,
    "start_time": "2023-08-25T13:15:05.611Z"
   },
   {
    "duration": 411,
    "start_time": "2023-08-25T13:15:12.106Z"
   },
   {
    "duration": 489,
    "start_time": "2023-08-25T13:15:43.142Z"
   },
   {
    "duration": 1251,
    "start_time": "2023-08-25T13:16:20.577Z"
   },
   {
    "duration": 63,
    "start_time": "2023-08-25T13:16:21.830Z"
   },
   {
    "duration": 19,
    "start_time": "2023-08-25T13:16:21.895Z"
   },
   {
    "duration": 16,
    "start_time": "2023-08-25T13:16:21.917Z"
   },
   {
    "duration": 16,
    "start_time": "2023-08-25T13:16:21.934Z"
   },
   {
    "duration": 45,
    "start_time": "2023-08-25T13:16:21.952Z"
   },
   {
    "duration": 9,
    "start_time": "2023-08-25T13:16:21.999Z"
   },
   {
    "duration": 16,
    "start_time": "2023-08-25T13:16:22.009Z"
   },
   {
    "duration": 16,
    "start_time": "2023-08-25T13:16:22.026Z"
   },
   {
    "duration": 47,
    "start_time": "2023-08-25T13:16:22.046Z"
   },
   {
    "duration": 17,
    "start_time": "2023-08-25T13:16:22.095Z"
   },
   {
    "duration": 97,
    "start_time": "2023-08-25T13:16:22.114Z"
   },
   {
    "duration": 17,
    "start_time": "2023-08-25T13:16:22.213Z"
   },
   {
    "duration": 12,
    "start_time": "2023-08-25T13:16:22.231Z"
   },
   {
    "duration": 262,
    "start_time": "2023-08-25T13:16:22.245Z"
   },
   {
    "duration": 8,
    "start_time": "2023-08-25T13:16:22.509Z"
   },
   {
    "duration": 1058,
    "start_time": "2023-08-25T13:16:22.519Z"
   },
   {
    "duration": 31,
    "start_time": "2023-08-25T13:16:23.584Z"
   },
   {
    "duration": 9,
    "start_time": "2023-08-25T13:16:23.617Z"
   },
   {
    "duration": 831,
    "start_time": "2023-08-25T13:16:23.627Z"
   },
   {
    "duration": 275,
    "start_time": "2023-08-25T13:16:24.460Z"
   },
   {
    "duration": 285,
    "start_time": "2023-08-25T13:16:24.737Z"
   },
   {
    "duration": 5,
    "start_time": "2023-08-25T13:16:25.024Z"
   },
   {
    "duration": 1678,
    "start_time": "2023-08-25T13:16:25.031Z"
   },
   {
    "duration": 332,
    "start_time": "2023-08-25T13:16:26.712Z"
   },
   {
    "duration": 625,
    "start_time": "2023-08-25T13:16:27.046Z"
   },
   {
    "duration": 421,
    "start_time": "2023-08-25T13:16:27.672Z"
   },
   {
    "duration": 402,
    "start_time": "2023-08-25T13:16:28.097Z"
   },
   {
    "duration": 8,
    "start_time": "2023-08-25T13:16:28.501Z"
   },
   {
    "duration": 489,
    "start_time": "2023-08-25T13:16:28.511Z"
   },
   {
    "duration": 11,
    "start_time": "2023-08-25T13:16:29.003Z"
   },
   {
    "duration": 21,
    "start_time": "2023-08-25T13:16:29.015Z"
   }
  ],
  "kernelspec": {
   "display_name": "Python 3 (ipykernel)",
   "language": "python",
   "name": "python3"
  },
  "language_info": {
   "codemirror_mode": {
    "name": "ipython",
    "version": 3
   },
   "file_extension": ".py",
   "mimetype": "text/x-python",
   "name": "python",
   "nbconvert_exporter": "python",
   "pygments_lexer": "ipython3",
   "version": "3.9.5"
  },
  "toc": {
   "base_numbering": 1,
   "nav_menu": {},
   "number_sections": true,
   "sideBar": true,
   "skip_h1_title": true,
   "title_cell": "Table of Contents",
   "title_sidebar": "Contents",
   "toc_cell": false,
   "toc_position": {
    "height": "calc(100% - 180px)",
    "left": "10px",
    "top": "150px",
    "width": "170.943px"
   },
   "toc_section_display": true,
   "toc_window_display": true
  }
 },
 "nbformat": 4,
 "nbformat_minor": 2
}
